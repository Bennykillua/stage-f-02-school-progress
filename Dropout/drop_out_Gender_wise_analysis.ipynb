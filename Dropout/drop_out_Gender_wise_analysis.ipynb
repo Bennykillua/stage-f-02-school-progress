{
  "nbformat": 4,
  "nbformat_minor": 0,
  "metadata": {
    "colab": {
      "name": "drop_out_Gender_wise_analysis.ipynb",
      "provenance": [],
      "collapsed_sections": [],
      "authorship_tag": "ABX9TyPSZqptkwhVUDxoc3mB/hkR"
    },
    "kernelspec": {
      "name": "python3",
      "display_name": "Python 3"
    }
  },
  "cells": [
    {
      "cell_type": "code",
      "metadata": {
        "id": "8eh_IlLMrJpU"
      },
      "source": [
        "import warnings\n",
        "warnings.filterwarnings('ignore')\n",
        "from IPython.core.interactiveshell import InteractiveShell\n",
        "InteractiveShell.ast_node_interactivity = \"all\"\n",
        "\n",
        "# Import Relevant Packages\n",
        "import pandas as pd\n",
        "import numpy as np\n",
        "import matplotlib.pyplot as plt\n",
        "import seaborn as sns\n",
        "from plotly import graph_objects as go\n",
        "from sklearn.impute import SimpleImputer"
      ],
      "execution_count": 1,
      "outputs": []
    },
    {
      "cell_type": "code",
      "metadata": {
        "id": "bN9ySfwZr7wW"
      },
      "source": [
        "drop_out = pd.read_csv('https://raw.githubusercontent.com/KolatimiDave/13-school-progress/master/data/dropout-ratio-2012-2015.csv')"
      ],
      "execution_count": 2,
      "outputs": []
    },
    {
      "cell_type": "code",
      "metadata": {
        "id": "f-bxmkfbsAtt",
        "outputId": "16ccf96a-40c0-4049-de9b-9f24fb5fc5c7",
        "colab": {
          "base_uri": "https://localhost:8080/",
          "height": 182
        }
      },
      "source": [
        "drop_out.head(2)"
      ],
      "execution_count": 3,
      "outputs": [
        {
          "output_type": "execute_result",
          "data": {
            "text/html": [
              "<div>\n",
              "<style scoped>\n",
              "    .dataframe tbody tr th:only-of-type {\n",
              "        vertical-align: middle;\n",
              "    }\n",
              "\n",
              "    .dataframe tbody tr th {\n",
              "        vertical-align: top;\n",
              "    }\n",
              "\n",
              "    .dataframe thead th {\n",
              "        text-align: right;\n",
              "    }\n",
              "</style>\n",
              "<table border=\"1\" class=\"dataframe\">\n",
              "  <thead>\n",
              "    <tr style=\"text-align: right;\">\n",
              "      <th></th>\n",
              "      <th>State_UT</th>\n",
              "      <th>year</th>\n",
              "      <th>Primary_Boys</th>\n",
              "      <th>Primary_Girls</th>\n",
              "      <th>Primary_Total</th>\n",
              "      <th>Upper Primary_Boys</th>\n",
              "      <th>Upper Primary_Girls</th>\n",
              "      <th>Upper Primary_Total</th>\n",
              "      <th>Secondary _Boys</th>\n",
              "      <th>Secondary _Girls</th>\n",
              "      <th>Secondary _Total</th>\n",
              "      <th>HrSecondary_Boys</th>\n",
              "      <th>HrSecondary_Girls</th>\n",
              "      <th>HrSecondary_Total</th>\n",
              "    </tr>\n",
              "  </thead>\n",
              "  <tbody>\n",
              "    <tr>\n",
              "      <th>0</th>\n",
              "      <td>A &amp; N Islands</td>\n",
              "      <td>2012-13</td>\n",
              "      <td>0.83</td>\n",
              "      <td>0.51</td>\n",
              "      <td>0.68</td>\n",
              "      <td>Uppe_r_Primary</td>\n",
              "      <td>1.09</td>\n",
              "      <td>1.23</td>\n",
              "      <td>5.57</td>\n",
              "      <td>5.55</td>\n",
              "      <td>5.56</td>\n",
              "      <td>17.66</td>\n",
              "      <td>10.15</td>\n",
              "      <td>14.14</td>\n",
              "    </tr>\n",
              "    <tr>\n",
              "      <th>1</th>\n",
              "      <td>A &amp; N Islands</td>\n",
              "      <td>2013-14</td>\n",
              "      <td>1.35</td>\n",
              "      <td>1.06</td>\n",
              "      <td>1.21</td>\n",
              "      <td>NR</td>\n",
              "      <td>1.54</td>\n",
              "      <td>0.51</td>\n",
              "      <td>8.36</td>\n",
              "      <td>5.98</td>\n",
              "      <td>7.2</td>\n",
              "      <td>18.94</td>\n",
              "      <td>12.2</td>\n",
              "      <td>15.87</td>\n",
              "    </tr>\n",
              "  </tbody>\n",
              "</table>\n",
              "</div>"
            ],
            "text/plain": [
              "        State_UT     year  ... HrSecondary_Girls HrSecondary_Total\n",
              "0  A & N Islands  2012-13  ...             10.15             14.14\n",
              "1  A & N Islands  2013-14  ...              12.2             15.87\n",
              "\n",
              "[2 rows x 14 columns]"
            ]
          },
          "metadata": {
            "tags": []
          },
          "execution_count": 3
        }
      ]
    },
    {
      "cell_type": "code",
      "metadata": {
        "id": "-dxriJnesFwB",
        "outputId": "2da2b69f-ba80-4159-a439-92971118465a",
        "colab": {
          "base_uri": "https://localhost:8080/",
          "height": 34
        }
      },
      "source": [
        "sum(drop_out.isna().sum())          #Check for missing values"
      ],
      "execution_count": 4,
      "outputs": [
        {
          "output_type": "execute_result",
          "data": {
            "text/plain": [
              "0"
            ]
          },
          "metadata": {
            "tags": []
          },
          "execution_count": 4
        }
      ]
    },
    {
      "cell_type": "code",
      "metadata": {
        "id": "Kd9wlIkhsKKz",
        "outputId": "530d3140-9eca-48bd-9342-80f0b8e80c10",
        "colab": {
          "base_uri": "https://localhost:8080/",
          "height": 187
        }
      },
      "source": [
        "drop_out['State_UT'].unique()"
      ],
      "execution_count": 5,
      "outputs": [
        {
          "output_type": "execute_result",
          "data": {
            "text/plain": [
              "array(['A & N Islands', 'Andhra Pradesh', 'Arunachal  Pradesh',\n",
              "       'Arunachal Pradesh', 'Assam', 'Bihar', 'Chandigarh',\n",
              "       'Chhattisgarh', 'Dadra & Nagar Haveli', 'Daman & Diu', 'Delhi',\n",
              "       'Goa', 'Gujarat', 'Haryana', 'Himachal Pradesh', 'Jammu & Kashmir',\n",
              "       'Jharkhand', 'Karnataka', 'Kerala', 'Lakshadweep',\n",
              "       'Madhya  Pradesh', 'Madhya Pradesh', 'Maharashtra', 'Manipur',\n",
              "       'Meghalaya', 'Mizoram', 'Nagaland', 'Odisha', 'Puducherry',\n",
              "       'Punjab', 'Rajasthan', 'Sikkim', 'Tamil  Nadu', 'Tamil Nadu',\n",
              "       'Telangana', 'Tripura', 'Uttar Pradesh', 'Uttarakhand',\n",
              "       'West Bengal', 'All India'], dtype=object)"
            ]
          },
          "metadata": {
            "tags": []
          },
          "execution_count": 5
        }
      ]
    },
    {
      "cell_type": "code",
      "metadata": {
        "id": "Y4TPqyJzsYn_"
      },
      "source": [
        "drop_out['State_UT'] = drop_out['State_UT'].apply(lambda x: \"Arunachal Pradesh\" if x == 'Arunachal  Pradesh' else x)\n",
        "drop_out['State_UT'] = drop_out['State_UT'].apply(lambda x: \"Madhya Pradesh\" if x == 'Madhya  Pradesh' else x)\n",
        "drop_out['State_UT'] = drop_out['State_UT'].apply(lambda x: \"Tamil Nadu\" if x == 'Tamil  Nadu' else x)"
      ],
      "execution_count": 6,
      "outputs": []
    },
    {
      "cell_type": "code",
      "metadata": {
        "id": "LyF1oEM4sgzq",
        "outputId": "fb4762d0-43df-45a9-e292-1a04a7fba561",
        "colab": {
          "base_uri": "https://localhost:8080/",
          "height": 34
        }
      },
      "source": [
        "len(drop_out['State_UT'].unique())"
      ],
      "execution_count": 7,
      "outputs": [
        {
          "output_type": "execute_result",
          "data": {
            "text/plain": [
              "37"
            ]
          },
          "metadata": {
            "tags": []
          },
          "execution_count": 7
        }
      ]
    },
    {
      "cell_type": "code",
      "metadata": {
        "id": "TS-dxOfWsrNH"
      },
      "source": [
        "all_cols = drop_out.columns.to_list()     # Get all the feature names in a list\n",
        "categories = all_cols[2:]                 # Get the Student Category types in a list"
      ],
      "execution_count": 8,
      "outputs": []
    },
    {
      "cell_type": "code",
      "metadata": {
        "id": "xS86UX4csxq4"
      },
      "source": [
        "imputer = SimpleImputer(missing_values = 'NR', strategy='constant', fill_value=0)\n",
        "imputer_1 = SimpleImputer(missing_values = 'Uppe_r_Primary', strategy='constant', fill_value=0)"
      ],
      "execution_count": 9,
      "outputs": []
    },
    {
      "cell_type": "code",
      "metadata": {
        "id": "hwNtKKrus4CL"
      },
      "source": [
        "drop_out = imputer.fit_transform(drop_out)\n",
        "drop_out = pd.DataFrame(imputer_1.fit_transform(drop_out), columns=all_cols)"
      ],
      "execution_count": 10,
      "outputs": []
    },
    {
      "cell_type": "code",
      "metadata": {
        "id": "K3wN-6uos71B",
        "outputId": "226985c1-615c-4e9a-d900-1c518db25c95",
        "colab": {
          "base_uri": "https://localhost:8080/",
          "height": 34
        }
      },
      "source": [
        "obj = [col for col in all_cols if drop_out[col].dtype == object]    # Check for features with object datatype\n",
        "len(obj)"
      ],
      "execution_count": 11,
      "outputs": [
        {
          "output_type": "execute_result",
          "data": {
            "text/plain": [
              "14"
            ]
          },
          "metadata": {
            "tags": []
          },
          "execution_count": 11
        }
      ]
    },
    {
      "cell_type": "code",
      "metadata": {
        "id": "WG8SHVzHtDbc"
      },
      "source": [
        "tmp = []\n",
        "for categ in categories:\n",
        "    drop_out[categ] = drop_out[categ].astype(float)                # The datatype of our numerical features is object so we need to change to float."
      ],
      "execution_count": 12,
      "outputs": []
    },
    {
      "cell_type": "code",
      "metadata": {
        "id": "ZNGCdmJHtuBf",
        "outputId": "3b6f771a-8d7b-45f8-eb45-4bda62b9801a",
        "colab": {
          "base_uri": "https://localhost:8080/",
          "height": 357
        }
      },
      "source": [
        "drop_out.set_index('State_UT', inplace=True)\n",
        "drop_out.head()"
      ],
      "execution_count": 13,
      "outputs": [
        {
          "output_type": "execute_result",
          "data": {
            "text/html": [
              "<div>\n",
              "<style scoped>\n",
              "    .dataframe tbody tr th:only-of-type {\n",
              "        vertical-align: middle;\n",
              "    }\n",
              "\n",
              "    .dataframe tbody tr th {\n",
              "        vertical-align: top;\n",
              "    }\n",
              "\n",
              "    .dataframe thead th {\n",
              "        text-align: right;\n",
              "    }\n",
              "</style>\n",
              "<table border=\"1\" class=\"dataframe\">\n",
              "  <thead>\n",
              "    <tr style=\"text-align: right;\">\n",
              "      <th></th>\n",
              "      <th>year</th>\n",
              "      <th>Primary_Boys</th>\n",
              "      <th>Primary_Girls</th>\n",
              "      <th>Primary_Total</th>\n",
              "      <th>Upper Primary_Boys</th>\n",
              "      <th>Upper Primary_Girls</th>\n",
              "      <th>Upper Primary_Total</th>\n",
              "      <th>Secondary _Boys</th>\n",
              "      <th>Secondary _Girls</th>\n",
              "      <th>Secondary _Total</th>\n",
              "      <th>HrSecondary_Boys</th>\n",
              "      <th>HrSecondary_Girls</th>\n",
              "      <th>HrSecondary_Total</th>\n",
              "    </tr>\n",
              "    <tr>\n",
              "      <th>State_UT</th>\n",
              "      <th></th>\n",
              "      <th></th>\n",
              "      <th></th>\n",
              "      <th></th>\n",
              "      <th></th>\n",
              "      <th></th>\n",
              "      <th></th>\n",
              "      <th></th>\n",
              "      <th></th>\n",
              "      <th></th>\n",
              "      <th></th>\n",
              "      <th></th>\n",
              "      <th></th>\n",
              "    </tr>\n",
              "  </thead>\n",
              "  <tbody>\n",
              "    <tr>\n",
              "      <th>A &amp; N Islands</th>\n",
              "      <td>2012-13</td>\n",
              "      <td>0.83</td>\n",
              "      <td>0.51</td>\n",
              "      <td>0.68</td>\n",
              "      <td>0.00</td>\n",
              "      <td>1.09</td>\n",
              "      <td>1.23</td>\n",
              "      <td>5.57</td>\n",
              "      <td>5.55</td>\n",
              "      <td>5.56</td>\n",
              "      <td>17.66</td>\n",
              "      <td>10.15</td>\n",
              "      <td>14.14</td>\n",
              "    </tr>\n",
              "    <tr>\n",
              "      <th>A &amp; N Islands</th>\n",
              "      <td>2013-14</td>\n",
              "      <td>1.35</td>\n",
              "      <td>1.06</td>\n",
              "      <td>1.21</td>\n",
              "      <td>0.00</td>\n",
              "      <td>1.54</td>\n",
              "      <td>0.51</td>\n",
              "      <td>8.36</td>\n",
              "      <td>5.98</td>\n",
              "      <td>7.20</td>\n",
              "      <td>18.94</td>\n",
              "      <td>12.20</td>\n",
              "      <td>15.87</td>\n",
              "    </tr>\n",
              "    <tr>\n",
              "      <th>A &amp; N Islands</th>\n",
              "      <td>2014-15</td>\n",
              "      <td>0.47</td>\n",
              "      <td>0.55</td>\n",
              "      <td>0.51</td>\n",
              "      <td>1.44</td>\n",
              "      <td>1.95</td>\n",
              "      <td>1.69</td>\n",
              "      <td>11.47</td>\n",
              "      <td>8.16</td>\n",
              "      <td>9.87</td>\n",
              "      <td>21.05</td>\n",
              "      <td>12.21</td>\n",
              "      <td>16.93</td>\n",
              "    </tr>\n",
              "    <tr>\n",
              "      <th>Andhra Pradesh</th>\n",
              "      <td>2012-13</td>\n",
              "      <td>3.30</td>\n",
              "      <td>3.05</td>\n",
              "      <td>3.18</td>\n",
              "      <td>3.21</td>\n",
              "      <td>3.51</td>\n",
              "      <td>3.36</td>\n",
              "      <td>12.21</td>\n",
              "      <td>13.25</td>\n",
              "      <td>12.72</td>\n",
              "      <td>2.66</td>\n",
              "      <td>0.00</td>\n",
              "      <td>0.35</td>\n",
              "    </tr>\n",
              "    <tr>\n",
              "      <th>Andhra Pradesh</th>\n",
              "      <td>2013-14</td>\n",
              "      <td>4.31</td>\n",
              "      <td>4.39</td>\n",
              "      <td>4.35</td>\n",
              "      <td>3.46</td>\n",
              "      <td>4.12</td>\n",
              "      <td>3.78</td>\n",
              "      <td>11.95</td>\n",
              "      <td>13.37</td>\n",
              "      <td>12.65</td>\n",
              "      <td>12.65</td>\n",
              "      <td>10.85</td>\n",
              "      <td>11.79</td>\n",
              "    </tr>\n",
              "  </tbody>\n",
              "</table>\n",
              "</div>"
            ],
            "text/plain": [
              "                   year  Primary_Boys  ...  HrSecondary_Girls  HrSecondary_Total\n",
              "State_UT                               ...                                      \n",
              "A & N Islands   2012-13          0.83  ...              10.15              14.14\n",
              "A & N Islands   2013-14          1.35  ...              12.20              15.87\n",
              "A & N Islands   2014-15          0.47  ...              12.21              16.93\n",
              "Andhra Pradesh  2012-13          3.30  ...               0.00               0.35\n",
              "Andhra Pradesh  2013-14          4.31  ...              10.85              11.79\n",
              "\n",
              "[5 rows x 13 columns]"
            ]
          },
          "metadata": {
            "tags": []
          },
          "execution_count": 13
        }
      ]
    },
    {
      "cell_type": "code",
      "metadata": {
        "id": "TRNLBhBzpfcs",
        "outputId": "2b87b3ad-3a63-4108-c2e0-1957752e1fba",
        "colab": {
          "base_uri": "https://localhost:8080/",
          "height": 235
        }
      },
      "source": [
        "primary_drop_out = drop_out[['year','Primary_Boys', 'Primary_Girls']]\n",
        "primary_drop_out.head()"
      ],
      "execution_count": 14,
      "outputs": [
        {
          "output_type": "execute_result",
          "data": {
            "text/html": [
              "<div>\n",
              "<style scoped>\n",
              "    .dataframe tbody tr th:only-of-type {\n",
              "        vertical-align: middle;\n",
              "    }\n",
              "\n",
              "    .dataframe tbody tr th {\n",
              "        vertical-align: top;\n",
              "    }\n",
              "\n",
              "    .dataframe thead th {\n",
              "        text-align: right;\n",
              "    }\n",
              "</style>\n",
              "<table border=\"1\" class=\"dataframe\">\n",
              "  <thead>\n",
              "    <tr style=\"text-align: right;\">\n",
              "      <th></th>\n",
              "      <th>year</th>\n",
              "      <th>Primary_Boys</th>\n",
              "      <th>Primary_Girls</th>\n",
              "    </tr>\n",
              "    <tr>\n",
              "      <th>State_UT</th>\n",
              "      <th></th>\n",
              "      <th></th>\n",
              "      <th></th>\n",
              "    </tr>\n",
              "  </thead>\n",
              "  <tbody>\n",
              "    <tr>\n",
              "      <th>A &amp; N Islands</th>\n",
              "      <td>2012-13</td>\n",
              "      <td>0.83</td>\n",
              "      <td>0.51</td>\n",
              "    </tr>\n",
              "    <tr>\n",
              "      <th>A &amp; N Islands</th>\n",
              "      <td>2013-14</td>\n",
              "      <td>1.35</td>\n",
              "      <td>1.06</td>\n",
              "    </tr>\n",
              "    <tr>\n",
              "      <th>A &amp; N Islands</th>\n",
              "      <td>2014-15</td>\n",
              "      <td>0.47</td>\n",
              "      <td>0.55</td>\n",
              "    </tr>\n",
              "    <tr>\n",
              "      <th>Andhra Pradesh</th>\n",
              "      <td>2012-13</td>\n",
              "      <td>3.30</td>\n",
              "      <td>3.05</td>\n",
              "    </tr>\n",
              "    <tr>\n",
              "      <th>Andhra Pradesh</th>\n",
              "      <td>2013-14</td>\n",
              "      <td>4.31</td>\n",
              "      <td>4.39</td>\n",
              "    </tr>\n",
              "  </tbody>\n",
              "</table>\n",
              "</div>"
            ],
            "text/plain": [
              "                   year  Primary_Boys  Primary_Girls\n",
              "State_UT                                            \n",
              "A & N Islands   2012-13          0.83           0.51\n",
              "A & N Islands   2013-14          1.35           1.06\n",
              "A & N Islands   2014-15          0.47           0.55\n",
              "Andhra Pradesh  2012-13          3.30           3.05\n",
              "Andhra Pradesh  2013-14          4.31           4.39"
            ]
          },
          "metadata": {
            "tags": []
          },
          "execution_count": 14
        }
      ]
    },
    {
      "cell_type": "code",
      "metadata": {
        "id": "3fvOPzjDAoVr",
        "outputId": "7163b4ba-5cde-43d2-cbde-e6c513fb0874",
        "colab": {
          "base_uri": "https://localhost:8080/",
          "height": 235
        }
      },
      "source": [
        "upper_primary_drop_out = drop_out[['year','Upper Primary_Boys', 'Upper Primary_Girls']]\n",
        "upper_primary_drop_out.head()"
      ],
      "execution_count": 15,
      "outputs": [
        {
          "output_type": "execute_result",
          "data": {
            "text/html": [
              "<div>\n",
              "<style scoped>\n",
              "    .dataframe tbody tr th:only-of-type {\n",
              "        vertical-align: middle;\n",
              "    }\n",
              "\n",
              "    .dataframe tbody tr th {\n",
              "        vertical-align: top;\n",
              "    }\n",
              "\n",
              "    .dataframe thead th {\n",
              "        text-align: right;\n",
              "    }\n",
              "</style>\n",
              "<table border=\"1\" class=\"dataframe\">\n",
              "  <thead>\n",
              "    <tr style=\"text-align: right;\">\n",
              "      <th></th>\n",
              "      <th>year</th>\n",
              "      <th>Upper Primary_Boys</th>\n",
              "      <th>Upper Primary_Girls</th>\n",
              "    </tr>\n",
              "    <tr>\n",
              "      <th>State_UT</th>\n",
              "      <th></th>\n",
              "      <th></th>\n",
              "      <th></th>\n",
              "    </tr>\n",
              "  </thead>\n",
              "  <tbody>\n",
              "    <tr>\n",
              "      <th>A &amp; N Islands</th>\n",
              "      <td>2012-13</td>\n",
              "      <td>0.00</td>\n",
              "      <td>1.09</td>\n",
              "    </tr>\n",
              "    <tr>\n",
              "      <th>A &amp; N Islands</th>\n",
              "      <td>2013-14</td>\n",
              "      <td>0.00</td>\n",
              "      <td>1.54</td>\n",
              "    </tr>\n",
              "    <tr>\n",
              "      <th>A &amp; N Islands</th>\n",
              "      <td>2014-15</td>\n",
              "      <td>1.44</td>\n",
              "      <td>1.95</td>\n",
              "    </tr>\n",
              "    <tr>\n",
              "      <th>Andhra Pradesh</th>\n",
              "      <td>2012-13</td>\n",
              "      <td>3.21</td>\n",
              "      <td>3.51</td>\n",
              "    </tr>\n",
              "    <tr>\n",
              "      <th>Andhra Pradesh</th>\n",
              "      <td>2013-14</td>\n",
              "      <td>3.46</td>\n",
              "      <td>4.12</td>\n",
              "    </tr>\n",
              "  </tbody>\n",
              "</table>\n",
              "</div>"
            ],
            "text/plain": [
              "                   year  Upper Primary_Boys  Upper Primary_Girls\n",
              "State_UT                                                        \n",
              "A & N Islands   2012-13                0.00                 1.09\n",
              "A & N Islands   2013-14                0.00                 1.54\n",
              "A & N Islands   2014-15                1.44                 1.95\n",
              "Andhra Pradesh  2012-13                3.21                 3.51\n",
              "Andhra Pradesh  2013-14                3.46                 4.12"
            ]
          },
          "metadata": {
            "tags": []
          },
          "execution_count": 15
        }
      ]
    },
    {
      "cell_type": "code",
      "metadata": {
        "id": "xRuxGk5FiRaI",
        "outputId": "66ca7184-cb02-4078-cdff-12949632cf82",
        "colab": {
          "base_uri": "https://localhost:8080/",
          "height": 235
        }
      },
      "source": [
        "secondary_drop_out = drop_out[['year','Secondary _Boys', 'Secondary _Girls']]\n",
        "secondary_drop_out.head()"
      ],
      "execution_count": 16,
      "outputs": [
        {
          "output_type": "execute_result",
          "data": {
            "text/html": [
              "<div>\n",
              "<style scoped>\n",
              "    .dataframe tbody tr th:only-of-type {\n",
              "        vertical-align: middle;\n",
              "    }\n",
              "\n",
              "    .dataframe tbody tr th {\n",
              "        vertical-align: top;\n",
              "    }\n",
              "\n",
              "    .dataframe thead th {\n",
              "        text-align: right;\n",
              "    }\n",
              "</style>\n",
              "<table border=\"1\" class=\"dataframe\">\n",
              "  <thead>\n",
              "    <tr style=\"text-align: right;\">\n",
              "      <th></th>\n",
              "      <th>year</th>\n",
              "      <th>Secondary _Boys</th>\n",
              "      <th>Secondary _Girls</th>\n",
              "    </tr>\n",
              "    <tr>\n",
              "      <th>State_UT</th>\n",
              "      <th></th>\n",
              "      <th></th>\n",
              "      <th></th>\n",
              "    </tr>\n",
              "  </thead>\n",
              "  <tbody>\n",
              "    <tr>\n",
              "      <th>A &amp; N Islands</th>\n",
              "      <td>2012-13</td>\n",
              "      <td>5.57</td>\n",
              "      <td>5.55</td>\n",
              "    </tr>\n",
              "    <tr>\n",
              "      <th>A &amp; N Islands</th>\n",
              "      <td>2013-14</td>\n",
              "      <td>8.36</td>\n",
              "      <td>5.98</td>\n",
              "    </tr>\n",
              "    <tr>\n",
              "      <th>A &amp; N Islands</th>\n",
              "      <td>2014-15</td>\n",
              "      <td>11.47</td>\n",
              "      <td>8.16</td>\n",
              "    </tr>\n",
              "    <tr>\n",
              "      <th>Andhra Pradesh</th>\n",
              "      <td>2012-13</td>\n",
              "      <td>12.21</td>\n",
              "      <td>13.25</td>\n",
              "    </tr>\n",
              "    <tr>\n",
              "      <th>Andhra Pradesh</th>\n",
              "      <td>2013-14</td>\n",
              "      <td>11.95</td>\n",
              "      <td>13.37</td>\n",
              "    </tr>\n",
              "  </tbody>\n",
              "</table>\n",
              "</div>"
            ],
            "text/plain": [
              "                   year  Secondary _Boys  Secondary _Girls\n",
              "State_UT                                                  \n",
              "A & N Islands   2012-13             5.57              5.55\n",
              "A & N Islands   2013-14             8.36              5.98\n",
              "A & N Islands   2014-15            11.47              8.16\n",
              "Andhra Pradesh  2012-13            12.21             13.25\n",
              "Andhra Pradesh  2013-14            11.95             13.37"
            ]
          },
          "metadata": {
            "tags": []
          },
          "execution_count": 16
        }
      ]
    },
    {
      "cell_type": "code",
      "metadata": {
        "id": "XEd1WPR3i8j0",
        "outputId": "c768a320-df73-48a2-ead6-fd356552423e",
        "colab": {
          "base_uri": "https://localhost:8080/",
          "height": 235
        }
      },
      "source": [
        "hr_secondary_drop_out = drop_out[['year','HrSecondary_Boys', 'HrSecondary_Girls']]\n",
        "hr_secondary_drop_out.head()"
      ],
      "execution_count": 17,
      "outputs": [
        {
          "output_type": "execute_result",
          "data": {
            "text/html": [
              "<div>\n",
              "<style scoped>\n",
              "    .dataframe tbody tr th:only-of-type {\n",
              "        vertical-align: middle;\n",
              "    }\n",
              "\n",
              "    .dataframe tbody tr th {\n",
              "        vertical-align: top;\n",
              "    }\n",
              "\n",
              "    .dataframe thead th {\n",
              "        text-align: right;\n",
              "    }\n",
              "</style>\n",
              "<table border=\"1\" class=\"dataframe\">\n",
              "  <thead>\n",
              "    <tr style=\"text-align: right;\">\n",
              "      <th></th>\n",
              "      <th>year</th>\n",
              "      <th>HrSecondary_Boys</th>\n",
              "      <th>HrSecondary_Girls</th>\n",
              "    </tr>\n",
              "    <tr>\n",
              "      <th>State_UT</th>\n",
              "      <th></th>\n",
              "      <th></th>\n",
              "      <th></th>\n",
              "    </tr>\n",
              "  </thead>\n",
              "  <tbody>\n",
              "    <tr>\n",
              "      <th>A &amp; N Islands</th>\n",
              "      <td>2012-13</td>\n",
              "      <td>17.66</td>\n",
              "      <td>10.15</td>\n",
              "    </tr>\n",
              "    <tr>\n",
              "      <th>A &amp; N Islands</th>\n",
              "      <td>2013-14</td>\n",
              "      <td>18.94</td>\n",
              "      <td>12.20</td>\n",
              "    </tr>\n",
              "    <tr>\n",
              "      <th>A &amp; N Islands</th>\n",
              "      <td>2014-15</td>\n",
              "      <td>21.05</td>\n",
              "      <td>12.21</td>\n",
              "    </tr>\n",
              "    <tr>\n",
              "      <th>Andhra Pradesh</th>\n",
              "      <td>2012-13</td>\n",
              "      <td>2.66</td>\n",
              "      <td>0.00</td>\n",
              "    </tr>\n",
              "    <tr>\n",
              "      <th>Andhra Pradesh</th>\n",
              "      <td>2013-14</td>\n",
              "      <td>12.65</td>\n",
              "      <td>10.85</td>\n",
              "    </tr>\n",
              "  </tbody>\n",
              "</table>\n",
              "</div>"
            ],
            "text/plain": [
              "                   year  HrSecondary_Boys  HrSecondary_Girls\n",
              "State_UT                                                    \n",
              "A & N Islands   2012-13             17.66              10.15\n",
              "A & N Islands   2013-14             18.94              12.20\n",
              "A & N Islands   2014-15             21.05              12.21\n",
              "Andhra Pradesh  2012-13              2.66               0.00\n",
              "Andhra Pradesh  2013-14             12.65              10.85"
            ]
          },
          "metadata": {
            "tags": []
          },
          "execution_count": 17
        }
      ]
    },
    {
      "cell_type": "code",
      "metadata": {
        "id": "1VyYbaOf3oi4",
        "outputId": "17af5d60-a8f4-41e4-bc55-ca326d227c19",
        "colab": {
          "base_uri": "https://localhost:8080/",
          "height": 266
        }
      },
      "source": [
        "primary_drop_out_total = drop_out[['year','Primary_Total']]\n",
        "primary_drop_out_total.head(6)"
      ],
      "execution_count": 18,
      "outputs": [
        {
          "output_type": "execute_result",
          "data": {
            "text/html": [
              "<div>\n",
              "<style scoped>\n",
              "    .dataframe tbody tr th:only-of-type {\n",
              "        vertical-align: middle;\n",
              "    }\n",
              "\n",
              "    .dataframe tbody tr th {\n",
              "        vertical-align: top;\n",
              "    }\n",
              "\n",
              "    .dataframe thead th {\n",
              "        text-align: right;\n",
              "    }\n",
              "</style>\n",
              "<table border=\"1\" class=\"dataframe\">\n",
              "  <thead>\n",
              "    <tr style=\"text-align: right;\">\n",
              "      <th></th>\n",
              "      <th>year</th>\n",
              "      <th>Primary_Total</th>\n",
              "    </tr>\n",
              "    <tr>\n",
              "      <th>State_UT</th>\n",
              "      <th></th>\n",
              "      <th></th>\n",
              "    </tr>\n",
              "  </thead>\n",
              "  <tbody>\n",
              "    <tr>\n",
              "      <th>A &amp; N Islands</th>\n",
              "      <td>2012-13</td>\n",
              "      <td>0.68</td>\n",
              "    </tr>\n",
              "    <tr>\n",
              "      <th>A &amp; N Islands</th>\n",
              "      <td>2013-14</td>\n",
              "      <td>1.21</td>\n",
              "    </tr>\n",
              "    <tr>\n",
              "      <th>A &amp; N Islands</th>\n",
              "      <td>2014-15</td>\n",
              "      <td>0.51</td>\n",
              "    </tr>\n",
              "    <tr>\n",
              "      <th>Andhra Pradesh</th>\n",
              "      <td>2012-13</td>\n",
              "      <td>3.18</td>\n",
              "    </tr>\n",
              "    <tr>\n",
              "      <th>Andhra Pradesh</th>\n",
              "      <td>2013-14</td>\n",
              "      <td>4.35</td>\n",
              "    </tr>\n",
              "    <tr>\n",
              "      <th>Andhra Pradesh</th>\n",
              "      <td>2014-15</td>\n",
              "      <td>6.72</td>\n",
              "    </tr>\n",
              "  </tbody>\n",
              "</table>\n",
              "</div>"
            ],
            "text/plain": [
              "                   year  Primary_Total\n",
              "State_UT                              \n",
              "A & N Islands   2012-13           0.68\n",
              "A & N Islands   2013-14           1.21\n",
              "A & N Islands   2014-15           0.51\n",
              "Andhra Pradesh  2012-13           3.18\n",
              "Andhra Pradesh  2013-14           4.35\n",
              "Andhra Pradesh  2014-15           6.72"
            ]
          },
          "metadata": {
            "tags": []
          },
          "execution_count": 18
        }
      ]
    },
    {
      "cell_type": "code",
      "metadata": {
        "id": "vd5fzQ3ctFWv"
      },
      "source": [
        "tmp = []\n",
        "primary_drop_out_total['Primary_Total'] = primary_drop_out_total['Primary_Total'].astype(float)                # The datatype of our numerical features is object so we need to change to float.\n",
        "tmp.append(pd.DataFrame({'mean_' + 'Primary_Total' : drop_out.groupby(['State_UT'])['Primary_Total'].mean()}))     # Calculate the mean of drop_out ratio for the 37 states in all 12 student category types."
      ],
      "execution_count": 19,
      "outputs": []
    },
    {
      "cell_type": "code",
      "metadata": {
        "id": "HzbL4UfPtsoo"
      },
      "source": [
        "mean_drop_out_per_state = pd.DataFrame(tmp[0])     # Initially add the first Student Category type in the DataFrame so it's easy to use pd.merge()\n",
        "for Stu_type in range(1, len(tmp)):           # Starting at an Index of 1 since since I already initialized our dataframe with the first Student type \n",
        "    tmp[Stu_type].reset_index(inplace = True)\n",
        "    mean_drop_out_per_state = pd.merge(mean_drop_out_per_state, tmp[Stu_type], on = 'State_UT')"
      ],
      "execution_count": 20,
      "outputs": []
    },
    {
      "cell_type": "code",
      "metadata": {
        "id": "V7UamCOFt7nt",
        "outputId": "e7746362-bafe-4249-aa44-a33dfa249d5e",
        "colab": {
          "base_uri": "https://localhost:8080/",
          "height": 297
        }
      },
      "source": [
        "mean_drop_out_per_state.describe()"
      ],
      "execution_count": 21,
      "outputs": [
        {
          "output_type": "execute_result",
          "data": {
            "text/html": [
              "<div>\n",
              "<style scoped>\n",
              "    .dataframe tbody tr th:only-of-type {\n",
              "        vertical-align: middle;\n",
              "    }\n",
              "\n",
              "    .dataframe tbody tr th {\n",
              "        vertical-align: top;\n",
              "    }\n",
              "\n",
              "    .dataframe thead th {\n",
              "        text-align: right;\n",
              "    }\n",
              "</style>\n",
              "<table border=\"1\" class=\"dataframe\">\n",
              "  <thead>\n",
              "    <tr style=\"text-align: right;\">\n",
              "      <th></th>\n",
              "      <th>mean_Primary_Total</th>\n",
              "    </tr>\n",
              "  </thead>\n",
              "  <tbody>\n",
              "    <tr>\n",
              "      <th>count</th>\n",
              "      <td>37.000000</td>\n",
              "    </tr>\n",
              "    <tr>\n",
              "      <th>mean</th>\n",
              "      <td>4.148153</td>\n",
              "    </tr>\n",
              "    <tr>\n",
              "      <th>std</th>\n",
              "      <td>4.166429</td>\n",
              "    </tr>\n",
              "    <tr>\n",
              "      <th>min</th>\n",
              "      <td>0.000000</td>\n",
              "    </tr>\n",
              "    <tr>\n",
              "      <th>25%</th>\n",
              "      <td>0.800000</td>\n",
              "    </tr>\n",
              "    <tr>\n",
              "      <th>50%</th>\n",
              "      <td>2.756667</td>\n",
              "    </tr>\n",
              "    <tr>\n",
              "      <th>75%</th>\n",
              "      <td>6.366667</td>\n",
              "    </tr>\n",
              "    <tr>\n",
              "      <th>max</th>\n",
              "      <td>15.723333</td>\n",
              "    </tr>\n",
              "  </tbody>\n",
              "</table>\n",
              "</div>"
            ],
            "text/plain": [
              "       mean_Primary_Total\n",
              "count           37.000000\n",
              "mean             4.148153\n",
              "std              4.166429\n",
              "min              0.000000\n",
              "25%              0.800000\n",
              "50%              2.756667\n",
              "75%              6.366667\n",
              "max             15.723333"
            ]
          },
          "metadata": {
            "tags": []
          },
          "execution_count": 21
        }
      ]
    },
    {
      "cell_type": "code",
      "metadata": {
        "id": "FUVMvSMKuRcR",
        "outputId": "b3f23b10-bab5-4d74-abb6-66d0d2de6b39",
        "colab": {
          "base_uri": "https://localhost:8080/",
          "height": 235
        }
      },
      "source": [
        "mean_drop_out_per_state.sort_values(['mean_Primary_Total'], ascending=False, axis=0, inplace=True)\n",
        "\n",
        "# get the top 5 entries\n",
        "df_top5 = mean_drop_out_per_state.head()\n",
        "\n",
        "\n",
        "df_top5.head()"
      ],
      "execution_count": 22,
      "outputs": [
        {
          "output_type": "execute_result",
          "data": {
            "text/html": [
              "<div>\n",
              "<style scoped>\n",
              "    .dataframe tbody tr th:only-of-type {\n",
              "        vertical-align: middle;\n",
              "    }\n",
              "\n",
              "    .dataframe tbody tr th {\n",
              "        vertical-align: top;\n",
              "    }\n",
              "\n",
              "    .dataframe thead th {\n",
              "        text-align: right;\n",
              "    }\n",
              "</style>\n",
              "<table border=\"1\" class=\"dataframe\">\n",
              "  <thead>\n",
              "    <tr style=\"text-align: right;\">\n",
              "      <th></th>\n",
              "      <th>mean_Primary_Total</th>\n",
              "    </tr>\n",
              "    <tr>\n",
              "      <th>State_UT</th>\n",
              "      <th></th>\n",
              "    </tr>\n",
              "  </thead>\n",
              "  <tbody>\n",
              "    <tr>\n",
              "      <th>Mizoram</th>\n",
              "      <td>15.723333</td>\n",
              "    </tr>\n",
              "    <tr>\n",
              "      <th>Manipur</th>\n",
              "      <td>12.506667</td>\n",
              "    </tr>\n",
              "    <tr>\n",
              "      <th>Arunachal Pradesh</th>\n",
              "      <td>12.290000</td>\n",
              "    </tr>\n",
              "    <tr>\n",
              "      <th>Nagaland</th>\n",
              "      <td>10.696667</td>\n",
              "    </tr>\n",
              "    <tr>\n",
              "      <th>Meghalaya</th>\n",
              "      <td>9.980000</td>\n",
              "    </tr>\n",
              "  </tbody>\n",
              "</table>\n",
              "</div>"
            ],
            "text/plain": [
              "                   mean_Primary_Total\n",
              "State_UT                             \n",
              "Mizoram                     15.723333\n",
              "Manipur                     12.506667\n",
              "Arunachal Pradesh           12.290000\n",
              "Nagaland                    10.696667\n",
              "Meghalaya                    9.980000"
            ]
          },
          "metadata": {
            "tags": []
          },
          "execution_count": 22
        }
      ]
    },
    {
      "cell_type": "markdown",
      "metadata": {
        "id": "7Kr9aDQRTHSw"
      },
      "source": [
        "This survery revealed alarming figures of primary school dropout rates in the northeastern region,  Five Northeast states record most primary school dropout rates. the major reasons were poverty or economic reasons, lack of  interest in studies, disabilities or poor health, a child too young to be attending school and a child needed for help in domestic work.\n",
        "\n",
        "The primary school level drop out rates shows that the efforts of the government of the northeastern states to improve school education is not so good and is yet to yield effective results."
      ]
    },
    {
      "cell_type": "code",
      "metadata": {
        "id": "fkfveshOw2Cw",
        "outputId": "75954c1b-399f-4f4a-af28-7307f8389e7c",
        "colab": {
          "base_uri": "https://localhost:8080/",
          "height": 235
        }
      },
      "source": [
        "mean_drop_out_per_state.sort_values(['mean_Primary_Total'], ascending=False, axis=0, inplace=True)\n",
        "\n",
        "# get the least 5 entries\n",
        "df_least5 = mean_drop_out_per_state.tail()\n",
        "\n",
        "\n",
        "df_least5.head()"
      ],
      "execution_count": 23,
      "outputs": [
        {
          "output_type": "execute_result",
          "data": {
            "text/html": [
              "<div>\n",
              "<style scoped>\n",
              "    .dataframe tbody tr th:only-of-type {\n",
              "        vertical-align: middle;\n",
              "    }\n",
              "\n",
              "    .dataframe tbody tr th {\n",
              "        vertical-align: top;\n",
              "    }\n",
              "\n",
              "    .dataframe thead th {\n",
              "        text-align: right;\n",
              "    }\n",
              "</style>\n",
              "<table border=\"1\" class=\"dataframe\">\n",
              "  <thead>\n",
              "    <tr style=\"text-align: right;\">\n",
              "      <th></th>\n",
              "      <th>mean_Primary_Total</th>\n",
              "    </tr>\n",
              "    <tr>\n",
              "      <th>State_UT</th>\n",
              "      <th></th>\n",
              "    </tr>\n",
              "  </thead>\n",
              "  <tbody>\n",
              "    <tr>\n",
              "      <th>Puducherry</th>\n",
              "      <td>0.456667</td>\n",
              "    </tr>\n",
              "    <tr>\n",
              "      <th>Goa</th>\n",
              "      <td>0.310000</td>\n",
              "    </tr>\n",
              "    <tr>\n",
              "      <th>Delhi</th>\n",
              "      <td>0.000000</td>\n",
              "    </tr>\n",
              "    <tr>\n",
              "      <th>Chandigarh</th>\n",
              "      <td>0.000000</td>\n",
              "    </tr>\n",
              "    <tr>\n",
              "      <th>Kerala</th>\n",
              "      <td>0.000000</td>\n",
              "    </tr>\n",
              "  </tbody>\n",
              "</table>\n",
              "</div>"
            ],
            "text/plain": [
              "            mean_Primary_Total\n",
              "State_UT                      \n",
              "Puducherry            0.456667\n",
              "Goa                   0.310000\n",
              "Delhi                 0.000000\n",
              "Chandigarh            0.000000\n",
              "Kerala                0.000000"
            ]
          },
          "metadata": {
            "tags": []
          },
          "execution_count": 23
        }
      ]
    },
    {
      "cell_type": "markdown",
      "metadata": {
        "id": "wVCiuKhlcxGz"
      },
      "source": [
        "The States which have the lowest dropout rates are Pudecherry, Goa, Delhi,  Chandigarh and Kerala."
      ]
    },
    {
      "cell_type": "code",
      "metadata": {
        "id": "4h1v6dIJdFvC",
        "outputId": "192601b5-c4dd-4eeb-a44a-80b816d5c1bd",
        "colab": {
          "base_uri": "https://localhost:8080/",
          "height": 235
        }
      },
      "source": [
        "primary_drop_out.head()"
      ],
      "execution_count": 24,
      "outputs": [
        {
          "output_type": "execute_result",
          "data": {
            "text/html": [
              "<div>\n",
              "<style scoped>\n",
              "    .dataframe tbody tr th:only-of-type {\n",
              "        vertical-align: middle;\n",
              "    }\n",
              "\n",
              "    .dataframe tbody tr th {\n",
              "        vertical-align: top;\n",
              "    }\n",
              "\n",
              "    .dataframe thead th {\n",
              "        text-align: right;\n",
              "    }\n",
              "</style>\n",
              "<table border=\"1\" class=\"dataframe\">\n",
              "  <thead>\n",
              "    <tr style=\"text-align: right;\">\n",
              "      <th></th>\n",
              "      <th>year</th>\n",
              "      <th>Primary_Boys</th>\n",
              "      <th>Primary_Girls</th>\n",
              "    </tr>\n",
              "    <tr>\n",
              "      <th>State_UT</th>\n",
              "      <th></th>\n",
              "      <th></th>\n",
              "      <th></th>\n",
              "    </tr>\n",
              "  </thead>\n",
              "  <tbody>\n",
              "    <tr>\n",
              "      <th>A &amp; N Islands</th>\n",
              "      <td>2012-13</td>\n",
              "      <td>0.83</td>\n",
              "      <td>0.51</td>\n",
              "    </tr>\n",
              "    <tr>\n",
              "      <th>A &amp; N Islands</th>\n",
              "      <td>2013-14</td>\n",
              "      <td>1.35</td>\n",
              "      <td>1.06</td>\n",
              "    </tr>\n",
              "    <tr>\n",
              "      <th>A &amp; N Islands</th>\n",
              "      <td>2014-15</td>\n",
              "      <td>0.47</td>\n",
              "      <td>0.55</td>\n",
              "    </tr>\n",
              "    <tr>\n",
              "      <th>Andhra Pradesh</th>\n",
              "      <td>2012-13</td>\n",
              "      <td>3.30</td>\n",
              "      <td>3.05</td>\n",
              "    </tr>\n",
              "    <tr>\n",
              "      <th>Andhra Pradesh</th>\n",
              "      <td>2013-14</td>\n",
              "      <td>4.31</td>\n",
              "      <td>4.39</td>\n",
              "    </tr>\n",
              "  </tbody>\n",
              "</table>\n",
              "</div>"
            ],
            "text/plain": [
              "                   year  Primary_Boys  Primary_Girls\n",
              "State_UT                                            \n",
              "A & N Islands   2012-13          0.83           0.51\n",
              "A & N Islands   2013-14          1.35           1.06\n",
              "A & N Islands   2014-15          0.47           0.55\n",
              "Andhra Pradesh  2012-13          3.30           3.05\n",
              "Andhra Pradesh  2013-14          4.31           4.39"
            ]
          },
          "metadata": {
            "tags": []
          },
          "execution_count": 24
        }
      ]
    },
    {
      "cell_type": "code",
      "metadata": {
        "id": "hVf2zClNdkRG"
      },
      "source": [
        "# I will select the top 5 states with the highest drop out for visualizations \n",
        "df_top5 = primary_drop_out.loc[['Mizoram','Manipur','Arunachal Pradesh','Nagaland','Meghalaya'],:]"
      ],
      "execution_count": 25,
      "outputs": []
    },
    {
      "cell_type": "code",
      "metadata": {
        "id": "VI0X2EqHfdD9",
        "outputId": "5fd22ef8-c9c0-4c3c-84d5-809a6e1e7862",
        "colab": {
          "base_uri": "https://localhost:8080/",
          "height": 173
        }
      },
      "source": [
        "df_top5.head(3)"
      ],
      "execution_count": 26,
      "outputs": [
        {
          "output_type": "execute_result",
          "data": {
            "text/html": [
              "<div>\n",
              "<style scoped>\n",
              "    .dataframe tbody tr th:only-of-type {\n",
              "        vertical-align: middle;\n",
              "    }\n",
              "\n",
              "    .dataframe tbody tr th {\n",
              "        vertical-align: top;\n",
              "    }\n",
              "\n",
              "    .dataframe thead th {\n",
              "        text-align: right;\n",
              "    }\n",
              "</style>\n",
              "<table border=\"1\" class=\"dataframe\">\n",
              "  <thead>\n",
              "    <tr style=\"text-align: right;\">\n",
              "      <th></th>\n",
              "      <th>year</th>\n",
              "      <th>Primary_Boys</th>\n",
              "      <th>Primary_Girls</th>\n",
              "    </tr>\n",
              "    <tr>\n",
              "      <th>State_UT</th>\n",
              "      <th></th>\n",
              "      <th></th>\n",
              "      <th></th>\n",
              "    </tr>\n",
              "  </thead>\n",
              "  <tbody>\n",
              "    <tr>\n",
              "      <th>Mizoram</th>\n",
              "      <td>2012-13</td>\n",
              "      <td>24.27</td>\n",
              "      <td>23.93</td>\n",
              "    </tr>\n",
              "    <tr>\n",
              "      <th>Mizoram</th>\n",
              "      <td>2013-14</td>\n",
              "      <td>12.57</td>\n",
              "      <td>13.38</td>\n",
              "    </tr>\n",
              "    <tr>\n",
              "      <th>Mizoram</th>\n",
              "      <td>2014-15</td>\n",
              "      <td>10.17</td>\n",
              "      <td>10.03</td>\n",
              "    </tr>\n",
              "  </tbody>\n",
              "</table>\n",
              "</div>"
            ],
            "text/plain": [
              "             year  Primary_Boys  Primary_Girls\n",
              "State_UT                                      \n",
              "Mizoram   2012-13         24.27          23.93\n",
              "Mizoram   2013-14         12.57          13.38\n",
              "Mizoram   2014-15         10.17          10.03"
            ]
          },
          "metadata": {
            "tags": []
          },
          "execution_count": 26
        }
      ]
    },
    {
      "cell_type": "code",
      "metadata": {
        "id": "pn2dGJmItRO6"
      },
      "source": [
        "df_top5.reset_index(inplace = True)"
      ],
      "execution_count": 27,
      "outputs": []
    },
    {
      "cell_type": "code",
      "metadata": {
        "id": "eu7Y1K_qqZT5",
        "outputId": "cec27a85-f0a5-447d-b7ab-c9f8da726f46",
        "colab": {
          "base_uri": "https://localhost:8080/",
          "height": 542
        }
      },
      "source": [
        "fig = go.Figure(\n",
        "    data=[\n",
        "        go.Bar(\n",
        "            name=\"Primary_Boys\",\n",
        "            x=df_top5['State_UT'],\n",
        "            y=df_top5['Primary_Boys'],\n",
        "            offsetgroup=0,\n",
        "        ),\n",
        "        go.Bar(\n",
        "            name=\"Primary_Girls\",\n",
        "            x=df_top5['State_UT'],\n",
        "            y=df_top5['Primary_Girls'],\n",
        "            offsetgroup=1,\n",
        "        ),\n",
        "\n",
        "    ],\n",
        "    layout=go.Layout(\n",
        "        title=\"Gender wise drop-out rate among primary category - 2012-13, 2013-14, 2014-15\",\n",
        "        yaxis_title=\"rates\"\n",
        "    )\n",
        ")\n",
        "\n",
        "fig.show()"
      ],
      "execution_count": 28,
      "outputs": [
        {
          "output_type": "display_data",
          "data": {
            "text/html": [
              "<html>\n",
              "<head><meta charset=\"utf-8\" /></head>\n",
              "<body>\n",
              "    <div>\n",
              "            <script src=\"https://cdnjs.cloudflare.com/ajax/libs/mathjax/2.7.5/MathJax.js?config=TeX-AMS-MML_SVG\"></script><script type=\"text/javascript\">if (window.MathJax) {MathJax.Hub.Config({SVG: {font: \"STIX-Web\"}});}</script>\n",
              "                <script type=\"text/javascript\">window.PlotlyConfig = {MathJaxConfig: 'local'};</script>\n",
              "        <script src=\"https://cdn.plot.ly/plotly-latest.min.js\"></script>    \n",
              "            <div id=\"851ead22-c7ce-4b0b-99a5-b8978e16236f\" class=\"plotly-graph-div\" style=\"height:525px; width:100%;\"></div>\n",
              "            <script type=\"text/javascript\">\n",
              "                \n",
              "                    window.PLOTLYENV=window.PLOTLYENV || {};\n",
              "                    \n",
              "                if (document.getElementById(\"851ead22-c7ce-4b0b-99a5-b8978e16236f\")) {\n",
              "                    Plotly.newPlot(\n",
              "                        '851ead22-c7ce-4b0b-99a5-b8978e16236f',\n",
              "                        [{\"name\": \"Primary_Boys\", \"offsetgroup\": \"0\", \"type\": \"bar\", \"x\": [\"Mizoram\", \"Mizoram\", \"Mizoram\", \"Manipur\", \"Manipur\", \"Manipur\", \"Arunachal Pradesh\", \"Arunachal Pradesh\", \"Arunachal Pradesh\", \"Nagaland\", \"Nagaland\", \"Nagaland\", \"Meghalaya\", \"Meghalaya\", \"Meghalaya\"], \"y\": [24.27, 12.57, 10.17, 10.24, 17.27, 9.5, 11.54, 15.84, 11.51, 7.11, 19.09, 6.18, 11.32, 11.3, 10.35]}, {\"name\": \"Primary_Girls\", \"offsetgroup\": \"1\", \"type\": \"bar\", \"x\": [\"Mizoram\", \"Mizoram\", \"Mizoram\", \"Manipur\", \"Manipur\", \"Manipur\", \"Arunachal Pradesh\", \"Arunachal Pradesh\", \"Arunachal Pradesh\", \"Nagaland\", \"Nagaland\", \"Nagaland\", \"Meghalaya\", \"Meghalaya\", \"Meghalaya\"], \"y\": [23.93, 13.38, 10.03, 9.48, 18.74, 9.83, 10.22, 14.44, 10.09, 7.03, 19.74, 5.02, 8.96, 9.39, 8.56]}],\n",
              "                        {\"template\": {\"data\": {\"bar\": [{\"error_x\": {\"color\": \"#2a3f5f\"}, \"error_y\": {\"color\": \"#2a3f5f\"}, \"marker\": {\"line\": {\"color\": \"#E5ECF6\", \"width\": 0.5}}, \"type\": \"bar\"}], \"barpolar\": [{\"marker\": {\"line\": {\"color\": \"#E5ECF6\", \"width\": 0.5}}, \"type\": \"barpolar\"}], \"carpet\": [{\"aaxis\": {\"endlinecolor\": \"#2a3f5f\", \"gridcolor\": \"white\", \"linecolor\": \"white\", \"minorgridcolor\": \"white\", \"startlinecolor\": \"#2a3f5f\"}, \"baxis\": {\"endlinecolor\": \"#2a3f5f\", \"gridcolor\": \"white\", \"linecolor\": \"white\", \"minorgridcolor\": \"white\", \"startlinecolor\": \"#2a3f5f\"}, \"type\": \"carpet\"}], \"choropleth\": [{\"colorbar\": {\"outlinewidth\": 0, \"ticks\": \"\"}, \"type\": \"choropleth\"}], \"contour\": [{\"colorbar\": {\"outlinewidth\": 0, \"ticks\": \"\"}, \"colorscale\": [[0.0, \"#0d0887\"], [0.1111111111111111, \"#46039f\"], [0.2222222222222222, \"#7201a8\"], [0.3333333333333333, \"#9c179e\"], [0.4444444444444444, \"#bd3786\"], [0.5555555555555556, \"#d8576b\"], [0.6666666666666666, \"#ed7953\"], [0.7777777777777778, \"#fb9f3a\"], [0.8888888888888888, \"#fdca26\"], [1.0, \"#f0f921\"]], \"type\": \"contour\"}], \"contourcarpet\": [{\"colorbar\": {\"outlinewidth\": 0, \"ticks\": \"\"}, \"type\": \"contourcarpet\"}], \"heatmap\": [{\"colorbar\": {\"outlinewidth\": 0, \"ticks\": \"\"}, \"colorscale\": [[0.0, \"#0d0887\"], [0.1111111111111111, \"#46039f\"], [0.2222222222222222, \"#7201a8\"], [0.3333333333333333, \"#9c179e\"], [0.4444444444444444, \"#bd3786\"], [0.5555555555555556, \"#d8576b\"], [0.6666666666666666, \"#ed7953\"], [0.7777777777777778, \"#fb9f3a\"], [0.8888888888888888, \"#fdca26\"], [1.0, \"#f0f921\"]], \"type\": \"heatmap\"}], \"heatmapgl\": [{\"colorbar\": {\"outlinewidth\": 0, \"ticks\": \"\"}, \"colorscale\": [[0.0, \"#0d0887\"], [0.1111111111111111, \"#46039f\"], [0.2222222222222222, \"#7201a8\"], [0.3333333333333333, \"#9c179e\"], [0.4444444444444444, \"#bd3786\"], [0.5555555555555556, \"#d8576b\"], [0.6666666666666666, \"#ed7953\"], [0.7777777777777778, \"#fb9f3a\"], [0.8888888888888888, \"#fdca26\"], [1.0, \"#f0f921\"]], \"type\": \"heatmapgl\"}], \"histogram\": [{\"marker\": {\"colorbar\": {\"outlinewidth\": 0, \"ticks\": \"\"}}, \"type\": \"histogram\"}], \"histogram2d\": [{\"colorbar\": {\"outlinewidth\": 0, \"ticks\": \"\"}, \"colorscale\": [[0.0, \"#0d0887\"], [0.1111111111111111, \"#46039f\"], [0.2222222222222222, \"#7201a8\"], [0.3333333333333333, \"#9c179e\"], [0.4444444444444444, \"#bd3786\"], [0.5555555555555556, \"#d8576b\"], [0.6666666666666666, \"#ed7953\"], [0.7777777777777778, \"#fb9f3a\"], [0.8888888888888888, \"#fdca26\"], [1.0, \"#f0f921\"]], \"type\": \"histogram2d\"}], \"histogram2dcontour\": [{\"colorbar\": {\"outlinewidth\": 0, \"ticks\": \"\"}, \"colorscale\": [[0.0, \"#0d0887\"], [0.1111111111111111, \"#46039f\"], [0.2222222222222222, \"#7201a8\"], [0.3333333333333333, \"#9c179e\"], [0.4444444444444444, \"#bd3786\"], [0.5555555555555556, \"#d8576b\"], [0.6666666666666666, \"#ed7953\"], [0.7777777777777778, \"#fb9f3a\"], [0.8888888888888888, \"#fdca26\"], [1.0, \"#f0f921\"]], \"type\": \"histogram2dcontour\"}], \"mesh3d\": [{\"colorbar\": {\"outlinewidth\": 0, \"ticks\": \"\"}, \"type\": \"mesh3d\"}], \"parcoords\": [{\"line\": {\"colorbar\": {\"outlinewidth\": 0, \"ticks\": \"\"}}, \"type\": \"parcoords\"}], \"pie\": [{\"automargin\": true, \"type\": \"pie\"}], \"scatter\": [{\"marker\": {\"colorbar\": {\"outlinewidth\": 0, \"ticks\": \"\"}}, \"type\": \"scatter\"}], \"scatter3d\": [{\"line\": {\"colorbar\": {\"outlinewidth\": 0, \"ticks\": \"\"}}, \"marker\": {\"colorbar\": {\"outlinewidth\": 0, \"ticks\": \"\"}}, \"type\": \"scatter3d\"}], \"scattercarpet\": [{\"marker\": {\"colorbar\": {\"outlinewidth\": 0, \"ticks\": \"\"}}, \"type\": \"scattercarpet\"}], \"scattergeo\": [{\"marker\": {\"colorbar\": {\"outlinewidth\": 0, \"ticks\": \"\"}}, \"type\": \"scattergeo\"}], \"scattergl\": [{\"marker\": {\"colorbar\": {\"outlinewidth\": 0, \"ticks\": \"\"}}, \"type\": \"scattergl\"}], \"scattermapbox\": [{\"marker\": {\"colorbar\": {\"outlinewidth\": 0, \"ticks\": \"\"}}, \"type\": \"scattermapbox\"}], \"scatterpolar\": [{\"marker\": {\"colorbar\": {\"outlinewidth\": 0, \"ticks\": \"\"}}, \"type\": \"scatterpolar\"}], \"scatterpolargl\": [{\"marker\": {\"colorbar\": {\"outlinewidth\": 0, \"ticks\": \"\"}}, \"type\": \"scatterpolargl\"}], \"scatterternary\": [{\"marker\": {\"colorbar\": {\"outlinewidth\": 0, \"ticks\": \"\"}}, \"type\": \"scatterternary\"}], \"surface\": [{\"colorbar\": {\"outlinewidth\": 0, \"ticks\": \"\"}, \"colorscale\": [[0.0, \"#0d0887\"], [0.1111111111111111, \"#46039f\"], [0.2222222222222222, \"#7201a8\"], [0.3333333333333333, \"#9c179e\"], [0.4444444444444444, \"#bd3786\"], [0.5555555555555556, \"#d8576b\"], [0.6666666666666666, \"#ed7953\"], [0.7777777777777778, \"#fb9f3a\"], [0.8888888888888888, \"#fdca26\"], [1.0, \"#f0f921\"]], \"type\": \"surface\"}], \"table\": [{\"cells\": {\"fill\": {\"color\": \"#EBF0F8\"}, \"line\": {\"color\": \"white\"}}, \"header\": {\"fill\": {\"color\": \"#C8D4E3\"}, \"line\": {\"color\": \"white\"}}, \"type\": \"table\"}]}, \"layout\": {\"annotationdefaults\": {\"arrowcolor\": \"#2a3f5f\", \"arrowhead\": 0, \"arrowwidth\": 1}, \"coloraxis\": {\"colorbar\": {\"outlinewidth\": 0, \"ticks\": \"\"}}, \"colorscale\": {\"diverging\": [[0, \"#8e0152\"], [0.1, \"#c51b7d\"], [0.2, \"#de77ae\"], [0.3, \"#f1b6da\"], [0.4, \"#fde0ef\"], [0.5, \"#f7f7f7\"], [0.6, \"#e6f5d0\"], [0.7, \"#b8e186\"], [0.8, \"#7fbc41\"], [0.9, \"#4d9221\"], [1, \"#276419\"]], \"sequential\": [[0.0, \"#0d0887\"], [0.1111111111111111, \"#46039f\"], [0.2222222222222222, \"#7201a8\"], [0.3333333333333333, \"#9c179e\"], [0.4444444444444444, \"#bd3786\"], [0.5555555555555556, \"#d8576b\"], [0.6666666666666666, \"#ed7953\"], [0.7777777777777778, \"#fb9f3a\"], [0.8888888888888888, \"#fdca26\"], [1.0, \"#f0f921\"]], \"sequentialminus\": [[0.0, \"#0d0887\"], [0.1111111111111111, \"#46039f\"], [0.2222222222222222, \"#7201a8\"], [0.3333333333333333, \"#9c179e\"], [0.4444444444444444, \"#bd3786\"], [0.5555555555555556, \"#d8576b\"], [0.6666666666666666, \"#ed7953\"], [0.7777777777777778, \"#fb9f3a\"], [0.8888888888888888, \"#fdca26\"], [1.0, \"#f0f921\"]]}, \"colorway\": [\"#636efa\", \"#EF553B\", \"#00cc96\", \"#ab63fa\", \"#FFA15A\", \"#19d3f3\", \"#FF6692\", \"#B6E880\", \"#FF97FF\", \"#FECB52\"], \"font\": {\"color\": \"#2a3f5f\"}, \"geo\": {\"bgcolor\": \"white\", \"lakecolor\": \"white\", \"landcolor\": \"#E5ECF6\", \"showlakes\": true, \"showland\": true, \"subunitcolor\": \"white\"}, \"hoverlabel\": {\"align\": \"left\"}, \"hovermode\": \"closest\", \"mapbox\": {\"style\": \"light\"}, \"paper_bgcolor\": \"white\", \"plot_bgcolor\": \"#E5ECF6\", \"polar\": {\"angularaxis\": {\"gridcolor\": \"white\", \"linecolor\": \"white\", \"ticks\": \"\"}, \"bgcolor\": \"#E5ECF6\", \"radialaxis\": {\"gridcolor\": \"white\", \"linecolor\": \"white\", \"ticks\": \"\"}}, \"scene\": {\"xaxis\": {\"backgroundcolor\": \"#E5ECF6\", \"gridcolor\": \"white\", \"gridwidth\": 2, \"linecolor\": \"white\", \"showbackground\": true, \"ticks\": \"\", \"zerolinecolor\": \"white\"}, \"yaxis\": {\"backgroundcolor\": \"#E5ECF6\", \"gridcolor\": \"white\", \"gridwidth\": 2, \"linecolor\": \"white\", \"showbackground\": true, \"ticks\": \"\", \"zerolinecolor\": \"white\"}, \"zaxis\": {\"backgroundcolor\": \"#E5ECF6\", \"gridcolor\": \"white\", \"gridwidth\": 2, \"linecolor\": \"white\", \"showbackground\": true, \"ticks\": \"\", \"zerolinecolor\": \"white\"}}, \"shapedefaults\": {\"line\": {\"color\": \"#2a3f5f\"}}, \"ternary\": {\"aaxis\": {\"gridcolor\": \"white\", \"linecolor\": \"white\", \"ticks\": \"\"}, \"baxis\": {\"gridcolor\": \"white\", \"linecolor\": \"white\", \"ticks\": \"\"}, \"bgcolor\": \"#E5ECF6\", \"caxis\": {\"gridcolor\": \"white\", \"linecolor\": \"white\", \"ticks\": \"\"}}, \"title\": {\"x\": 0.05}, \"xaxis\": {\"automargin\": true, \"gridcolor\": \"white\", \"linecolor\": \"white\", \"ticks\": \"\", \"title\": {\"standoff\": 15}, \"zerolinecolor\": \"white\", \"zerolinewidth\": 2}, \"yaxis\": {\"automargin\": true, \"gridcolor\": \"white\", \"linecolor\": \"white\", \"ticks\": \"\", \"title\": {\"standoff\": 15}, \"zerolinecolor\": \"white\", \"zerolinewidth\": 2}}}, \"title\": {\"text\": \"Gender wise drop-out rate among primary category - 2012-13, 2013-14, 2014-15\"}, \"yaxis\": {\"title\": {\"text\": \"rates\"}}},\n",
              "                        {\"responsive\": true}\n",
              "                    ).then(function(){\n",
              "                            \n",
              "var gd = document.getElementById('851ead22-c7ce-4b0b-99a5-b8978e16236f');\n",
              "var x = new MutationObserver(function (mutations, observer) {{\n",
              "        var display = window.getComputedStyle(gd).display;\n",
              "        if (!display || display === 'none') {{\n",
              "            console.log([gd, 'removed!']);\n",
              "            Plotly.purge(gd);\n",
              "            observer.disconnect();\n",
              "        }}\n",
              "}});\n",
              "\n",
              "// Listen for the removal of the full notebook cells\n",
              "var notebookContainer = gd.closest('#notebook-container');\n",
              "if (notebookContainer) {{\n",
              "    x.observe(notebookContainer, {childList: true});\n",
              "}}\n",
              "\n",
              "// Listen for the clearing of the current output cell\n",
              "var outputEl = gd.closest('.output');\n",
              "if (outputEl) {{\n",
              "    x.observe(outputEl, {childList: true});\n",
              "}}\n",
              "\n",
              "                        })\n",
              "                };\n",
              "                \n",
              "            </script>\n",
              "        </div>\n",
              "</body>\n",
              "</html>"
            ]
          },
          "metadata": {
            "tags": []
          }
        }
      ]
    },
    {
      "cell_type": "markdown",
      "metadata": {
        "id": "sCg3P1Fo7WMd"
      },
      "source": [
        "The dropout rate in Mizoram was the highest in the country in 2012-13 at 24.27 for boys and 23.93 for girls, it reduced to 12.57 for boys and 13.38 in 2013-14\n",
        "\n",
        "Nagaland has the highest primary level drop-out rate in 2013-14 at 19.09 for boys and 19.74 for girls\n",
        "\n",
        "Andhra Pradesh has the highest primary drop-out rate in 2014-15 at 11.51 for boys and 10.09 for girls\n",
        "\n",
        "The highest drop-out rate reduced through the three years"
      ]
    },
    {
      "cell_type": "code",
      "metadata": {
        "id": "BN5_uVSm5Cc6"
      },
      "source": [
        "# I will select the top 5 states with the highest drop out for visualizations \n",
        "df_least5 = primary_drop_out.loc[['Puducherry','Goa','Delhi','Chandigarh','Kerala'],:]"
      ],
      "execution_count": 29,
      "outputs": []
    },
    {
      "cell_type": "code",
      "metadata": {
        "id": "W-jeTfXF5fFp"
      },
      "source": [
        "df_least5.reset_index(inplace = True)"
      ],
      "execution_count": 30,
      "outputs": []
    },
    {
      "cell_type": "code",
      "metadata": {
        "id": "X6odPqw85jNO",
        "outputId": "5fefdce9-50ba-4747-ccfa-bbfc0f1957c7",
        "colab": {
          "base_uri": "https://localhost:8080/",
          "height": 542
        }
      },
      "source": [
        "from plotly import graph_objects as go\n",
        "\n",
        "fig = go.Figure(\n",
        "    data=[\n",
        "        go.Bar(\n",
        "            name=\"Primary_Boys\",\n",
        "            x=df_least5['State_UT'],\n",
        "            y=df_least5['Primary_Boys'],\n",
        "            offsetgroup=0,\n",
        "        ),\n",
        "        go.Bar(\n",
        "            name=\"Primary_Girls\",\n",
        "            x=df_least5['State_UT'],\n",
        "            y=df_least5['Primary_Girls'],\n",
        "            offsetgroup=1,\n",
        "        ),\n",
        "\n",
        "    ],\n",
        "    layout=go.Layout(\n",
        "        title=\"Gender wise drop-out rate among primary category- 2012-13, 2013-14, 2014-15\",\n",
        "        yaxis_title=\"rates\"\n",
        "    )\n",
        ")\n",
        "\n",
        "fig.show()"
      ],
      "execution_count": 31,
      "outputs": [
        {
          "output_type": "display_data",
          "data": {
            "text/html": [
              "<html>\n",
              "<head><meta charset=\"utf-8\" /></head>\n",
              "<body>\n",
              "    <div>\n",
              "            <script src=\"https://cdnjs.cloudflare.com/ajax/libs/mathjax/2.7.5/MathJax.js?config=TeX-AMS-MML_SVG\"></script><script type=\"text/javascript\">if (window.MathJax) {MathJax.Hub.Config({SVG: {font: \"STIX-Web\"}});}</script>\n",
              "                <script type=\"text/javascript\">window.PlotlyConfig = {MathJaxConfig: 'local'};</script>\n",
              "        <script src=\"https://cdn.plot.ly/plotly-latest.min.js\"></script>    \n",
              "            <div id=\"292f5a9c-c4aa-4380-b556-b5f8fce3c18d\" class=\"plotly-graph-div\" style=\"height:525px; width:100%;\"></div>\n",
              "            <script type=\"text/javascript\">\n",
              "                \n",
              "                    window.PLOTLYENV=window.PLOTLYENV || {};\n",
              "                    \n",
              "                if (document.getElementById(\"292f5a9c-c4aa-4380-b556-b5f8fce3c18d\")) {\n",
              "                    Plotly.newPlot(\n",
              "                        '292f5a9c-c4aa-4380-b556-b5f8fce3c18d',\n",
              "                        [{\"name\": \"Primary_Boys\", \"offsetgroup\": \"0\", \"type\": \"bar\", \"x\": [\"Puducherry\", \"Puducherry\", \"Puducherry\", \"Goa\", \"Goa\", \"Goa\", \"Delhi\", \"Delhi\", \"Delhi\", \"Chandigarh\", \"Chandigarh\", \"Chandigarh\", \"Kerala\", \"Kerala\", \"Kerala\"], \"y\": [0.25, 0.76, 0.36, 0.0, 0.08, 0.63, 0.0, 0.0, 0.0, 0.0, 0.0, 0.0, 0.0, 0.0, 0.0]}, {\"name\": \"Primary_Girls\", \"offsetgroup\": \"1\", \"type\": \"bar\", \"x\": [\"Puducherry\", \"Puducherry\", \"Puducherry\", \"Goa\", \"Goa\", \"Goa\", \"Delhi\", \"Delhi\", \"Delhi\", \"Chandigarh\", \"Chandigarh\", \"Chandigarh\", \"Kerala\", \"Kerala\", \"Kerala\"], \"y\": [0.43, 0.57, 0.38, 0.26, 0.33, 0.84, 0.0, 0.0, 0.0, 0.0, 0.0, 0.0, 0.0, 0.0, 0.0]}],\n",
              "                        {\"template\": {\"data\": {\"bar\": [{\"error_x\": {\"color\": \"#2a3f5f\"}, \"error_y\": {\"color\": \"#2a3f5f\"}, \"marker\": {\"line\": {\"color\": \"#E5ECF6\", \"width\": 0.5}}, \"type\": \"bar\"}], \"barpolar\": [{\"marker\": {\"line\": {\"color\": \"#E5ECF6\", \"width\": 0.5}}, \"type\": \"barpolar\"}], \"carpet\": [{\"aaxis\": {\"endlinecolor\": \"#2a3f5f\", \"gridcolor\": \"white\", \"linecolor\": \"white\", \"minorgridcolor\": \"white\", \"startlinecolor\": \"#2a3f5f\"}, \"baxis\": {\"endlinecolor\": \"#2a3f5f\", \"gridcolor\": \"white\", \"linecolor\": \"white\", \"minorgridcolor\": \"white\", \"startlinecolor\": \"#2a3f5f\"}, \"type\": \"carpet\"}], \"choropleth\": [{\"colorbar\": {\"outlinewidth\": 0, \"ticks\": \"\"}, \"type\": \"choropleth\"}], \"contour\": [{\"colorbar\": {\"outlinewidth\": 0, \"ticks\": \"\"}, \"colorscale\": [[0.0, \"#0d0887\"], [0.1111111111111111, \"#46039f\"], [0.2222222222222222, \"#7201a8\"], [0.3333333333333333, \"#9c179e\"], [0.4444444444444444, \"#bd3786\"], [0.5555555555555556, \"#d8576b\"], [0.6666666666666666, \"#ed7953\"], [0.7777777777777778, \"#fb9f3a\"], [0.8888888888888888, \"#fdca26\"], [1.0, \"#f0f921\"]], \"type\": \"contour\"}], \"contourcarpet\": [{\"colorbar\": {\"outlinewidth\": 0, \"ticks\": \"\"}, \"type\": \"contourcarpet\"}], \"heatmap\": [{\"colorbar\": {\"outlinewidth\": 0, \"ticks\": \"\"}, \"colorscale\": [[0.0, \"#0d0887\"], [0.1111111111111111, \"#46039f\"], [0.2222222222222222, \"#7201a8\"], [0.3333333333333333, \"#9c179e\"], [0.4444444444444444, \"#bd3786\"], [0.5555555555555556, \"#d8576b\"], [0.6666666666666666, \"#ed7953\"], [0.7777777777777778, \"#fb9f3a\"], [0.8888888888888888, \"#fdca26\"], [1.0, \"#f0f921\"]], \"type\": \"heatmap\"}], \"heatmapgl\": [{\"colorbar\": {\"outlinewidth\": 0, \"ticks\": \"\"}, \"colorscale\": [[0.0, \"#0d0887\"], [0.1111111111111111, \"#46039f\"], [0.2222222222222222, \"#7201a8\"], [0.3333333333333333, \"#9c179e\"], [0.4444444444444444, \"#bd3786\"], [0.5555555555555556, \"#d8576b\"], [0.6666666666666666, \"#ed7953\"], [0.7777777777777778, \"#fb9f3a\"], [0.8888888888888888, \"#fdca26\"], [1.0, \"#f0f921\"]], \"type\": \"heatmapgl\"}], \"histogram\": [{\"marker\": {\"colorbar\": {\"outlinewidth\": 0, \"ticks\": \"\"}}, \"type\": \"histogram\"}], \"histogram2d\": [{\"colorbar\": {\"outlinewidth\": 0, \"ticks\": \"\"}, \"colorscale\": [[0.0, \"#0d0887\"], [0.1111111111111111, \"#46039f\"], [0.2222222222222222, \"#7201a8\"], [0.3333333333333333, \"#9c179e\"], [0.4444444444444444, \"#bd3786\"], [0.5555555555555556, \"#d8576b\"], [0.6666666666666666, \"#ed7953\"], [0.7777777777777778, \"#fb9f3a\"], [0.8888888888888888, \"#fdca26\"], [1.0, \"#f0f921\"]], \"type\": \"histogram2d\"}], \"histogram2dcontour\": [{\"colorbar\": {\"outlinewidth\": 0, \"ticks\": \"\"}, \"colorscale\": [[0.0, \"#0d0887\"], [0.1111111111111111, \"#46039f\"], [0.2222222222222222, \"#7201a8\"], [0.3333333333333333, \"#9c179e\"], [0.4444444444444444, \"#bd3786\"], [0.5555555555555556, \"#d8576b\"], [0.6666666666666666, \"#ed7953\"], [0.7777777777777778, \"#fb9f3a\"], [0.8888888888888888, \"#fdca26\"], [1.0, \"#f0f921\"]], \"type\": \"histogram2dcontour\"}], \"mesh3d\": [{\"colorbar\": {\"outlinewidth\": 0, \"ticks\": \"\"}, \"type\": \"mesh3d\"}], \"parcoords\": [{\"line\": {\"colorbar\": {\"outlinewidth\": 0, \"ticks\": \"\"}}, \"type\": \"parcoords\"}], \"pie\": [{\"automargin\": true, \"type\": \"pie\"}], \"scatter\": [{\"marker\": {\"colorbar\": {\"outlinewidth\": 0, \"ticks\": \"\"}}, \"type\": \"scatter\"}], \"scatter3d\": [{\"line\": {\"colorbar\": {\"outlinewidth\": 0, \"ticks\": \"\"}}, \"marker\": {\"colorbar\": {\"outlinewidth\": 0, \"ticks\": \"\"}}, \"type\": \"scatter3d\"}], \"scattercarpet\": [{\"marker\": {\"colorbar\": {\"outlinewidth\": 0, \"ticks\": \"\"}}, \"type\": \"scattercarpet\"}], \"scattergeo\": [{\"marker\": {\"colorbar\": {\"outlinewidth\": 0, \"ticks\": \"\"}}, \"type\": \"scattergeo\"}], \"scattergl\": [{\"marker\": {\"colorbar\": {\"outlinewidth\": 0, \"ticks\": \"\"}}, \"type\": \"scattergl\"}], \"scattermapbox\": [{\"marker\": {\"colorbar\": {\"outlinewidth\": 0, \"ticks\": \"\"}}, \"type\": \"scattermapbox\"}], \"scatterpolar\": [{\"marker\": {\"colorbar\": {\"outlinewidth\": 0, \"ticks\": \"\"}}, \"type\": \"scatterpolar\"}], \"scatterpolargl\": [{\"marker\": {\"colorbar\": {\"outlinewidth\": 0, \"ticks\": \"\"}}, \"type\": \"scatterpolargl\"}], \"scatterternary\": [{\"marker\": {\"colorbar\": {\"outlinewidth\": 0, \"ticks\": \"\"}}, \"type\": \"scatterternary\"}], \"surface\": [{\"colorbar\": {\"outlinewidth\": 0, \"ticks\": \"\"}, \"colorscale\": [[0.0, \"#0d0887\"], [0.1111111111111111, \"#46039f\"], [0.2222222222222222, \"#7201a8\"], [0.3333333333333333, \"#9c179e\"], [0.4444444444444444, \"#bd3786\"], [0.5555555555555556, \"#d8576b\"], [0.6666666666666666, \"#ed7953\"], [0.7777777777777778, \"#fb9f3a\"], [0.8888888888888888, \"#fdca26\"], [1.0, \"#f0f921\"]], \"type\": \"surface\"}], \"table\": [{\"cells\": {\"fill\": {\"color\": \"#EBF0F8\"}, \"line\": {\"color\": \"white\"}}, \"header\": {\"fill\": {\"color\": \"#C8D4E3\"}, \"line\": {\"color\": \"white\"}}, \"type\": \"table\"}]}, \"layout\": {\"annotationdefaults\": {\"arrowcolor\": \"#2a3f5f\", \"arrowhead\": 0, \"arrowwidth\": 1}, \"coloraxis\": {\"colorbar\": {\"outlinewidth\": 0, \"ticks\": \"\"}}, \"colorscale\": {\"diverging\": [[0, \"#8e0152\"], [0.1, \"#c51b7d\"], [0.2, \"#de77ae\"], [0.3, \"#f1b6da\"], [0.4, \"#fde0ef\"], [0.5, \"#f7f7f7\"], [0.6, \"#e6f5d0\"], [0.7, \"#b8e186\"], [0.8, \"#7fbc41\"], [0.9, \"#4d9221\"], [1, \"#276419\"]], \"sequential\": [[0.0, \"#0d0887\"], [0.1111111111111111, \"#46039f\"], [0.2222222222222222, \"#7201a8\"], [0.3333333333333333, \"#9c179e\"], [0.4444444444444444, \"#bd3786\"], [0.5555555555555556, \"#d8576b\"], [0.6666666666666666, \"#ed7953\"], [0.7777777777777778, \"#fb9f3a\"], [0.8888888888888888, \"#fdca26\"], [1.0, \"#f0f921\"]], \"sequentialminus\": [[0.0, \"#0d0887\"], [0.1111111111111111, \"#46039f\"], [0.2222222222222222, \"#7201a8\"], [0.3333333333333333, \"#9c179e\"], [0.4444444444444444, \"#bd3786\"], [0.5555555555555556, \"#d8576b\"], [0.6666666666666666, \"#ed7953\"], [0.7777777777777778, \"#fb9f3a\"], [0.8888888888888888, \"#fdca26\"], [1.0, \"#f0f921\"]]}, \"colorway\": [\"#636efa\", \"#EF553B\", \"#00cc96\", \"#ab63fa\", \"#FFA15A\", \"#19d3f3\", \"#FF6692\", \"#B6E880\", \"#FF97FF\", \"#FECB52\"], \"font\": {\"color\": \"#2a3f5f\"}, \"geo\": {\"bgcolor\": \"white\", \"lakecolor\": \"white\", \"landcolor\": \"#E5ECF6\", \"showlakes\": true, \"showland\": true, \"subunitcolor\": \"white\"}, \"hoverlabel\": {\"align\": \"left\"}, \"hovermode\": \"closest\", \"mapbox\": {\"style\": \"light\"}, \"paper_bgcolor\": \"white\", \"plot_bgcolor\": \"#E5ECF6\", \"polar\": {\"angularaxis\": {\"gridcolor\": \"white\", \"linecolor\": \"white\", \"ticks\": \"\"}, \"bgcolor\": \"#E5ECF6\", \"radialaxis\": {\"gridcolor\": \"white\", \"linecolor\": \"white\", \"ticks\": \"\"}}, \"scene\": {\"xaxis\": {\"backgroundcolor\": \"#E5ECF6\", \"gridcolor\": \"white\", \"gridwidth\": 2, \"linecolor\": \"white\", \"showbackground\": true, \"ticks\": \"\", \"zerolinecolor\": \"white\"}, \"yaxis\": {\"backgroundcolor\": \"#E5ECF6\", \"gridcolor\": \"white\", \"gridwidth\": 2, \"linecolor\": \"white\", \"showbackground\": true, \"ticks\": \"\", \"zerolinecolor\": \"white\"}, \"zaxis\": {\"backgroundcolor\": \"#E5ECF6\", \"gridcolor\": \"white\", \"gridwidth\": 2, \"linecolor\": \"white\", \"showbackground\": true, \"ticks\": \"\", \"zerolinecolor\": \"white\"}}, \"shapedefaults\": {\"line\": {\"color\": \"#2a3f5f\"}}, \"ternary\": {\"aaxis\": {\"gridcolor\": \"white\", \"linecolor\": \"white\", \"ticks\": \"\"}, \"baxis\": {\"gridcolor\": \"white\", \"linecolor\": \"white\", \"ticks\": \"\"}, \"bgcolor\": \"#E5ECF6\", \"caxis\": {\"gridcolor\": \"white\", \"linecolor\": \"white\", \"ticks\": \"\"}}, \"title\": {\"x\": 0.05}, \"xaxis\": {\"automargin\": true, \"gridcolor\": \"white\", \"linecolor\": \"white\", \"ticks\": \"\", \"title\": {\"standoff\": 15}, \"zerolinecolor\": \"white\", \"zerolinewidth\": 2}, \"yaxis\": {\"automargin\": true, \"gridcolor\": \"white\", \"linecolor\": \"white\", \"ticks\": \"\", \"title\": {\"standoff\": 15}, \"zerolinecolor\": \"white\", \"zerolinewidth\": 2}}}, \"title\": {\"text\": \"Gender wise drop-out rate among primary category- 2012-13, 2013-14, 2014-15\"}, \"yaxis\": {\"title\": {\"text\": \"rates\"}}},\n",
              "                        {\"responsive\": true}\n",
              "                    ).then(function(){\n",
              "                            \n",
              "var gd = document.getElementById('292f5a9c-c4aa-4380-b556-b5f8fce3c18d');\n",
              "var x = new MutationObserver(function (mutations, observer) {{\n",
              "        var display = window.getComputedStyle(gd).display;\n",
              "        if (!display || display === 'none') {{\n",
              "            console.log([gd, 'removed!']);\n",
              "            Plotly.purge(gd);\n",
              "            observer.disconnect();\n",
              "        }}\n",
              "}});\n",
              "\n",
              "// Listen for the removal of the full notebook cells\n",
              "var notebookContainer = gd.closest('#notebook-container');\n",
              "if (notebookContainer) {{\n",
              "    x.observe(notebookContainer, {childList: true});\n",
              "}}\n",
              "\n",
              "// Listen for the clearing of the current output cell\n",
              "var outputEl = gd.closest('.output');\n",
              "if (outputEl) {{\n",
              "    x.observe(outputEl, {childList: true});\n",
              "}}\n",
              "\n",
              "                        })\n",
              "                };\n",
              "                \n",
              "            </script>\n",
              "        </div>\n",
              "</body>\n",
              "</html>"
            ]
          },
          "metadata": {
            "tags": []
          }
        }
      ]
    },
    {
      "cell_type": "markdown",
      "metadata": {
        "id": "Ntp0tv9G6OUk"
      },
      "source": [
        "There is no gender disparity in primary level dropouts. Boys and girls quit school in almost equal measure."
      ]
    },
    {
      "cell_type": "code",
      "metadata": {
        "id": "J-0sbqbq_cqS",
        "outputId": "bc70108a-09b0-4905-d201-e465ad450372",
        "colab": {
          "base_uri": "https://localhost:8080/",
          "height": 235
        }
      },
      "source": [
        "upper_primary_drop_out.head()"
      ],
      "execution_count": 32,
      "outputs": [
        {
          "output_type": "execute_result",
          "data": {
            "text/html": [
              "<div>\n",
              "<style scoped>\n",
              "    .dataframe tbody tr th:only-of-type {\n",
              "        vertical-align: middle;\n",
              "    }\n",
              "\n",
              "    .dataframe tbody tr th {\n",
              "        vertical-align: top;\n",
              "    }\n",
              "\n",
              "    .dataframe thead th {\n",
              "        text-align: right;\n",
              "    }\n",
              "</style>\n",
              "<table border=\"1\" class=\"dataframe\">\n",
              "  <thead>\n",
              "    <tr style=\"text-align: right;\">\n",
              "      <th></th>\n",
              "      <th>year</th>\n",
              "      <th>Upper Primary_Boys</th>\n",
              "      <th>Upper Primary_Girls</th>\n",
              "    </tr>\n",
              "    <tr>\n",
              "      <th>State_UT</th>\n",
              "      <th></th>\n",
              "      <th></th>\n",
              "      <th></th>\n",
              "    </tr>\n",
              "  </thead>\n",
              "  <tbody>\n",
              "    <tr>\n",
              "      <th>A &amp; N Islands</th>\n",
              "      <td>2012-13</td>\n",
              "      <td>0.00</td>\n",
              "      <td>1.09</td>\n",
              "    </tr>\n",
              "    <tr>\n",
              "      <th>A &amp; N Islands</th>\n",
              "      <td>2013-14</td>\n",
              "      <td>0.00</td>\n",
              "      <td>1.54</td>\n",
              "    </tr>\n",
              "    <tr>\n",
              "      <th>A &amp; N Islands</th>\n",
              "      <td>2014-15</td>\n",
              "      <td>1.44</td>\n",
              "      <td>1.95</td>\n",
              "    </tr>\n",
              "    <tr>\n",
              "      <th>Andhra Pradesh</th>\n",
              "      <td>2012-13</td>\n",
              "      <td>3.21</td>\n",
              "      <td>3.51</td>\n",
              "    </tr>\n",
              "    <tr>\n",
              "      <th>Andhra Pradesh</th>\n",
              "      <td>2013-14</td>\n",
              "      <td>3.46</td>\n",
              "      <td>4.12</td>\n",
              "    </tr>\n",
              "  </tbody>\n",
              "</table>\n",
              "</div>"
            ],
            "text/plain": [
              "                   year  Upper Primary_Boys  Upper Primary_Girls\n",
              "State_UT                                                        \n",
              "A & N Islands   2012-13                0.00                 1.09\n",
              "A & N Islands   2013-14                0.00                 1.54\n",
              "A & N Islands   2014-15                1.44                 1.95\n",
              "Andhra Pradesh  2012-13                3.21                 3.51\n",
              "Andhra Pradesh  2013-14                3.46                 4.12"
            ]
          },
          "metadata": {
            "tags": []
          },
          "execution_count": 32
        }
      ]
    },
    {
      "cell_type": "code",
      "metadata": {
        "id": "SzyLElKFBisR",
        "outputId": "1b944137-6a77-469a-b168-768a39c49282",
        "colab": {
          "base_uri": "https://localhost:8080/",
          "height": 266
        }
      },
      "source": [
        "upper_primary_drop_out_total = drop_out[['year','Upper Primary_Total']]\n",
        "upper_primary_drop_out_total.head(6)"
      ],
      "execution_count": 33,
      "outputs": [
        {
          "output_type": "execute_result",
          "data": {
            "text/html": [
              "<div>\n",
              "<style scoped>\n",
              "    .dataframe tbody tr th:only-of-type {\n",
              "        vertical-align: middle;\n",
              "    }\n",
              "\n",
              "    .dataframe tbody tr th {\n",
              "        vertical-align: top;\n",
              "    }\n",
              "\n",
              "    .dataframe thead th {\n",
              "        text-align: right;\n",
              "    }\n",
              "</style>\n",
              "<table border=\"1\" class=\"dataframe\">\n",
              "  <thead>\n",
              "    <tr style=\"text-align: right;\">\n",
              "      <th></th>\n",
              "      <th>year</th>\n",
              "      <th>Upper Primary_Total</th>\n",
              "    </tr>\n",
              "    <tr>\n",
              "      <th>State_UT</th>\n",
              "      <th></th>\n",
              "      <th></th>\n",
              "    </tr>\n",
              "  </thead>\n",
              "  <tbody>\n",
              "    <tr>\n",
              "      <th>A &amp; N Islands</th>\n",
              "      <td>2012-13</td>\n",
              "      <td>1.23</td>\n",
              "    </tr>\n",
              "    <tr>\n",
              "      <th>A &amp; N Islands</th>\n",
              "      <td>2013-14</td>\n",
              "      <td>0.51</td>\n",
              "    </tr>\n",
              "    <tr>\n",
              "      <th>A &amp; N Islands</th>\n",
              "      <td>2014-15</td>\n",
              "      <td>1.69</td>\n",
              "    </tr>\n",
              "    <tr>\n",
              "      <th>Andhra Pradesh</th>\n",
              "      <td>2012-13</td>\n",
              "      <td>3.36</td>\n",
              "    </tr>\n",
              "    <tr>\n",
              "      <th>Andhra Pradesh</th>\n",
              "      <td>2013-14</td>\n",
              "      <td>3.78</td>\n",
              "    </tr>\n",
              "    <tr>\n",
              "      <th>Andhra Pradesh</th>\n",
              "      <td>2014-15</td>\n",
              "      <td>5.20</td>\n",
              "    </tr>\n",
              "  </tbody>\n",
              "</table>\n",
              "</div>"
            ],
            "text/plain": [
              "                   year  Upper Primary_Total\n",
              "State_UT                                    \n",
              "A & N Islands   2012-13                 1.23\n",
              "A & N Islands   2013-14                 0.51\n",
              "A & N Islands   2014-15                 1.69\n",
              "Andhra Pradesh  2012-13                 3.36\n",
              "Andhra Pradesh  2013-14                 3.78\n",
              "Andhra Pradesh  2014-15                 5.20"
            ]
          },
          "metadata": {
            "tags": []
          },
          "execution_count": 33
        }
      ]
    },
    {
      "cell_type": "code",
      "metadata": {
        "id": "XUCxUb9jCMIT"
      },
      "source": [
        "tmp = []\n",
        "upper_primary_drop_out_total['Upper Primary_Total'] = upper_primary_drop_out_total['Upper Primary_Total'].astype(float)                # The datatype of our numerical features is object so we need to change to float.\n",
        "tmp.append(pd.DataFrame({'mean_' + 'Upper Primary_Total' : drop_out.groupby(['State_UT'])['Upper Primary_Total'].mean()}))     # Calculate the mean of drop_out ratio for the 37 states in all 12 student category types."
      ],
      "execution_count": 34,
      "outputs": []
    },
    {
      "cell_type": "code",
      "metadata": {
        "id": "E27B1PMZCcBx"
      },
      "source": [
        "mean_drop_out_per_state = pd.DataFrame(tmp[0])     # Initially add the first Student Category type in the DataFrame so it's easy to use pd.merge()\n",
        "for Stu_type in range(1, len(tmp)):           # Starting at an Index of 1 since since I already initialized our dataframe with the first Student type \n",
        "    tmp[Stu_type].reset_index(inplace = True)\n",
        "    mean_drop_out_per_state = pd.merge(mean_drop_out_per_state, tmp[Stu_type], on = 'State_UT')"
      ],
      "execution_count": 35,
      "outputs": []
    },
    {
      "cell_type": "code",
      "metadata": {
        "id": "-zNEqZLlC8TP",
        "outputId": "c43fb56a-931f-4698-947a-9e75afbebed5",
        "colab": {
          "base_uri": "https://localhost:8080/",
          "height": 235
        }
      },
      "source": [
        "mean_drop_out_per_state.head()"
      ],
      "execution_count": 36,
      "outputs": [
        {
          "output_type": "execute_result",
          "data": {
            "text/html": [
              "<div>\n",
              "<style scoped>\n",
              "    .dataframe tbody tr th:only-of-type {\n",
              "        vertical-align: middle;\n",
              "    }\n",
              "\n",
              "    .dataframe tbody tr th {\n",
              "        vertical-align: top;\n",
              "    }\n",
              "\n",
              "    .dataframe thead th {\n",
              "        text-align: right;\n",
              "    }\n",
              "</style>\n",
              "<table border=\"1\" class=\"dataframe\">\n",
              "  <thead>\n",
              "    <tr style=\"text-align: right;\">\n",
              "      <th></th>\n",
              "      <th>mean_Upper Primary_Total</th>\n",
              "    </tr>\n",
              "    <tr>\n",
              "      <th>State_UT</th>\n",
              "      <th></th>\n",
              "    </tr>\n",
              "  </thead>\n",
              "  <tbody>\n",
              "    <tr>\n",
              "      <th>A &amp; N Islands</th>\n",
              "      <td>1.143333</td>\n",
              "    </tr>\n",
              "    <tr>\n",
              "      <th>All India</th>\n",
              "      <td>3.643333</td>\n",
              "    </tr>\n",
              "    <tr>\n",
              "      <th>Andhra Pradesh</th>\n",
              "      <td>4.113333</td>\n",
              "    </tr>\n",
              "    <tr>\n",
              "      <th>Arunachal Pradesh</th>\n",
              "      <td>6.590000</td>\n",
              "    </tr>\n",
              "    <tr>\n",
              "      <th>Assam</th>\n",
              "      <td>8.253333</td>\n",
              "    </tr>\n",
              "  </tbody>\n",
              "</table>\n",
              "</div>"
            ],
            "text/plain": [
              "                   mean_Upper Primary_Total\n",
              "State_UT                                   \n",
              "A & N Islands                      1.143333\n",
              "All India                          3.643333\n",
              "Andhra Pradesh                     4.113333\n",
              "Arunachal Pradesh                  6.590000\n",
              "Assam                              8.253333"
            ]
          },
          "metadata": {
            "tags": []
          },
          "execution_count": 36
        }
      ]
    },
    {
      "cell_type": "code",
      "metadata": {
        "id": "SJns7WjVC8my",
        "outputId": "e3bb2d0a-f4a9-45fb-d233-ba9905b5687b",
        "colab": {
          "base_uri": "https://localhost:8080/",
          "height": 235
        }
      },
      "source": [
        "mean_drop_out_per_state.sort_values(['mean_Upper Primary_Total'], ascending=False, axis=0, inplace=True)\n",
        "\n",
        "# get the top 5 entries\n",
        "df_top5 = mean_drop_out_per_state.head()\n",
        "\n",
        "\n",
        "df_top5.head()"
      ],
      "execution_count": 37,
      "outputs": [
        {
          "output_type": "execute_result",
          "data": {
            "text/html": [
              "<div>\n",
              "<style scoped>\n",
              "    .dataframe tbody tr th:only-of-type {\n",
              "        vertical-align: middle;\n",
              "    }\n",
              "\n",
              "    .dataframe tbody tr th {\n",
              "        vertical-align: top;\n",
              "    }\n",
              "\n",
              "    .dataframe thead th {\n",
              "        text-align: right;\n",
              "    }\n",
              "</style>\n",
              "<table border=\"1\" class=\"dataframe\">\n",
              "  <thead>\n",
              "    <tr style=\"text-align: right;\">\n",
              "      <th></th>\n",
              "      <th>mean_Upper Primary_Total</th>\n",
              "    </tr>\n",
              "    <tr>\n",
              "      <th>State_UT</th>\n",
              "      <th></th>\n",
              "    </tr>\n",
              "  </thead>\n",
              "  <tbody>\n",
              "    <tr>\n",
              "      <th>Nagaland</th>\n",
              "      <td>11.870000</td>\n",
              "    </tr>\n",
              "    <tr>\n",
              "      <th>Mizoram</th>\n",
              "      <td>10.026667</td>\n",
              "    </tr>\n",
              "    <tr>\n",
              "      <th>Madhya Pradesh</th>\n",
              "      <td>9.810000</td>\n",
              "    </tr>\n",
              "    <tr>\n",
              "      <th>Assam</th>\n",
              "      <td>8.253333</td>\n",
              "    </tr>\n",
              "    <tr>\n",
              "      <th>Jharkhand</th>\n",
              "      <td>7.293333</td>\n",
              "    </tr>\n",
              "  </tbody>\n",
              "</table>\n",
              "</div>"
            ],
            "text/plain": [
              "                mean_Upper Primary_Total\n",
              "State_UT                                \n",
              "Nagaland                       11.870000\n",
              "Mizoram                        10.026667\n",
              "Madhya Pradesh                  9.810000\n",
              "Assam                           8.253333\n",
              "Jharkhand                       7.293333"
            ]
          },
          "metadata": {
            "tags": []
          },
          "execution_count": 37
        }
      ]
    },
    {
      "cell_type": "markdown",
      "metadata": {
        "id": "cv9Vhqn5IeT1"
      },
      "source": [
        "In the upper primary level, Nagaland and Mizoram recorded the highest percentage of drop outs in the country across the 3 years."
      ]
    },
    {
      "cell_type": "code",
      "metadata": {
        "id": "ctaZM48oFMWx",
        "outputId": "a035fc76-1779-4921-baef-9b3f34b3eca2",
        "colab": {
          "base_uri": "https://localhost:8080/",
          "height": 235
        }
      },
      "source": [
        "mean_drop_out_per_state.sort_values(['mean_Upper Primary_Total'], ascending=False, axis=0, inplace=True)\n",
        "\n",
        "# get the least 5 entries\n",
        "df_least5 = mean_drop_out_per_state.tail()\n",
        "\n",
        "\n",
        "df_least5.head()"
      ],
      "execution_count": 38,
      "outputs": [
        {
          "output_type": "execute_result",
          "data": {
            "text/html": [
              "<div>\n",
              "<style scoped>\n",
              "    .dataframe tbody tr th:only-of-type {\n",
              "        vertical-align: middle;\n",
              "    }\n",
              "\n",
              "    .dataframe tbody tr th {\n",
              "        vertical-align: top;\n",
              "    }\n",
              "\n",
              "    .dataframe thead th {\n",
              "        text-align: right;\n",
              "    }\n",
              "</style>\n",
              "<table border=\"1\" class=\"dataframe\">\n",
              "  <thead>\n",
              "    <tr style=\"text-align: right;\">\n",
              "      <th></th>\n",
              "      <th>mean_Upper Primary_Total</th>\n",
              "    </tr>\n",
              "    <tr>\n",
              "      <th>State_UT</th>\n",
              "      <th></th>\n",
              "    </tr>\n",
              "  </thead>\n",
              "  <tbody>\n",
              "    <tr>\n",
              "      <th>Himachal Pradesh</th>\n",
              "      <td>0.720000</td>\n",
              "    </tr>\n",
              "    <tr>\n",
              "      <th>Puducherry</th>\n",
              "      <td>0.613333</td>\n",
              "    </tr>\n",
              "    <tr>\n",
              "      <th>Chandigarh</th>\n",
              "      <td>0.540000</td>\n",
              "    </tr>\n",
              "    <tr>\n",
              "      <th>Goa</th>\n",
              "      <td>0.023333</td>\n",
              "    </tr>\n",
              "    <tr>\n",
              "      <th>Kerala</th>\n",
              "      <td>0.000000</td>\n",
              "    </tr>\n",
              "  </tbody>\n",
              "</table>\n",
              "</div>"
            ],
            "text/plain": [
              "                  mean_Upper Primary_Total\n",
              "State_UT                                  \n",
              "Himachal Pradesh                  0.720000\n",
              "Puducherry                        0.613333\n",
              "Chandigarh                        0.540000\n",
              "Goa                               0.023333\n",
              "Kerala                            0.000000"
            ]
          },
          "metadata": {
            "tags": []
          },
          "execution_count": 38
        }
      ]
    },
    {
      "cell_type": "code",
      "metadata": {
        "id": "awO4Ol4YRMFr"
      },
      "source": [
        "# I will select the top 5 states with the highest drop out for visualizations \n",
        "df_top5 = upper_primary_drop_out.loc[['Nagaland','Mizoram','Madhya Pradesh','Assam','Jharkhand'],:]\n",
        "df_top5.reset_index(inplace = True)"
      ],
      "execution_count": 39,
      "outputs": []
    },
    {
      "cell_type": "code",
      "metadata": {
        "id": "angZSNLoUjyL"
      },
      "source": [
        "# I will select the top 5 states with the highest drop out for visualizations \n",
        "df_least5 = upper_primary_drop_out.loc[['Himachal Pradesh','Puducherry','Chandigarh','Goa','Kerala'],:]\n",
        "df_least5.reset_index(inplace = True)"
      ],
      "execution_count": 40,
      "outputs": []
    },
    {
      "cell_type": "code",
      "metadata": {
        "id": "raF30x6qQ9JU",
        "outputId": "ee99d8e7-bb32-499a-c8f7-c3b51d385ac3",
        "colab": {
          "base_uri": "https://localhost:8080/",
          "height": 542
        }
      },
      "source": [
        "from plotly import graph_objects as go\n",
        "\n",
        "fig = go.Figure(\n",
        "    data=[\n",
        "        go.Bar(\n",
        "            name=\"Upper Primary_Boys\",\n",
        "            x=df_top5['State_UT'],\n",
        "            y=df_top5['Upper Primary_Boys'],\n",
        "            offsetgroup=0,\n",
        "        ),\n",
        "        go.Bar(\n",
        "            name=\"Upper Primary_Girls\",\n",
        "            x=df_top5['State_UT'],\n",
        "            y=df_top5['Upper Primary_Girls'],\n",
        "            offsetgroup=1,\n",
        "        ),\n",
        "\n",
        "    ],\n",
        "    layout=go.Layout(\n",
        "        title=\"Gender wise drop-out rate among Upper Primary Category- 2012-13, 2013-14, 2014-15\",\n",
        "        yaxis_title=\"rates\"\n",
        "    )\n",
        ")\n",
        "\n",
        "fig.show()"
      ],
      "execution_count": 41,
      "outputs": [
        {
          "output_type": "display_data",
          "data": {
            "text/html": [
              "<html>\n",
              "<head><meta charset=\"utf-8\" /></head>\n",
              "<body>\n",
              "    <div>\n",
              "            <script src=\"https://cdnjs.cloudflare.com/ajax/libs/mathjax/2.7.5/MathJax.js?config=TeX-AMS-MML_SVG\"></script><script type=\"text/javascript\">if (window.MathJax) {MathJax.Hub.Config({SVG: {font: \"STIX-Web\"}});}</script>\n",
              "                <script type=\"text/javascript\">window.PlotlyConfig = {MathJaxConfig: 'local'};</script>\n",
              "        <script src=\"https://cdn.plot.ly/plotly-latest.min.js\"></script>    \n",
              "            <div id=\"e1573b61-bf51-49e8-a1cf-2bd27fb6ab26\" class=\"plotly-graph-div\" style=\"height:525px; width:100%;\"></div>\n",
              "            <script type=\"text/javascript\">\n",
              "                \n",
              "                    window.PLOTLYENV=window.PLOTLYENV || {};\n",
              "                    \n",
              "                if (document.getElementById(\"e1573b61-bf51-49e8-a1cf-2bd27fb6ab26\")) {\n",
              "                    Plotly.newPlot(\n",
              "                        'e1573b61-bf51-49e8-a1cf-2bd27fb6ab26',\n",
              "                        [{\"name\": \"Upper Primary_Boys\", \"offsetgroup\": \"0\", \"type\": \"bar\", \"x\": [\"Nagaland\", \"Nagaland\", \"Nagaland\", \"Mizoram\", \"Mizoram\", \"Mizoram\", \"Madhya Pradesh\", \"Madhya Pradesh\", \"Madhya Pradesh\", \"Assam\", \"Assam\", \"Assam\", \"Jharkhand\", \"Jharkhand\", \"Jharkhand\"], \"y\": [10.15, 18.08, 7.87, 19.35, 6.61, 5.46, 6.79, 9.88, 7.78, 7.89, 7.6, 10.45, 4.99, 7.19, 9.01]}, {\"name\": \"Upper Primary_Girls\", \"offsetgroup\": \"1\", \"type\": \"bar\", \"x\": [\"Nagaland\", \"Nagaland\", \"Nagaland\", \"Mizoram\", \"Mizoram\", \"Mizoram\", \"Madhya Pradesh\", \"Madhya Pradesh\", \"Madhya Pradesh\", \"Assam\", \"Assam\", \"Assam\", \"Jharkhand\", \"Jharkhand\", \"Jharkhand\"], \"y\": [9.51, 17.63, 7.97, 19.21, 5.39, 4.06, 10.27, 13.57, 10.7, 6.55, 6.54, 10.56, 5.94, 7.65, 8.96]}],\n",
              "                        {\"template\": {\"data\": {\"bar\": [{\"error_x\": {\"color\": \"#2a3f5f\"}, \"error_y\": {\"color\": \"#2a3f5f\"}, \"marker\": {\"line\": {\"color\": \"#E5ECF6\", \"width\": 0.5}}, \"type\": \"bar\"}], \"barpolar\": [{\"marker\": {\"line\": {\"color\": \"#E5ECF6\", \"width\": 0.5}}, \"type\": \"barpolar\"}], \"carpet\": [{\"aaxis\": {\"endlinecolor\": \"#2a3f5f\", \"gridcolor\": \"white\", \"linecolor\": \"white\", \"minorgridcolor\": \"white\", \"startlinecolor\": \"#2a3f5f\"}, \"baxis\": {\"endlinecolor\": \"#2a3f5f\", \"gridcolor\": \"white\", \"linecolor\": \"white\", \"minorgridcolor\": \"white\", \"startlinecolor\": \"#2a3f5f\"}, \"type\": \"carpet\"}], \"choropleth\": [{\"colorbar\": {\"outlinewidth\": 0, \"ticks\": \"\"}, \"type\": \"choropleth\"}], \"contour\": [{\"colorbar\": {\"outlinewidth\": 0, \"ticks\": \"\"}, \"colorscale\": [[0.0, \"#0d0887\"], [0.1111111111111111, \"#46039f\"], [0.2222222222222222, \"#7201a8\"], [0.3333333333333333, \"#9c179e\"], [0.4444444444444444, \"#bd3786\"], [0.5555555555555556, \"#d8576b\"], [0.6666666666666666, \"#ed7953\"], [0.7777777777777778, \"#fb9f3a\"], [0.8888888888888888, \"#fdca26\"], [1.0, \"#f0f921\"]], \"type\": \"contour\"}], \"contourcarpet\": [{\"colorbar\": {\"outlinewidth\": 0, \"ticks\": \"\"}, \"type\": \"contourcarpet\"}], \"heatmap\": [{\"colorbar\": {\"outlinewidth\": 0, \"ticks\": \"\"}, \"colorscale\": [[0.0, \"#0d0887\"], [0.1111111111111111, \"#46039f\"], [0.2222222222222222, \"#7201a8\"], [0.3333333333333333, \"#9c179e\"], [0.4444444444444444, \"#bd3786\"], [0.5555555555555556, \"#d8576b\"], [0.6666666666666666, \"#ed7953\"], [0.7777777777777778, \"#fb9f3a\"], [0.8888888888888888, \"#fdca26\"], [1.0, \"#f0f921\"]], \"type\": \"heatmap\"}], \"heatmapgl\": [{\"colorbar\": {\"outlinewidth\": 0, \"ticks\": \"\"}, \"colorscale\": [[0.0, \"#0d0887\"], [0.1111111111111111, \"#46039f\"], [0.2222222222222222, \"#7201a8\"], [0.3333333333333333, \"#9c179e\"], [0.4444444444444444, \"#bd3786\"], [0.5555555555555556, \"#d8576b\"], [0.6666666666666666, \"#ed7953\"], [0.7777777777777778, \"#fb9f3a\"], [0.8888888888888888, \"#fdca26\"], [1.0, \"#f0f921\"]], \"type\": \"heatmapgl\"}], \"histogram\": [{\"marker\": {\"colorbar\": {\"outlinewidth\": 0, \"ticks\": \"\"}}, \"type\": \"histogram\"}], \"histogram2d\": [{\"colorbar\": {\"outlinewidth\": 0, \"ticks\": \"\"}, \"colorscale\": [[0.0, \"#0d0887\"], [0.1111111111111111, \"#46039f\"], [0.2222222222222222, \"#7201a8\"], [0.3333333333333333, \"#9c179e\"], [0.4444444444444444, \"#bd3786\"], [0.5555555555555556, \"#d8576b\"], [0.6666666666666666, \"#ed7953\"], [0.7777777777777778, \"#fb9f3a\"], [0.8888888888888888, \"#fdca26\"], [1.0, \"#f0f921\"]], \"type\": \"histogram2d\"}], \"histogram2dcontour\": [{\"colorbar\": {\"outlinewidth\": 0, \"ticks\": \"\"}, \"colorscale\": [[0.0, \"#0d0887\"], [0.1111111111111111, \"#46039f\"], [0.2222222222222222, \"#7201a8\"], [0.3333333333333333, \"#9c179e\"], [0.4444444444444444, \"#bd3786\"], [0.5555555555555556, \"#d8576b\"], [0.6666666666666666, \"#ed7953\"], [0.7777777777777778, \"#fb9f3a\"], [0.8888888888888888, \"#fdca26\"], [1.0, \"#f0f921\"]], \"type\": \"histogram2dcontour\"}], \"mesh3d\": [{\"colorbar\": {\"outlinewidth\": 0, \"ticks\": \"\"}, \"type\": \"mesh3d\"}], \"parcoords\": [{\"line\": {\"colorbar\": {\"outlinewidth\": 0, \"ticks\": \"\"}}, \"type\": \"parcoords\"}], \"pie\": [{\"automargin\": true, \"type\": \"pie\"}], \"scatter\": [{\"marker\": {\"colorbar\": {\"outlinewidth\": 0, \"ticks\": \"\"}}, \"type\": \"scatter\"}], \"scatter3d\": [{\"line\": {\"colorbar\": {\"outlinewidth\": 0, \"ticks\": \"\"}}, \"marker\": {\"colorbar\": {\"outlinewidth\": 0, \"ticks\": \"\"}}, \"type\": \"scatter3d\"}], \"scattercarpet\": [{\"marker\": {\"colorbar\": {\"outlinewidth\": 0, \"ticks\": \"\"}}, \"type\": \"scattercarpet\"}], \"scattergeo\": [{\"marker\": {\"colorbar\": {\"outlinewidth\": 0, \"ticks\": \"\"}}, \"type\": \"scattergeo\"}], \"scattergl\": [{\"marker\": {\"colorbar\": {\"outlinewidth\": 0, \"ticks\": \"\"}}, \"type\": \"scattergl\"}], \"scattermapbox\": [{\"marker\": {\"colorbar\": {\"outlinewidth\": 0, \"ticks\": \"\"}}, \"type\": \"scattermapbox\"}], \"scatterpolar\": [{\"marker\": {\"colorbar\": {\"outlinewidth\": 0, \"ticks\": \"\"}}, \"type\": \"scatterpolar\"}], \"scatterpolargl\": [{\"marker\": {\"colorbar\": {\"outlinewidth\": 0, \"ticks\": \"\"}}, \"type\": \"scatterpolargl\"}], \"scatterternary\": [{\"marker\": {\"colorbar\": {\"outlinewidth\": 0, \"ticks\": \"\"}}, \"type\": \"scatterternary\"}], \"surface\": [{\"colorbar\": {\"outlinewidth\": 0, \"ticks\": \"\"}, \"colorscale\": [[0.0, \"#0d0887\"], [0.1111111111111111, \"#46039f\"], [0.2222222222222222, \"#7201a8\"], [0.3333333333333333, \"#9c179e\"], [0.4444444444444444, \"#bd3786\"], [0.5555555555555556, \"#d8576b\"], [0.6666666666666666, \"#ed7953\"], [0.7777777777777778, \"#fb9f3a\"], [0.8888888888888888, \"#fdca26\"], [1.0, \"#f0f921\"]], \"type\": \"surface\"}], \"table\": [{\"cells\": {\"fill\": {\"color\": \"#EBF0F8\"}, \"line\": {\"color\": \"white\"}}, \"header\": {\"fill\": {\"color\": \"#C8D4E3\"}, \"line\": {\"color\": \"white\"}}, \"type\": \"table\"}]}, \"layout\": {\"annotationdefaults\": {\"arrowcolor\": \"#2a3f5f\", \"arrowhead\": 0, \"arrowwidth\": 1}, \"coloraxis\": {\"colorbar\": {\"outlinewidth\": 0, \"ticks\": \"\"}}, \"colorscale\": {\"diverging\": [[0, \"#8e0152\"], [0.1, \"#c51b7d\"], [0.2, \"#de77ae\"], [0.3, \"#f1b6da\"], [0.4, \"#fde0ef\"], [0.5, \"#f7f7f7\"], [0.6, \"#e6f5d0\"], [0.7, \"#b8e186\"], [0.8, \"#7fbc41\"], [0.9, \"#4d9221\"], [1, \"#276419\"]], \"sequential\": [[0.0, \"#0d0887\"], [0.1111111111111111, \"#46039f\"], [0.2222222222222222, \"#7201a8\"], [0.3333333333333333, \"#9c179e\"], [0.4444444444444444, \"#bd3786\"], [0.5555555555555556, \"#d8576b\"], [0.6666666666666666, \"#ed7953\"], [0.7777777777777778, \"#fb9f3a\"], [0.8888888888888888, \"#fdca26\"], [1.0, \"#f0f921\"]], \"sequentialminus\": [[0.0, \"#0d0887\"], [0.1111111111111111, \"#46039f\"], [0.2222222222222222, \"#7201a8\"], [0.3333333333333333, \"#9c179e\"], [0.4444444444444444, \"#bd3786\"], [0.5555555555555556, \"#d8576b\"], [0.6666666666666666, \"#ed7953\"], [0.7777777777777778, \"#fb9f3a\"], [0.8888888888888888, \"#fdca26\"], [1.0, \"#f0f921\"]]}, \"colorway\": [\"#636efa\", \"#EF553B\", \"#00cc96\", \"#ab63fa\", \"#FFA15A\", \"#19d3f3\", \"#FF6692\", \"#B6E880\", \"#FF97FF\", \"#FECB52\"], \"font\": {\"color\": \"#2a3f5f\"}, \"geo\": {\"bgcolor\": \"white\", \"lakecolor\": \"white\", \"landcolor\": \"#E5ECF6\", \"showlakes\": true, \"showland\": true, \"subunitcolor\": \"white\"}, \"hoverlabel\": {\"align\": \"left\"}, \"hovermode\": \"closest\", \"mapbox\": {\"style\": \"light\"}, \"paper_bgcolor\": \"white\", \"plot_bgcolor\": \"#E5ECF6\", \"polar\": {\"angularaxis\": {\"gridcolor\": \"white\", \"linecolor\": \"white\", \"ticks\": \"\"}, \"bgcolor\": \"#E5ECF6\", \"radialaxis\": {\"gridcolor\": \"white\", \"linecolor\": \"white\", \"ticks\": \"\"}}, \"scene\": {\"xaxis\": {\"backgroundcolor\": \"#E5ECF6\", \"gridcolor\": \"white\", \"gridwidth\": 2, \"linecolor\": \"white\", \"showbackground\": true, \"ticks\": \"\", \"zerolinecolor\": \"white\"}, \"yaxis\": {\"backgroundcolor\": \"#E5ECF6\", \"gridcolor\": \"white\", \"gridwidth\": 2, \"linecolor\": \"white\", \"showbackground\": true, \"ticks\": \"\", \"zerolinecolor\": \"white\"}, \"zaxis\": {\"backgroundcolor\": \"#E5ECF6\", \"gridcolor\": \"white\", \"gridwidth\": 2, \"linecolor\": \"white\", \"showbackground\": true, \"ticks\": \"\", \"zerolinecolor\": \"white\"}}, \"shapedefaults\": {\"line\": {\"color\": \"#2a3f5f\"}}, \"ternary\": {\"aaxis\": {\"gridcolor\": \"white\", \"linecolor\": \"white\", \"ticks\": \"\"}, \"baxis\": {\"gridcolor\": \"white\", \"linecolor\": \"white\", \"ticks\": \"\"}, \"bgcolor\": \"#E5ECF6\", \"caxis\": {\"gridcolor\": \"white\", \"linecolor\": \"white\", \"ticks\": \"\"}}, \"title\": {\"x\": 0.05}, \"xaxis\": {\"automargin\": true, \"gridcolor\": \"white\", \"linecolor\": \"white\", \"ticks\": \"\", \"title\": {\"standoff\": 15}, \"zerolinecolor\": \"white\", \"zerolinewidth\": 2}, \"yaxis\": {\"automargin\": true, \"gridcolor\": \"white\", \"linecolor\": \"white\", \"ticks\": \"\", \"title\": {\"standoff\": 15}, \"zerolinecolor\": \"white\", \"zerolinewidth\": 2}}}, \"title\": {\"text\": \"Gender wise drop-out rate among Upper Primary Category- 2012-13, 2013-14, 2014-15\"}, \"yaxis\": {\"title\": {\"text\": \"rates\"}}},\n",
              "                        {\"responsive\": true}\n",
              "                    ).then(function(){\n",
              "                            \n",
              "var gd = document.getElementById('e1573b61-bf51-49e8-a1cf-2bd27fb6ab26');\n",
              "var x = new MutationObserver(function (mutations, observer) {{\n",
              "        var display = window.getComputedStyle(gd).display;\n",
              "        if (!display || display === 'none') {{\n",
              "            console.log([gd, 'removed!']);\n",
              "            Plotly.purge(gd);\n",
              "            observer.disconnect();\n",
              "        }}\n",
              "}});\n",
              "\n",
              "// Listen for the removal of the full notebook cells\n",
              "var notebookContainer = gd.closest('#notebook-container');\n",
              "if (notebookContainer) {{\n",
              "    x.observe(notebookContainer, {childList: true});\n",
              "}}\n",
              "\n",
              "// Listen for the clearing of the current output cell\n",
              "var outputEl = gd.closest('.output');\n",
              "if (outputEl) {{\n",
              "    x.observe(outputEl, {childList: true});\n",
              "}}\n",
              "\n",
              "                        })\n",
              "                };\n",
              "                \n",
              "            </script>\n",
              "        </div>\n",
              "</body>\n",
              "</html>"
            ]
          },
          "metadata": {
            "tags": []
          }
        }
      ]
    },
    {
      "cell_type": "markdown",
      "metadata": {
        "id": "aToBLkPq76HO"
      },
      "source": [
        "Just like in primary level, The dropout rate in Mizoram was the highest in the country in 2012-13 at 19.35 for boys and 19.21 for girls, Though, it shows improvement across the years\n",
        "\n",
        "Nagaland has the highest upper primary level drop-out rate in 2013-14 at 18.08 for boys and 17.63 for girls\n",
        "\n",
        "Assam has the higgest upper primary level drop-out in 2014-15 at 10.45 for boys and 10.56 for girl\n",
        "\n",
        "The highest drop-out rate reduced through the three years"
      ]
    },
    {
      "cell_type": "code",
      "metadata": {
        "id": "vUUG93Y0UtHf",
        "outputId": "7893f304-07cf-477b-bd3c-fad102b28450",
        "colab": {
          "base_uri": "https://localhost:8080/",
          "height": 542
        }
      },
      "source": [
        "from plotly import graph_objects as go\n",
        "\n",
        "fig = go.Figure(\n",
        "    data=[\n",
        "        go.Bar(\n",
        "            name=\"Upper Primary_Boys\",\n",
        "            x=df_least5['State_UT'],\n",
        "            y=df_least5['Upper Primary_Boys'],\n",
        "            offsetgroup=0,\n",
        "        ),\n",
        "        go.Bar(\n",
        "            name=\"Upper Primary_Girls\",\n",
        "            x=df_least5['State_UT'],\n",
        "            y=df_least5['Upper Primary_Girls'],\n",
        "            offsetgroup=1,\n",
        "        ),\n",
        "\n",
        "    ],\n",
        "    layout=go.Layout(\n",
        "        title=\"Gender wise drop-out rates among Upper Primary category - 2012-13, 2013-14, 2014-15\",\n",
        "        yaxis_title=\"rates\"\n",
        "    )\n",
        ")\n",
        "\n",
        "fig.show()"
      ],
      "execution_count": 42,
      "outputs": [
        {
          "output_type": "display_data",
          "data": {
            "text/html": [
              "<html>\n",
              "<head><meta charset=\"utf-8\" /></head>\n",
              "<body>\n",
              "    <div>\n",
              "            <script src=\"https://cdnjs.cloudflare.com/ajax/libs/mathjax/2.7.5/MathJax.js?config=TeX-AMS-MML_SVG\"></script><script type=\"text/javascript\">if (window.MathJax) {MathJax.Hub.Config({SVG: {font: \"STIX-Web\"}});}</script>\n",
              "                <script type=\"text/javascript\">window.PlotlyConfig = {MathJaxConfig: 'local'};</script>\n",
              "        <script src=\"https://cdn.plot.ly/plotly-latest.min.js\"></script>    \n",
              "            <div id=\"8f9fa658-541b-4f3c-ba43-08e351c79e0f\" class=\"plotly-graph-div\" style=\"height:525px; width:100%;\"></div>\n",
              "            <script type=\"text/javascript\">\n",
              "                \n",
              "                    window.PLOTLYENV=window.PLOTLYENV || {};\n",
              "                    \n",
              "                if (document.getElementById(\"8f9fa658-541b-4f3c-ba43-08e351c79e0f\")) {\n",
              "                    Plotly.newPlot(\n",
              "                        '8f9fa658-541b-4f3c-ba43-08e351c79e0f',\n",
              "                        [{\"name\": \"Upper Primary_Boys\", \"offsetgroup\": \"0\", \"type\": \"bar\", \"x\": [\"Himachal Pradesh\", \"Himachal Pradesh\", \"Himachal Pradesh\", \"Puducherry\", \"Puducherry\", \"Puducherry\", \"Chandigarh\", \"Chandigarh\", \"Chandigarh\", \"Goa\", \"Goa\", \"Goa\", \"Kerala\", \"Kerala\", \"Kerala\"], \"y\": [0.52, 0.6, 0.5, 0.33, 0.37, 0.44, 0.0, 0.72, 0.01, 0.0, 0.0, 0.0, 0.0, 0.0, 0.0]}, {\"name\": \"Upper Primary_Girls\", \"offsetgroup\": \"1\", \"type\": \"bar\", \"x\": [\"Himachal Pradesh\", \"Himachal Pradesh\", \"Himachal Pradesh\", \"Puducherry\", \"Puducherry\", \"Puducherry\", \"Chandigarh\", \"Chandigarh\", \"Chandigarh\", \"Goa\", \"Goa\", \"Goa\", \"Kerala\", \"Kerala\", \"Kerala\"], \"y\": [0.49, 0.98, 1.27, 1.05, 0.83, 0.69, 0.88, 1.55, 0.96, 0.0, 0.0, 0.21, 0.0, 0.0, 0.0]}],\n",
              "                        {\"template\": {\"data\": {\"bar\": [{\"error_x\": {\"color\": \"#2a3f5f\"}, \"error_y\": {\"color\": \"#2a3f5f\"}, \"marker\": {\"line\": {\"color\": \"#E5ECF6\", \"width\": 0.5}}, \"type\": \"bar\"}], \"barpolar\": [{\"marker\": {\"line\": {\"color\": \"#E5ECF6\", \"width\": 0.5}}, \"type\": \"barpolar\"}], \"carpet\": [{\"aaxis\": {\"endlinecolor\": \"#2a3f5f\", \"gridcolor\": \"white\", \"linecolor\": \"white\", \"minorgridcolor\": \"white\", \"startlinecolor\": \"#2a3f5f\"}, \"baxis\": {\"endlinecolor\": \"#2a3f5f\", \"gridcolor\": \"white\", \"linecolor\": \"white\", \"minorgridcolor\": \"white\", \"startlinecolor\": \"#2a3f5f\"}, \"type\": \"carpet\"}], \"choropleth\": [{\"colorbar\": {\"outlinewidth\": 0, \"ticks\": \"\"}, \"type\": \"choropleth\"}], \"contour\": [{\"colorbar\": {\"outlinewidth\": 0, \"ticks\": \"\"}, \"colorscale\": [[0.0, \"#0d0887\"], [0.1111111111111111, \"#46039f\"], [0.2222222222222222, \"#7201a8\"], [0.3333333333333333, \"#9c179e\"], [0.4444444444444444, \"#bd3786\"], [0.5555555555555556, \"#d8576b\"], [0.6666666666666666, \"#ed7953\"], [0.7777777777777778, \"#fb9f3a\"], [0.8888888888888888, \"#fdca26\"], [1.0, \"#f0f921\"]], \"type\": \"contour\"}], \"contourcarpet\": [{\"colorbar\": {\"outlinewidth\": 0, \"ticks\": \"\"}, \"type\": \"contourcarpet\"}], \"heatmap\": [{\"colorbar\": {\"outlinewidth\": 0, \"ticks\": \"\"}, \"colorscale\": [[0.0, \"#0d0887\"], [0.1111111111111111, \"#46039f\"], [0.2222222222222222, \"#7201a8\"], [0.3333333333333333, \"#9c179e\"], [0.4444444444444444, \"#bd3786\"], [0.5555555555555556, \"#d8576b\"], [0.6666666666666666, \"#ed7953\"], [0.7777777777777778, \"#fb9f3a\"], [0.8888888888888888, \"#fdca26\"], [1.0, \"#f0f921\"]], \"type\": \"heatmap\"}], \"heatmapgl\": [{\"colorbar\": {\"outlinewidth\": 0, \"ticks\": \"\"}, \"colorscale\": [[0.0, \"#0d0887\"], [0.1111111111111111, \"#46039f\"], [0.2222222222222222, \"#7201a8\"], [0.3333333333333333, \"#9c179e\"], [0.4444444444444444, \"#bd3786\"], [0.5555555555555556, \"#d8576b\"], [0.6666666666666666, \"#ed7953\"], [0.7777777777777778, \"#fb9f3a\"], [0.8888888888888888, \"#fdca26\"], [1.0, \"#f0f921\"]], \"type\": \"heatmapgl\"}], \"histogram\": [{\"marker\": {\"colorbar\": {\"outlinewidth\": 0, \"ticks\": \"\"}}, \"type\": \"histogram\"}], \"histogram2d\": [{\"colorbar\": {\"outlinewidth\": 0, \"ticks\": \"\"}, \"colorscale\": [[0.0, \"#0d0887\"], [0.1111111111111111, \"#46039f\"], [0.2222222222222222, \"#7201a8\"], [0.3333333333333333, \"#9c179e\"], [0.4444444444444444, \"#bd3786\"], [0.5555555555555556, \"#d8576b\"], [0.6666666666666666, \"#ed7953\"], [0.7777777777777778, \"#fb9f3a\"], [0.8888888888888888, \"#fdca26\"], [1.0, \"#f0f921\"]], \"type\": \"histogram2d\"}], \"histogram2dcontour\": [{\"colorbar\": {\"outlinewidth\": 0, \"ticks\": \"\"}, \"colorscale\": [[0.0, \"#0d0887\"], [0.1111111111111111, \"#46039f\"], [0.2222222222222222, \"#7201a8\"], [0.3333333333333333, \"#9c179e\"], [0.4444444444444444, \"#bd3786\"], [0.5555555555555556, \"#d8576b\"], [0.6666666666666666, \"#ed7953\"], [0.7777777777777778, \"#fb9f3a\"], [0.8888888888888888, \"#fdca26\"], [1.0, \"#f0f921\"]], \"type\": \"histogram2dcontour\"}], \"mesh3d\": [{\"colorbar\": {\"outlinewidth\": 0, \"ticks\": \"\"}, \"type\": \"mesh3d\"}], \"parcoords\": [{\"line\": {\"colorbar\": {\"outlinewidth\": 0, \"ticks\": \"\"}}, \"type\": \"parcoords\"}], \"pie\": [{\"automargin\": true, \"type\": \"pie\"}], \"scatter\": [{\"marker\": {\"colorbar\": {\"outlinewidth\": 0, \"ticks\": \"\"}}, \"type\": \"scatter\"}], \"scatter3d\": [{\"line\": {\"colorbar\": {\"outlinewidth\": 0, \"ticks\": \"\"}}, \"marker\": {\"colorbar\": {\"outlinewidth\": 0, \"ticks\": \"\"}}, \"type\": \"scatter3d\"}], \"scattercarpet\": [{\"marker\": {\"colorbar\": {\"outlinewidth\": 0, \"ticks\": \"\"}}, \"type\": \"scattercarpet\"}], \"scattergeo\": [{\"marker\": {\"colorbar\": {\"outlinewidth\": 0, \"ticks\": \"\"}}, \"type\": \"scattergeo\"}], \"scattergl\": [{\"marker\": {\"colorbar\": {\"outlinewidth\": 0, \"ticks\": \"\"}}, \"type\": \"scattergl\"}], \"scattermapbox\": [{\"marker\": {\"colorbar\": {\"outlinewidth\": 0, \"ticks\": \"\"}}, \"type\": \"scattermapbox\"}], \"scatterpolar\": [{\"marker\": {\"colorbar\": {\"outlinewidth\": 0, \"ticks\": \"\"}}, \"type\": \"scatterpolar\"}], \"scatterpolargl\": [{\"marker\": {\"colorbar\": {\"outlinewidth\": 0, \"ticks\": \"\"}}, \"type\": \"scatterpolargl\"}], \"scatterternary\": [{\"marker\": {\"colorbar\": {\"outlinewidth\": 0, \"ticks\": \"\"}}, \"type\": \"scatterternary\"}], \"surface\": [{\"colorbar\": {\"outlinewidth\": 0, \"ticks\": \"\"}, \"colorscale\": [[0.0, \"#0d0887\"], [0.1111111111111111, \"#46039f\"], [0.2222222222222222, \"#7201a8\"], [0.3333333333333333, \"#9c179e\"], [0.4444444444444444, \"#bd3786\"], [0.5555555555555556, \"#d8576b\"], [0.6666666666666666, \"#ed7953\"], [0.7777777777777778, \"#fb9f3a\"], [0.8888888888888888, \"#fdca26\"], [1.0, \"#f0f921\"]], \"type\": \"surface\"}], \"table\": [{\"cells\": {\"fill\": {\"color\": \"#EBF0F8\"}, \"line\": {\"color\": \"white\"}}, \"header\": {\"fill\": {\"color\": \"#C8D4E3\"}, \"line\": {\"color\": \"white\"}}, \"type\": \"table\"}]}, \"layout\": {\"annotationdefaults\": {\"arrowcolor\": \"#2a3f5f\", \"arrowhead\": 0, \"arrowwidth\": 1}, \"coloraxis\": {\"colorbar\": {\"outlinewidth\": 0, \"ticks\": \"\"}}, \"colorscale\": {\"diverging\": [[0, \"#8e0152\"], [0.1, \"#c51b7d\"], [0.2, \"#de77ae\"], [0.3, \"#f1b6da\"], [0.4, \"#fde0ef\"], [0.5, \"#f7f7f7\"], [0.6, \"#e6f5d0\"], [0.7, \"#b8e186\"], [0.8, \"#7fbc41\"], [0.9, \"#4d9221\"], [1, \"#276419\"]], \"sequential\": [[0.0, \"#0d0887\"], [0.1111111111111111, \"#46039f\"], [0.2222222222222222, \"#7201a8\"], [0.3333333333333333, \"#9c179e\"], [0.4444444444444444, \"#bd3786\"], [0.5555555555555556, \"#d8576b\"], [0.6666666666666666, \"#ed7953\"], [0.7777777777777778, \"#fb9f3a\"], [0.8888888888888888, \"#fdca26\"], [1.0, \"#f0f921\"]], \"sequentialminus\": [[0.0, \"#0d0887\"], [0.1111111111111111, \"#46039f\"], [0.2222222222222222, \"#7201a8\"], [0.3333333333333333, \"#9c179e\"], [0.4444444444444444, \"#bd3786\"], [0.5555555555555556, \"#d8576b\"], [0.6666666666666666, \"#ed7953\"], [0.7777777777777778, \"#fb9f3a\"], [0.8888888888888888, \"#fdca26\"], [1.0, \"#f0f921\"]]}, \"colorway\": [\"#636efa\", \"#EF553B\", \"#00cc96\", \"#ab63fa\", \"#FFA15A\", \"#19d3f3\", \"#FF6692\", \"#B6E880\", \"#FF97FF\", \"#FECB52\"], \"font\": {\"color\": \"#2a3f5f\"}, \"geo\": {\"bgcolor\": \"white\", \"lakecolor\": \"white\", \"landcolor\": \"#E5ECF6\", \"showlakes\": true, \"showland\": true, \"subunitcolor\": \"white\"}, \"hoverlabel\": {\"align\": \"left\"}, \"hovermode\": \"closest\", \"mapbox\": {\"style\": \"light\"}, \"paper_bgcolor\": \"white\", \"plot_bgcolor\": \"#E5ECF6\", \"polar\": {\"angularaxis\": {\"gridcolor\": \"white\", \"linecolor\": \"white\", \"ticks\": \"\"}, \"bgcolor\": \"#E5ECF6\", \"radialaxis\": {\"gridcolor\": \"white\", \"linecolor\": \"white\", \"ticks\": \"\"}}, \"scene\": {\"xaxis\": {\"backgroundcolor\": \"#E5ECF6\", \"gridcolor\": \"white\", \"gridwidth\": 2, \"linecolor\": \"white\", \"showbackground\": true, \"ticks\": \"\", \"zerolinecolor\": \"white\"}, \"yaxis\": {\"backgroundcolor\": \"#E5ECF6\", \"gridcolor\": \"white\", \"gridwidth\": 2, \"linecolor\": \"white\", \"showbackground\": true, \"ticks\": \"\", \"zerolinecolor\": \"white\"}, \"zaxis\": {\"backgroundcolor\": \"#E5ECF6\", \"gridcolor\": \"white\", \"gridwidth\": 2, \"linecolor\": \"white\", \"showbackground\": true, \"ticks\": \"\", \"zerolinecolor\": \"white\"}}, \"shapedefaults\": {\"line\": {\"color\": \"#2a3f5f\"}}, \"ternary\": {\"aaxis\": {\"gridcolor\": \"white\", \"linecolor\": \"white\", \"ticks\": \"\"}, \"baxis\": {\"gridcolor\": \"white\", \"linecolor\": \"white\", \"ticks\": \"\"}, \"bgcolor\": \"#E5ECF6\", \"caxis\": {\"gridcolor\": \"white\", \"linecolor\": \"white\", \"ticks\": \"\"}}, \"title\": {\"x\": 0.05}, \"xaxis\": {\"automargin\": true, \"gridcolor\": \"white\", \"linecolor\": \"white\", \"ticks\": \"\", \"title\": {\"standoff\": 15}, \"zerolinecolor\": \"white\", \"zerolinewidth\": 2}, \"yaxis\": {\"automargin\": true, \"gridcolor\": \"white\", \"linecolor\": \"white\", \"ticks\": \"\", \"title\": {\"standoff\": 15}, \"zerolinecolor\": \"white\", \"zerolinewidth\": 2}}}, \"title\": {\"text\": \"Gender wise drop-out rates among Upper Primary category - 2012-13, 2013-14, 2014-15\"}, \"yaxis\": {\"title\": {\"text\": \"rates\"}}},\n",
              "                        {\"responsive\": true}\n",
              "                    ).then(function(){\n",
              "                            \n",
              "var gd = document.getElementById('8f9fa658-541b-4f3c-ba43-08e351c79e0f');\n",
              "var x = new MutationObserver(function (mutations, observer) {{\n",
              "        var display = window.getComputedStyle(gd).display;\n",
              "        if (!display || display === 'none') {{\n",
              "            console.log([gd, 'removed!']);\n",
              "            Plotly.purge(gd);\n",
              "            observer.disconnect();\n",
              "        }}\n",
              "}});\n",
              "\n",
              "// Listen for the removal of the full notebook cells\n",
              "var notebookContainer = gd.closest('#notebook-container');\n",
              "if (notebookContainer) {{\n",
              "    x.observe(notebookContainer, {childList: true});\n",
              "}}\n",
              "\n",
              "// Listen for the clearing of the current output cell\n",
              "var outputEl = gd.closest('.output');\n",
              "if (outputEl) {{\n",
              "    x.observe(outputEl, {childList: true});\n",
              "}}\n",
              "\n",
              "                        })\n",
              "                };\n",
              "                \n",
              "            </script>\n",
              "        </div>\n",
              "</body>\n",
              "</html>"
            ]
          },
          "metadata": {
            "tags": []
          }
        }
      ]
    },
    {
      "cell_type": "markdown",
      "metadata": {
        "id": "VuN60YbLciWk"
      },
      "source": [
        "While there isn’t a huge gap in the percentages of boys and girls dropping out, in some states like Madhya Pradesh, Chandigarh, It shows that at upper primary level girls drop out rate is more than the boys\n",
        "\n",
        "\n"
      ]
    },
    {
      "cell_type": "code",
      "metadata": {
        "id": "6NOimO7JepFP",
        "outputId": "99153883-077d-471a-9a98-89f06ea4626b",
        "colab": {
          "base_uri": "https://localhost:8080/",
          "height": 235
        }
      },
      "source": [
        "secondary_drop_out.head()"
      ],
      "execution_count": 43,
      "outputs": [
        {
          "output_type": "execute_result",
          "data": {
            "text/html": [
              "<div>\n",
              "<style scoped>\n",
              "    .dataframe tbody tr th:only-of-type {\n",
              "        vertical-align: middle;\n",
              "    }\n",
              "\n",
              "    .dataframe tbody tr th {\n",
              "        vertical-align: top;\n",
              "    }\n",
              "\n",
              "    .dataframe thead th {\n",
              "        text-align: right;\n",
              "    }\n",
              "</style>\n",
              "<table border=\"1\" class=\"dataframe\">\n",
              "  <thead>\n",
              "    <tr style=\"text-align: right;\">\n",
              "      <th></th>\n",
              "      <th>year</th>\n",
              "      <th>Secondary _Boys</th>\n",
              "      <th>Secondary _Girls</th>\n",
              "    </tr>\n",
              "    <tr>\n",
              "      <th>State_UT</th>\n",
              "      <th></th>\n",
              "      <th></th>\n",
              "      <th></th>\n",
              "    </tr>\n",
              "  </thead>\n",
              "  <tbody>\n",
              "    <tr>\n",
              "      <th>A &amp; N Islands</th>\n",
              "      <td>2012-13</td>\n",
              "      <td>5.57</td>\n",
              "      <td>5.55</td>\n",
              "    </tr>\n",
              "    <tr>\n",
              "      <th>A &amp; N Islands</th>\n",
              "      <td>2013-14</td>\n",
              "      <td>8.36</td>\n",
              "      <td>5.98</td>\n",
              "    </tr>\n",
              "    <tr>\n",
              "      <th>A &amp; N Islands</th>\n",
              "      <td>2014-15</td>\n",
              "      <td>11.47</td>\n",
              "      <td>8.16</td>\n",
              "    </tr>\n",
              "    <tr>\n",
              "      <th>Andhra Pradesh</th>\n",
              "      <td>2012-13</td>\n",
              "      <td>12.21</td>\n",
              "      <td>13.25</td>\n",
              "    </tr>\n",
              "    <tr>\n",
              "      <th>Andhra Pradesh</th>\n",
              "      <td>2013-14</td>\n",
              "      <td>11.95</td>\n",
              "      <td>13.37</td>\n",
              "    </tr>\n",
              "  </tbody>\n",
              "</table>\n",
              "</div>"
            ],
            "text/plain": [
              "                   year  Secondary _Boys  Secondary _Girls\n",
              "State_UT                                                  \n",
              "A & N Islands   2012-13             5.57              5.55\n",
              "A & N Islands   2013-14             8.36              5.98\n",
              "A & N Islands   2014-15            11.47              8.16\n",
              "Andhra Pradesh  2012-13            12.21             13.25\n",
              "Andhra Pradesh  2013-14            11.95             13.37"
            ]
          },
          "metadata": {
            "tags": []
          },
          "execution_count": 43
        }
      ]
    },
    {
      "cell_type": "code",
      "metadata": {
        "id": "H8EPC2Tbjngf",
        "outputId": "771e2042-f1fb-429c-bc17-396089fbd0b1",
        "colab": {
          "base_uri": "https://localhost:8080/",
          "height": 266
        }
      },
      "source": [
        "secondary_drop_out_total = drop_out[['year','Secondary _Total']]\n",
        "secondary_drop_out_total.head(6)"
      ],
      "execution_count": 44,
      "outputs": [
        {
          "output_type": "execute_result",
          "data": {
            "text/html": [
              "<div>\n",
              "<style scoped>\n",
              "    .dataframe tbody tr th:only-of-type {\n",
              "        vertical-align: middle;\n",
              "    }\n",
              "\n",
              "    .dataframe tbody tr th {\n",
              "        vertical-align: top;\n",
              "    }\n",
              "\n",
              "    .dataframe thead th {\n",
              "        text-align: right;\n",
              "    }\n",
              "</style>\n",
              "<table border=\"1\" class=\"dataframe\">\n",
              "  <thead>\n",
              "    <tr style=\"text-align: right;\">\n",
              "      <th></th>\n",
              "      <th>year</th>\n",
              "      <th>Secondary _Total</th>\n",
              "    </tr>\n",
              "    <tr>\n",
              "      <th>State_UT</th>\n",
              "      <th></th>\n",
              "      <th></th>\n",
              "    </tr>\n",
              "  </thead>\n",
              "  <tbody>\n",
              "    <tr>\n",
              "      <th>A &amp; N Islands</th>\n",
              "      <td>2012-13</td>\n",
              "      <td>5.56</td>\n",
              "    </tr>\n",
              "    <tr>\n",
              "      <th>A &amp; N Islands</th>\n",
              "      <td>2013-14</td>\n",
              "      <td>7.20</td>\n",
              "    </tr>\n",
              "    <tr>\n",
              "      <th>A &amp; N Islands</th>\n",
              "      <td>2014-15</td>\n",
              "      <td>9.87</td>\n",
              "    </tr>\n",
              "    <tr>\n",
              "      <th>Andhra Pradesh</th>\n",
              "      <td>2012-13</td>\n",
              "      <td>12.72</td>\n",
              "    </tr>\n",
              "    <tr>\n",
              "      <th>Andhra Pradesh</th>\n",
              "      <td>2013-14</td>\n",
              "      <td>12.65</td>\n",
              "    </tr>\n",
              "    <tr>\n",
              "      <th>Andhra Pradesh</th>\n",
              "      <td>2014-15</td>\n",
              "      <td>15.71</td>\n",
              "    </tr>\n",
              "  </tbody>\n",
              "</table>\n",
              "</div>"
            ],
            "text/plain": [
              "                   year  Secondary _Total\n",
              "State_UT                                 \n",
              "A & N Islands   2012-13              5.56\n",
              "A & N Islands   2013-14              7.20\n",
              "A & N Islands   2014-15              9.87\n",
              "Andhra Pradesh  2012-13             12.72\n",
              "Andhra Pradesh  2013-14             12.65\n",
              "Andhra Pradesh  2014-15             15.71"
            ]
          },
          "metadata": {
            "tags": []
          },
          "execution_count": 44
        }
      ]
    },
    {
      "cell_type": "code",
      "metadata": {
        "id": "6GrAhED4j8jw"
      },
      "source": [
        "tmp = []\n",
        "secondary_drop_out_total['Secondary _Total'] = secondary_drop_out_total['Secondary _Total'].astype(float)                # The datatype of our numerical features is object so we need to change to float.\n",
        "tmp.append(pd.DataFrame({'mean_' + 'Secondary _Total' : drop_out.groupby(['State_UT'])['Secondary _Total'].mean()}))     # Calculate the mean of drop_out ratio for the 37 states in all 12 student category types."
      ],
      "execution_count": 45,
      "outputs": []
    },
    {
      "cell_type": "code",
      "metadata": {
        "id": "bsxwccjmkJhk"
      },
      "source": [
        "mean_drop_out_per_state = pd.DataFrame(tmp[0])     # Initially add the first Student Category type in the DataFrame so it's easy to use pd.merge()\n",
        "for Stu_type in range(1, len(tmp)):           # Starting at an Index of 1 since since I already initialized our dataframe with the first Student type \n",
        "    tmp[Stu_type].reset_index(inplace = True)\n",
        "    mean_drop_out_per_state = pd.merge(mean_drop_out_per_state, tmp[Stu_type], on = 'State_UT')"
      ],
      "execution_count": 46,
      "outputs": []
    },
    {
      "cell_type": "code",
      "metadata": {
        "id": "Vc8UqTYtkh_u",
        "outputId": "2a50aec3-dca4-4b8c-a14d-3ecf36ffcd41",
        "colab": {
          "base_uri": "https://localhost:8080/",
          "height": 235
        }
      },
      "source": [
        "mean_drop_out_per_state.head()"
      ],
      "execution_count": 47,
      "outputs": [
        {
          "output_type": "execute_result",
          "data": {
            "text/html": [
              "<div>\n",
              "<style scoped>\n",
              "    .dataframe tbody tr th:only-of-type {\n",
              "        vertical-align: middle;\n",
              "    }\n",
              "\n",
              "    .dataframe tbody tr th {\n",
              "        vertical-align: top;\n",
              "    }\n",
              "\n",
              "    .dataframe thead th {\n",
              "        text-align: right;\n",
              "    }\n",
              "</style>\n",
              "<table border=\"1\" class=\"dataframe\">\n",
              "  <thead>\n",
              "    <tr style=\"text-align: right;\">\n",
              "      <th></th>\n",
              "      <th>mean_Secondary _Total</th>\n",
              "    </tr>\n",
              "    <tr>\n",
              "      <th>State_UT</th>\n",
              "      <th></th>\n",
              "    </tr>\n",
              "  </thead>\n",
              "  <tbody>\n",
              "    <tr>\n",
              "      <th>A &amp; N Islands</th>\n",
              "      <td>7.543333</td>\n",
              "    </tr>\n",
              "    <tr>\n",
              "      <th>All India</th>\n",
              "      <td>16.486667</td>\n",
              "    </tr>\n",
              "    <tr>\n",
              "      <th>Andhra Pradesh</th>\n",
              "      <td>13.693333</td>\n",
              "    </tr>\n",
              "    <tr>\n",
              "      <th>Arunachal Pradesh</th>\n",
              "      <td>14.843333</td>\n",
              "    </tr>\n",
              "    <tr>\n",
              "      <th>Assam</th>\n",
              "      <td>28.086667</td>\n",
              "    </tr>\n",
              "  </tbody>\n",
              "</table>\n",
              "</div>"
            ],
            "text/plain": [
              "                   mean_Secondary _Total\n",
              "State_UT                                \n",
              "A & N Islands                   7.543333\n",
              "All India                      16.486667\n",
              "Andhra Pradesh                 13.693333\n",
              "Arunachal Pradesh              14.843333\n",
              "Assam                          28.086667"
            ]
          },
          "metadata": {
            "tags": []
          },
          "execution_count": 47
        }
      ]
    },
    {
      "cell_type": "code",
      "metadata": {
        "id": "b9DWAPStkoKo",
        "outputId": "640e5095-5b7c-458f-d636-4180b127350e",
        "colab": {
          "base_uri": "https://localhost:8080/",
          "height": 235
        }
      },
      "source": [
        "mean_drop_out_per_state.sort_values(['mean_Secondary _Total'], ascending=False, axis=0, inplace=True)\n",
        "\n",
        "# get the top 5 entries\n",
        "df_top5 = mean_drop_out_per_state.head()\n",
        "\n",
        "\n",
        "df_top5.head()"
      ],
      "execution_count": 48,
      "outputs": [
        {
          "output_type": "execute_result",
          "data": {
            "text/html": [
              "<div>\n",
              "<style scoped>\n",
              "    .dataframe tbody tr th:only-of-type {\n",
              "        vertical-align: middle;\n",
              "    }\n",
              "\n",
              "    .dataframe tbody tr th {\n",
              "        vertical-align: top;\n",
              "    }\n",
              "\n",
              "    .dataframe thead th {\n",
              "        text-align: right;\n",
              "    }\n",
              "</style>\n",
              "<table border=\"1\" class=\"dataframe\">\n",
              "  <thead>\n",
              "    <tr style=\"text-align: right;\">\n",
              "      <th></th>\n",
              "      <th>mean_Secondary _Total</th>\n",
              "    </tr>\n",
              "    <tr>\n",
              "      <th>State_UT</th>\n",
              "      <th></th>\n",
              "    </tr>\n",
              "  </thead>\n",
              "  <tbody>\n",
              "    <tr>\n",
              "      <th>Odisha</th>\n",
              "      <td>42.966667</td>\n",
              "    </tr>\n",
              "    <tr>\n",
              "      <th>Karnataka</th>\n",
              "      <td>31.223333</td>\n",
              "    </tr>\n",
              "    <tr>\n",
              "      <th>Assam</th>\n",
              "      <td>28.086667</td>\n",
              "    </tr>\n",
              "    <tr>\n",
              "      <th>Bihar</th>\n",
              "      <td>27.123333</td>\n",
              "    </tr>\n",
              "    <tr>\n",
              "      <th>Nagaland</th>\n",
              "      <td>26.616667</td>\n",
              "    </tr>\n",
              "  </tbody>\n",
              "</table>\n",
              "</div>"
            ],
            "text/plain": [
              "           mean_Secondary _Total\n",
              "State_UT                        \n",
              "Odisha                 42.966667\n",
              "Karnataka              31.223333\n",
              "Assam                  28.086667\n",
              "Bihar                  27.123333\n",
              "Nagaland               26.616667"
            ]
          },
          "metadata": {
            "tags": []
          },
          "execution_count": 48
        }
      ]
    },
    {
      "cell_type": "markdown",
      "metadata": {
        "id": "hha6637Wlph1"
      },
      "source": [
        "The scenario in the northeast is comparatively better in the secondary level. None of the states from the region earned the dubious distinction of being at the top of the chart , however Assam and Nagaland are still included in the top 5 highest drop-out rates\n",
        "\n",
        "The dropout rate in the secondary education stream in Odisha is almost 50 per cent."
      ]
    },
    {
      "cell_type": "code",
      "metadata": {
        "id": "5MdTcI04ouQ8",
        "outputId": "ed613361-5b5a-49ab-c5df-fe956b4d3018",
        "colab": {
          "base_uri": "https://localhost:8080/",
          "height": 235
        }
      },
      "source": [
        "mean_drop_out_per_state.sort_values(['mean_Secondary _Total'], ascending=False, axis=0, inplace=True)\n",
        "\n",
        "# get the least 5 entries\n",
        "df_least5 = mean_drop_out_per_state.tail()\n",
        "\n",
        "\n",
        "df_least5.head()"
      ],
      "execution_count": 49,
      "outputs": [
        {
          "output_type": "execute_result",
          "data": {
            "text/html": [
              "<div>\n",
              "<style scoped>\n",
              "    .dataframe tbody tr th:only-of-type {\n",
              "        vertical-align: middle;\n",
              "    }\n",
              "\n",
              "    .dataframe tbody tr th {\n",
              "        vertical-align: top;\n",
              "    }\n",
              "\n",
              "    .dataframe thead th {\n",
              "        text-align: right;\n",
              "    }\n",
              "</style>\n",
              "<table border=\"1\" class=\"dataframe\">\n",
              "  <thead>\n",
              "    <tr style=\"text-align: right;\">\n",
              "      <th></th>\n",
              "      <th>mean_Secondary _Total</th>\n",
              "    </tr>\n",
              "    <tr>\n",
              "      <th>State_UT</th>\n",
              "      <th></th>\n",
              "    </tr>\n",
              "  </thead>\n",
              "  <tbody>\n",
              "    <tr>\n",
              "      <th>Himachal Pradesh</th>\n",
              "      <td>7.843333</td>\n",
              "    </tr>\n",
              "    <tr>\n",
              "      <th>A &amp; N Islands</th>\n",
              "      <td>7.543333</td>\n",
              "    </tr>\n",
              "    <tr>\n",
              "      <th>Lakshadweep</th>\n",
              "      <td>7.490000</td>\n",
              "    </tr>\n",
              "    <tr>\n",
              "      <th>Uttar Pradesh</th>\n",
              "      <td>5.840000</td>\n",
              "    </tr>\n",
              "    <tr>\n",
              "      <th>Chandigarh</th>\n",
              "      <td>0.000000</td>\n",
              "    </tr>\n",
              "  </tbody>\n",
              "</table>\n",
              "</div>"
            ],
            "text/plain": [
              "                  mean_Secondary _Total\n",
              "State_UT                               \n",
              "Himachal Pradesh               7.843333\n",
              "A & N Islands                  7.543333\n",
              "Lakshadweep                    7.490000\n",
              "Uttar Pradesh                  5.840000\n",
              "Chandigarh                     0.000000"
            ]
          },
          "metadata": {
            "tags": []
          },
          "execution_count": 49
        }
      ]
    },
    {
      "cell_type": "code",
      "metadata": {
        "id": "4-i1hSi2lcIB"
      },
      "source": [
        "# I will select the top 5 states with the highest drop out for visualizations \n",
        "df_top5 = secondary_drop_out.loc[['Odisha','Karnataka','Assam','Bihar','Nagaland'],:]\n",
        "df_top5.reset_index(inplace = True)"
      ],
      "execution_count": 50,
      "outputs": []
    },
    {
      "cell_type": "code",
      "metadata": {
        "id": "oeFRxLPFokk3"
      },
      "source": [
        "df_least5 = secondary_drop_out.loc[['Himachal Pradesh','A & N Islands','Lakshadweep','Uttar Pradesh','Chandigarh'],:]\n",
        "df_least5.reset_index(inplace = True)"
      ],
      "execution_count": 51,
      "outputs": []
    },
    {
      "cell_type": "code",
      "metadata": {
        "id": "v1mQa8BypPfY",
        "outputId": "be10b697-4039-4fbd-da33-b5d3d6adaa49",
        "colab": {
          "base_uri": "https://localhost:8080/",
          "height": 542
        }
      },
      "source": [
        "from plotly import graph_objects as go\n",
        "\n",
        "fig = go.Figure(\n",
        "    data=[\n",
        "        go.Bar(\n",
        "            name=\"Secondary _Boys\",\n",
        "            x=df_top5['State_UT'],\n",
        "            y=df_top5['Secondary _Boys'],\n",
        "            offsetgroup=0,\n",
        "        ),\n",
        "        go.Bar(\n",
        "            name=\"Secondary _Girls\",\n",
        "            x=df_top5['State_UT'],\n",
        "            y=df_top5['Secondary _Girls'],\n",
        "            offsetgroup=1,\n",
        "        ),\n",
        "\n",
        "    ],\n",
        "    layout=go.Layout(\n",
        "        title=\"Gender wise drop-out rates among Secondary category - 2012-13, 2013-14, 2014-15\",\n",
        "        yaxis_title=\"rates\"\n",
        "    )\n",
        ")\n",
        "\n",
        "fig.show()"
      ],
      "execution_count": 52,
      "outputs": [
        {
          "output_type": "display_data",
          "data": {
            "text/html": [
              "<html>\n",
              "<head><meta charset=\"utf-8\" /></head>\n",
              "<body>\n",
              "    <div>\n",
              "            <script src=\"https://cdnjs.cloudflare.com/ajax/libs/mathjax/2.7.5/MathJax.js?config=TeX-AMS-MML_SVG\"></script><script type=\"text/javascript\">if (window.MathJax) {MathJax.Hub.Config({SVG: {font: \"STIX-Web\"}});}</script>\n",
              "                <script type=\"text/javascript\">window.PlotlyConfig = {MathJaxConfig: 'local'};</script>\n",
              "        <script src=\"https://cdn.plot.ly/plotly-latest.min.js\"></script>    \n",
              "            <div id=\"b7e49da5-88b0-4428-87d4-feac223d946c\" class=\"plotly-graph-div\" style=\"height:525px; width:100%;\"></div>\n",
              "            <script type=\"text/javascript\">\n",
              "                \n",
              "                    window.PLOTLYENV=window.PLOTLYENV || {};\n",
              "                    \n",
              "                if (document.getElementById(\"b7e49da5-88b0-4428-87d4-feac223d946c\")) {\n",
              "                    Plotly.newPlot(\n",
              "                        'b7e49da5-88b0-4428-87d4-feac223d946c',\n",
              "                        [{\"name\": \"Secondary _Boys\", \"offsetgroup\": \"0\", \"type\": \"bar\", \"x\": [\"Odisha\", \"Odisha\", \"Odisha\", \"Karnataka\", \"Karnataka\", \"Karnataka\", \"Assam\", \"Assam\", \"Assam\", \"Bihar\", \"Bihar\", \"Bihar\", \"Nagaland\", \"Nagaland\", \"Nagaland\"], \"y\": [50.09, 49.39, 29.74, 40.7, 28.49, 27.71, 25.65, 28.59, 24.64, 29.11, 24.67, 25.21, 26.7, 34.14, 17.98]}, {\"name\": \"Secondary _Girls\", \"offsetgroup\": \"1\", \"type\": \"bar\", \"x\": [\"Odisha\", \"Odisha\", \"Odisha\", \"Karnataka\", \"Karnataka\", \"Karnataka\", \"Assam\", \"Assam\", \"Assam\", \"Bihar\", \"Bihar\", \"Bihar\", \"Nagaland\", \"Nagaland\", \"Nagaland\"], \"y\": [49.62, 49.57, 29.37, 39.07, 26.57, 24.52, 27.79, 32.1, 29.28, 31.28, 26.05, 26.62, 26.33, 36.08, 18.47]}],\n",
              "                        {\"template\": {\"data\": {\"bar\": [{\"error_x\": {\"color\": \"#2a3f5f\"}, \"error_y\": {\"color\": \"#2a3f5f\"}, \"marker\": {\"line\": {\"color\": \"#E5ECF6\", \"width\": 0.5}}, \"type\": \"bar\"}], \"barpolar\": [{\"marker\": {\"line\": {\"color\": \"#E5ECF6\", \"width\": 0.5}}, \"type\": \"barpolar\"}], \"carpet\": [{\"aaxis\": {\"endlinecolor\": \"#2a3f5f\", \"gridcolor\": \"white\", \"linecolor\": \"white\", \"minorgridcolor\": \"white\", \"startlinecolor\": \"#2a3f5f\"}, \"baxis\": {\"endlinecolor\": \"#2a3f5f\", \"gridcolor\": \"white\", \"linecolor\": \"white\", \"minorgridcolor\": \"white\", \"startlinecolor\": \"#2a3f5f\"}, \"type\": \"carpet\"}], \"choropleth\": [{\"colorbar\": {\"outlinewidth\": 0, \"ticks\": \"\"}, \"type\": \"choropleth\"}], \"contour\": [{\"colorbar\": {\"outlinewidth\": 0, \"ticks\": \"\"}, \"colorscale\": [[0.0, \"#0d0887\"], [0.1111111111111111, \"#46039f\"], [0.2222222222222222, \"#7201a8\"], [0.3333333333333333, \"#9c179e\"], [0.4444444444444444, \"#bd3786\"], [0.5555555555555556, \"#d8576b\"], [0.6666666666666666, \"#ed7953\"], [0.7777777777777778, \"#fb9f3a\"], [0.8888888888888888, \"#fdca26\"], [1.0, \"#f0f921\"]], \"type\": \"contour\"}], \"contourcarpet\": [{\"colorbar\": {\"outlinewidth\": 0, \"ticks\": \"\"}, \"type\": \"contourcarpet\"}], \"heatmap\": [{\"colorbar\": {\"outlinewidth\": 0, \"ticks\": \"\"}, \"colorscale\": [[0.0, \"#0d0887\"], [0.1111111111111111, \"#46039f\"], [0.2222222222222222, \"#7201a8\"], [0.3333333333333333, \"#9c179e\"], [0.4444444444444444, \"#bd3786\"], [0.5555555555555556, \"#d8576b\"], [0.6666666666666666, \"#ed7953\"], [0.7777777777777778, \"#fb9f3a\"], [0.8888888888888888, \"#fdca26\"], [1.0, \"#f0f921\"]], \"type\": \"heatmap\"}], \"heatmapgl\": [{\"colorbar\": {\"outlinewidth\": 0, \"ticks\": \"\"}, \"colorscale\": [[0.0, \"#0d0887\"], [0.1111111111111111, \"#46039f\"], [0.2222222222222222, \"#7201a8\"], [0.3333333333333333, \"#9c179e\"], [0.4444444444444444, \"#bd3786\"], [0.5555555555555556, \"#d8576b\"], [0.6666666666666666, \"#ed7953\"], [0.7777777777777778, \"#fb9f3a\"], [0.8888888888888888, \"#fdca26\"], [1.0, \"#f0f921\"]], \"type\": \"heatmapgl\"}], \"histogram\": [{\"marker\": {\"colorbar\": {\"outlinewidth\": 0, \"ticks\": \"\"}}, \"type\": \"histogram\"}], \"histogram2d\": [{\"colorbar\": {\"outlinewidth\": 0, \"ticks\": \"\"}, \"colorscale\": [[0.0, \"#0d0887\"], [0.1111111111111111, \"#46039f\"], [0.2222222222222222, \"#7201a8\"], [0.3333333333333333, \"#9c179e\"], [0.4444444444444444, \"#bd3786\"], [0.5555555555555556, \"#d8576b\"], [0.6666666666666666, \"#ed7953\"], [0.7777777777777778, \"#fb9f3a\"], [0.8888888888888888, \"#fdca26\"], [1.0, \"#f0f921\"]], \"type\": \"histogram2d\"}], \"histogram2dcontour\": [{\"colorbar\": {\"outlinewidth\": 0, \"ticks\": \"\"}, \"colorscale\": [[0.0, \"#0d0887\"], [0.1111111111111111, \"#46039f\"], [0.2222222222222222, \"#7201a8\"], [0.3333333333333333, \"#9c179e\"], [0.4444444444444444, \"#bd3786\"], [0.5555555555555556, \"#d8576b\"], [0.6666666666666666, \"#ed7953\"], [0.7777777777777778, \"#fb9f3a\"], [0.8888888888888888, \"#fdca26\"], [1.0, \"#f0f921\"]], \"type\": \"histogram2dcontour\"}], \"mesh3d\": [{\"colorbar\": {\"outlinewidth\": 0, \"ticks\": \"\"}, \"type\": \"mesh3d\"}], \"parcoords\": [{\"line\": {\"colorbar\": {\"outlinewidth\": 0, \"ticks\": \"\"}}, \"type\": \"parcoords\"}], \"pie\": [{\"automargin\": true, \"type\": \"pie\"}], \"scatter\": [{\"marker\": {\"colorbar\": {\"outlinewidth\": 0, \"ticks\": \"\"}}, \"type\": \"scatter\"}], \"scatter3d\": [{\"line\": {\"colorbar\": {\"outlinewidth\": 0, \"ticks\": \"\"}}, \"marker\": {\"colorbar\": {\"outlinewidth\": 0, \"ticks\": \"\"}}, \"type\": \"scatter3d\"}], \"scattercarpet\": [{\"marker\": {\"colorbar\": {\"outlinewidth\": 0, \"ticks\": \"\"}}, \"type\": \"scattercarpet\"}], \"scattergeo\": [{\"marker\": {\"colorbar\": {\"outlinewidth\": 0, \"ticks\": \"\"}}, \"type\": \"scattergeo\"}], \"scattergl\": [{\"marker\": {\"colorbar\": {\"outlinewidth\": 0, \"ticks\": \"\"}}, \"type\": \"scattergl\"}], \"scattermapbox\": [{\"marker\": {\"colorbar\": {\"outlinewidth\": 0, \"ticks\": \"\"}}, \"type\": \"scattermapbox\"}], \"scatterpolar\": [{\"marker\": {\"colorbar\": {\"outlinewidth\": 0, \"ticks\": \"\"}}, \"type\": \"scatterpolar\"}], \"scatterpolargl\": [{\"marker\": {\"colorbar\": {\"outlinewidth\": 0, \"ticks\": \"\"}}, \"type\": \"scatterpolargl\"}], \"scatterternary\": [{\"marker\": {\"colorbar\": {\"outlinewidth\": 0, \"ticks\": \"\"}}, \"type\": \"scatterternary\"}], \"surface\": [{\"colorbar\": {\"outlinewidth\": 0, \"ticks\": \"\"}, \"colorscale\": [[0.0, \"#0d0887\"], [0.1111111111111111, \"#46039f\"], [0.2222222222222222, \"#7201a8\"], [0.3333333333333333, \"#9c179e\"], [0.4444444444444444, \"#bd3786\"], [0.5555555555555556, \"#d8576b\"], [0.6666666666666666, \"#ed7953\"], [0.7777777777777778, \"#fb9f3a\"], [0.8888888888888888, \"#fdca26\"], [1.0, \"#f0f921\"]], \"type\": \"surface\"}], \"table\": [{\"cells\": {\"fill\": {\"color\": \"#EBF0F8\"}, \"line\": {\"color\": \"white\"}}, \"header\": {\"fill\": {\"color\": \"#C8D4E3\"}, \"line\": {\"color\": \"white\"}}, \"type\": \"table\"}]}, \"layout\": {\"annotationdefaults\": {\"arrowcolor\": \"#2a3f5f\", \"arrowhead\": 0, \"arrowwidth\": 1}, \"coloraxis\": {\"colorbar\": {\"outlinewidth\": 0, \"ticks\": \"\"}}, \"colorscale\": {\"diverging\": [[0, \"#8e0152\"], [0.1, \"#c51b7d\"], [0.2, \"#de77ae\"], [0.3, \"#f1b6da\"], [0.4, \"#fde0ef\"], [0.5, \"#f7f7f7\"], [0.6, \"#e6f5d0\"], [0.7, \"#b8e186\"], [0.8, \"#7fbc41\"], [0.9, \"#4d9221\"], [1, \"#276419\"]], \"sequential\": [[0.0, \"#0d0887\"], [0.1111111111111111, \"#46039f\"], [0.2222222222222222, \"#7201a8\"], [0.3333333333333333, \"#9c179e\"], [0.4444444444444444, \"#bd3786\"], [0.5555555555555556, \"#d8576b\"], [0.6666666666666666, \"#ed7953\"], [0.7777777777777778, \"#fb9f3a\"], [0.8888888888888888, \"#fdca26\"], [1.0, \"#f0f921\"]], \"sequentialminus\": [[0.0, \"#0d0887\"], [0.1111111111111111, \"#46039f\"], [0.2222222222222222, \"#7201a8\"], [0.3333333333333333, \"#9c179e\"], [0.4444444444444444, \"#bd3786\"], [0.5555555555555556, \"#d8576b\"], [0.6666666666666666, \"#ed7953\"], [0.7777777777777778, \"#fb9f3a\"], [0.8888888888888888, \"#fdca26\"], [1.0, \"#f0f921\"]]}, \"colorway\": [\"#636efa\", \"#EF553B\", \"#00cc96\", \"#ab63fa\", \"#FFA15A\", \"#19d3f3\", \"#FF6692\", \"#B6E880\", \"#FF97FF\", \"#FECB52\"], \"font\": {\"color\": \"#2a3f5f\"}, \"geo\": {\"bgcolor\": \"white\", \"lakecolor\": \"white\", \"landcolor\": \"#E5ECF6\", \"showlakes\": true, \"showland\": true, \"subunitcolor\": \"white\"}, \"hoverlabel\": {\"align\": \"left\"}, \"hovermode\": \"closest\", \"mapbox\": {\"style\": \"light\"}, \"paper_bgcolor\": \"white\", \"plot_bgcolor\": \"#E5ECF6\", \"polar\": {\"angularaxis\": {\"gridcolor\": \"white\", \"linecolor\": \"white\", \"ticks\": \"\"}, \"bgcolor\": \"#E5ECF6\", \"radialaxis\": {\"gridcolor\": \"white\", \"linecolor\": \"white\", \"ticks\": \"\"}}, \"scene\": {\"xaxis\": {\"backgroundcolor\": \"#E5ECF6\", \"gridcolor\": \"white\", \"gridwidth\": 2, \"linecolor\": \"white\", \"showbackground\": true, \"ticks\": \"\", \"zerolinecolor\": \"white\"}, \"yaxis\": {\"backgroundcolor\": \"#E5ECF6\", \"gridcolor\": \"white\", \"gridwidth\": 2, \"linecolor\": \"white\", \"showbackground\": true, \"ticks\": \"\", \"zerolinecolor\": \"white\"}, \"zaxis\": {\"backgroundcolor\": \"#E5ECF6\", \"gridcolor\": \"white\", \"gridwidth\": 2, \"linecolor\": \"white\", \"showbackground\": true, \"ticks\": \"\", \"zerolinecolor\": \"white\"}}, \"shapedefaults\": {\"line\": {\"color\": \"#2a3f5f\"}}, \"ternary\": {\"aaxis\": {\"gridcolor\": \"white\", \"linecolor\": \"white\", \"ticks\": \"\"}, \"baxis\": {\"gridcolor\": \"white\", \"linecolor\": \"white\", \"ticks\": \"\"}, \"bgcolor\": \"#E5ECF6\", \"caxis\": {\"gridcolor\": \"white\", \"linecolor\": \"white\", \"ticks\": \"\"}}, \"title\": {\"x\": 0.05}, \"xaxis\": {\"automargin\": true, \"gridcolor\": \"white\", \"linecolor\": \"white\", \"ticks\": \"\", \"title\": {\"standoff\": 15}, \"zerolinecolor\": \"white\", \"zerolinewidth\": 2}, \"yaxis\": {\"automargin\": true, \"gridcolor\": \"white\", \"linecolor\": \"white\", \"ticks\": \"\", \"title\": {\"standoff\": 15}, \"zerolinecolor\": \"white\", \"zerolinewidth\": 2}}}, \"title\": {\"text\": \"Gender wise drop-out rates among Secondary category - 2012-13, 2013-14, 2014-15\"}, \"yaxis\": {\"title\": {\"text\": \"rates\"}}},\n",
              "                        {\"responsive\": true}\n",
              "                    ).then(function(){\n",
              "                            \n",
              "var gd = document.getElementById('b7e49da5-88b0-4428-87d4-feac223d946c');\n",
              "var x = new MutationObserver(function (mutations, observer) {{\n",
              "        var display = window.getComputedStyle(gd).display;\n",
              "        if (!display || display === 'none') {{\n",
              "            console.log([gd, 'removed!']);\n",
              "            Plotly.purge(gd);\n",
              "            observer.disconnect();\n",
              "        }}\n",
              "}});\n",
              "\n",
              "// Listen for the removal of the full notebook cells\n",
              "var notebookContainer = gd.closest('#notebook-container');\n",
              "if (notebookContainer) {{\n",
              "    x.observe(notebookContainer, {childList: true});\n",
              "}}\n",
              "\n",
              "// Listen for the clearing of the current output cell\n",
              "var outputEl = gd.closest('.output');\n",
              "if (outputEl) {{\n",
              "    x.observe(outputEl, {childList: true});\n",
              "}}\n",
              "\n",
              "                        })\n",
              "                };\n",
              "                \n",
              "            </script>\n",
              "        </div>\n",
              "</body>\n",
              "</html>"
            ]
          },
          "metadata": {
            "tags": []
          }
        }
      ]
    },
    {
      "cell_type": "markdown",
      "metadata": {
        "id": "rP42kv2L9p0W"
      },
      "source": [
        "Odisha, though shows a significant improvement of 20 per cent points in 2014-15, The dropout rate in the secondary education stream in Odisha is almost 50 per cent in the previous two years. The improvement is seen as a result of sincere efforts on part of the state government like free textbooks, uniforms, providing multi-lingual education in 21 tribal languages, hostels for girls, seasonal hostels for children of migrant labourers."
      ]
    },
    {
      "cell_type": "code",
      "metadata": {
        "id": "r2vEmh6WqNNj",
        "outputId": "60870d34-8fe5-4cef-f161-fb2949f88130",
        "colab": {
          "base_uri": "https://localhost:8080/",
          "height": 542
        }
      },
      "source": [
        "from plotly import graph_objects as go\n",
        "\n",
        "fig = go.Figure(\n",
        "    data=[\n",
        "        go.Bar(\n",
        "            name=\"Secondary _Boys\",\n",
        "            x=df_least5['State_UT'],\n",
        "            y=df_least5['Secondary _Boys'],\n",
        "            offsetgroup=0,\n",
        "        ),\n",
        "        go.Bar(\n",
        "            name=\"Secondary _Girls\",\n",
        "            x=df_least5['State_UT'],\n",
        "            y=df_least5['Secondary _Girls'],\n",
        "            offsetgroup=1,\n",
        "        ),\n",
        "\n",
        "    ],\n",
        "    layout=go.Layout(\n",
        "        title=\"Gender wise drop-out rates among secondary category - 2012-13, 2013-14, 2014-15\",\n",
        "        yaxis_title=\"rates\"\n",
        "    )\n",
        ")\n",
        "\n",
        "fig.show()"
      ],
      "execution_count": 53,
      "outputs": [
        {
          "output_type": "display_data",
          "data": {
            "text/html": [
              "<html>\n",
              "<head><meta charset=\"utf-8\" /></head>\n",
              "<body>\n",
              "    <div>\n",
              "            <script src=\"https://cdnjs.cloudflare.com/ajax/libs/mathjax/2.7.5/MathJax.js?config=TeX-AMS-MML_SVG\"></script><script type=\"text/javascript\">if (window.MathJax) {MathJax.Hub.Config({SVG: {font: \"STIX-Web\"}});}</script>\n",
              "                <script type=\"text/javascript\">window.PlotlyConfig = {MathJaxConfig: 'local'};</script>\n",
              "        <script src=\"https://cdn.plot.ly/plotly-latest.min.js\"></script>    \n",
              "            <div id=\"1ac9ba1f-6d2c-4866-9288-836b4d29046b\" class=\"plotly-graph-div\" style=\"height:525px; width:100%;\"></div>\n",
              "            <script type=\"text/javascript\">\n",
              "                \n",
              "                    window.PLOTLYENV=window.PLOTLYENV || {};\n",
              "                    \n",
              "                if (document.getElementById(\"1ac9ba1f-6d2c-4866-9288-836b4d29046b\")) {\n",
              "                    Plotly.newPlot(\n",
              "                        '1ac9ba1f-6d2c-4866-9288-836b4d29046b',\n",
              "                        [{\"name\": \"Secondary _Boys\", \"offsetgroup\": \"0\", \"type\": \"bar\", \"x\": [\"Himachal Pradesh\", \"Himachal Pradesh\", \"Himachal Pradesh\", \"A & N Islands\", \"A & N Islands\", \"A & N Islands\", \"Lakshadweep\", \"Lakshadweep\", \"Lakshadweep\", \"Uttar Pradesh\", \"Uttar Pradesh\", \"Uttar Pradesh\", \"Chandigarh\", \"Chandigarh\", \"Chandigarh\"], \"y\": [8.35, 9.32, 6.31, 5.57, 8.36, 11.47, 6.15, 8.48, 8.82, 0.0, 7.26, 9.89, 0.0, 0.0, 0.0]}, {\"name\": \"Secondary _Girls\", \"offsetgroup\": \"1\", \"type\": \"bar\", \"x\": [\"Himachal Pradesh\", \"Himachal Pradesh\", \"Himachal Pradesh\", \"A & N Islands\", \"A & N Islands\", \"A & N Islands\", \"Lakshadweep\", \"Lakshadweep\", \"Lakshadweep\", \"Uttar Pradesh\", \"Uttar Pradesh\", \"Uttar Pradesh\", \"Chandigarh\", \"Chandigarh\", \"Chandigarh\"], \"y\": [8.4, 8.83, 5.8, 5.55, 5.98, 8.16, 9.17, 7.65, 4.96, 0.0, 7.35, 10.6, 0.0, 0.0, 0.0]}],\n",
              "                        {\"template\": {\"data\": {\"bar\": [{\"error_x\": {\"color\": \"#2a3f5f\"}, \"error_y\": {\"color\": \"#2a3f5f\"}, \"marker\": {\"line\": {\"color\": \"#E5ECF6\", \"width\": 0.5}}, \"type\": \"bar\"}], \"barpolar\": [{\"marker\": {\"line\": {\"color\": \"#E5ECF6\", \"width\": 0.5}}, \"type\": \"barpolar\"}], \"carpet\": [{\"aaxis\": {\"endlinecolor\": \"#2a3f5f\", \"gridcolor\": \"white\", \"linecolor\": \"white\", \"minorgridcolor\": \"white\", \"startlinecolor\": \"#2a3f5f\"}, \"baxis\": {\"endlinecolor\": \"#2a3f5f\", \"gridcolor\": \"white\", \"linecolor\": \"white\", \"minorgridcolor\": \"white\", \"startlinecolor\": \"#2a3f5f\"}, \"type\": \"carpet\"}], \"choropleth\": [{\"colorbar\": {\"outlinewidth\": 0, \"ticks\": \"\"}, \"type\": \"choropleth\"}], \"contour\": [{\"colorbar\": {\"outlinewidth\": 0, \"ticks\": \"\"}, \"colorscale\": [[0.0, \"#0d0887\"], [0.1111111111111111, \"#46039f\"], [0.2222222222222222, \"#7201a8\"], [0.3333333333333333, \"#9c179e\"], [0.4444444444444444, \"#bd3786\"], [0.5555555555555556, \"#d8576b\"], [0.6666666666666666, \"#ed7953\"], [0.7777777777777778, \"#fb9f3a\"], [0.8888888888888888, \"#fdca26\"], [1.0, \"#f0f921\"]], \"type\": \"contour\"}], \"contourcarpet\": [{\"colorbar\": {\"outlinewidth\": 0, \"ticks\": \"\"}, \"type\": \"contourcarpet\"}], \"heatmap\": [{\"colorbar\": {\"outlinewidth\": 0, \"ticks\": \"\"}, \"colorscale\": [[0.0, \"#0d0887\"], [0.1111111111111111, \"#46039f\"], [0.2222222222222222, \"#7201a8\"], [0.3333333333333333, \"#9c179e\"], [0.4444444444444444, \"#bd3786\"], [0.5555555555555556, \"#d8576b\"], [0.6666666666666666, \"#ed7953\"], [0.7777777777777778, \"#fb9f3a\"], [0.8888888888888888, \"#fdca26\"], [1.0, \"#f0f921\"]], \"type\": \"heatmap\"}], \"heatmapgl\": [{\"colorbar\": {\"outlinewidth\": 0, \"ticks\": \"\"}, \"colorscale\": [[0.0, \"#0d0887\"], [0.1111111111111111, \"#46039f\"], [0.2222222222222222, \"#7201a8\"], [0.3333333333333333, \"#9c179e\"], [0.4444444444444444, \"#bd3786\"], [0.5555555555555556, \"#d8576b\"], [0.6666666666666666, \"#ed7953\"], [0.7777777777777778, \"#fb9f3a\"], [0.8888888888888888, \"#fdca26\"], [1.0, \"#f0f921\"]], \"type\": \"heatmapgl\"}], \"histogram\": [{\"marker\": {\"colorbar\": {\"outlinewidth\": 0, \"ticks\": \"\"}}, \"type\": \"histogram\"}], \"histogram2d\": [{\"colorbar\": {\"outlinewidth\": 0, \"ticks\": \"\"}, \"colorscale\": [[0.0, \"#0d0887\"], [0.1111111111111111, \"#46039f\"], [0.2222222222222222, \"#7201a8\"], [0.3333333333333333, \"#9c179e\"], [0.4444444444444444, \"#bd3786\"], [0.5555555555555556, \"#d8576b\"], [0.6666666666666666, \"#ed7953\"], [0.7777777777777778, \"#fb9f3a\"], [0.8888888888888888, \"#fdca26\"], [1.0, \"#f0f921\"]], \"type\": \"histogram2d\"}], \"histogram2dcontour\": [{\"colorbar\": {\"outlinewidth\": 0, \"ticks\": \"\"}, \"colorscale\": [[0.0, \"#0d0887\"], [0.1111111111111111, \"#46039f\"], [0.2222222222222222, \"#7201a8\"], [0.3333333333333333, \"#9c179e\"], [0.4444444444444444, \"#bd3786\"], [0.5555555555555556, \"#d8576b\"], [0.6666666666666666, \"#ed7953\"], [0.7777777777777778, \"#fb9f3a\"], [0.8888888888888888, \"#fdca26\"], [1.0, \"#f0f921\"]], \"type\": \"histogram2dcontour\"}], \"mesh3d\": [{\"colorbar\": {\"outlinewidth\": 0, \"ticks\": \"\"}, \"type\": \"mesh3d\"}], \"parcoords\": [{\"line\": {\"colorbar\": {\"outlinewidth\": 0, \"ticks\": \"\"}}, \"type\": \"parcoords\"}], \"pie\": [{\"automargin\": true, \"type\": \"pie\"}], \"scatter\": [{\"marker\": {\"colorbar\": {\"outlinewidth\": 0, \"ticks\": \"\"}}, \"type\": \"scatter\"}], \"scatter3d\": [{\"line\": {\"colorbar\": {\"outlinewidth\": 0, \"ticks\": \"\"}}, \"marker\": {\"colorbar\": {\"outlinewidth\": 0, \"ticks\": \"\"}}, \"type\": \"scatter3d\"}], \"scattercarpet\": [{\"marker\": {\"colorbar\": {\"outlinewidth\": 0, \"ticks\": \"\"}}, \"type\": \"scattercarpet\"}], \"scattergeo\": [{\"marker\": {\"colorbar\": {\"outlinewidth\": 0, \"ticks\": \"\"}}, \"type\": \"scattergeo\"}], \"scattergl\": [{\"marker\": {\"colorbar\": {\"outlinewidth\": 0, \"ticks\": \"\"}}, \"type\": \"scattergl\"}], \"scattermapbox\": [{\"marker\": {\"colorbar\": {\"outlinewidth\": 0, \"ticks\": \"\"}}, \"type\": \"scattermapbox\"}], \"scatterpolar\": [{\"marker\": {\"colorbar\": {\"outlinewidth\": 0, \"ticks\": \"\"}}, \"type\": \"scatterpolar\"}], \"scatterpolargl\": [{\"marker\": {\"colorbar\": {\"outlinewidth\": 0, \"ticks\": \"\"}}, \"type\": \"scatterpolargl\"}], \"scatterternary\": [{\"marker\": {\"colorbar\": {\"outlinewidth\": 0, \"ticks\": \"\"}}, \"type\": \"scatterternary\"}], \"surface\": [{\"colorbar\": {\"outlinewidth\": 0, \"ticks\": \"\"}, \"colorscale\": [[0.0, \"#0d0887\"], [0.1111111111111111, \"#46039f\"], [0.2222222222222222, \"#7201a8\"], [0.3333333333333333, \"#9c179e\"], [0.4444444444444444, \"#bd3786\"], [0.5555555555555556, \"#d8576b\"], [0.6666666666666666, \"#ed7953\"], [0.7777777777777778, \"#fb9f3a\"], [0.8888888888888888, \"#fdca26\"], [1.0, \"#f0f921\"]], \"type\": \"surface\"}], \"table\": [{\"cells\": {\"fill\": {\"color\": \"#EBF0F8\"}, \"line\": {\"color\": \"white\"}}, \"header\": {\"fill\": {\"color\": \"#C8D4E3\"}, \"line\": {\"color\": \"white\"}}, \"type\": \"table\"}]}, \"layout\": {\"annotationdefaults\": {\"arrowcolor\": \"#2a3f5f\", \"arrowhead\": 0, \"arrowwidth\": 1}, \"coloraxis\": {\"colorbar\": {\"outlinewidth\": 0, \"ticks\": \"\"}}, \"colorscale\": {\"diverging\": [[0, \"#8e0152\"], [0.1, \"#c51b7d\"], [0.2, \"#de77ae\"], [0.3, \"#f1b6da\"], [0.4, \"#fde0ef\"], [0.5, \"#f7f7f7\"], [0.6, \"#e6f5d0\"], [0.7, \"#b8e186\"], [0.8, \"#7fbc41\"], [0.9, \"#4d9221\"], [1, \"#276419\"]], \"sequential\": [[0.0, \"#0d0887\"], [0.1111111111111111, \"#46039f\"], [0.2222222222222222, \"#7201a8\"], [0.3333333333333333, \"#9c179e\"], [0.4444444444444444, \"#bd3786\"], [0.5555555555555556, \"#d8576b\"], [0.6666666666666666, \"#ed7953\"], [0.7777777777777778, \"#fb9f3a\"], [0.8888888888888888, \"#fdca26\"], [1.0, \"#f0f921\"]], \"sequentialminus\": [[0.0, \"#0d0887\"], [0.1111111111111111, \"#46039f\"], [0.2222222222222222, \"#7201a8\"], [0.3333333333333333, \"#9c179e\"], [0.4444444444444444, \"#bd3786\"], [0.5555555555555556, \"#d8576b\"], [0.6666666666666666, \"#ed7953\"], [0.7777777777777778, \"#fb9f3a\"], [0.8888888888888888, \"#fdca26\"], [1.0, \"#f0f921\"]]}, \"colorway\": [\"#636efa\", \"#EF553B\", \"#00cc96\", \"#ab63fa\", \"#FFA15A\", \"#19d3f3\", \"#FF6692\", \"#B6E880\", \"#FF97FF\", \"#FECB52\"], \"font\": {\"color\": \"#2a3f5f\"}, \"geo\": {\"bgcolor\": \"white\", \"lakecolor\": \"white\", \"landcolor\": \"#E5ECF6\", \"showlakes\": true, \"showland\": true, \"subunitcolor\": \"white\"}, \"hoverlabel\": {\"align\": \"left\"}, \"hovermode\": \"closest\", \"mapbox\": {\"style\": \"light\"}, \"paper_bgcolor\": \"white\", \"plot_bgcolor\": \"#E5ECF6\", \"polar\": {\"angularaxis\": {\"gridcolor\": \"white\", \"linecolor\": \"white\", \"ticks\": \"\"}, \"bgcolor\": \"#E5ECF6\", \"radialaxis\": {\"gridcolor\": \"white\", \"linecolor\": \"white\", \"ticks\": \"\"}}, \"scene\": {\"xaxis\": {\"backgroundcolor\": \"#E5ECF6\", \"gridcolor\": \"white\", \"gridwidth\": 2, \"linecolor\": \"white\", \"showbackground\": true, \"ticks\": \"\", \"zerolinecolor\": \"white\"}, \"yaxis\": {\"backgroundcolor\": \"#E5ECF6\", \"gridcolor\": \"white\", \"gridwidth\": 2, \"linecolor\": \"white\", \"showbackground\": true, \"ticks\": \"\", \"zerolinecolor\": \"white\"}, \"zaxis\": {\"backgroundcolor\": \"#E5ECF6\", \"gridcolor\": \"white\", \"gridwidth\": 2, \"linecolor\": \"white\", \"showbackground\": true, \"ticks\": \"\", \"zerolinecolor\": \"white\"}}, \"shapedefaults\": {\"line\": {\"color\": \"#2a3f5f\"}}, \"ternary\": {\"aaxis\": {\"gridcolor\": \"white\", \"linecolor\": \"white\", \"ticks\": \"\"}, \"baxis\": {\"gridcolor\": \"white\", \"linecolor\": \"white\", \"ticks\": \"\"}, \"bgcolor\": \"#E5ECF6\", \"caxis\": {\"gridcolor\": \"white\", \"linecolor\": \"white\", \"ticks\": \"\"}}, \"title\": {\"x\": 0.05}, \"xaxis\": {\"automargin\": true, \"gridcolor\": \"white\", \"linecolor\": \"white\", \"ticks\": \"\", \"title\": {\"standoff\": 15}, \"zerolinecolor\": \"white\", \"zerolinewidth\": 2}, \"yaxis\": {\"automargin\": true, \"gridcolor\": \"white\", \"linecolor\": \"white\", \"ticks\": \"\", \"title\": {\"standoff\": 15}, \"zerolinecolor\": \"white\", \"zerolinewidth\": 2}}}, \"title\": {\"text\": \"Gender wise drop-out rates among secondary category - 2012-13, 2013-14, 2014-15\"}, \"yaxis\": {\"title\": {\"text\": \"rates\"}}},\n",
              "                        {\"responsive\": true}\n",
              "                    ).then(function(){\n",
              "                            \n",
              "var gd = document.getElementById('1ac9ba1f-6d2c-4866-9288-836b4d29046b');\n",
              "var x = new MutationObserver(function (mutations, observer) {{\n",
              "        var display = window.getComputedStyle(gd).display;\n",
              "        if (!display || display === 'none') {{\n",
              "            console.log([gd, 'removed!']);\n",
              "            Plotly.purge(gd);\n",
              "            observer.disconnect();\n",
              "        }}\n",
              "}});\n",
              "\n",
              "// Listen for the removal of the full notebook cells\n",
              "var notebookContainer = gd.closest('#notebook-container');\n",
              "if (notebookContainer) {{\n",
              "    x.observe(notebookContainer, {childList: true});\n",
              "}}\n",
              "\n",
              "// Listen for the clearing of the current output cell\n",
              "var outputEl = gd.closest('.output');\n",
              "if (outputEl) {{\n",
              "    x.observe(outputEl, {childList: true});\n",
              "}}\n",
              "\n",
              "                        })\n",
              "                };\n",
              "                \n",
              "            </script>\n",
              "        </div>\n",
              "</body>\n",
              "</html>"
            ]
          },
          "metadata": {
            "tags": []
          }
        }
      ]
    },
    {
      "cell_type": "markdown",
      "metadata": {
        "id": "9E2TDYG0rl5u"
      },
      "source": [
        "While there isn’t a huge gap in the percentages of boys and girls dropping out, The minimun drop-out rates is higher compare to other levels"
      ]
    },
    {
      "cell_type": "code",
      "metadata": {
        "id": "Eqck5wVyegQr",
        "outputId": "01819bb3-d184-424e-e23b-aacd42937f78",
        "colab": {
          "base_uri": "https://localhost:8080/",
          "height": 235
        }
      },
      "source": [
        "hr_secondary_drop_out.head()"
      ],
      "execution_count": 54,
      "outputs": [
        {
          "output_type": "execute_result",
          "data": {
            "text/html": [
              "<div>\n",
              "<style scoped>\n",
              "    .dataframe tbody tr th:only-of-type {\n",
              "        vertical-align: middle;\n",
              "    }\n",
              "\n",
              "    .dataframe tbody tr th {\n",
              "        vertical-align: top;\n",
              "    }\n",
              "\n",
              "    .dataframe thead th {\n",
              "        text-align: right;\n",
              "    }\n",
              "</style>\n",
              "<table border=\"1\" class=\"dataframe\">\n",
              "  <thead>\n",
              "    <tr style=\"text-align: right;\">\n",
              "      <th></th>\n",
              "      <th>year</th>\n",
              "      <th>HrSecondary_Boys</th>\n",
              "      <th>HrSecondary_Girls</th>\n",
              "    </tr>\n",
              "    <tr>\n",
              "      <th>State_UT</th>\n",
              "      <th></th>\n",
              "      <th></th>\n",
              "      <th></th>\n",
              "    </tr>\n",
              "  </thead>\n",
              "  <tbody>\n",
              "    <tr>\n",
              "      <th>A &amp; N Islands</th>\n",
              "      <td>2012-13</td>\n",
              "      <td>17.66</td>\n",
              "      <td>10.15</td>\n",
              "    </tr>\n",
              "    <tr>\n",
              "      <th>A &amp; N Islands</th>\n",
              "      <td>2013-14</td>\n",
              "      <td>18.94</td>\n",
              "      <td>12.20</td>\n",
              "    </tr>\n",
              "    <tr>\n",
              "      <th>A &amp; N Islands</th>\n",
              "      <td>2014-15</td>\n",
              "      <td>21.05</td>\n",
              "      <td>12.21</td>\n",
              "    </tr>\n",
              "    <tr>\n",
              "      <th>Andhra Pradesh</th>\n",
              "      <td>2012-13</td>\n",
              "      <td>2.66</td>\n",
              "      <td>0.00</td>\n",
              "    </tr>\n",
              "    <tr>\n",
              "      <th>Andhra Pradesh</th>\n",
              "      <td>2013-14</td>\n",
              "      <td>12.65</td>\n",
              "      <td>10.85</td>\n",
              "    </tr>\n",
              "  </tbody>\n",
              "</table>\n",
              "</div>"
            ],
            "text/plain": [
              "                   year  HrSecondary_Boys  HrSecondary_Girls\n",
              "State_UT                                                    \n",
              "A & N Islands   2012-13             17.66              10.15\n",
              "A & N Islands   2013-14             18.94              12.20\n",
              "A & N Islands   2014-15             21.05              12.21\n",
              "Andhra Pradesh  2012-13              2.66               0.00\n",
              "Andhra Pradesh  2013-14             12.65              10.85"
            ]
          },
          "metadata": {
            "tags": []
          },
          "execution_count": 54
        }
      ]
    },
    {
      "cell_type": "code",
      "metadata": {
        "id": "k77D5yqbe16u",
        "outputId": "b748d557-328a-459e-bc84-4c13d0fcdecb",
        "colab": {
          "base_uri": "https://localhost:8080/",
          "height": 235
        }
      },
      "source": [
        "hr_secondary_drop_out_total = drop_out[['year','HrSecondary_Total']]\n",
        "hr_secondary_drop_out_total.head()"
      ],
      "execution_count": 55,
      "outputs": [
        {
          "output_type": "execute_result",
          "data": {
            "text/html": [
              "<div>\n",
              "<style scoped>\n",
              "    .dataframe tbody tr th:only-of-type {\n",
              "        vertical-align: middle;\n",
              "    }\n",
              "\n",
              "    .dataframe tbody tr th {\n",
              "        vertical-align: top;\n",
              "    }\n",
              "\n",
              "    .dataframe thead th {\n",
              "        text-align: right;\n",
              "    }\n",
              "</style>\n",
              "<table border=\"1\" class=\"dataframe\">\n",
              "  <thead>\n",
              "    <tr style=\"text-align: right;\">\n",
              "      <th></th>\n",
              "      <th>year</th>\n",
              "      <th>HrSecondary_Total</th>\n",
              "    </tr>\n",
              "    <tr>\n",
              "      <th>State_UT</th>\n",
              "      <th></th>\n",
              "      <th></th>\n",
              "    </tr>\n",
              "  </thead>\n",
              "  <tbody>\n",
              "    <tr>\n",
              "      <th>A &amp; N Islands</th>\n",
              "      <td>2012-13</td>\n",
              "      <td>14.14</td>\n",
              "    </tr>\n",
              "    <tr>\n",
              "      <th>A &amp; N Islands</th>\n",
              "      <td>2013-14</td>\n",
              "      <td>15.87</td>\n",
              "    </tr>\n",
              "    <tr>\n",
              "      <th>A &amp; N Islands</th>\n",
              "      <td>2014-15</td>\n",
              "      <td>16.93</td>\n",
              "    </tr>\n",
              "    <tr>\n",
              "      <th>Andhra Pradesh</th>\n",
              "      <td>2012-13</td>\n",
              "      <td>0.35</td>\n",
              "    </tr>\n",
              "    <tr>\n",
              "      <th>Andhra Pradesh</th>\n",
              "      <td>2013-14</td>\n",
              "      <td>11.79</td>\n",
              "    </tr>\n",
              "  </tbody>\n",
              "</table>\n",
              "</div>"
            ],
            "text/plain": [
              "                   year  HrSecondary_Total\n",
              "State_UT                                  \n",
              "A & N Islands   2012-13              14.14\n",
              "A & N Islands   2013-14              15.87\n",
              "A & N Islands   2014-15              16.93\n",
              "Andhra Pradesh  2012-13               0.35\n",
              "Andhra Pradesh  2013-14              11.79"
            ]
          },
          "metadata": {
            "tags": []
          },
          "execution_count": 55
        }
      ]
    },
    {
      "cell_type": "code",
      "metadata": {
        "id": "idE4m12DfKiy"
      },
      "source": [
        "tmp = []\n",
        "hr_secondary_drop_out_total['HrSecondary_Total'] = hr_secondary_drop_out_total['HrSecondary_Total'].astype(float)                # The datatype of our numerical features is object so we need to change to float.\n",
        "tmp.append(pd.DataFrame({'mean_' + 'HrSecondary_Total' : drop_out.groupby(['State_UT'])['HrSecondary_Total'].mean()}))     # Calculate the mean of drop_out ratio for the 37 states in all 12 student category types."
      ],
      "execution_count": 56,
      "outputs": []
    },
    {
      "cell_type": "code",
      "metadata": {
        "id": "hvhbuhYRfgo_"
      },
      "source": [
        "mean_drop_out_per_state = pd.DataFrame(tmp[0])     # Initially add the first Student Category type in the DataFrame so it's easy to use pd.merge()\n",
        "for Stu_type in range(1, len(tmp)):           # Starting at an Index of 1 since since I already initialized our dataframe with the first Student type \n",
        "    tmp[Stu_type].reset_index(inplace = True)\n",
        "    mean_drop_out_per_state = pd.merge(mean_drop_out_per_state, tmp[Stu_type], on = 'State_UT')"
      ],
      "execution_count": 57,
      "outputs": []
    },
    {
      "cell_type": "code",
      "metadata": {
        "id": "XcV6WdvTfimO",
        "outputId": "2296df39-8c11-42c4-82cd-f57f32006e7e",
        "colab": {
          "base_uri": "https://localhost:8080/",
          "height": 235
        }
      },
      "source": [
        "mean_drop_out_per_state.head()"
      ],
      "execution_count": 58,
      "outputs": [
        {
          "output_type": "execute_result",
          "data": {
            "text/html": [
              "<div>\n",
              "<style scoped>\n",
              "    .dataframe tbody tr th:only-of-type {\n",
              "        vertical-align: middle;\n",
              "    }\n",
              "\n",
              "    .dataframe tbody tr th {\n",
              "        vertical-align: top;\n",
              "    }\n",
              "\n",
              "    .dataframe thead th {\n",
              "        text-align: right;\n",
              "    }\n",
              "</style>\n",
              "<table border=\"1\" class=\"dataframe\">\n",
              "  <thead>\n",
              "    <tr style=\"text-align: right;\">\n",
              "      <th></th>\n",
              "      <th>mean_HrSecondary_Total</th>\n",
              "    </tr>\n",
              "    <tr>\n",
              "      <th>State_UT</th>\n",
              "      <th></th>\n",
              "    </tr>\n",
              "  </thead>\n",
              "  <tbody>\n",
              "    <tr>\n",
              "      <th>A &amp; N Islands</th>\n",
              "      <td>15.646667</td>\n",
              "    </tr>\n",
              "    <tr>\n",
              "      <th>All India</th>\n",
              "      <td>0.513333</td>\n",
              "    </tr>\n",
              "    <tr>\n",
              "      <th>Andhra Pradesh</th>\n",
              "      <td>4.046667</td>\n",
              "    </tr>\n",
              "    <tr>\n",
              "      <th>Arunachal Pradesh</th>\n",
              "      <td>13.533333</td>\n",
              "    </tr>\n",
              "    <tr>\n",
              "      <th>Assam</th>\n",
              "      <td>3.976667</td>\n",
              "    </tr>\n",
              "  </tbody>\n",
              "</table>\n",
              "</div>"
            ],
            "text/plain": [
              "                   mean_HrSecondary_Total\n",
              "State_UT                                 \n",
              "A & N Islands                   15.646667\n",
              "All India                        0.513333\n",
              "Andhra Pradesh                   4.046667\n",
              "Arunachal Pradesh               13.533333\n",
              "Assam                            3.976667"
            ]
          },
          "metadata": {
            "tags": []
          },
          "execution_count": 58
        }
      ]
    },
    {
      "cell_type": "code",
      "metadata": {
        "id": "d-IekX6pfv8z",
        "outputId": "ddae5874-0124-4289-d9e9-89f7d394cb88",
        "colab": {
          "base_uri": "https://localhost:8080/",
          "height": 235
        }
      },
      "source": [
        "mean_drop_out_per_state.sort_values(['mean_HrSecondary_Total'], ascending=False, axis=0, inplace=True)\n",
        "\n",
        "# get the top 5 entries\n",
        "df_top5 = mean_drop_out_per_state.head()\n",
        "\n",
        "\n",
        "df_top5.head()"
      ],
      "execution_count": 59,
      "outputs": [
        {
          "output_type": "execute_result",
          "data": {
            "text/html": [
              "<div>\n",
              "<style scoped>\n",
              "    .dataframe tbody tr th:only-of-type {\n",
              "        vertical-align: middle;\n",
              "    }\n",
              "\n",
              "    .dataframe tbody tr th {\n",
              "        vertical-align: top;\n",
              "    }\n",
              "\n",
              "    .dataframe thead th {\n",
              "        text-align: right;\n",
              "    }\n",
              "</style>\n",
              "<table border=\"1\" class=\"dataframe\">\n",
              "  <thead>\n",
              "    <tr style=\"text-align: right;\">\n",
              "      <th></th>\n",
              "      <th>mean_HrSecondary_Total</th>\n",
              "    </tr>\n",
              "    <tr>\n",
              "      <th>State_UT</th>\n",
              "      <th></th>\n",
              "    </tr>\n",
              "  </thead>\n",
              "  <tbody>\n",
              "    <tr>\n",
              "      <th>Daman &amp; Diu</th>\n",
              "      <td>17.200000</td>\n",
              "    </tr>\n",
              "    <tr>\n",
              "      <th>Delhi</th>\n",
              "      <td>16.013333</td>\n",
              "    </tr>\n",
              "    <tr>\n",
              "      <th>A &amp; N Islands</th>\n",
              "      <td>15.646667</td>\n",
              "    </tr>\n",
              "    <tr>\n",
              "      <th>Arunachal Pradesh</th>\n",
              "      <td>13.533333</td>\n",
              "    </tr>\n",
              "    <tr>\n",
              "      <th>Nagaland</th>\n",
              "      <td>13.150000</td>\n",
              "    </tr>\n",
              "  </tbody>\n",
              "</table>\n",
              "</div>"
            ],
            "text/plain": [
              "                   mean_HrSecondary_Total\n",
              "State_UT                                 \n",
              "Daman & Diu                     17.200000\n",
              "Delhi                           16.013333\n",
              "A & N Islands                   15.646667\n",
              "Arunachal Pradesh               13.533333\n",
              "Nagaland                        13.150000"
            ]
          },
          "metadata": {
            "tags": []
          },
          "execution_count": 59
        }
      ]
    },
    {
      "cell_type": "code",
      "metadata": {
        "id": "Xu6TQ7BTgwWT"
      },
      "source": [
        "# I will select the top 5 states with the highest drop out for visualizations \n",
        "df_top5 = hr_secondary_drop_out.loc[['Daman & Diu','Delhi','A & N Islands','Arunachal Pradesh','Nagaland'],:]\n",
        "df_top5.reset_index(inplace = True)"
      ],
      "execution_count": 60,
      "outputs": []
    },
    {
      "cell_type": "code",
      "metadata": {
        "id": "FoP6jmQ0gBpi",
        "outputId": "57c05215-e2a3-45ec-8dde-06c2c2a131fb",
        "colab": {
          "base_uri": "https://localhost:8080/",
          "height": 266
        }
      },
      "source": [
        "mean_drop_out_per_state.sort_values(['mean_HrSecondary_Total'], ascending=False, axis=0, inplace=True)\n",
        "\n",
        "# get the least 5 entries\n",
        "df_least5 = mean_drop_out_per_state.tail(6)\n",
        "\n",
        "\n",
        "df_least5.head(6)"
      ],
      "execution_count": 61,
      "outputs": [
        {
          "output_type": "execute_result",
          "data": {
            "text/html": [
              "<div>\n",
              "<style scoped>\n",
              "    .dataframe tbody tr th:only-of-type {\n",
              "        vertical-align: middle;\n",
              "    }\n",
              "\n",
              "    .dataframe tbody tr th {\n",
              "        vertical-align: top;\n",
              "    }\n",
              "\n",
              "    .dataframe thead th {\n",
              "        text-align: right;\n",
              "    }\n",
              "</style>\n",
              "<table border=\"1\" class=\"dataframe\">\n",
              "  <thead>\n",
              "    <tr style=\"text-align: right;\">\n",
              "      <th></th>\n",
              "      <th>mean_HrSecondary_Total</th>\n",
              "    </tr>\n",
              "    <tr>\n",
              "      <th>State_UT</th>\n",
              "      <th></th>\n",
              "    </tr>\n",
              "  </thead>\n",
              "  <tbody>\n",
              "    <tr>\n",
              "      <th>Madhya Pradesh</th>\n",
              "      <td>0.516667</td>\n",
              "    </tr>\n",
              "    <tr>\n",
              "      <th>All India</th>\n",
              "      <td>0.513333</td>\n",
              "    </tr>\n",
              "    <tr>\n",
              "      <th>Odisha</th>\n",
              "      <td>0.000000</td>\n",
              "    </tr>\n",
              "    <tr>\n",
              "      <th>Bihar</th>\n",
              "      <td>0.000000</td>\n",
              "    </tr>\n",
              "    <tr>\n",
              "      <th>Meghalaya</th>\n",
              "      <td>0.000000</td>\n",
              "    </tr>\n",
              "    <tr>\n",
              "      <th>Rajasthan</th>\n",
              "      <td>0.000000</td>\n",
              "    </tr>\n",
              "  </tbody>\n",
              "</table>\n",
              "</div>"
            ],
            "text/plain": [
              "                mean_HrSecondary_Total\n",
              "State_UT                              \n",
              "Madhya Pradesh                0.516667\n",
              "All India                     0.513333\n",
              "Odisha                        0.000000\n",
              "Bihar                         0.000000\n",
              "Meghalaya                     0.000000\n",
              "Rajasthan                     0.000000"
            ]
          },
          "metadata": {
            "tags": []
          },
          "execution_count": 61
        }
      ]
    },
    {
      "cell_type": "code",
      "metadata": {
        "id": "LhmgvS_jhD05"
      },
      "source": [
        "df_least5 =hr_secondary_drop_out.loc[['Madhya Pradesh','Odisha','Bihar','Meghalaya','Rajasthan'],:]\n",
        "df_least5.reset_index(inplace = True)"
      ],
      "execution_count": 62,
      "outputs": []
    },
    {
      "cell_type": "code",
      "metadata": {
        "id": "eEq_X5fRkf22",
        "outputId": "bdc08528-5ac5-458f-c03a-2aeec5a99c9a",
        "colab": {
          "base_uri": "https://localhost:8080/",
          "height": 542
        }
      },
      "source": [
        "from plotly import graph_objects as go\n",
        "\n",
        "fig = go.Figure(\n",
        "    data=[\n",
        "        go.Bar(\n",
        "            name=\"HrSecondary_Boys\",\n",
        "            x=df_top5['State_UT'],\n",
        "            y=df_top5['HrSecondary_Boys'],\n",
        "            offsetgroup=0,\n",
        "        ),\n",
        "        go.Bar(\n",
        "            name=\"HrSecondary_Girls\",\n",
        "            x=df_top5['State_UT'],\n",
        "            y=df_top5['HrSecondary_Girls'],\n",
        "            offsetgroup=1,\n",
        "        ),\n",
        "\n",
        "    ],\n",
        "    layout=go.Layout(\n",
        "        title=\"Gender wise drop-out rates among higher secondary category - 2012-13, 2013-14, 2014-15\",\n",
        "        yaxis_title=\"rates\"\n",
        "    )\n",
        ")\n",
        "\n",
        "fig.show()"
      ],
      "execution_count": 63,
      "outputs": [
        {
          "output_type": "display_data",
          "data": {
            "text/html": [
              "<html>\n",
              "<head><meta charset=\"utf-8\" /></head>\n",
              "<body>\n",
              "    <div>\n",
              "            <script src=\"https://cdnjs.cloudflare.com/ajax/libs/mathjax/2.7.5/MathJax.js?config=TeX-AMS-MML_SVG\"></script><script type=\"text/javascript\">if (window.MathJax) {MathJax.Hub.Config({SVG: {font: \"STIX-Web\"}});}</script>\n",
              "                <script type=\"text/javascript\">window.PlotlyConfig = {MathJaxConfig: 'local'};</script>\n",
              "        <script src=\"https://cdn.plot.ly/plotly-latest.min.js\"></script>    \n",
              "            <div id=\"fa419d76-eff3-4d82-9b5c-2e22dfdb68b4\" class=\"plotly-graph-div\" style=\"height:525px; width:100%;\"></div>\n",
              "            <script type=\"text/javascript\">\n",
              "                \n",
              "                    window.PLOTLYENV=window.PLOTLYENV || {};\n",
              "                    \n",
              "                if (document.getElementById(\"fa419d76-eff3-4d82-9b5c-2e22dfdb68b4\")) {\n",
              "                    Plotly.newPlot(\n",
              "                        'fa419d76-eff3-4d82-9b5c-2e22dfdb68b4',\n",
              "                        [{\"name\": \"HrSecondary_Boys\", \"offsetgroup\": \"0\", \"type\": \"bar\", \"x\": [\"Daman & Diu\", \"Daman & Diu\", \"Daman & Diu\", \"Delhi\", \"Delhi\", \"Delhi\", \"A & N Islands\", \"A & N Islands\", \"A & N Islands\", \"Arunachal Pradesh\", \"Arunachal Pradesh\", \"Arunachal Pradesh\", \"Nagaland\", \"Nagaland\", \"Nagaland\"], \"y\": [6.21, 14.48, 44.38, 18.56, 20.28, 20.91, 17.66, 18.94, 21.05, 18.57, 7.85, 19.37, 18.67, 15.36, 10.36]}, {\"name\": \"HrSecondary_Girls\", \"offsetgroup\": \"1\", \"type\": \"bar\", \"x\": [\"Daman & Diu\", \"Daman & Diu\", \"Daman & Diu\", \"Delhi\", \"Delhi\", \"Delhi\", \"A & N Islands\", \"A & N Islands\", \"A & N Islands\", \"Arunachal Pradesh\", \"Arunachal Pradesh\", \"Arunachal Pradesh\", \"Nagaland\", \"Nagaland\", \"Nagaland\"], \"y\": [0.0, 4.89, 36.05, 9.6, 11.45, 13.15, 10.15, 12.2, 12.21, 15.49, 2.14, 17.44, 17.87, 12.96, 3.19]}],\n",
              "                        {\"template\": {\"data\": {\"bar\": [{\"error_x\": {\"color\": \"#2a3f5f\"}, \"error_y\": {\"color\": \"#2a3f5f\"}, \"marker\": {\"line\": {\"color\": \"#E5ECF6\", \"width\": 0.5}}, \"type\": \"bar\"}], \"barpolar\": [{\"marker\": {\"line\": {\"color\": \"#E5ECF6\", \"width\": 0.5}}, \"type\": \"barpolar\"}], \"carpet\": [{\"aaxis\": {\"endlinecolor\": \"#2a3f5f\", \"gridcolor\": \"white\", \"linecolor\": \"white\", \"minorgridcolor\": \"white\", \"startlinecolor\": \"#2a3f5f\"}, \"baxis\": {\"endlinecolor\": \"#2a3f5f\", \"gridcolor\": \"white\", \"linecolor\": \"white\", \"minorgridcolor\": \"white\", \"startlinecolor\": \"#2a3f5f\"}, \"type\": \"carpet\"}], \"choropleth\": [{\"colorbar\": {\"outlinewidth\": 0, \"ticks\": \"\"}, \"type\": \"choropleth\"}], \"contour\": [{\"colorbar\": {\"outlinewidth\": 0, \"ticks\": \"\"}, \"colorscale\": [[0.0, \"#0d0887\"], [0.1111111111111111, \"#46039f\"], [0.2222222222222222, \"#7201a8\"], [0.3333333333333333, \"#9c179e\"], [0.4444444444444444, \"#bd3786\"], [0.5555555555555556, \"#d8576b\"], [0.6666666666666666, \"#ed7953\"], [0.7777777777777778, \"#fb9f3a\"], [0.8888888888888888, \"#fdca26\"], [1.0, \"#f0f921\"]], \"type\": \"contour\"}], \"contourcarpet\": [{\"colorbar\": {\"outlinewidth\": 0, \"ticks\": \"\"}, \"type\": \"contourcarpet\"}], \"heatmap\": [{\"colorbar\": {\"outlinewidth\": 0, \"ticks\": \"\"}, \"colorscale\": [[0.0, \"#0d0887\"], [0.1111111111111111, \"#46039f\"], [0.2222222222222222, \"#7201a8\"], [0.3333333333333333, \"#9c179e\"], [0.4444444444444444, \"#bd3786\"], [0.5555555555555556, \"#d8576b\"], [0.6666666666666666, \"#ed7953\"], [0.7777777777777778, \"#fb9f3a\"], [0.8888888888888888, \"#fdca26\"], [1.0, \"#f0f921\"]], \"type\": \"heatmap\"}], \"heatmapgl\": [{\"colorbar\": {\"outlinewidth\": 0, \"ticks\": \"\"}, \"colorscale\": [[0.0, \"#0d0887\"], [0.1111111111111111, \"#46039f\"], [0.2222222222222222, \"#7201a8\"], [0.3333333333333333, \"#9c179e\"], [0.4444444444444444, \"#bd3786\"], [0.5555555555555556, \"#d8576b\"], [0.6666666666666666, \"#ed7953\"], [0.7777777777777778, \"#fb9f3a\"], [0.8888888888888888, \"#fdca26\"], [1.0, \"#f0f921\"]], \"type\": \"heatmapgl\"}], \"histogram\": [{\"marker\": {\"colorbar\": {\"outlinewidth\": 0, \"ticks\": \"\"}}, \"type\": \"histogram\"}], \"histogram2d\": [{\"colorbar\": {\"outlinewidth\": 0, \"ticks\": \"\"}, \"colorscale\": [[0.0, \"#0d0887\"], [0.1111111111111111, \"#46039f\"], [0.2222222222222222, \"#7201a8\"], [0.3333333333333333, \"#9c179e\"], [0.4444444444444444, \"#bd3786\"], [0.5555555555555556, \"#d8576b\"], [0.6666666666666666, \"#ed7953\"], [0.7777777777777778, \"#fb9f3a\"], [0.8888888888888888, \"#fdca26\"], [1.0, \"#f0f921\"]], \"type\": \"histogram2d\"}], \"histogram2dcontour\": [{\"colorbar\": {\"outlinewidth\": 0, \"ticks\": \"\"}, \"colorscale\": [[0.0, \"#0d0887\"], [0.1111111111111111, \"#46039f\"], [0.2222222222222222, \"#7201a8\"], [0.3333333333333333, \"#9c179e\"], [0.4444444444444444, \"#bd3786\"], [0.5555555555555556, \"#d8576b\"], [0.6666666666666666, \"#ed7953\"], [0.7777777777777778, \"#fb9f3a\"], [0.8888888888888888, \"#fdca26\"], [1.0, \"#f0f921\"]], \"type\": \"histogram2dcontour\"}], \"mesh3d\": [{\"colorbar\": {\"outlinewidth\": 0, \"ticks\": \"\"}, \"type\": \"mesh3d\"}], \"parcoords\": [{\"line\": {\"colorbar\": {\"outlinewidth\": 0, \"ticks\": \"\"}}, \"type\": \"parcoords\"}], \"pie\": [{\"automargin\": true, \"type\": \"pie\"}], \"scatter\": [{\"marker\": {\"colorbar\": {\"outlinewidth\": 0, \"ticks\": \"\"}}, \"type\": \"scatter\"}], \"scatter3d\": [{\"line\": {\"colorbar\": {\"outlinewidth\": 0, \"ticks\": \"\"}}, \"marker\": {\"colorbar\": {\"outlinewidth\": 0, \"ticks\": \"\"}}, \"type\": \"scatter3d\"}], \"scattercarpet\": [{\"marker\": {\"colorbar\": {\"outlinewidth\": 0, \"ticks\": \"\"}}, \"type\": \"scattercarpet\"}], \"scattergeo\": [{\"marker\": {\"colorbar\": {\"outlinewidth\": 0, \"ticks\": \"\"}}, \"type\": \"scattergeo\"}], \"scattergl\": [{\"marker\": {\"colorbar\": {\"outlinewidth\": 0, \"ticks\": \"\"}}, \"type\": \"scattergl\"}], \"scattermapbox\": [{\"marker\": {\"colorbar\": {\"outlinewidth\": 0, \"ticks\": \"\"}}, \"type\": \"scattermapbox\"}], \"scatterpolar\": [{\"marker\": {\"colorbar\": {\"outlinewidth\": 0, \"ticks\": \"\"}}, \"type\": \"scatterpolar\"}], \"scatterpolargl\": [{\"marker\": {\"colorbar\": {\"outlinewidth\": 0, \"ticks\": \"\"}}, \"type\": \"scatterpolargl\"}], \"scatterternary\": [{\"marker\": {\"colorbar\": {\"outlinewidth\": 0, \"ticks\": \"\"}}, \"type\": \"scatterternary\"}], \"surface\": [{\"colorbar\": {\"outlinewidth\": 0, \"ticks\": \"\"}, \"colorscale\": [[0.0, \"#0d0887\"], [0.1111111111111111, \"#46039f\"], [0.2222222222222222, \"#7201a8\"], [0.3333333333333333, \"#9c179e\"], [0.4444444444444444, \"#bd3786\"], [0.5555555555555556, \"#d8576b\"], [0.6666666666666666, \"#ed7953\"], [0.7777777777777778, \"#fb9f3a\"], [0.8888888888888888, \"#fdca26\"], [1.0, \"#f0f921\"]], \"type\": \"surface\"}], \"table\": [{\"cells\": {\"fill\": {\"color\": \"#EBF0F8\"}, \"line\": {\"color\": \"white\"}}, \"header\": {\"fill\": {\"color\": \"#C8D4E3\"}, \"line\": {\"color\": \"white\"}}, \"type\": \"table\"}]}, \"layout\": {\"annotationdefaults\": {\"arrowcolor\": \"#2a3f5f\", \"arrowhead\": 0, \"arrowwidth\": 1}, \"coloraxis\": {\"colorbar\": {\"outlinewidth\": 0, \"ticks\": \"\"}}, \"colorscale\": {\"diverging\": [[0, \"#8e0152\"], [0.1, \"#c51b7d\"], [0.2, \"#de77ae\"], [0.3, \"#f1b6da\"], [0.4, \"#fde0ef\"], [0.5, \"#f7f7f7\"], [0.6, \"#e6f5d0\"], [0.7, \"#b8e186\"], [0.8, \"#7fbc41\"], [0.9, \"#4d9221\"], [1, \"#276419\"]], \"sequential\": [[0.0, \"#0d0887\"], [0.1111111111111111, \"#46039f\"], [0.2222222222222222, \"#7201a8\"], [0.3333333333333333, \"#9c179e\"], [0.4444444444444444, \"#bd3786\"], [0.5555555555555556, \"#d8576b\"], [0.6666666666666666, \"#ed7953\"], [0.7777777777777778, \"#fb9f3a\"], [0.8888888888888888, \"#fdca26\"], [1.0, \"#f0f921\"]], \"sequentialminus\": [[0.0, \"#0d0887\"], [0.1111111111111111, \"#46039f\"], [0.2222222222222222, \"#7201a8\"], [0.3333333333333333, \"#9c179e\"], [0.4444444444444444, \"#bd3786\"], [0.5555555555555556, \"#d8576b\"], [0.6666666666666666, \"#ed7953\"], [0.7777777777777778, \"#fb9f3a\"], [0.8888888888888888, \"#fdca26\"], [1.0, \"#f0f921\"]]}, \"colorway\": [\"#636efa\", \"#EF553B\", \"#00cc96\", \"#ab63fa\", \"#FFA15A\", \"#19d3f3\", \"#FF6692\", \"#B6E880\", \"#FF97FF\", \"#FECB52\"], \"font\": {\"color\": \"#2a3f5f\"}, \"geo\": {\"bgcolor\": \"white\", \"lakecolor\": \"white\", \"landcolor\": \"#E5ECF6\", \"showlakes\": true, \"showland\": true, \"subunitcolor\": \"white\"}, \"hoverlabel\": {\"align\": \"left\"}, \"hovermode\": \"closest\", \"mapbox\": {\"style\": \"light\"}, \"paper_bgcolor\": \"white\", \"plot_bgcolor\": \"#E5ECF6\", \"polar\": {\"angularaxis\": {\"gridcolor\": \"white\", \"linecolor\": \"white\", \"ticks\": \"\"}, \"bgcolor\": \"#E5ECF6\", \"radialaxis\": {\"gridcolor\": \"white\", \"linecolor\": \"white\", \"ticks\": \"\"}}, \"scene\": {\"xaxis\": {\"backgroundcolor\": \"#E5ECF6\", \"gridcolor\": \"white\", \"gridwidth\": 2, \"linecolor\": \"white\", \"showbackground\": true, \"ticks\": \"\", \"zerolinecolor\": \"white\"}, \"yaxis\": {\"backgroundcolor\": \"#E5ECF6\", \"gridcolor\": \"white\", \"gridwidth\": 2, \"linecolor\": \"white\", \"showbackground\": true, \"ticks\": \"\", \"zerolinecolor\": \"white\"}, \"zaxis\": {\"backgroundcolor\": \"#E5ECF6\", \"gridcolor\": \"white\", \"gridwidth\": 2, \"linecolor\": \"white\", \"showbackground\": true, \"ticks\": \"\", \"zerolinecolor\": \"white\"}}, \"shapedefaults\": {\"line\": {\"color\": \"#2a3f5f\"}}, \"ternary\": {\"aaxis\": {\"gridcolor\": \"white\", \"linecolor\": \"white\", \"ticks\": \"\"}, \"baxis\": {\"gridcolor\": \"white\", \"linecolor\": \"white\", \"ticks\": \"\"}, \"bgcolor\": \"#E5ECF6\", \"caxis\": {\"gridcolor\": \"white\", \"linecolor\": \"white\", \"ticks\": \"\"}}, \"title\": {\"x\": 0.05}, \"xaxis\": {\"automargin\": true, \"gridcolor\": \"white\", \"linecolor\": \"white\", \"ticks\": \"\", \"title\": {\"standoff\": 15}, \"zerolinecolor\": \"white\", \"zerolinewidth\": 2}, \"yaxis\": {\"automargin\": true, \"gridcolor\": \"white\", \"linecolor\": \"white\", \"ticks\": \"\", \"title\": {\"standoff\": 15}, \"zerolinecolor\": \"white\", \"zerolinewidth\": 2}}}, \"title\": {\"text\": \"Gender wise drop-out rates among higher secondary category - 2012-13, 2013-14, 2014-15\"}, \"yaxis\": {\"title\": {\"text\": \"rates\"}}},\n",
              "                        {\"responsive\": true}\n",
              "                    ).then(function(){\n",
              "                            \n",
              "var gd = document.getElementById('fa419d76-eff3-4d82-9b5c-2e22dfdb68b4');\n",
              "var x = new MutationObserver(function (mutations, observer) {{\n",
              "        var display = window.getComputedStyle(gd).display;\n",
              "        if (!display || display === 'none') {{\n",
              "            console.log([gd, 'removed!']);\n",
              "            Plotly.purge(gd);\n",
              "            observer.disconnect();\n",
              "        }}\n",
              "}});\n",
              "\n",
              "// Listen for the removal of the full notebook cells\n",
              "var notebookContainer = gd.closest('#notebook-container');\n",
              "if (notebookContainer) {{\n",
              "    x.observe(notebookContainer, {childList: true});\n",
              "}}\n",
              "\n",
              "// Listen for the clearing of the current output cell\n",
              "var outputEl = gd.closest('.output');\n",
              "if (outputEl) {{\n",
              "    x.observe(outputEl, {childList: true});\n",
              "}}\n",
              "\n",
              "                        })\n",
              "                };\n",
              "                \n",
              "            </script>\n",
              "        </div>\n",
              "</body>\n",
              "</html>"
            ]
          },
          "metadata": {
            "tags": []
          }
        }
      ]
    },
    {
      "cell_type": "markdown",
      "metadata": {
        "id": "9kuqd8a7F397"
      },
      "source": [
        "In Daman & Diu, A continuous increase was observed in the dropout\n",
        "rates of the students, the male dropout increased from 14.48 in 2013-14 to 44.38 in 2014-15. similarly the dropout increased from 4.89 in 2013-14 to 36.05 for the female students.\n",
        "\n",
        "we have more male students droping out in the top 5 highest drop-out states in india  "
      ]
    },
    {
      "cell_type": "markdown",
      "metadata": {
        "id": "hJJVapcVPxNk"
      },
      "source": [
        "\n",
        "## While there isn’t a huge gap in the percentages of boys and girls dropping out, the reasons for them not continuing with their education are very different."
      ]
    }
  ]
}