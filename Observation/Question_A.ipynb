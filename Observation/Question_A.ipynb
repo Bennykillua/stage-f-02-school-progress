{
 "cells": [
  {
   "cell_type": "code",
   "execution_count": 1,
   "metadata": {},
   "outputs": [],
   "source": [
    "import warnings\n",
    "warnings.filterwarnings('ignore')\n",
    "\n",
    "# Import Relevant Packages\n",
    "import pandas as pd\n",
    "import numpy as np\n",
    "import matplotlib.pyplot as plt\n",
    "import seaborn as sns"
   ]
  },
  {
   "cell_type": "markdown",
   "metadata": {},
   "source": [
    "# Dropout rate"
   ]
  },
  {
   "cell_type": "code",
   "execution_count": 2,
   "metadata": {},
   "outputs": [
    {
     "data": {
      "text/html": [
       "<div>\n",
       "<style scoped>\n",
       "    .dataframe tbody tr th:only-of-type {\n",
       "        vertical-align: middle;\n",
       "    }\n",
       "\n",
       "    .dataframe tbody tr th {\n",
       "        vertical-align: top;\n",
       "    }\n",
       "\n",
       "    .dataframe thead th {\n",
       "        text-align: right;\n",
       "    }\n",
       "</style>\n",
       "<table border=\"1\" class=\"dataframe\">\n",
       "  <thead>\n",
       "    <tr style=\"text-align: right;\">\n",
       "      <th></th>\n",
       "      <th>State_UT</th>\n",
       "      <th>year</th>\n",
       "      <th>Primary_Boys</th>\n",
       "      <th>Primary_Girls</th>\n",
       "      <th>Primary_Total</th>\n",
       "      <th>Upper Primary_Boys</th>\n",
       "      <th>Upper Primary_Girls</th>\n",
       "      <th>Upper Primary_Total</th>\n",
       "      <th>Secondary _Boys</th>\n",
       "      <th>Secondary _Girls</th>\n",
       "      <th>Secondary _Total</th>\n",
       "      <th>HrSecondary_Boys</th>\n",
       "      <th>HrSecondary_Girls</th>\n",
       "      <th>HrSecondary_Total</th>\n",
       "    </tr>\n",
       "  </thead>\n",
       "  <tbody>\n",
       "    <tr>\n",
       "      <th>0</th>\n",
       "      <td>A &amp; N Islands</td>\n",
       "      <td>2012-13</td>\n",
       "      <td>0.83</td>\n",
       "      <td>0.51</td>\n",
       "      <td>0.68</td>\n",
       "      <td>0.00</td>\n",
       "      <td>1.09</td>\n",
       "      <td>1.23</td>\n",
       "      <td>5.57</td>\n",
       "      <td>5.55</td>\n",
       "      <td>5.56</td>\n",
       "      <td>17.66</td>\n",
       "      <td>10.15</td>\n",
       "      <td>14.14</td>\n",
       "    </tr>\n",
       "    <tr>\n",
       "      <th>1</th>\n",
       "      <td>A &amp; N Islands</td>\n",
       "      <td>2013-14</td>\n",
       "      <td>1.35</td>\n",
       "      <td>1.06</td>\n",
       "      <td>1.21</td>\n",
       "      <td>0.00</td>\n",
       "      <td>1.54</td>\n",
       "      <td>0.51</td>\n",
       "      <td>8.36</td>\n",
       "      <td>5.98</td>\n",
       "      <td>7.20</td>\n",
       "      <td>18.94</td>\n",
       "      <td>12.20</td>\n",
       "      <td>15.87</td>\n",
       "    </tr>\n",
       "    <tr>\n",
       "      <th>2</th>\n",
       "      <td>A &amp; N Islands</td>\n",
       "      <td>2014-15</td>\n",
       "      <td>0.47</td>\n",
       "      <td>0.55</td>\n",
       "      <td>0.51</td>\n",
       "      <td>1.44</td>\n",
       "      <td>1.95</td>\n",
       "      <td>1.69</td>\n",
       "      <td>11.47</td>\n",
       "      <td>8.16</td>\n",
       "      <td>9.87</td>\n",
       "      <td>21.05</td>\n",
       "      <td>12.21</td>\n",
       "      <td>16.93</td>\n",
       "    </tr>\n",
       "    <tr>\n",
       "      <th>3</th>\n",
       "      <td>Andhra Pradesh</td>\n",
       "      <td>2012-13</td>\n",
       "      <td>3.30</td>\n",
       "      <td>3.05</td>\n",
       "      <td>3.18</td>\n",
       "      <td>3.21</td>\n",
       "      <td>3.51</td>\n",
       "      <td>3.36</td>\n",
       "      <td>12.21</td>\n",
       "      <td>13.25</td>\n",
       "      <td>12.72</td>\n",
       "      <td>2.66</td>\n",
       "      <td>0.00</td>\n",
       "      <td>0.35</td>\n",
       "    </tr>\n",
       "    <tr>\n",
       "      <th>4</th>\n",
       "      <td>Andhra Pradesh</td>\n",
       "      <td>2013-14</td>\n",
       "      <td>4.31</td>\n",
       "      <td>4.39</td>\n",
       "      <td>4.35</td>\n",
       "      <td>3.46</td>\n",
       "      <td>4.12</td>\n",
       "      <td>3.78</td>\n",
       "      <td>11.95</td>\n",
       "      <td>13.37</td>\n",
       "      <td>12.65</td>\n",
       "      <td>12.65</td>\n",
       "      <td>10.85</td>\n",
       "      <td>11.79</td>\n",
       "    </tr>\n",
       "  </tbody>\n",
       "</table>\n",
       "</div>"
      ],
      "text/plain": [
       "         State_UT     year  Primary_Boys  Primary_Girls  Primary_Total  \\\n",
       "0   A & N Islands  2012-13          0.83           0.51           0.68   \n",
       "1   A & N Islands  2013-14          1.35           1.06           1.21   \n",
       "2   A & N Islands  2014-15          0.47           0.55           0.51   \n",
       "3  Andhra Pradesh  2012-13          3.30           3.05           3.18   \n",
       "4  Andhra Pradesh  2013-14          4.31           4.39           4.35   \n",
       "\n",
       "   Upper Primary_Boys  Upper Primary_Girls  Upper Primary_Total  \\\n",
       "0                0.00                 1.09                 1.23   \n",
       "1                0.00                 1.54                 0.51   \n",
       "2                1.44                 1.95                 1.69   \n",
       "3                3.21                 3.51                 3.36   \n",
       "4                3.46                 4.12                 3.78   \n",
       "\n",
       "   Secondary _Boys  Secondary _Girls  Secondary _Total  HrSecondary_Boys  \\\n",
       "0             5.57              5.55              5.56             17.66   \n",
       "1             8.36              5.98              7.20             18.94   \n",
       "2            11.47              8.16              9.87             21.05   \n",
       "3            12.21             13.25             12.72              2.66   \n",
       "4            11.95             13.37             12.65             12.65   \n",
       "\n",
       "   HrSecondary_Girls  HrSecondary_Total  \n",
       "0              10.15              14.14  \n",
       "1              12.20              15.87  \n",
       "2              12.21              16.93  \n",
       "3               0.00               0.35  \n",
       "4              10.85              11.79  "
      ]
     },
     "execution_count": 2,
     "metadata": {},
     "output_type": "execute_result"
    }
   ],
   "source": [
    "drop_out = pd.read_csv('dropout.csv')\n",
    "drop_out.drop(\"Unnamed: 0\", axis = \"columns\", inplace=True)\n",
    "drop_out.head()"
   ]
  },
  {
   "cell_type": "code",
   "execution_count": 3,
   "metadata": {},
   "outputs": [],
   "source": [
    "#exploring for just all indian\n",
    "\n",
    "drop_outall = drop_out[drop_out[\"State_UT\"]==\"All India\"].reset_index(drop=True)"
   ]
  },
  {
   "cell_type": "code",
   "execution_count": 4,
   "metadata": {},
   "outputs": [],
   "source": [
    "#dataframe of just the result from total\n",
    "\n",
    "dropoutall = drop_outall.drop(columns=['Primary_Boys', 'Primary_Girls', 'Upper Primary_Boys', 'Upper Primary_Girls',\n",
    "                                        'Secondary _Boys', 'Secondary _Girls','HrSecondary_Boys', 'HrSecondary_Girls'])"
   ]
  },
  {
   "cell_type": "code",
   "execution_count": 5,
   "metadata": {},
   "outputs": [],
   "source": [
    "dropoutall.columns = dropoutall.columns.map(lambda x : x + \"_dropout\" if x != \"State_UT\" and x != 'year' else x)"
   ]
  },
  {
   "cell_type": "code",
   "execution_count": 6,
   "metadata": {},
   "outputs": [
    {
     "data": {
      "text/html": [
       "<div>\n",
       "<style scoped>\n",
       "    .dataframe tbody tr th:only-of-type {\n",
       "        vertical-align: middle;\n",
       "    }\n",
       "\n",
       "    .dataframe tbody tr th {\n",
       "        vertical-align: top;\n",
       "    }\n",
       "\n",
       "    .dataframe thead th {\n",
       "        text-align: right;\n",
       "    }\n",
       "</style>\n",
       "<table border=\"1\" class=\"dataframe\">\n",
       "  <thead>\n",
       "    <tr style=\"text-align: right;\">\n",
       "      <th></th>\n",
       "      <th>State_UT</th>\n",
       "      <th>year</th>\n",
       "      <th>Primary_Total_dropout</th>\n",
       "      <th>Upper Primary_Total_dropout</th>\n",
       "      <th>Secondary _Total_dropout</th>\n",
       "      <th>HrSecondary_Total_dropout</th>\n",
       "    </tr>\n",
       "  </thead>\n",
       "  <tbody>\n",
       "    <tr>\n",
       "      <th>0</th>\n",
       "      <td>All India</td>\n",
       "      <td>2012-13</td>\n",
       "      <td>4.67</td>\n",
       "      <td>3.13</td>\n",
       "      <td>14.54</td>\n",
       "      <td>0.00</td>\n",
       "    </tr>\n",
       "    <tr>\n",
       "      <th>1</th>\n",
       "      <td>All India</td>\n",
       "      <td>2013-14</td>\n",
       "      <td>4.34</td>\n",
       "      <td>3.77</td>\n",
       "      <td>17.86</td>\n",
       "      <td>1.54</td>\n",
       "    </tr>\n",
       "    <tr>\n",
       "      <th>2</th>\n",
       "      <td>All India</td>\n",
       "      <td>2014-15</td>\n",
       "      <td>4.13</td>\n",
       "      <td>4.03</td>\n",
       "      <td>17.06</td>\n",
       "      <td>0.00</td>\n",
       "    </tr>\n",
       "  </tbody>\n",
       "</table>\n",
       "</div>"
      ],
      "text/plain": [
       "    State_UT     year  Primary_Total_dropout  Upper Primary_Total_dropout  \\\n",
       "0  All India  2012-13                   4.67                         3.13   \n",
       "1  All India  2013-14                   4.34                         3.77   \n",
       "2  All India  2014-15                   4.13                         4.03   \n",
       "\n",
       "   Secondary _Total_dropout  HrSecondary_Total_dropout  \n",
       "0                     14.54                       0.00  \n",
       "1                     17.86                       1.54  \n",
       "2                     17.06                       0.00  "
      ]
     },
     "execution_count": 6,
     "metadata": {},
     "output_type": "execute_result"
    }
   ],
   "source": [
    "dropoutall.head()"
   ]
  },
  {
   "cell_type": "markdown",
   "metadata": {},
   "source": [
    "# Percentage of Schools with Electricity"
   ]
  },
  {
   "cell_type": "code",
   "execution_count": 7,
   "metadata": {},
   "outputs": [],
   "source": [
    "elect = pd.read_csv('percentage-of-schools-with-electricity-2013-2016.csv')\n",
    "\n",
    "#exploring for just all indian\n",
    "elect = elect.loc[elect[\"State_UT\"]==\"All India\"].reset_index(drop=True)"
   ]
  },
  {
   "cell_type": "code",
   "execution_count": 8,
   "metadata": {},
   "outputs": [
    {
     "data": {
      "text/html": [
       "<div>\n",
       "<style scoped>\n",
       "    .dataframe tbody tr th:only-of-type {\n",
       "        vertical-align: middle;\n",
       "    }\n",
       "\n",
       "    .dataframe tbody tr th {\n",
       "        vertical-align: top;\n",
       "    }\n",
       "\n",
       "    .dataframe thead th {\n",
       "        text-align: right;\n",
       "    }\n",
       "</style>\n",
       "<table border=\"1\" class=\"dataframe\">\n",
       "  <thead>\n",
       "    <tr style=\"text-align: right;\">\n",
       "      <th></th>\n",
       "      <th>State_UT</th>\n",
       "      <th>year</th>\n",
       "      <th>Primary_Only</th>\n",
       "      <th>U_Primary_Only</th>\n",
       "      <th>Sec_Only</th>\n",
       "      <th>HrSec_Only</th>\n",
       "    </tr>\n",
       "  </thead>\n",
       "  <tbody>\n",
       "    <tr>\n",
       "      <th>0</th>\n",
       "      <td>All India</td>\n",
       "      <td>2013-14</td>\n",
       "      <td>46.38</td>\n",
       "      <td>45.97</td>\n",
       "      <td>75.08</td>\n",
       "      <td>91.01</td>\n",
       "    </tr>\n",
       "    <tr>\n",
       "      <th>1</th>\n",
       "      <td>All India</td>\n",
       "      <td>2014-15</td>\n",
       "      <td>49.63</td>\n",
       "      <td>48.33</td>\n",
       "      <td>77.55</td>\n",
       "      <td>92.67</td>\n",
       "    </tr>\n",
       "    <tr>\n",
       "      <th>2</th>\n",
       "      <td>All India</td>\n",
       "      <td>2015-16</td>\n",
       "      <td>52.40</td>\n",
       "      <td>49.86</td>\n",
       "      <td>81.50</td>\n",
       "      <td>92.86</td>\n",
       "    </tr>\n",
       "  </tbody>\n",
       "</table>\n",
       "</div>"
      ],
      "text/plain": [
       "    State_UT     year  Primary_Only  U_Primary_Only  Sec_Only  HrSec_Only\n",
       "0  All India  2013-14         46.38           45.97     75.08       91.01\n",
       "1  All India  2014-15         49.63           48.33     77.55       92.67\n",
       "2  All India  2015-16         52.40           49.86     81.50       92.86"
      ]
     },
     "execution_count": 8,
     "metadata": {},
     "output_type": "execute_result"
    }
   ],
   "source": [
    "#dataframe of just the result from total\n",
    "\n",
    "elect = elect.drop(columns=['Primary_with_U_Primary', 'Primary_with_U_Primary_Sec_HrSec', \n",
    "       'U_Primary_With_Sec_HrSec', 'Primary_with_U_Primary_Sec','U_Primary_With_Sec',  'Sec_with_HrSec.', 'All Schools'])\n",
    "    \n",
    "elect.head()"
   ]
  },
  {
   "cell_type": "code",
   "execution_count": 9,
   "metadata": {},
   "outputs": [
    {
     "data": {
      "text/html": [
       "<div>\n",
       "<style scoped>\n",
       "    .dataframe tbody tr th:only-of-type {\n",
       "        vertical-align: middle;\n",
       "    }\n",
       "\n",
       "    .dataframe tbody tr th {\n",
       "        vertical-align: top;\n",
       "    }\n",
       "\n",
       "    .dataframe thead th {\n",
       "        text-align: right;\n",
       "    }\n",
       "</style>\n",
       "<table border=\"1\" class=\"dataframe\">\n",
       "  <thead>\n",
       "    <tr style=\"text-align: right;\">\n",
       "      <th></th>\n",
       "      <th>State_UT_elect</th>\n",
       "      <th>year_elect</th>\n",
       "      <th>Primary_Only_elect</th>\n",
       "      <th>U_Primary_Only_elect</th>\n",
       "      <th>Sec_Only_elect</th>\n",
       "      <th>HrSec_Only_elect</th>\n",
       "    </tr>\n",
       "  </thead>\n",
       "  <tbody>\n",
       "    <tr>\n",
       "      <th>0</th>\n",
       "      <td>All India</td>\n",
       "      <td>2013-14</td>\n",
       "      <td>46.38</td>\n",
       "      <td>45.97</td>\n",
       "      <td>75.08</td>\n",
       "      <td>91.01</td>\n",
       "    </tr>\n",
       "    <tr>\n",
       "      <th>1</th>\n",
       "      <td>All India</td>\n",
       "      <td>2014-15</td>\n",
       "      <td>49.63</td>\n",
       "      <td>48.33</td>\n",
       "      <td>77.55</td>\n",
       "      <td>92.67</td>\n",
       "    </tr>\n",
       "    <tr>\n",
       "      <th>2</th>\n",
       "      <td>All India</td>\n",
       "      <td>2015-16</td>\n",
       "      <td>52.40</td>\n",
       "      <td>49.86</td>\n",
       "      <td>81.50</td>\n",
       "      <td>92.86</td>\n",
       "    </tr>\n",
       "  </tbody>\n",
       "</table>\n",
       "</div>"
      ],
      "text/plain": [
       "  State_UT_elect year_elect  Primary_Only_elect  U_Primary_Only_elect  \\\n",
       "0      All India    2013-14               46.38                 45.97   \n",
       "1      All India    2014-15               49.63                 48.33   \n",
       "2      All India    2015-16               52.40                 49.86   \n",
       "\n",
       "   Sec_Only_elect  HrSec_Only_elect  \n",
       "0           75.08             91.01  \n",
       "1           77.55             92.67  \n",
       "2           81.50             92.86  "
      ]
     },
     "execution_count": 9,
     "metadata": {},
     "output_type": "execute_result"
    }
   ],
   "source": [
    "elect.columns=[str(col) + \"_elect\" for col in elect.columns]\n",
    "elect.head()"
   ]
  },
  {
   "cell_type": "code",
   "execution_count": 10,
   "metadata": {},
   "outputs": [],
   "source": [
    "#joining it to the droupout df\n",
    "\n",
    "Total = dropoutall.join(elect.iloc[:,-4:]) "
   ]
  },
  {
   "cell_type": "markdown",
   "metadata": {},
   "source": [
    "# Percentage of Schools with Computers"
   ]
  },
  {
   "cell_type": "code",
   "execution_count": 11,
   "metadata": {},
   "outputs": [],
   "source": [
    "comps = pd.read_csv('percentage-of-schools-with-comps-2013-2016.csv', index_col=None)\n",
    "\n",
    "#exploring for just all indian\n",
    "comps = comps.loc[comps[\"State_UT\"]==\"All India\"].reset_index(drop=True)\n",
    "\n",
    "#dataframe of just the result from total\n",
    "comps = comps.drop(columns=['Primary_with_U_Primary', 'Primary_with_U_Primary_Sec_HrSec', \n",
    "       'U_Primary_With_Sec_HrSec', 'Primary_with_U_Primary_Sec','U_Primary_With_Sec',  'Sec_with_HrSec.', 'All Schools'])"
   ]
  },
  {
   "cell_type": "code",
   "execution_count": 12,
   "metadata": {},
   "outputs": [
    {
     "data": {
      "text/html": [
       "<div>\n",
       "<style scoped>\n",
       "    .dataframe tbody tr th:only-of-type {\n",
       "        vertical-align: middle;\n",
       "    }\n",
       "\n",
       "    .dataframe tbody tr th {\n",
       "        vertical-align: top;\n",
       "    }\n",
       "\n",
       "    .dataframe thead th {\n",
       "        text-align: right;\n",
       "    }\n",
       "</style>\n",
       "<table border=\"1\" class=\"dataframe\">\n",
       "  <thead>\n",
       "    <tr style=\"text-align: right;\">\n",
       "      <th></th>\n",
       "      <th>State_UT_comps</th>\n",
       "      <th>year_comps</th>\n",
       "      <th>Primary_Only_comps</th>\n",
       "      <th>U_Primary_Only_comps</th>\n",
       "      <th>Sec_Only_comps</th>\n",
       "      <th>HrSec_Only_comps</th>\n",
       "    </tr>\n",
       "  </thead>\n",
       "  <tbody>\n",
       "    <tr>\n",
       "      <th>0</th>\n",
       "      <td>All India</td>\n",
       "      <td>2013-14</td>\n",
       "      <td>9.25</td>\n",
       "      <td>18.22</td>\n",
       "      <td>44.80</td>\n",
       "      <td>26.65</td>\n",
       "    </tr>\n",
       "    <tr>\n",
       "      <th>1</th>\n",
       "      <td>All India</td>\n",
       "      <td>2014-15</td>\n",
       "      <td>10.32</td>\n",
       "      <td>19.40</td>\n",
       "      <td>51.27</td>\n",
       "      <td>47.96</td>\n",
       "    </tr>\n",
       "    <tr>\n",
       "      <th>2</th>\n",
       "      <td>All India</td>\n",
       "      <td>2015-16</td>\n",
       "      <td>10.36</td>\n",
       "      <td>19.78</td>\n",
       "      <td>53.05</td>\n",
       "      <td>55.72</td>\n",
       "    </tr>\n",
       "  </tbody>\n",
       "</table>\n",
       "</div>"
      ],
      "text/plain": [
       "  State_UT_comps year_comps  Primary_Only_comps  U_Primary_Only_comps  \\\n",
       "0      All India    2013-14                9.25                 18.22   \n",
       "1      All India    2014-15               10.32                 19.40   \n",
       "2      All India    2015-16               10.36                 19.78   \n",
       "\n",
       "   Sec_Only_comps  HrSec_Only_comps  \n",
       "0           44.80             26.65  \n",
       "1           51.27             47.96  \n",
       "2           53.05             55.72  "
      ]
     },
     "execution_count": 12,
     "metadata": {},
     "output_type": "execute_result"
    }
   ],
   "source": [
    "comps.columns=[str(col) + \"_comps\" for col in comps.columns]\n",
    "comps.head()"
   ]
  },
  {
   "cell_type": "code",
   "execution_count": 13,
   "metadata": {},
   "outputs": [],
   "source": [
    "#Adding it to my Total df which would have all the dataset in one df \n",
    "\n",
    "Total=Total.join(comps.iloc[:,-4:])"
   ]
  },
  {
   "cell_type": "markdown",
   "metadata": {},
   "source": [
    "# Schools with Toilets\n",
    "\n",
    "### Boy toilet"
   ]
  },
  {
   "cell_type": "code",
   "execution_count": 14,
   "metadata": {},
   "outputs": [],
   "source": [
    "boystoilet = pd.read_csv('schools-with-boys-toilet-2013-2016.csv')\n",
    "\n",
    "#exploring for just all indian\n",
    "boystoilet = boystoilet.loc[boystoilet[\"State_UT\"]==\"All India\"].reset_index(drop=True)\n",
    "\n",
    "#dataframe of just the result from total\n",
    "boystoilet = boystoilet.drop(columns=['Primary_with_U_Primary', 'Primary_with_U_Primary_Sec_HrSec', \n",
    "       'U_Primary_With_Sec_HrSec', 'Primary_with_U_Primary_Sec','U_Primary_With_Sec',  'Sec_with_HrSec.', 'All Schools'])"
   ]
  },
  {
   "cell_type": "code",
   "execution_count": 15,
   "metadata": {},
   "outputs": [
    {
     "data": {
      "text/html": [
       "<div>\n",
       "<style scoped>\n",
       "    .dataframe tbody tr th:only-of-type {\n",
       "        vertical-align: middle;\n",
       "    }\n",
       "\n",
       "    .dataframe tbody tr th {\n",
       "        vertical-align: top;\n",
       "    }\n",
       "\n",
       "    .dataframe thead th {\n",
       "        text-align: right;\n",
       "    }\n",
       "</style>\n",
       "<table border=\"1\" class=\"dataframe\">\n",
       "  <thead>\n",
       "    <tr style=\"text-align: right;\">\n",
       "      <th></th>\n",
       "      <th>State_UT_boystoilet</th>\n",
       "      <th>year_boystoilet</th>\n",
       "      <th>Primary_Only_boystoilet</th>\n",
       "      <th>U_Primary_Only_boystoilet</th>\n",
       "      <th>Sec_Only_boystoilet</th>\n",
       "      <th>HrSec_Only_boystoilet</th>\n",
       "    </tr>\n",
       "  </thead>\n",
       "  <tbody>\n",
       "    <tr>\n",
       "      <th>0</th>\n",
       "      <td>All India</td>\n",
       "      <td>2013-14</td>\n",
       "      <td>84.01</td>\n",
       "      <td>88.14</td>\n",
       "      <td>97.97</td>\n",
       "      <td>74.36</td>\n",
       "    </tr>\n",
       "    <tr>\n",
       "      <th>1</th>\n",
       "      <td>All India</td>\n",
       "      <td>2014-15</td>\n",
       "      <td>85.66</td>\n",
       "      <td>88.12</td>\n",
       "      <td>89.10</td>\n",
       "      <td>88.97</td>\n",
       "    </tr>\n",
       "    <tr>\n",
       "      <th>2</th>\n",
       "      <td>All India</td>\n",
       "      <td>2015-16</td>\n",
       "      <td>96.45</td>\n",
       "      <td>96.00</td>\n",
       "      <td>94.56</td>\n",
       "      <td>95.67</td>\n",
       "    </tr>\n",
       "  </tbody>\n",
       "</table>\n",
       "</div>"
      ],
      "text/plain": [
       "  State_UT_boystoilet year_boystoilet  Primary_Only_boystoilet  \\\n",
       "0           All India         2013-14                    84.01   \n",
       "1           All India         2014-15                    85.66   \n",
       "2           All India         2015-16                    96.45   \n",
       "\n",
       "   U_Primary_Only_boystoilet  Sec_Only_boystoilet  HrSec_Only_boystoilet  \n",
       "0                      88.14                97.97                  74.36  \n",
       "1                      88.12                89.10                  88.97  \n",
       "2                      96.00                94.56                  95.67  "
      ]
     },
     "execution_count": 15,
     "metadata": {},
     "output_type": "execute_result"
    }
   ],
   "source": [
    "boystoilet.columns=[str(col) + \"_boystoilet\" for col in boystoilet.columns]\n",
    "boystoilet.head()"
   ]
  },
  {
   "cell_type": "code",
   "execution_count": 16,
   "metadata": {},
   "outputs": [],
   "source": [
    "#Adding it to my Total df which would have all the dataset in one df \n",
    "\n",
    "Total=Total.join(boystoilet.iloc[:,-4:])"
   ]
  },
  {
   "cell_type": "markdown",
   "metadata": {},
   "source": [
    "### Girl Toilet"
   ]
  },
  {
   "cell_type": "code",
   "execution_count": 17,
   "metadata": {},
   "outputs": [],
   "source": [
    "girlstoilet = pd.read_csv('schools-with-girls-toilet-2013-2016.csv')\n",
    "\n",
    "#exploring for just all indian\n",
    "girlstoilet = girlstoilet.loc[girlstoilet[\"State_UT\"]==\"All India\"].reset_index(drop=True)\n",
    "\n",
    "#dataframe of just the result from total\n",
    "girlstoilet = girlstoilet.drop(columns=['Primary_with_U_Primary', 'Primary_with_U_Primary_Sec_HrSec', \n",
    "       'U_Primary_With_Sec_HrSec', 'Primary_with_U_Primary_Sec','U_Primary_With_Sec',  'Sec_with_HrSec.', 'All Schools'])"
   ]
  },
  {
   "cell_type": "code",
   "execution_count": 18,
   "metadata": {},
   "outputs": [
    {
     "data": {
      "text/html": [
       "<div>\n",
       "<style scoped>\n",
       "    .dataframe tbody tr th:only-of-type {\n",
       "        vertical-align: middle;\n",
       "    }\n",
       "\n",
       "    .dataframe tbody tr th {\n",
       "        vertical-align: top;\n",
       "    }\n",
       "\n",
       "    .dataframe thead th {\n",
       "        text-align: right;\n",
       "    }\n",
       "</style>\n",
       "<table border=\"1\" class=\"dataframe\">\n",
       "  <thead>\n",
       "    <tr style=\"text-align: right;\">\n",
       "      <th></th>\n",
       "      <th>State_UT_girlstoilet</th>\n",
       "      <th>year_girlstoilet</th>\n",
       "      <th>Primary_Only_girlstoilet</th>\n",
       "      <th>U_Primary_Only_girlstoilet</th>\n",
       "      <th>Sec_Only_girlstoilet</th>\n",
       "      <th>HrSec_Only_girlstoilet</th>\n",
       "    </tr>\n",
       "  </thead>\n",
       "  <tbody>\n",
       "    <tr>\n",
       "      <th>0</th>\n",
       "      <td>All India</td>\n",
       "      <td>2013-14</td>\n",
       "      <td>88.68</td>\n",
       "      <td>91.39</td>\n",
       "      <td>99.06</td>\n",
       "      <td>76.14</td>\n",
       "    </tr>\n",
       "    <tr>\n",
       "      <th>1</th>\n",
       "      <td>All India</td>\n",
       "      <td>2014-15</td>\n",
       "      <td>91.21</td>\n",
       "      <td>91.39</td>\n",
       "      <td>90.26</td>\n",
       "      <td>90.94</td>\n",
       "    </tr>\n",
       "    <tr>\n",
       "      <th>2</th>\n",
       "      <td>All India</td>\n",
       "      <td>2015-16</td>\n",
       "      <td>96.95</td>\n",
       "      <td>96.32</td>\n",
       "      <td>95.18</td>\n",
       "      <td>96.22</td>\n",
       "    </tr>\n",
       "  </tbody>\n",
       "</table>\n",
       "</div>"
      ],
      "text/plain": [
       "  State_UT_girlstoilet year_girlstoilet  Primary_Only_girlstoilet  \\\n",
       "0            All India          2013-14                     88.68   \n",
       "1            All India          2014-15                     91.21   \n",
       "2            All India          2015-16                     96.95   \n",
       "\n",
       "   U_Primary_Only_girlstoilet  Sec_Only_girlstoilet  HrSec_Only_girlstoilet  \n",
       "0                       91.39                 99.06                   76.14  \n",
       "1                       91.39                 90.26                   90.94  \n",
       "2                       96.32                 95.18                   96.22  "
      ]
     },
     "execution_count": 18,
     "metadata": {},
     "output_type": "execute_result"
    }
   ],
   "source": [
    "girlstoilet.columns=[str(col) + \"_girlstoilet\" for col in girlstoilet.columns]\n",
    "girlstoilet.head()"
   ]
  },
  {
   "cell_type": "code",
   "execution_count": 19,
   "metadata": {},
   "outputs": [],
   "source": [
    "#Adding it to my Total df which would have all the dataset in one df \n",
    "\n",
    "Total=Total.join(girlstoilet.iloc[:,-4:])"
   ]
  },
  {
   "cell_type": "markdown",
   "metadata": {},
   "source": [
    "# Percentage of Schools with Drinking Water Facility"
   ]
  },
  {
   "cell_type": "code",
   "execution_count": 20,
   "metadata": {},
   "outputs": [],
   "source": [
    "water = pd.read_csv('percentage-of-schools-with-water-facility-2013-2016.csv')\n",
    "\n",
    "#exploring for just all indian\n",
    "water = water.loc[water[\"State/UT\"]==\"All India\"].reset_index(drop=True)"
   ]
  },
  {
   "cell_type": "code",
   "execution_count": 21,
   "metadata": {},
   "outputs": [
    {
     "data": {
      "text/html": [
       "<div>\n",
       "<style scoped>\n",
       "    .dataframe tbody tr th:only-of-type {\n",
       "        vertical-align: middle;\n",
       "    }\n",
       "\n",
       "    .dataframe tbody tr th {\n",
       "        vertical-align: top;\n",
       "    }\n",
       "\n",
       "    .dataframe thead th {\n",
       "        text-align: right;\n",
       "    }\n",
       "</style>\n",
       "<table border=\"1\" class=\"dataframe\">\n",
       "  <thead>\n",
       "    <tr style=\"text-align: right;\">\n",
       "      <th></th>\n",
       "      <th>State/UT</th>\n",
       "      <th>Year</th>\n",
       "      <th>Primary_Only</th>\n",
       "      <th>U_Primary_Only</th>\n",
       "      <th>Sec_Only</th>\n",
       "      <th>HrSec_Only</th>\n",
       "    </tr>\n",
       "  </thead>\n",
       "  <tbody>\n",
       "    <tr>\n",
       "      <th>0</th>\n",
       "      <td>All India</td>\n",
       "      <td>2013-14</td>\n",
       "      <td>94.09</td>\n",
       "      <td>93.90</td>\n",
       "      <td>96.52</td>\n",
       "      <td>97.14</td>\n",
       "    </tr>\n",
       "    <tr>\n",
       "      <th>1</th>\n",
       "      <td>All India</td>\n",
       "      <td>2014-15</td>\n",
       "      <td>94.88</td>\n",
       "      <td>94.82</td>\n",
       "      <td>96.32</td>\n",
       "      <td>98.23</td>\n",
       "    </tr>\n",
       "    <tr>\n",
       "      <th>2</th>\n",
       "      <td>All India</td>\n",
       "      <td>2015-16</td>\n",
       "      <td>95.78</td>\n",
       "      <td>95.65</td>\n",
       "      <td>97.05</td>\n",
       "      <td>97.92</td>\n",
       "    </tr>\n",
       "  </tbody>\n",
       "</table>\n",
       "</div>"
      ],
      "text/plain": [
       "    State/UT     Year  Primary_Only  U_Primary_Only  Sec_Only  HrSec_Only\n",
       "0  All India  2013-14         94.09           93.90     96.52       97.14\n",
       "1  All India  2014-15         94.88           94.82     96.32       98.23\n",
       "2  All India  2015-16         95.78           95.65     97.05       97.92"
      ]
     },
     "execution_count": 21,
     "metadata": {},
     "output_type": "execute_result"
    }
   ],
   "source": [
    "#dataframe of just the result from total\n",
    "\n",
    "water = water.drop(columns=['Primary_with_U_Primary',\n",
    "       'Primary_with_U_Primary_Sec_HrSec', \n",
    "       'U_Primary_With_Sec_HrSec', 'Primary_with_U_Primary_Sec',\n",
    "       'U_Primary_With_Sec', 'Sec_with_HrSec.', 'All Schools'])\n",
    "    \n",
    "water.head()"
   ]
  },
  {
   "cell_type": "code",
   "execution_count": 22,
   "metadata": {},
   "outputs": [
    {
     "data": {
      "text/html": [
       "<div>\n",
       "<style scoped>\n",
       "    .dataframe tbody tr th:only-of-type {\n",
       "        vertical-align: middle;\n",
       "    }\n",
       "\n",
       "    .dataframe tbody tr th {\n",
       "        vertical-align: top;\n",
       "    }\n",
       "\n",
       "    .dataframe thead th {\n",
       "        text-align: right;\n",
       "    }\n",
       "</style>\n",
       "<table border=\"1\" class=\"dataframe\">\n",
       "  <thead>\n",
       "    <tr style=\"text-align: right;\">\n",
       "      <th></th>\n",
       "      <th>State/UT_water</th>\n",
       "      <th>Year_water</th>\n",
       "      <th>Primary_Only_water</th>\n",
       "      <th>U_Primary_Only_water</th>\n",
       "      <th>Sec_Only_water</th>\n",
       "      <th>HrSec_Only_water</th>\n",
       "    </tr>\n",
       "  </thead>\n",
       "  <tbody>\n",
       "    <tr>\n",
       "      <th>0</th>\n",
       "      <td>All India</td>\n",
       "      <td>2013-14</td>\n",
       "      <td>94.09</td>\n",
       "      <td>93.90</td>\n",
       "      <td>96.52</td>\n",
       "      <td>97.14</td>\n",
       "    </tr>\n",
       "    <tr>\n",
       "      <th>1</th>\n",
       "      <td>All India</td>\n",
       "      <td>2014-15</td>\n",
       "      <td>94.88</td>\n",
       "      <td>94.82</td>\n",
       "      <td>96.32</td>\n",
       "      <td>98.23</td>\n",
       "    </tr>\n",
       "    <tr>\n",
       "      <th>2</th>\n",
       "      <td>All India</td>\n",
       "      <td>2015-16</td>\n",
       "      <td>95.78</td>\n",
       "      <td>95.65</td>\n",
       "      <td>97.05</td>\n",
       "      <td>97.92</td>\n",
       "    </tr>\n",
       "  </tbody>\n",
       "</table>\n",
       "</div>"
      ],
      "text/plain": [
       "  State/UT_water Year_water  Primary_Only_water  U_Primary_Only_water  \\\n",
       "0      All India    2013-14               94.09                 93.90   \n",
       "1      All India    2014-15               94.88                 94.82   \n",
       "2      All India    2015-16               95.78                 95.65   \n",
       "\n",
       "   Sec_Only_water  HrSec_Only_water  \n",
       "0           96.52             97.14  \n",
       "1           96.32             98.23  \n",
       "2           97.05             97.92  "
      ]
     },
     "execution_count": 22,
     "metadata": {},
     "output_type": "execute_result"
    }
   ],
   "source": [
    "water.columns=[str(col) + \"_water\" for col in water.columns]\n",
    "water.head()"
   ]
  },
  {
   "cell_type": "code",
   "execution_count": 23,
   "metadata": {},
   "outputs": [],
   "source": [
    "#Adding it to my Total df which would have all the dataset in one df \n",
    "\n",
    "Total=Total.join(water.iloc[:,-4:])"
   ]
  },
  {
   "cell_type": "markdown",
   "metadata": {},
   "source": [
    "# Total: comprises of all the data in one"
   ]
  },
  {
   "cell_type": "code",
   "execution_count": 24,
   "metadata": {},
   "outputs": [
    {
     "data": {
      "text/html": [
       "<div>\n",
       "<style scoped>\n",
       "    .dataframe tbody tr th:only-of-type {\n",
       "        vertical-align: middle;\n",
       "    }\n",
       "\n",
       "    .dataframe tbody tr th {\n",
       "        vertical-align: top;\n",
       "    }\n",
       "\n",
       "    .dataframe thead th {\n",
       "        text-align: right;\n",
       "    }\n",
       "</style>\n",
       "<table border=\"1\" class=\"dataframe\">\n",
       "  <thead>\n",
       "    <tr style=\"text-align: right;\">\n",
       "      <th></th>\n",
       "      <th>State_UT</th>\n",
       "      <th>year</th>\n",
       "      <th>Primary_Total_dropout</th>\n",
       "      <th>Upper Primary_Total_dropout</th>\n",
       "      <th>Secondary _Total_dropout</th>\n",
       "      <th>HrSecondary_Total_dropout</th>\n",
       "      <th>Primary_Only_elect</th>\n",
       "      <th>U_Primary_Only_elect</th>\n",
       "      <th>Sec_Only_elect</th>\n",
       "      <th>HrSec_Only_elect</th>\n",
       "      <th>...</th>\n",
       "      <th>Sec_Only_boystoilet</th>\n",
       "      <th>HrSec_Only_boystoilet</th>\n",
       "      <th>Primary_Only_girlstoilet</th>\n",
       "      <th>U_Primary_Only_girlstoilet</th>\n",
       "      <th>Sec_Only_girlstoilet</th>\n",
       "      <th>HrSec_Only_girlstoilet</th>\n",
       "      <th>Primary_Only_water</th>\n",
       "      <th>U_Primary_Only_water</th>\n",
       "      <th>Sec_Only_water</th>\n",
       "      <th>HrSec_Only_water</th>\n",
       "    </tr>\n",
       "  </thead>\n",
       "  <tbody>\n",
       "    <tr>\n",
       "      <th>0</th>\n",
       "      <td>All India</td>\n",
       "      <td>2012-13</td>\n",
       "      <td>4.67</td>\n",
       "      <td>3.13</td>\n",
       "      <td>14.54</td>\n",
       "      <td>0.00</td>\n",
       "      <td>46.38</td>\n",
       "      <td>45.97</td>\n",
       "      <td>75.08</td>\n",
       "      <td>91.01</td>\n",
       "      <td>...</td>\n",
       "      <td>97.97</td>\n",
       "      <td>74.36</td>\n",
       "      <td>88.68</td>\n",
       "      <td>91.39</td>\n",
       "      <td>99.06</td>\n",
       "      <td>76.14</td>\n",
       "      <td>94.09</td>\n",
       "      <td>93.90</td>\n",
       "      <td>96.52</td>\n",
       "      <td>97.14</td>\n",
       "    </tr>\n",
       "    <tr>\n",
       "      <th>1</th>\n",
       "      <td>All India</td>\n",
       "      <td>2013-14</td>\n",
       "      <td>4.34</td>\n",
       "      <td>3.77</td>\n",
       "      <td>17.86</td>\n",
       "      <td>1.54</td>\n",
       "      <td>49.63</td>\n",
       "      <td>48.33</td>\n",
       "      <td>77.55</td>\n",
       "      <td>92.67</td>\n",
       "      <td>...</td>\n",
       "      <td>89.10</td>\n",
       "      <td>88.97</td>\n",
       "      <td>91.21</td>\n",
       "      <td>91.39</td>\n",
       "      <td>90.26</td>\n",
       "      <td>90.94</td>\n",
       "      <td>94.88</td>\n",
       "      <td>94.82</td>\n",
       "      <td>96.32</td>\n",
       "      <td>98.23</td>\n",
       "    </tr>\n",
       "    <tr>\n",
       "      <th>2</th>\n",
       "      <td>All India</td>\n",
       "      <td>2014-15</td>\n",
       "      <td>4.13</td>\n",
       "      <td>4.03</td>\n",
       "      <td>17.06</td>\n",
       "      <td>0.00</td>\n",
       "      <td>52.40</td>\n",
       "      <td>49.86</td>\n",
       "      <td>81.50</td>\n",
       "      <td>92.86</td>\n",
       "      <td>...</td>\n",
       "      <td>94.56</td>\n",
       "      <td>95.67</td>\n",
       "      <td>96.95</td>\n",
       "      <td>96.32</td>\n",
       "      <td>95.18</td>\n",
       "      <td>96.22</td>\n",
       "      <td>95.78</td>\n",
       "      <td>95.65</td>\n",
       "      <td>97.05</td>\n",
       "      <td>97.92</td>\n",
       "    </tr>\n",
       "  </tbody>\n",
       "</table>\n",
       "<p>3 rows × 26 columns</p>\n",
       "</div>"
      ],
      "text/plain": [
       "    State_UT     year  Primary_Total_dropout  Upper Primary_Total_dropout  \\\n",
       "0  All India  2012-13                   4.67                         3.13   \n",
       "1  All India  2013-14                   4.34                         3.77   \n",
       "2  All India  2014-15                   4.13                         4.03   \n",
       "\n",
       "   Secondary _Total_dropout  HrSecondary_Total_dropout  Primary_Only_elect  \\\n",
       "0                     14.54                       0.00               46.38   \n",
       "1                     17.86                       1.54               49.63   \n",
       "2                     17.06                       0.00               52.40   \n",
       "\n",
       "   U_Primary_Only_elect  Sec_Only_elect  HrSec_Only_elect  ...  \\\n",
       "0                 45.97           75.08             91.01  ...   \n",
       "1                 48.33           77.55             92.67  ...   \n",
       "2                 49.86           81.50             92.86  ...   \n",
       "\n",
       "   Sec_Only_boystoilet  HrSec_Only_boystoilet  Primary_Only_girlstoilet  \\\n",
       "0                97.97                  74.36                     88.68   \n",
       "1                89.10                  88.97                     91.21   \n",
       "2                94.56                  95.67                     96.95   \n",
       "\n",
       "   U_Primary_Only_girlstoilet  Sec_Only_girlstoilet  HrSec_Only_girlstoilet  \\\n",
       "0                       91.39                 99.06                   76.14   \n",
       "1                       91.39                 90.26                   90.94   \n",
       "2                       96.32                 95.18                   96.22   \n",
       "\n",
       "   Primary_Only_water  U_Primary_Only_water  Sec_Only_water  HrSec_Only_water  \n",
       "0               94.09                 93.90           96.52             97.14  \n",
       "1               94.88                 94.82           96.32             98.23  \n",
       "2               95.78                 95.65           97.05             97.92  \n",
       "\n",
       "[3 rows x 26 columns]"
      ]
     },
     "execution_count": 24,
     "metadata": {},
     "output_type": "execute_result"
    }
   ],
   "source": [
    "Total"
   ]
  },
  {
   "cell_type": "code",
   "execution_count": 25,
   "metadata": {},
   "outputs": [],
   "source": [
    "sm, md, lg = 13, 15, 20 \n",
    "plt.rc('font', size=sm)\n",
    "plt.rc('axes', labelsize=sm)\n",
    "plt.rc('xtick', labelsize=md)\n",
    "plt.rc('ytick', labelsize=md)\n",
    "plt.rc('legend', fontsize=md)\n",
    "plt.rc('figure', titlesize=lg)"
   ]
  },
  {
   "cell_type": "code",
   "execution_count": 26,
   "metadata": {},
   "outputs": [
    {
     "data": {
      "text/plain": [
       "Text(0.5, 1.0, 'Correlation matrix')"
      ]
     },
     "execution_count": 26,
     "metadata": {},
     "output_type": "execute_result"
    },
    {
     "data": {
      "image/png": "[encoded data removed]",
      "text/plain": [
       "<Figure size 432x288 with 2 Axes>"
      ]
     },
     "metadata": {
      "needs_background": "light"
     },
     "output_type": "display_data"
    }
   ],
   "source": [
    "corr= Total.corr()\n",
    "mask = np.zeros_like(corr)\n",
    "mask[np.triu_indices_from(mask)]=True\n",
    "sns.heatmap(corr, cmap=\"Spectral_r\", mask=mask, square=True,vmin=-4,vmax=4)\n",
    "plt.title(\"Correlation matrix\")"
   ]
  },
  {
   "cell_type": "code",
   "execution_count": 27,
   "metadata": {},
   "outputs": [
    {
     "data": {
      "text/plain": [
       "['Primary_Total_dropout',\n",
       " 'Upper Primary_Total_dropout',\n",
       " 'Secondary _Total_dropout',\n",
       " 'HrSecondary_Total_dropout',\n",
       " 'Primary_Only_elect',\n",
       " 'U_Primary_Only_elect',\n",
       " 'Sec_Only_elect',\n",
       " 'HrSec_Only_elect',\n",
       " 'Primary_Only_comps',\n",
       " 'U_Primary_Only_comps',\n",
       " 'Sec_Only_comps',\n",
       " 'HrSec_Only_comps',\n",
       " 'Primary_Only_boystoilet',\n",
       " 'U_Primary_Only_boystoilet',\n",
       " 'Sec_Only_boystoilet',\n",
       " 'HrSec_Only_boystoilet',\n",
       " 'Primary_Only_girlstoilet',\n",
       " 'U_Primary_Only_girlstoilet',\n",
       " 'Sec_Only_girlstoilet',\n",
       " 'HrSec_Only_girlstoilet',\n",
       " 'Primary_Only_water',\n",
       " 'U_Primary_Only_water',\n",
       " 'Sec_Only_water',\n",
       " 'HrSec_Only_water']"
      ]
     },
     "execution_count": 27,
     "metadata": {},
     "output_type": "execute_result"
    }
   ],
   "source": [
    "all_cols = Total.columns.to_list()\n",
    "all_cols[2:]"
   ]
  },
  {
   "cell_type": "markdown",
   "metadata": {},
   "source": [
    "## Are lack of any of the facilities a cause of dropout in the various school levels?"
   ]
  },
  {
   "cell_type": "code",
   "execution_count": 33,
   "metadata": {},
   "outputs": [
    {
     "data": {
      "text/html": [
       "<div>\n",
       "<style scoped>\n",
       "    .dataframe tbody tr th:only-of-type {\n",
       "        vertical-align: middle;\n",
       "    }\n",
       "\n",
       "    .dataframe tbody tr th {\n",
       "        vertical-align: top;\n",
       "    }\n",
       "\n",
       "    .dataframe thead th {\n",
       "        text-align: right;\n",
       "    }\n",
       "</style>\n",
       "<table border=\"1\" class=\"dataframe\">\n",
       "  <thead>\n",
       "    <tr style=\"text-align: right;\">\n",
       "      <th></th>\n",
       "      <th>Correlation</th>\n",
       "    </tr>\n",
       "  </thead>\n",
       "  <tbody>\n",
       "    <tr>\n",
       "      <th>Primary_Only_boystoilet</th>\n",
       "      <td>-0.863417</td>\n",
       "    </tr>\n",
       "    <tr>\n",
       "      <th>Primary_Only_comps</th>\n",
       "      <td>-0.934400</td>\n",
       "    </tr>\n",
       "    <tr>\n",
       "      <th>Primary_Only_girlstoilet</th>\n",
       "      <td>-0.940036</td>\n",
       "    </tr>\n",
       "    <tr>\n",
       "      <th>Primary_Only_water</th>\n",
       "      <td>-0.986391</td>\n",
       "    </tr>\n",
       "    <tr>\n",
       "      <th>Primary_Only_elect</th>\n",
       "      <td>-0.996672</td>\n",
       "    </tr>\n",
       "  </tbody>\n",
       "</table>\n",
       "</div>"
      ],
      "text/plain": [
       "                          Correlation\n",
       "Primary_Only_boystoilet     -0.863417\n",
       "Primary_Only_comps          -0.934400\n",
       "Primary_Only_girlstoilet    -0.940036\n",
       "Primary_Only_water          -0.986391\n",
       "Primary_Only_elect          -0.996672"
      ]
     },
     "execution_count": 33,
     "metadata": {},
     "output_type": "execute_result"
    }
   ],
   "source": [
    "#Primary School Dropout is affected by\n",
    "\n",
    "Primarytotal = Total.drop(columns=[ 'Upper Primary_Total_dropout', 'Secondary _Total_dropout', 'HrSecondary_Total_dropout',\n",
    "  'U_Primary_Only_elect',  'Sec_Only_elect',  'HrSec_Only_elect', \n",
    " 'U_Primary_Only_comps', 'Sec_Only_comps', 'HrSec_Only_comps', 'U_Primary_Only_boystoilet',\n",
    " 'Sec_Only_boystoilet', 'HrSec_Only_boystoilet', 'U_Primary_Only_girlstoilet',\n",
    " 'Sec_Only_girlstoilet', 'HrSec_Only_girlstoilet', 'U_Primary_Only_water',\n",
    " 'Sec_Only_water', 'HrSec_Only_water'])\n",
    "\n",
    "primarydrop = Primarytotal.corrwith(Total.Primary_Total_dropout)\n",
    "\n",
    "primarydrop = pd.DataFrame(primarydrop, columns=['Correlation'])\n",
    "primarydrop.dropna(inplace=True)\n",
    "primarydrop[primarydrop[\"Correlation\"]<-0.8].sort_values(\"Correlation\",ascending=False)"
   ]
  },
  {
   "cell_type": "markdown",
   "metadata": {},
   "source": [
    "A lack in computers, toilet facilaties, water and electricity supply can cause students to dropout in primary school"
   ]
  },
  {
   "cell_type": "code",
   "execution_count": 32,
   "metadata": {},
   "outputs": [
    {
     "data": {
      "text/html": [
       "<div>\n",
       "<style scoped>\n",
       "    .dataframe tbody tr th:only-of-type {\n",
       "        vertical-align: middle;\n",
       "    }\n",
       "\n",
       "    .dataframe tbody tr th {\n",
       "        vertical-align: top;\n",
       "    }\n",
       "\n",
       "    .dataframe thead th {\n",
       "        text-align: right;\n",
       "    }\n",
       "</style>\n",
       "<table border=\"1\" class=\"dataframe\">\n",
       "  <thead>\n",
       "    <tr style=\"text-align: right;\">\n",
       "      <th></th>\n",
       "      <th>Correlation</th>\n",
       "    </tr>\n",
       "  </thead>\n",
       "  <tbody>\n",
       "  </tbody>\n",
       "</table>\n",
       "</div>"
      ],
      "text/plain": [
       "Empty DataFrame\n",
       "Columns: [Correlation]\n",
       "Index: []"
      ]
     },
     "execution_count": 32,
     "metadata": {},
     "output_type": "execute_result"
    }
   ],
   "source": [
    "#Upper Primary School Dropout is affected by \n",
    "\n",
    "Uprimarytotal = Total.drop(columns=[ 'Primary_Total_dropout', 'Secondary _Total_dropout', 'HrSecondary_Total_dropout',\n",
    " 'Primary_Only_elect', 'Sec_Only_elect', 'HrSec_Only_elect','Primary_Only_comps', 'Sec_Only_comps', 'HrSec_Only_comps',\n",
    "'Primary_Only_boystoilet', 'Sec_Only_boystoilet', 'HrSec_Only_boystoilet', 'Primary_Only_girlstoilet',\n",
    "'Sec_Only_girlstoilet', 'HrSec_Only_girlstoilet', 'Primary_Only_water', 'Sec_Only_water', 'HrSec_Only_water'])\n",
    "\n",
    "\n",
    "uprimarydrop = Uprimarytotal.corrwith(Total[\"Upper Primary_Total_dropout\"])\n",
    "\n",
    "uprimarydrop = pd.DataFrame(uprimarydrop, columns=['Correlation'])\n",
    "uprimarydrop.dropna(inplace=True)\n",
    "uprimarydrop[uprimarydrop[\"Correlation\"]< -0.8].sort_values(\"Correlation\",ascending=False)"
   ]
  },
  {
   "cell_type": "markdown",
   "metadata": {},
   "source": [
    "None of our facilites impacts dropout rates in Upper primary"
   ]
  },
  {
   "cell_type": "code",
   "execution_count": 34,
   "metadata": {},
   "outputs": [
    {
     "data": {
      "text/html": [
       "<div>\n",
       "<style scoped>\n",
       "    .dataframe tbody tr th:only-of-type {\n",
       "        vertical-align: middle;\n",
       "    }\n",
       "\n",
       "    .dataframe tbody tr th {\n",
       "        vertical-align: top;\n",
       "    }\n",
       "\n",
       "    .dataframe thead th {\n",
       "        text-align: right;\n",
       "    }\n",
       "</style>\n",
       "<table border=\"1\" class=\"dataframe\">\n",
       "  <thead>\n",
       "    <tr style=\"text-align: right;\">\n",
       "      <th></th>\n",
       "      <th>Correlation</th>\n",
       "    </tr>\n",
       "  </thead>\n",
       "  <tbody>\n",
       "    <tr>\n",
       "      <th>Sec_Only_boystoilet</th>\n",
       "      <td>-0.911742</td>\n",
       "    </tr>\n",
       "    <tr>\n",
       "      <th>Sec_Only_girlstoilet</th>\n",
       "      <td>-0.936331</td>\n",
       "    </tr>\n",
       "  </tbody>\n",
       "</table>\n",
       "</div>"
      ],
      "text/plain": [
       "                      Correlation\n",
       "Sec_Only_boystoilet     -0.911742\n",
       "Sec_Only_girlstoilet    -0.936331"
      ]
     },
     "execution_count": 34,
     "metadata": {},
     "output_type": "execute_result"
    }
   ],
   "source": [
    "#Secondary School Dropout is affected by \n",
    "\n",
    "Secondarytotal = Total.drop(columns=[ 'Primary_Total_dropout', 'Upper Primary_Total_dropout', 'HrSecondary_Total_dropout',\n",
    " 'Primary_Only_elect', 'U_Primary_Only_elect', 'HrSec_Only_elect', 'Primary_Only_comps', 'U_Primary_Only_comps',\n",
    " 'HrSec_Only_comps', 'Primary_Only_boystoilet', 'U_Primary_Only_boystoilet',  'HrSec_Only_boystoilet',\n",
    " 'Primary_Only_girlstoilet', 'U_Primary_Only_girlstoilet', 'HrSec_Only_girlstoilet', 'Primary_Only_water',\n",
    " 'U_Primary_Only_water', 'HrSec_Only_water'])\n",
    "\n",
    "\n",
    "Secondarydrop = Secondarytotal.corrwith(Total[\"Secondary _Total_dropout\"])\n",
    "\n",
    "Secondarydrop = pd.DataFrame(Secondarydrop, columns=['Correlation'])\n",
    "Secondarydrop.dropna(inplace=True)\n",
    "Secondarydrop[Secondarydrop[\"Correlation\"]<-0.8].sort_values(\"Correlation\",ascending=False)"
   ]
  },
  {
   "cell_type": "markdown",
   "metadata": {},
   "source": [
    "Toilet facilites seems to play a role in the dropout rate in the secondary school"
   ]
  },
  {
   "cell_type": "code",
   "execution_count": 37,
   "metadata": {},
   "outputs": [
    {
     "data": {
      "text/html": [
       "<div>\n",
       "<style scoped>\n",
       "    .dataframe tbody tr th:only-of-type {\n",
       "        vertical-align: middle;\n",
       "    }\n",
       "\n",
       "    .dataframe tbody tr th {\n",
       "        vertical-align: top;\n",
       "    }\n",
       "\n",
       "    .dataframe thead th {\n",
       "        text-align: right;\n",
       "    }\n",
       "</style>\n",
       "<table border=\"1\" class=\"dataframe\">\n",
       "  <thead>\n",
       "    <tr style=\"text-align: right;\">\n",
       "      <th></th>\n",
       "      <th>Correlation</th>\n",
       "    </tr>\n",
       "  </thead>\n",
       "  <tbody>\n",
       "  </tbody>\n",
       "</table>\n",
       "</div>"
      ],
      "text/plain": [
       "Empty DataFrame\n",
       "Columns: [Correlation]\n",
       "Index: []"
      ]
     },
     "execution_count": 37,
     "metadata": {},
     "output_type": "execute_result"
    }
   ],
   "source": [
    "# Higher-Secondary School Dropout is affected by \n",
    "\n",
    "Hrsecondarytotal = Total.drop(columns=[ 'Primary_Total_dropout', 'Upper Primary_Total_dropout', 'Secondary _Total_dropout',\n",
    " 'Primary_Only_elect', 'U_Primary_Only_elect', 'Sec_Only_elect', 'Primary_Only_comps', 'U_Primary_Only_comps',\n",
    " 'Sec_Only_comps', 'Primary_Only_boystoilet', 'U_Primary_Only_boystoilet', 'Sec_Only_boystoilet',\n",
    " 'Primary_Only_girlstoilet', 'U_Primary_Only_girlstoilet', 'Sec_Only_girlstoilet', 'Primary_Only_water',\n",
    " 'U_Primary_Only_water', 'Sec_Only_water'])    \n",
    "    \n",
    "Hrsecondarydrop = Hrsecondarytotal.corrwith(Total.HrSecondary_Total_dropout)\n",
    "\n",
    "Hrsecondarydrop = pd.DataFrame(Hrsecondarydrop, columns=['Correlation'])\n",
    "Hrsecondarydrop.dropna(inplace=True)\n",
    "Hrsecondarydrop[Hrsecondarydrop[\"Correlation\"]<-0.8].sort_values(\"Correlation\",ascending=False)"
   ]
  },
  {
   "cell_type": "markdown",
   "metadata": {},
   "source": [
    "None of our facilites impacts dropout rates in Higher Secondary Schools"
   ]
  },
  {
   "cell_type": "markdown",
   "metadata": {},
   "source": [
    "# Summary\n",
    "\n",
    "- **Primary School** A drop in the our computers and toilet facilities, water and electricity supply can cause students.\n",
    "\n",
    "- None of our facilites seems to be influnced by dropout in both the **upper primary schools** and **higher secondary schools**.\n",
    "\n",
    "- However a drop in our Toilet facilites would result in higher dropout rates in the **secondary school**."
   ]
  },
  {
   "cell_type": "code",
   "execution_count": null,
   "metadata": {},
   "outputs": [],
   "source": []
  }
 ],
 "metadata": {
  "kernelspec": {
   "display_name": "Python 3",
   "language": "python",
   "name": "python3"
  },
  "language_info": {
   "codemirror_mode": {
    "name": "ipython",
    "version": 3
   },
   "file_extension": ".py",
   "mimetype": "text/x-python",
   "name": "python",
   "nbconvert_exporter": "python",
   "pygments_lexer": "ipython3",
   "version": "3.7.6"
  }
 },
 "nbformat": 4,
 "nbformat_minor": 4
}
