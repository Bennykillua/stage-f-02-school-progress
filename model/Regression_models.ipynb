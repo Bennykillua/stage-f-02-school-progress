{
 "cells": [
  {
   "cell_type": "markdown",
   "metadata": {},
   "source": [
    "## The Task is to use machine learning to forecast gross enrollment in 2015-16, using data of 2012-15 session, such as dropout rate, water and computer facilities. \n",
    "## In this notebook the task was approached as a Regression problem."
   ]
  },
  {
   "cell_type": "code",
   "execution_count": 2,
   "metadata": {
    "_cell_guid": "b1076dfc-b9ad-4769-8c92-a6c4dae69d19",
    "_uuid": "8f2839f25d086af736a60e9eeb907d3b93b6e0e5"
   },
   "outputs": [],
   "source": [
    "import warnings\n",
    "warnings.filterwarnings('ignore')\n",
    "\n",
    "# Import Relevant Packages\n",
    "import pandas as pd\n",
    "import numpy as np\n",
    "# import matplotlib.pyplot as plt\n",
    "# import seaborn as sns\n",
    "# from sklearn.impute import SimpleImputer \n",
    "# from sklearn.linear_model import LogisticRegression\n",
    "# from sklearn.cluster import KMeans\n",
    "# from sklearn.model_selection import train_test_split\n",
    "# from sklearn.ensemble import RandomForestClassifier, ExtraTreesClassifier, RandomForestRegressor\n",
    "# from sklearn.svm import SVC\n",
    "# from catboost import CatBoostClassifier\n",
    "# from sklearn.model_selection import StratifiedKFold, KFold\n",
    "# from sklearn.metrics import accuracy_score, roc_auc_score, precision_score, log_loss, f1_score, mean_squared_error,mean_absolute_error,r2_score\n",
    "# from xgboost import XGBRegressor\n",
    "# from sklearn.linear_model import Lasso,Ridge,ElasticNet"
   ]
  },
  {
   "cell_type": "code",
   "execution_count": 3,
   "metadata": {},
   "outputs": [],
   "source": [
    "sm, md, lg = 13, 15, 20 \n",
    "plt.rc('font', size=sm)\n",
    "plt.rc('axes', labelsize=sm)\n",
    "plt.rc('xtick', labelsize=md)\n",
    "plt.rc('ytick', labelsize=md)\n",
    "plt.rc('legend', fontsize=md)\n",
    "plt.rc('figure', titlesize=lg)"
   ]
  },
  {
   "cell_type": "code",
   "execution_count": 1,
   "metadata": {
    "_cell_guid": "79c7e3d0-c299-4dcb-8224-4455121ee9b0",
    "_uuid": "d629ff2d2480ee46fbb7e2d37f6b5fab8052498a"
   },
   "outputs": [],
   "source": [
    "root = '../Data/'"
   ]
  },
  {
   "cell_type": "code",
   "execution_count": 3,
   "metadata": {},
   "outputs": [],
   "source": [
    "drop_out = pd.read_csv(root+'dropout-ratio-2012-2015.csv')\n",
    "enrol = pd.read_csv(root+'gross-enrollment-ratio-2013-2016.csv')\n",
    "comp = pd.read_csv(root+'percentage-of-schools-with-comps-2013-2016.csv')\n",
    "elect = pd.read_csv(root+'percentage-of-schools-with-electricity-2013-2016.csv')\n",
    "water = pd.read_csv(root+'percentage-of-schools-with-water-facility-2013-2016.csv')\n",
    "boys = pd.read_csv(root+'schools-with-boys-toilet-2013-2016.csv')\n",
    "girls = pd.read_csv(root+'schools-with-girls-toilet-2013-2016.csv')"
   ]
  },
  {
   "cell_type": "code",
   "execution_count": 8,
   "metadata": {},
   "outputs": [],
   "source": [
    "drop_out['State_UT'] = drop_out['State_UT'].apply(lambda x: \"Arunachal Pradesh\" if x == 'Arunachal  Pradesh' else x)\n",
    "drop_out['State_UT'] = drop_out['State_UT'].apply(lambda x: \"Madhya Pradesh\" if x == 'Madhya  Pradesh' else x)\n",
    "drop_out['State_UT'] = drop_out['State_UT'].apply(lambda x: \"Tamil Nadu\" if x == 'Tamil  Nadu' else x)"
   ]
  },
  {
   "cell_type": "markdown",
   "metadata": {},
   "source": [
    "## Data preprocessing"
   ]
  },
  {
   "cell_type": "code",
   "execution_count": 9,
   "metadata": {},
   "outputs": [],
   "source": [
    "def CreateDataSets(mean_dataframes, tier):\n",
    "    '''\n",
    "    tier: which student level to create, 1 for primary,2 for upper primary, 3 for secondary, 4 for Higher secondary.\n",
    "    result: DataFrame containing only specific student level\n",
    "    '''\n",
    "    columns = mean_dataframes.columns.to_list()[0:]\n",
    "    index = mean_dataframes[columns[0]]\n",
    "    print('Create Dataset with {} features'.format(len(columns))) \n",
    "\n",
    "    if tier == 1:\n",
    "        coresult_1 = mean_dataframes[columns[1]]\n",
    "        coresult_2 = mean_dataframes[columns[2]]\n",
    "        coresult_3 = mean_dataframes[columns[3]]\n",
    "    elif tier == 2:\n",
    "        coresult_1 = mean_dataframes[columns[4]]\n",
    "        coresult_2 = mean_dataframes[columns[5]]\n",
    "        coresult_3 = mean_dataframes[columns[6]]\n",
    "    elif tier == 3:\n",
    "        coresult_1 = mean_dataframes[columns[7]]\n",
    "        coresult_2 = mean_dataframes[columns[8]]\n",
    "        coresult_3 = mean_dataframes[columns[9]]\n",
    "\n",
    "    elif tier == 4:\n",
    "        coresult_1 = mean_dataframes[columns[10]]\n",
    "        coresult_2 = mean_dataframes[columns[11]]\n",
    "        if len(columns)>12: coresult_3 = mean_dataframes[columns[12]]\n",
    "        else: coresult_3 = pd.Series(np.ones(len(mean_dataframes)))\n",
    "        \n",
    "    result = pd.DataFrame(pd.concat([index, coresult_1,coresult_2,coresult_3], axis = 1))\n",
    "    result.set_index('State_UT', inplace=True)\n",
    "    return result"
   ]
  },
  {
   "cell_type": "code",
   "execution_count": 10,
   "metadata": {},
   "outputs": [],
   "source": [
    "def get_df_name(df):\n",
    "    name =[x for x in globals() if globals()[x] is df][0]\n",
    "    return name + '_'\n",
    "\n",
    "def PreprocessFiles(dataframe, categories, year_filter=['2013-14','2014-15'], year='year', city = 'State_UT'):\n",
    "    '''\n",
    "    year_filter: years to be used while aggregating the dataset\n",
    "    '''\n",
    "    \n",
    "    tmp = []\n",
    "    if len(year_filter)>1:\n",
    "        for categ in categories:\n",
    "            dataframe[categ] = dataframe[categ].astype(float)                # If the datatype of our numerical features is object so we need to change to float.\n",
    "            tmp.append(pd.DataFrame({'mean_' + categ : dataframe.iloc[np.where( (dataframe[year]==year_filter[0]) | (dataframe[year]==year_filter[1]))].groupby([city])[categ].mean()}))  \n",
    "    \n",
    "    else:\n",
    "        for categ in categories:\n",
    "            dataframe[categ] = dataframe[categ].astype(float)                # If the datatype of our numerical features is object so we need to change to float.\n",
    "            tmp.append(pd.DataFrame({'mean_' + categ : dataframe.iloc[np.where( (dataframe[year]==year_filter[0]) )].groupby([city])[categ].mean()}))  \n",
    "    \n",
    "    mean_dataframe_per_state = pd.DataFrame(tmp[0])     # Initially add the first Student Category type in the DataFrame so it's easy to use pd.merge()\n",
    "    for Stu_type in range(1, len(tmp)):           # Starting at an Index of 1 since since I already initialized our dataframe with the first Student type \n",
    "        tmp[Stu_type].reset_index(inplace = True)\n",
    "        mean_dataframe_per_state = pd.merge(mean_dataframe_per_state, tmp[Stu_type], on = city) \n",
    "    columns = mean_dataframe_per_state.columns.to_list()\n",
    "\n",
    "    new_cols_name = [city]\n",
    "    new_cols_name.extend([get_df_name(dataframe) + col for col in columns if col != city])\n",
    "    mapper = {columns[i]: new_cols_name[i] for i in range(len(columns))} \n",
    "    mean_dataframe_per_state.rename(columns = mapper, inplace=True)\n",
    "    \n",
    "    return mean_dataframe_per_state"
   ]
  },
  {
   "cell_type": "markdown",
   "metadata": {},
   "source": [
    "## Drop Out Preprocessing"
   ]
  },
  {
   "cell_type": "code",
   "execution_count": 14,
   "metadata": {},
   "outputs": [
    {
     "data": {
      "text/html": [
       "<div>\n",
       "<style scoped>\n",
       "    .dataframe tbody tr th:only-of-type {\n",
       "        vertical-align: middle;\n",
       "    }\n",
       "\n",
       "    .dataframe tbody tr th {\n",
       "        vertical-align: top;\n",
       "    }\n",
       "\n",
       "    .dataframe thead th {\n",
       "        text-align: right;\n",
       "    }\n",
       "</style>\n",
       "<table border=\"1\" class=\"dataframe\">\n",
       "  <thead>\n",
       "    <tr style=\"text-align: right;\">\n",
       "      <th></th>\n",
       "      <th>State_UT</th>\n",
       "      <th>year</th>\n",
       "      <th>Primary_Boys</th>\n",
       "      <th>Primary_Girls</th>\n",
       "      <th>Primary_Total</th>\n",
       "      <th>Upper Primary_Boys</th>\n",
       "      <th>Upper Primary_Girls</th>\n",
       "      <th>Upper Primary_Total</th>\n",
       "      <th>Secondary _Boys</th>\n",
       "      <th>Secondary _Girls</th>\n",
       "      <th>Secondary _Total</th>\n",
       "      <th>HrSecondary_Boys</th>\n",
       "      <th>HrSecondary_Girls</th>\n",
       "      <th>HrSecondary_Total</th>\n",
       "    </tr>\n",
       "  </thead>\n",
       "  <tbody>\n",
       "    <tr>\n",
       "      <th>0</th>\n",
       "      <td>A &amp; N Islands</td>\n",
       "      <td>2012-13</td>\n",
       "      <td>0.83</td>\n",
       "      <td>0.51</td>\n",
       "      <td>0.68</td>\n",
       "      <td>Uppe_r_Primary</td>\n",
       "      <td>1.09</td>\n",
       "      <td>1.23</td>\n",
       "      <td>5.57</td>\n",
       "      <td>5.55</td>\n",
       "      <td>5.56</td>\n",
       "      <td>17.66</td>\n",
       "      <td>10.15</td>\n",
       "      <td>14.14</td>\n",
       "    </tr>\n",
       "    <tr>\n",
       "      <th>1</th>\n",
       "      <td>A &amp; N Islands</td>\n",
       "      <td>2013-14</td>\n",
       "      <td>1.35</td>\n",
       "      <td>1.06</td>\n",
       "      <td>1.21</td>\n",
       "      <td>NR</td>\n",
       "      <td>1.54</td>\n",
       "      <td>0.51</td>\n",
       "      <td>8.36</td>\n",
       "      <td>5.98</td>\n",
       "      <td>7.2</td>\n",
       "      <td>18.94</td>\n",
       "      <td>12.2</td>\n",
       "      <td>15.87</td>\n",
       "    </tr>\n",
       "    <tr>\n",
       "      <th>2</th>\n",
       "      <td>A &amp; N Islands</td>\n",
       "      <td>2014-15</td>\n",
       "      <td>0.47</td>\n",
       "      <td>0.55</td>\n",
       "      <td>0.51</td>\n",
       "      <td>1.44</td>\n",
       "      <td>1.95</td>\n",
       "      <td>1.69</td>\n",
       "      <td>11.47</td>\n",
       "      <td>8.16</td>\n",
       "      <td>9.87</td>\n",
       "      <td>21.05</td>\n",
       "      <td>12.21</td>\n",
       "      <td>16.93</td>\n",
       "    </tr>\n",
       "  </tbody>\n",
       "</table>\n",
       "</div>"
      ],
      "text/plain": [
       "        State_UT     year Primary_Boys Primary_Girls Primary_Total  \\\n",
       "0  A & N Islands  2012-13         0.83          0.51          0.68   \n",
       "1  A & N Islands  2013-14         1.35          1.06          1.21   \n",
       "2  A & N Islands  2014-15         0.47          0.55          0.51   \n",
       "\n",
       "  Upper Primary_Boys Upper Primary_Girls Upper Primary_Total Secondary _Boys  \\\n",
       "0     Uppe_r_Primary                1.09                1.23            5.57   \n",
       "1                 NR                1.54                0.51            8.36   \n",
       "2               1.44                1.95                1.69           11.47   \n",
       "\n",
       "  Secondary _Girls Secondary _Total HrSecondary_Boys HrSecondary_Girls  \\\n",
       "0             5.55             5.56            17.66             10.15   \n",
       "1             5.98              7.2            18.94              12.2   \n",
       "2             8.16             9.87            21.05             12.21   \n",
       "\n",
       "  HrSecondary_Total  \n",
       "0             14.14  \n",
       "1             15.87  \n",
       "2             16.93  "
      ]
     },
     "execution_count": 14,
     "metadata": {},
     "output_type": "execute_result"
    }
   ],
   "source": [
    "drop_out.head(3)"
   ]
  },
  {
   "cell_type": "code",
   "execution_count": 15,
   "metadata": {},
   "outputs": [],
   "source": [
    "imputer = SimpleImputer(missing_values = 'NR', strategy='constant', fill_value=0)\n",
    "imputer_1 = SimpleImputer(missing_values = 'Uppe_r_Primary', strategy='constant', fill_value=0)"
   ]
  },
  {
   "cell_type": "code",
   "execution_count": 16,
   "metadata": {},
   "outputs": [],
   "source": [
    "drop_out_cols = drop_out.columns.to_list()\n",
    "drop_out = imputer.fit_transform(drop_out)\n",
    "drop_out = pd.DataFrame(imputer_1.fit_transform(drop_out), columns=drop_out_cols)"
   ]
  },
  {
   "cell_type": "code",
   "execution_count": 17,
   "metadata": {},
   "outputs": [],
   "source": [
    "mean_drop_out_per_state = PreprocessFiles(drop_out, drop_out.columns[2:], year_filter=['2012-13', '2013-14'])"
   ]
  },
  {
   "cell_type": "code",
   "execution_count": 18,
   "metadata": {},
   "outputs": [],
   "source": [
    "test_drop_out = PreprocessFiles(drop_out, drop_out.columns[2:], year_filter=['2014-15'])"
   ]
  },
  {
   "cell_type": "code",
   "execution_count": 19,
   "metadata": {},
   "outputs": [
    {
     "data": {
      "text/html": [
       "<div>\n",
       "<style scoped>\n",
       "    .dataframe tbody tr th:only-of-type {\n",
       "        vertical-align: middle;\n",
       "    }\n",
       "\n",
       "    .dataframe tbody tr th {\n",
       "        vertical-align: top;\n",
       "    }\n",
       "\n",
       "    .dataframe thead th {\n",
       "        text-align: right;\n",
       "    }\n",
       "</style>\n",
       "<table border=\"1\" class=\"dataframe\">\n",
       "  <thead>\n",
       "    <tr style=\"text-align: right;\">\n",
       "      <th></th>\n",
       "      <th>State_UT</th>\n",
       "      <th>drop_out_mean_Primary_Boys</th>\n",
       "      <th>drop_out_mean_Primary_Girls</th>\n",
       "      <th>drop_out_mean_Primary_Total</th>\n",
       "      <th>drop_out_mean_Upper Primary_Boys</th>\n",
       "      <th>drop_out_mean_Upper Primary_Girls</th>\n",
       "      <th>drop_out_mean_Upper Primary_Total</th>\n",
       "      <th>drop_out_mean_Secondary _Boys</th>\n",
       "      <th>drop_out_mean_Secondary _Girls</th>\n",
       "      <th>drop_out_mean_Secondary _Total</th>\n",
       "      <th>drop_out_mean_HrSecondary_Boys</th>\n",
       "      <th>drop_out_mean_HrSecondary_Girls</th>\n",
       "      <th>drop_out_mean_HrSecondary_Total</th>\n",
       "    </tr>\n",
       "  </thead>\n",
       "  <tbody>\n",
       "    <tr>\n",
       "      <th>0</th>\n",
       "      <td>A &amp; N Islands</td>\n",
       "      <td>1.090</td>\n",
       "      <td>0.785</td>\n",
       "      <td>0.945</td>\n",
       "      <td>0.000</td>\n",
       "      <td>1.315</td>\n",
       "      <td>0.87</td>\n",
       "      <td>6.965</td>\n",
       "      <td>5.765</td>\n",
       "      <td>6.380</td>\n",
       "      <td>18.300</td>\n",
       "      <td>11.175</td>\n",
       "      <td>15.005</td>\n",
       "    </tr>\n",
       "    <tr>\n",
       "      <th>1</th>\n",
       "      <td>All India</td>\n",
       "      <td>4.605</td>\n",
       "      <td>4.400</td>\n",
       "      <td>4.505</td>\n",
       "      <td>2.695</td>\n",
       "      <td>4.250</td>\n",
       "      <td>3.45</td>\n",
       "      <td>16.235</td>\n",
       "      <td>16.165</td>\n",
       "      <td>16.200</td>\n",
       "      <td>0.740</td>\n",
       "      <td>0.805</td>\n",
       "      <td>0.770</td>\n",
       "    </tr>\n",
       "    <tr>\n",
       "      <th>2</th>\n",
       "      <td>Andhra Pradesh</td>\n",
       "      <td>3.805</td>\n",
       "      <td>3.720</td>\n",
       "      <td>3.765</td>\n",
       "      <td>3.335</td>\n",
       "      <td>3.815</td>\n",
       "      <td>3.57</td>\n",
       "      <td>12.080</td>\n",
       "      <td>13.310</td>\n",
       "      <td>12.685</td>\n",
       "      <td>7.655</td>\n",
       "      <td>5.425</td>\n",
       "      <td>6.070</td>\n",
       "    </tr>\n",
       "  </tbody>\n",
       "</table>\n",
       "</div>"
      ],
      "text/plain": [
       "         State_UT  drop_out_mean_Primary_Boys  drop_out_mean_Primary_Girls  \\\n",
       "0   A & N Islands                       1.090                        0.785   \n",
       "1       All India                       4.605                        4.400   \n",
       "2  Andhra Pradesh                       3.805                        3.720   \n",
       "\n",
       "   drop_out_mean_Primary_Total  drop_out_mean_Upper Primary_Boys  \\\n",
       "0                        0.945                             0.000   \n",
       "1                        4.505                             2.695   \n",
       "2                        3.765                             3.335   \n",
       "\n",
       "   drop_out_mean_Upper Primary_Girls  drop_out_mean_Upper Primary_Total  \\\n",
       "0                              1.315                               0.87   \n",
       "1                              4.250                               3.45   \n",
       "2                              3.815                               3.57   \n",
       "\n",
       "   drop_out_mean_Secondary _Boys  drop_out_mean_Secondary _Girls  \\\n",
       "0                          6.965                           5.765   \n",
       "1                         16.235                          16.165   \n",
       "2                         12.080                          13.310   \n",
       "\n",
       "   drop_out_mean_Secondary _Total  drop_out_mean_HrSecondary_Boys  \\\n",
       "0                           6.380                          18.300   \n",
       "1                          16.200                           0.740   \n",
       "2                          12.685                           7.655   \n",
       "\n",
       "   drop_out_mean_HrSecondary_Girls  drop_out_mean_HrSecondary_Total  \n",
       "0                           11.175                           15.005  \n",
       "1                            0.805                            0.770  \n",
       "2                            5.425                            6.070  "
      ]
     },
     "execution_count": 19,
     "metadata": {},
     "output_type": "execute_result"
    }
   ],
   "source": [
    "mean_drop_out_per_state.head(3)"
   ]
  },
  {
   "cell_type": "code",
   "execution_count": 20,
   "metadata": {},
   "outputs": [
    {
     "name": "stdout",
     "output_type": "stream",
     "text": [
      "Create Dataset with 13 features\n",
      "Create Dataset with 13 features\n",
      "Create Dataset with 13 features\n",
      "Create Dataset with 13 features\n"
     ]
    }
   ],
   "source": [
    "primary_drop_out = CreateDataSets(mean_drop_out_per_state, 1)\n",
    "upp_drop_out = CreateDataSets(mean_drop_out_per_state, 2)\n",
    "sec_drop_out = CreateDataSets(mean_drop_out_per_state, 3)\n",
    "higher_drop_out = CreateDataSets(mean_drop_out_per_state, 4)"
   ]
  },
  {
   "cell_type": "code",
   "execution_count": 21,
   "metadata": {},
   "outputs": [
    {
     "name": "stdout",
     "output_type": "stream",
     "text": [
      "Create Dataset with 13 features\n",
      "Create Dataset with 13 features\n",
      "Create Dataset with 13 features\n",
      "Create Dataset with 13 features\n"
     ]
    }
   ],
   "source": [
    "eval_primary_drop_out = CreateDataSets(test_drop_out, 1)\n",
    "eval_upp_drop_out = CreateDataSets(test_drop_out, 2)\n",
    "eval_sec_drop_out = CreateDataSets(test_drop_out, 3)\n",
    "eval_higher_drop_out = CreateDataSets(test_drop_out, 4)"
   ]
  },
  {
   "cell_type": "markdown",
   "metadata": {},
   "source": [
    "## Toilet Facilities Preprocessing"
   ]
  },
  {
   "cell_type": "code",
   "execution_count": 305,
   "metadata": {},
   "outputs": [
    {
     "data": {
      "text/html": [
       "<div>\n",
       "<style scoped>\n",
       "    .dataframe tbody tr th:only-of-type {\n",
       "        vertical-align: middle;\n",
       "    }\n",
       "\n",
       "    .dataframe tbody tr th {\n",
       "        vertical-align: top;\n",
       "    }\n",
       "\n",
       "    .dataframe thead th {\n",
       "        text-align: right;\n",
       "    }\n",
       "</style>\n",
       "<table border=\"1\" class=\"dataframe\">\n",
       "  <thead>\n",
       "    <tr style=\"text-align: right;\">\n",
       "      <th></th>\n",
       "      <th>State_UT</th>\n",
       "      <th>year</th>\n",
       "      <th>Primary_Only</th>\n",
       "      <th>Primary_with_U_Primary</th>\n",
       "      <th>Primary_with_U_Primary_Sec_HrSec</th>\n",
       "      <th>U_Primary_Only</th>\n",
       "      <th>U_Primary_With_Sec_HrSec</th>\n",
       "      <th>Primary_with_U_Primary_Sec</th>\n",
       "      <th>U_Primary_With_Sec</th>\n",
       "      <th>Sec_Only</th>\n",
       "      <th>Sec_with_HrSec.</th>\n",
       "      <th>HrSec_Only</th>\n",
       "      <th>All Schools</th>\n",
       "    </tr>\n",
       "  </thead>\n",
       "  <tbody>\n",
       "    <tr>\n",
       "      <th>0</th>\n",
       "      <td>Andaman &amp; Nicobar Islands</td>\n",
       "      <td>2013-14</td>\n",
       "      <td>91.58</td>\n",
       "      <td>97.37</td>\n",
       "      <td>100.0</td>\n",
       "      <td>0.0</td>\n",
       "      <td>100.0</td>\n",
       "      <td>100.0</td>\n",
       "      <td>0.0</td>\n",
       "      <td>0.0</td>\n",
       "      <td>100.0</td>\n",
       "      <td>0.0</td>\n",
       "      <td>94.52</td>\n",
       "    </tr>\n",
       "    <tr>\n",
       "      <th>1</th>\n",
       "      <td>Andaman &amp; Nicobar Islands</td>\n",
       "      <td>2014-15</td>\n",
       "      <td>100.00</td>\n",
       "      <td>100.00</td>\n",
       "      <td>100.0</td>\n",
       "      <td>100.0</td>\n",
       "      <td>100.0</td>\n",
       "      <td>100.0</td>\n",
       "      <td>0.0</td>\n",
       "      <td>0.0</td>\n",
       "      <td>100.0</td>\n",
       "      <td>0.0</td>\n",
       "      <td>100.00</td>\n",
       "    </tr>\n",
       "    <tr>\n",
       "      <th>2</th>\n",
       "      <td>Andaman &amp; Nicobar Islands</td>\n",
       "      <td>2015-16</td>\n",
       "      <td>100.00</td>\n",
       "      <td>100.00</td>\n",
       "      <td>100.0</td>\n",
       "      <td>0.0</td>\n",
       "      <td>100.0</td>\n",
       "      <td>100.0</td>\n",
       "      <td>0.0</td>\n",
       "      <td>0.0</td>\n",
       "      <td>100.0</td>\n",
       "      <td>0.0</td>\n",
       "      <td>100.00</td>\n",
       "    </tr>\n",
       "  </tbody>\n",
       "</table>\n",
       "</div>"
      ],
      "text/plain": [
       "                    State_UT     year  Primary_Only  Primary_with_U_Primary  \\\n",
       "0  Andaman & Nicobar Islands  2013-14         91.58                   97.37   \n",
       "1  Andaman & Nicobar Islands  2014-15        100.00                  100.00   \n",
       "2  Andaman & Nicobar Islands  2015-16        100.00                  100.00   \n",
       "\n",
       "   Primary_with_U_Primary_Sec_HrSec  U_Primary_Only  U_Primary_With_Sec_HrSec  \\\n",
       "0                             100.0             0.0                     100.0   \n",
       "1                             100.0           100.0                     100.0   \n",
       "2                             100.0             0.0                     100.0   \n",
       "\n",
       "   Primary_with_U_Primary_Sec  U_Primary_With_Sec  Sec_Only  Sec_with_HrSec.  \\\n",
       "0                       100.0                 0.0       0.0            100.0   \n",
       "1                       100.0                 0.0       0.0            100.0   \n",
       "2                       100.0                 0.0       0.0            100.0   \n",
       "\n",
       "   HrSec_Only  All Schools  \n",
       "0         0.0        94.52  \n",
       "1         0.0       100.00  \n",
       "2         0.0       100.00  "
      ]
     },
     "execution_count": 305,
     "metadata": {},
     "output_type": "execute_result"
    }
   ],
   "source": [
    "boys.head(3)"
   ]
  },
  {
   "cell_type": "code",
   "execution_count": 306,
   "metadata": {},
   "outputs": [],
   "source": [
    "mean_boys_per_state = PreprocessFiles(boys, boys.columns[2:])"
   ]
  },
  {
   "cell_type": "code",
   "execution_count": 307,
   "metadata": {},
   "outputs": [],
   "source": [
    "test_boys = PreprocessFiles(boys, boys.columns[2:], year_filter=['2015-16'])"
   ]
  },
  {
   "cell_type": "code",
   "execution_count": 308,
   "metadata": {},
   "outputs": [
    {
     "data": {
      "text/html": [
       "<div>\n",
       "<style scoped>\n",
       "    .dataframe tbody tr th:only-of-type {\n",
       "        vertical-align: middle;\n",
       "    }\n",
       "\n",
       "    .dataframe tbody tr th {\n",
       "        vertical-align: top;\n",
       "    }\n",
       "\n",
       "    .dataframe thead th {\n",
       "        text-align: right;\n",
       "    }\n",
       "</style>\n",
       "<table border=\"1\" class=\"dataframe\">\n",
       "  <thead>\n",
       "    <tr style=\"text-align: right;\">\n",
       "      <th></th>\n",
       "      <th>State_UT</th>\n",
       "      <th>boys_mean_Primary_Only</th>\n",
       "      <th>boys_mean_Primary_with_U_Primary</th>\n",
       "      <th>boys_mean_Primary_with_U_Primary_Sec_HrSec</th>\n",
       "      <th>boys_mean_U_Primary_Only</th>\n",
       "      <th>boys_mean_U_Primary_With_Sec_HrSec</th>\n",
       "      <th>boys_mean_Primary_with_U_Primary_Sec</th>\n",
       "      <th>boys_mean_U_Primary_With_Sec</th>\n",
       "      <th>boys_mean_Sec_Only</th>\n",
       "      <th>boys_mean_Sec_with_HrSec.</th>\n",
       "      <th>boys_mean_HrSec_Only</th>\n",
       "      <th>boys_mean_All Schools</th>\n",
       "    </tr>\n",
       "  </thead>\n",
       "  <tbody>\n",
       "    <tr>\n",
       "      <th>0</th>\n",
       "      <td>All India</td>\n",
       "      <td>84.835</td>\n",
       "      <td>92.685</td>\n",
       "      <td>98.250</td>\n",
       "      <td>88.130</td>\n",
       "      <td>97.34</td>\n",
       "      <td>95.430</td>\n",
       "      <td>84.085</td>\n",
       "      <td>93.535</td>\n",
       "      <td>93.885</td>\n",
       "      <td>81.665</td>\n",
       "      <td>87.59</td>\n",
       "    </tr>\n",
       "    <tr>\n",
       "      <th>1</th>\n",
       "      <td>Andaman &amp; Nicobar Islands</td>\n",
       "      <td>95.790</td>\n",
       "      <td>98.685</td>\n",
       "      <td>100.000</td>\n",
       "      <td>50.000</td>\n",
       "      <td>100.00</td>\n",
       "      <td>100.000</td>\n",
       "      <td>0.000</td>\n",
       "      <td>0.000</td>\n",
       "      <td>100.000</td>\n",
       "      <td>0.000</td>\n",
       "      <td>97.26</td>\n",
       "    </tr>\n",
       "    <tr>\n",
       "      <th>2</th>\n",
       "      <td>Andhra Pradesh</td>\n",
       "      <td>55.470</td>\n",
       "      <td>69.545</td>\n",
       "      <td>89.025</td>\n",
       "      <td>60.225</td>\n",
       "      <td>78.72</td>\n",
       "      <td>83.835</td>\n",
       "      <td>69.310</td>\n",
       "      <td>69.955</td>\n",
       "      <td>72.855</td>\n",
       "      <td>79.990</td>\n",
       "      <td>61.11</td>\n",
       "    </tr>\n",
       "  </tbody>\n",
       "</table>\n",
       "</div>"
      ],
      "text/plain": [
       "                    State_UT  boys_mean_Primary_Only  \\\n",
       "0                  All India                  84.835   \n",
       "1  Andaman & Nicobar Islands                  95.790   \n",
       "2             Andhra Pradesh                  55.470   \n",
       "\n",
       "   boys_mean_Primary_with_U_Primary  \\\n",
       "0                            92.685   \n",
       "1                            98.685   \n",
       "2                            69.545   \n",
       "\n",
       "   boys_mean_Primary_with_U_Primary_Sec_HrSec  boys_mean_U_Primary_Only  \\\n",
       "0                                      98.250                    88.130   \n",
       "1                                     100.000                    50.000   \n",
       "2                                      89.025                    60.225   \n",
       "\n",
       "   boys_mean_U_Primary_With_Sec_HrSec  boys_mean_Primary_with_U_Primary_Sec  \\\n",
       "0                               97.34                                95.430   \n",
       "1                              100.00                               100.000   \n",
       "2                               78.72                                83.835   \n",
       "\n",
       "   boys_mean_U_Primary_With_Sec  boys_mean_Sec_Only  \\\n",
       "0                        84.085              93.535   \n",
       "1                         0.000               0.000   \n",
       "2                        69.310              69.955   \n",
       "\n",
       "   boys_mean_Sec_with_HrSec.  boys_mean_HrSec_Only  boys_mean_All Schools  \n",
       "0                     93.885                81.665                  87.59  \n",
       "1                    100.000                 0.000                  97.26  \n",
       "2                     72.855                79.990                  61.11  "
      ]
     },
     "execution_count": 308,
     "metadata": {},
     "output_type": "execute_result"
    }
   ],
   "source": [
    "mean_boys_per_state.head(3)"
   ]
  },
  {
   "cell_type": "code",
   "execution_count": 309,
   "metadata": {},
   "outputs": [
    {
     "name": "stdout",
     "output_type": "stream",
     "text": [
      "Create Dataset with 12 features\n",
      "Create Dataset with 12 features\n",
      "Create Dataset with 12 features\n",
      "Create Dataset with 12 features\n"
     ]
    }
   ],
   "source": [
    "primary_boys = CreateDataSets(mean_boys_per_state, 1)\n",
    "upp_boys = CreateDataSets(mean_boys_per_state, 2)\n",
    "sec_boys = CreateDataSets(mean_boys_per_state, 3)\n",
    "higher_boys = CreateDataSets(mean_boys_per_state, 4)"
   ]
  },
  {
   "cell_type": "code",
   "execution_count": 310,
   "metadata": {},
   "outputs": [],
   "source": [
    "higher_boys.drop(columns=[0], inplace=True)"
   ]
  },
  {
   "cell_type": "code",
   "execution_count": 311,
   "metadata": {},
   "outputs": [
    {
     "data": {
      "text/html": [
       "<div>\n",
       "<style scoped>\n",
       "    .dataframe tbody tr th:only-of-type {\n",
       "        vertical-align: middle;\n",
       "    }\n",
       "\n",
       "    .dataframe tbody tr th {\n",
       "        vertical-align: top;\n",
       "    }\n",
       "\n",
       "    .dataframe thead th {\n",
       "        text-align: right;\n",
       "    }\n",
       "</style>\n",
       "<table border=\"1\" class=\"dataframe\">\n",
       "  <thead>\n",
       "    <tr style=\"text-align: right;\">\n",
       "      <th></th>\n",
       "      <th>boys_mean_HrSec_Only</th>\n",
       "      <th>boys_mean_All Schools</th>\n",
       "    </tr>\n",
       "    <tr>\n",
       "      <th>State_UT</th>\n",
       "      <th></th>\n",
       "      <th></th>\n",
       "    </tr>\n",
       "  </thead>\n",
       "  <tbody>\n",
       "    <tr>\n",
       "      <th>All India</th>\n",
       "      <td>81.665</td>\n",
       "      <td>87.59</td>\n",
       "    </tr>\n",
       "    <tr>\n",
       "      <th>Andaman &amp; Nicobar Islands</th>\n",
       "      <td>0.000</td>\n",
       "      <td>97.26</td>\n",
       "    </tr>\n",
       "  </tbody>\n",
       "</table>\n",
       "</div>"
      ],
      "text/plain": [
       "                           boys_mean_HrSec_Only  boys_mean_All Schools\n",
       "State_UT                                                              \n",
       "All India                                81.665                  87.59\n",
       "Andaman & Nicobar Islands                 0.000                  97.26"
      ]
     },
     "execution_count": 311,
     "metadata": {},
     "output_type": "execute_result"
    }
   ],
   "source": [
    "higher_boys.head(2)"
   ]
  },
  {
   "cell_type": "code",
   "execution_count": 312,
   "metadata": {},
   "outputs": [
    {
     "name": "stdout",
     "output_type": "stream",
     "text": [
      "Create Dataset with 12 features\n",
      "Create Dataset with 12 features\n",
      "Create Dataset with 12 features\n",
      "Create Dataset with 12 features\n"
     ]
    }
   ],
   "source": [
    "eval_primary_boys = CreateDataSets(test_boys, 1)\n",
    "eval_upp_boys = CreateDataSets(test_boys, 2)\n",
    "eval_sec_boys = CreateDataSets(test_boys, 3)\n",
    "eval_higher_boys = CreateDataSets(test_boys, 4)"
   ]
  },
  {
   "cell_type": "code",
   "execution_count": 314,
   "metadata": {},
   "outputs": [
    {
     "data": {
      "text/html": [
       "<div>\n",
       "<style scoped>\n",
       "    .dataframe tbody tr th:only-of-type {\n",
       "        vertical-align: middle;\n",
       "    }\n",
       "\n",
       "    .dataframe tbody tr th {\n",
       "        vertical-align: top;\n",
       "    }\n",
       "\n",
       "    .dataframe thead th {\n",
       "        text-align: right;\n",
       "    }\n",
       "</style>\n",
       "<table border=\"1\" class=\"dataframe\">\n",
       "  <thead>\n",
       "    <tr style=\"text-align: right;\">\n",
       "      <th></th>\n",
       "      <th>boys_mean_HrSec_Only</th>\n",
       "      <th>boys_mean_All Schools</th>\n",
       "      <th>0</th>\n",
       "    </tr>\n",
       "    <tr>\n",
       "      <th>State_UT</th>\n",
       "      <th></th>\n",
       "      <th></th>\n",
       "      <th></th>\n",
       "    </tr>\n",
       "  </thead>\n",
       "  <tbody>\n",
       "    <tr>\n",
       "      <th>All India</th>\n",
       "      <td>95.67</td>\n",
       "      <td>97.02</td>\n",
       "      <td>1.0</td>\n",
       "    </tr>\n",
       "    <tr>\n",
       "      <th>Andaman &amp; Nicobar Islands</th>\n",
       "      <td>0.00</td>\n",
       "      <td>100.00</td>\n",
       "      <td>1.0</td>\n",
       "    </tr>\n",
       "    <tr>\n",
       "      <th>Andhra Pradesh</th>\n",
       "      <td>100.00</td>\n",
       "      <td>99.69</td>\n",
       "      <td>1.0</td>\n",
       "    </tr>\n",
       "    <tr>\n",
       "      <th>Arunachal Pradesh</th>\n",
       "      <td>100.00</td>\n",
       "      <td>95.65</td>\n",
       "      <td>1.0</td>\n",
       "    </tr>\n",
       "    <tr>\n",
       "      <th>Assam</th>\n",
       "      <td>80.21</td>\n",
       "      <td>82.80</td>\n",
       "      <td>1.0</td>\n",
       "    </tr>\n",
       "  </tbody>\n",
       "</table>\n",
       "</div>"
      ],
      "text/plain": [
       "                           boys_mean_HrSec_Only  boys_mean_All Schools    0\n",
       "State_UT                                                                   \n",
       "All India                                 95.67                  97.02  1.0\n",
       "Andaman & Nicobar Islands                  0.00                 100.00  1.0\n",
       "Andhra Pradesh                           100.00                  99.69  1.0\n",
       "Arunachal Pradesh                        100.00                  95.65  1.0\n",
       "Assam                                     80.21                  82.80  1.0"
      ]
     },
     "execution_count": 314,
     "metadata": {},
     "output_type": "execute_result"
    }
   ],
   "source": [
    "eval_higher_boys.head()"
   ]
  },
  {
   "cell_type": "code",
   "execution_count": 315,
   "metadata": {},
   "outputs": [],
   "source": [
    "eval_higher_boys.drop(columns=[0], inplace=True)"
   ]
  },
  {
   "cell_type": "code",
   "execution_count": 31,
   "metadata": {},
   "outputs": [],
   "source": [
    "mean_girls_per_state = PreprocessFiles(girls, girls.columns[2:])"
   ]
  },
  {
   "cell_type": "code",
   "execution_count": 32,
   "metadata": {},
   "outputs": [],
   "source": [
    "test_girls = PreprocessFiles(girls, girls.columns[2:], year_filter=['2015-16'])"
   ]
  },
  {
   "cell_type": "code",
   "execution_count": 33,
   "metadata": {},
   "outputs": [
    {
     "data": {
      "text/html": [
       "<div>\n",
       "<style scoped>\n",
       "    .dataframe tbody tr th:only-of-type {\n",
       "        vertical-align: middle;\n",
       "    }\n",
       "\n",
       "    .dataframe tbody tr th {\n",
       "        vertical-align: top;\n",
       "    }\n",
       "\n",
       "    .dataframe thead th {\n",
       "        text-align: right;\n",
       "    }\n",
       "</style>\n",
       "<table border=\"1\" class=\"dataframe\">\n",
       "  <thead>\n",
       "    <tr style=\"text-align: right;\">\n",
       "      <th></th>\n",
       "      <th>State_UT</th>\n",
       "      <th>girls_mean_Primary_Only</th>\n",
       "      <th>girls_mean_Primary_with_U_Primary</th>\n",
       "      <th>girls_mean_Primary_with_U_Primary_Sec_HrSec</th>\n",
       "      <th>girls_mean_U_Primary_Only</th>\n",
       "      <th>girls_mean_U_Primary_With_Sec_HrSec</th>\n",
       "      <th>girls_mean_Primary_with_U_Primary_Sec</th>\n",
       "      <th>girls_mean_U_Primary_With_Sec</th>\n",
       "      <th>girls_mean_Sec_Only</th>\n",
       "      <th>girls_mean_Sec_with_HrSec.</th>\n",
       "      <th>girls_mean_HrSec_Only</th>\n",
       "      <th>girls_mean_All Schools</th>\n",
       "    </tr>\n",
       "  </thead>\n",
       "  <tbody>\n",
       "    <tr>\n",
       "      <th>0</th>\n",
       "      <td>All India</td>\n",
       "      <td>89.945</td>\n",
       "      <td>96.450</td>\n",
       "      <td>99.145</td>\n",
       "      <td>91.39</td>\n",
       "      <td>98.74</td>\n",
       "      <td>97.760</td>\n",
       "      <td>95.505</td>\n",
       "      <td>94.66</td>\n",
       "      <td>96.205</td>\n",
       "      <td>83.54</td>\n",
       "      <td>92.155</td>\n",
       "    </tr>\n",
       "    <tr>\n",
       "      <th>1</th>\n",
       "      <td>Andaman &amp; Nicobar Islands</td>\n",
       "      <td>94.870</td>\n",
       "      <td>98.685</td>\n",
       "      <td>100.000</td>\n",
       "      <td>50.00</td>\n",
       "      <td>100.00</td>\n",
       "      <td>100.000</td>\n",
       "      <td>0.000</td>\n",
       "      <td>0.00</td>\n",
       "      <td>100.000</td>\n",
       "      <td>0.00</td>\n",
       "      <td>96.720</td>\n",
       "    </tr>\n",
       "    <tr>\n",
       "      <th>2</th>\n",
       "      <td>Andhra Pradesh</td>\n",
       "      <td>86.975</td>\n",
       "      <td>94.135</td>\n",
       "      <td>98.600</td>\n",
       "      <td>90.91</td>\n",
       "      <td>84.06</td>\n",
       "      <td>95.125</td>\n",
       "      <td>95.560</td>\n",
       "      <td>90.98</td>\n",
       "      <td>85.715</td>\n",
       "      <td>85.10</td>\n",
       "      <td>89.690</td>\n",
       "    </tr>\n",
       "  </tbody>\n",
       "</table>\n",
       "</div>"
      ],
      "text/plain": [
       "                    State_UT  girls_mean_Primary_Only  \\\n",
       "0                  All India                   89.945   \n",
       "1  Andaman & Nicobar Islands                   94.870   \n",
       "2             Andhra Pradesh                   86.975   \n",
       "\n",
       "   girls_mean_Primary_with_U_Primary  \\\n",
       "0                             96.450   \n",
       "1                             98.685   \n",
       "2                             94.135   \n",
       "\n",
       "   girls_mean_Primary_with_U_Primary_Sec_HrSec  girls_mean_U_Primary_Only  \\\n",
       "0                                       99.145                      91.39   \n",
       "1                                      100.000                      50.00   \n",
       "2                                       98.600                      90.91   \n",
       "\n",
       "   girls_mean_U_Primary_With_Sec_HrSec  girls_mean_Primary_with_U_Primary_Sec  \\\n",
       "0                                98.74                                 97.760   \n",
       "1                               100.00                                100.000   \n",
       "2                                84.06                                 95.125   \n",
       "\n",
       "   girls_mean_U_Primary_With_Sec  girls_mean_Sec_Only  \\\n",
       "0                         95.505                94.66   \n",
       "1                          0.000                 0.00   \n",
       "2                         95.560                90.98   \n",
       "\n",
       "   girls_mean_Sec_with_HrSec.  girls_mean_HrSec_Only  girls_mean_All Schools  \n",
       "0                      96.205                  83.54                  92.155  \n",
       "1                     100.000                   0.00                  96.720  \n",
       "2                      85.715                  85.10                  89.690  "
      ]
     },
     "execution_count": 33,
     "metadata": {},
     "output_type": "execute_result"
    }
   ],
   "source": [
    "mean_girls_per_state.head(3)"
   ]
  },
  {
   "cell_type": "code",
   "execution_count": 34,
   "metadata": {},
   "outputs": [
    {
     "name": "stdout",
     "output_type": "stream",
     "text": [
      "Create Dataset with 12 features\n",
      "Create Dataset with 12 features\n",
      "Create Dataset with 12 features\n",
      "Create Dataset with 12 features\n"
     ]
    }
   ],
   "source": [
    "primary_girls = CreateDataSets(mean_girls_per_state, 1)\n",
    "upp_girls = CreateDataSets(mean_girls_per_state, 2)\n",
    "sec_girls = CreateDataSets(mean_girls_per_state, 3)\n",
    "higher_girls = CreateDataSets(mean_girls_per_state, 4)"
   ]
  },
  {
   "cell_type": "code",
   "execution_count": 35,
   "metadata": {},
   "outputs": [],
   "source": [
    "higher_girls.drop(columns=[0], inplace=True)"
   ]
  },
  {
   "cell_type": "code",
   "execution_count": 36,
   "metadata": {},
   "outputs": [
    {
     "data": {
      "text/html": [
       "<div>\n",
       "<style scoped>\n",
       "    .dataframe tbody tr th:only-of-type {\n",
       "        vertical-align: middle;\n",
       "    }\n",
       "\n",
       "    .dataframe tbody tr th {\n",
       "        vertical-align: top;\n",
       "    }\n",
       "\n",
       "    .dataframe thead th {\n",
       "        text-align: right;\n",
       "    }\n",
       "</style>\n",
       "<table border=\"1\" class=\"dataframe\">\n",
       "  <thead>\n",
       "    <tr style=\"text-align: right;\">\n",
       "      <th></th>\n",
       "      <th>girls_mean_HrSec_Only</th>\n",
       "      <th>girls_mean_All Schools</th>\n",
       "    </tr>\n",
       "    <tr>\n",
       "      <th>State_UT</th>\n",
       "      <th></th>\n",
       "      <th></th>\n",
       "    </tr>\n",
       "  </thead>\n",
       "  <tbody>\n",
       "    <tr>\n",
       "      <th>All India</th>\n",
       "      <td>83.54</td>\n",
       "      <td>92.155</td>\n",
       "    </tr>\n",
       "    <tr>\n",
       "      <th>Andaman &amp; Nicobar Islands</th>\n",
       "      <td>0.00</td>\n",
       "      <td>96.720</td>\n",
       "    </tr>\n",
       "    <tr>\n",
       "      <th>Andhra Pradesh</th>\n",
       "      <td>85.10</td>\n",
       "      <td>89.690</td>\n",
       "    </tr>\n",
       "  </tbody>\n",
       "</table>\n",
       "</div>"
      ],
      "text/plain": [
       "                           girls_mean_HrSec_Only  girls_mean_All Schools\n",
       "State_UT                                                                \n",
       "All India                                  83.54                  92.155\n",
       "Andaman & Nicobar Islands                   0.00                  96.720\n",
       "Andhra Pradesh                             85.10                  89.690"
      ]
     },
     "execution_count": 36,
     "metadata": {},
     "output_type": "execute_result"
    }
   ],
   "source": [
    "higher_girls.head(3)"
   ]
  },
  {
   "cell_type": "code",
   "execution_count": 37,
   "metadata": {},
   "outputs": [
    {
     "name": "stdout",
     "output_type": "stream",
     "text": [
      "Create Dataset with 12 features\n",
      "Create Dataset with 12 features\n",
      "Create Dataset with 12 features\n",
      "Create Dataset with 12 features\n"
     ]
    }
   ],
   "source": [
    "eval_primary_girls = CreateDataSets(test_girls, 1)\n",
    "eval_upp_girls = CreateDataSets(test_girls, 2)\n",
    "eval_sec_girls = CreateDataSets(test_girls, 3)\n",
    "eval_higher_girls = CreateDataSets(test_girls, 4)"
   ]
  },
  {
   "cell_type": "code",
   "execution_count": 38,
   "metadata": {},
   "outputs": [],
   "source": [
    "eval_higher_girls.drop(columns=[0], inplace=True)"
   ]
  },
  {
   "cell_type": "markdown",
   "metadata": {},
   "source": [
    "## Water Facilities "
   ]
  },
  {
   "cell_type": "code",
   "execution_count": 39,
   "metadata": {},
   "outputs": [
    {
     "data": {
      "text/html": [
       "<div>\n",
       "<style scoped>\n",
       "    .dataframe tbody tr th:only-of-type {\n",
       "        vertical-align: middle;\n",
       "    }\n",
       "\n",
       "    .dataframe tbody tr th {\n",
       "        vertical-align: top;\n",
       "    }\n",
       "\n",
       "    .dataframe thead th {\n",
       "        text-align: right;\n",
       "    }\n",
       "</style>\n",
       "<table border=\"1\" class=\"dataframe\">\n",
       "  <thead>\n",
       "    <tr style=\"text-align: right;\">\n",
       "      <th></th>\n",
       "      <th>State/UT</th>\n",
       "      <th>Year</th>\n",
       "      <th>Primary_Only</th>\n",
       "      <th>Primary_with_U_Primary</th>\n",
       "      <th>Primary_with_U_Primary_Sec_HrSec</th>\n",
       "      <th>U_Primary_Only</th>\n",
       "      <th>U_Primary_With_Sec_HrSec</th>\n",
       "      <th>Primary_with_U_Primary_Sec</th>\n",
       "      <th>U_Primary_With_Sec</th>\n",
       "      <th>Sec_Only</th>\n",
       "      <th>Sec_with_HrSec.</th>\n",
       "      <th>HrSec_Only</th>\n",
       "      <th>All Schools</th>\n",
       "    </tr>\n",
       "  </thead>\n",
       "  <tbody>\n",
       "    <tr>\n",
       "      <th>0</th>\n",
       "      <td>Andaman &amp; Nicobar Islands</td>\n",
       "      <td>2013-14</td>\n",
       "      <td>98.17</td>\n",
       "      <td>98.68</td>\n",
       "      <td>100.0</td>\n",
       "      <td>0.0</td>\n",
       "      <td>100.0</td>\n",
       "      <td>100.0</td>\n",
       "      <td>0.0</td>\n",
       "      <td>0.0</td>\n",
       "      <td>100.0</td>\n",
       "      <td>0.0</td>\n",
       "      <td>98.69</td>\n",
       "    </tr>\n",
       "    <tr>\n",
       "      <th>1</th>\n",
       "      <td>Andaman &amp; Nicobar Islands</td>\n",
       "      <td>2014-15</td>\n",
       "      <td>99.55</td>\n",
       "      <td>98.77</td>\n",
       "      <td>100.0</td>\n",
       "      <td>100.0</td>\n",
       "      <td>100.0</td>\n",
       "      <td>100.0</td>\n",
       "      <td>0.0</td>\n",
       "      <td>0.0</td>\n",
       "      <td>100.0</td>\n",
       "      <td>0.0</td>\n",
       "      <td>99.52</td>\n",
       "    </tr>\n",
       "    <tr>\n",
       "      <th>2</th>\n",
       "      <td>Andaman &amp; Nicobar Islands</td>\n",
       "      <td>2015-16</td>\n",
       "      <td>100.00</td>\n",
       "      <td>100.00</td>\n",
       "      <td>100.0</td>\n",
       "      <td>0.0</td>\n",
       "      <td>100.0</td>\n",
       "      <td>100.0</td>\n",
       "      <td>0.0</td>\n",
       "      <td>0.0</td>\n",
       "      <td>100.0</td>\n",
       "      <td>0.0</td>\n",
       "      <td>100.00</td>\n",
       "    </tr>\n",
       "  </tbody>\n",
       "</table>\n",
       "</div>"
      ],
      "text/plain": [
       "                    State/UT     Year  Primary_Only  Primary_with_U_Primary  \\\n",
       "0  Andaman & Nicobar Islands  2013-14         98.17                   98.68   \n",
       "1  Andaman & Nicobar Islands  2014-15         99.55                   98.77   \n",
       "2  Andaman & Nicobar Islands  2015-16        100.00                  100.00   \n",
       "\n",
       "   Primary_with_U_Primary_Sec_HrSec  U_Primary_Only  U_Primary_With_Sec_HrSec  \\\n",
       "0                             100.0             0.0                     100.0   \n",
       "1                             100.0           100.0                     100.0   \n",
       "2                             100.0             0.0                     100.0   \n",
       "\n",
       "   Primary_with_U_Primary_Sec  U_Primary_With_Sec  Sec_Only  Sec_with_HrSec.  \\\n",
       "0                       100.0                 0.0       0.0            100.0   \n",
       "1                       100.0                 0.0       0.0            100.0   \n",
       "2                       100.0                 0.0       0.0            100.0   \n",
       "\n",
       "   HrSec_Only  All Schools  \n",
       "0         0.0        98.69  \n",
       "1         0.0        99.52  \n",
       "2         0.0       100.00  "
      ]
     },
     "execution_count": 39,
     "metadata": {},
     "output_type": "execute_result"
    }
   ],
   "source": [
    "water.head(3)"
   ]
  },
  {
   "cell_type": "code",
   "execution_count": 40,
   "metadata": {},
   "outputs": [],
   "source": [
    "mean_water_facilities = PreprocessFiles(water, water.columns[2:], city ='State/UT', year = 'Year')"
   ]
  },
  {
   "cell_type": "code",
   "execution_count": 41,
   "metadata": {},
   "outputs": [],
   "source": [
    "test_water_fac = PreprocessFiles(water, water.columns[2:],city ='State/UT', year = 'Year', year_filter=['2015-16'])\n",
    "test_water_fac.rename(columns={'State/UT':'State_UT'}, inplace=True)"
   ]
  },
  {
   "cell_type": "code",
   "execution_count": 42,
   "metadata": {},
   "outputs": [
    {
     "data": {
      "text/html": [
       "<div>\n",
       "<style scoped>\n",
       "    .dataframe tbody tr th:only-of-type {\n",
       "        vertical-align: middle;\n",
       "    }\n",
       "\n",
       "    .dataframe tbody tr th {\n",
       "        vertical-align: top;\n",
       "    }\n",
       "\n",
       "    .dataframe thead th {\n",
       "        text-align: right;\n",
       "    }\n",
       "</style>\n",
       "<table border=\"1\" class=\"dataframe\">\n",
       "  <thead>\n",
       "    <tr style=\"text-align: right;\">\n",
       "      <th></th>\n",
       "      <th>State/UT</th>\n",
       "      <th>water_mean_Primary_Only</th>\n",
       "      <th>water_mean_Primary_with_U_Primary</th>\n",
       "      <th>water_mean_Primary_with_U_Primary_Sec_HrSec</th>\n",
       "      <th>water_mean_U_Primary_Only</th>\n",
       "      <th>water_mean_U_Primary_With_Sec_HrSec</th>\n",
       "      <th>water_mean_Primary_with_U_Primary_Sec</th>\n",
       "      <th>water_mean_U_Primary_With_Sec</th>\n",
       "      <th>water_mean_Sec_Only</th>\n",
       "      <th>water_mean_Sec_with_HrSec.</th>\n",
       "      <th>water_mean_HrSec_Only</th>\n",
       "      <th>water_mean_All Schools</th>\n",
       "    </tr>\n",
       "  </thead>\n",
       "  <tbody>\n",
       "    <tr>\n",
       "      <th>0</th>\n",
       "      <td>All India</td>\n",
       "      <td>94.485</td>\n",
       "      <td>98.335</td>\n",
       "      <td>99.345</td>\n",
       "      <td>94.360</td>\n",
       "      <td>99.29</td>\n",
       "      <td>98.735</td>\n",
       "      <td>97.935</td>\n",
       "      <td>96.42</td>\n",
       "      <td>98.445</td>\n",
       "      <td>97.685</td>\n",
       "      <td>95.760</td>\n",
       "    </tr>\n",
       "    <tr>\n",
       "      <th>1</th>\n",
       "      <td>Andaman &amp; Nicobar Islands</td>\n",
       "      <td>98.860</td>\n",
       "      <td>98.725</td>\n",
       "      <td>100.000</td>\n",
       "      <td>50.000</td>\n",
       "      <td>100.00</td>\n",
       "      <td>100.000</td>\n",
       "      <td>0.000</td>\n",
       "      <td>0.00</td>\n",
       "      <td>100.000</td>\n",
       "      <td>0.000</td>\n",
       "      <td>99.105</td>\n",
       "    </tr>\n",
       "    <tr>\n",
       "      <th>2</th>\n",
       "      <td>Andhra Pradesh</td>\n",
       "      <td>89.370</td>\n",
       "      <td>95.300</td>\n",
       "      <td>99.830</td>\n",
       "      <td>95.455</td>\n",
       "      <td>88.63</td>\n",
       "      <td>99.200</td>\n",
       "      <td>96.750</td>\n",
       "      <td>98.75</td>\n",
       "      <td>100.000</td>\n",
       "      <td>97.945</td>\n",
       "      <td>92.045</td>\n",
       "    </tr>\n",
       "  </tbody>\n",
       "</table>\n",
       "</div>"
      ],
      "text/plain": [
       "                    State/UT  water_mean_Primary_Only  \\\n",
       "0                  All India                   94.485   \n",
       "1  Andaman & Nicobar Islands                   98.860   \n",
       "2             Andhra Pradesh                   89.370   \n",
       "\n",
       "   water_mean_Primary_with_U_Primary  \\\n",
       "0                             98.335   \n",
       "1                             98.725   \n",
       "2                             95.300   \n",
       "\n",
       "   water_mean_Primary_with_U_Primary_Sec_HrSec  water_mean_U_Primary_Only  \\\n",
       "0                                       99.345                     94.360   \n",
       "1                                      100.000                     50.000   \n",
       "2                                       99.830                     95.455   \n",
       "\n",
       "   water_mean_U_Primary_With_Sec_HrSec  water_mean_Primary_with_U_Primary_Sec  \\\n",
       "0                                99.29                                 98.735   \n",
       "1                               100.00                                100.000   \n",
       "2                                88.63                                 99.200   \n",
       "\n",
       "   water_mean_U_Primary_With_Sec  water_mean_Sec_Only  \\\n",
       "0                         97.935                96.42   \n",
       "1                          0.000                 0.00   \n",
       "2                         96.750                98.75   \n",
       "\n",
       "   water_mean_Sec_with_HrSec.  water_mean_HrSec_Only  water_mean_All Schools  \n",
       "0                      98.445                 97.685                  95.760  \n",
       "1                     100.000                  0.000                  99.105  \n",
       "2                     100.000                 97.945                  92.045  "
      ]
     },
     "execution_count": 42,
     "metadata": {},
     "output_type": "execute_result"
    }
   ],
   "source": [
    "mean_water_facilities.head(3)"
   ]
  },
  {
   "cell_type": "code",
   "execution_count": 43,
   "metadata": {},
   "outputs": [],
   "source": [
    "mean_water_facilities.rename(columns={'State/UT':'State_UT'}, inplace=True)"
   ]
  },
  {
   "cell_type": "code",
   "execution_count": 44,
   "metadata": {},
   "outputs": [
    {
     "name": "stdout",
     "output_type": "stream",
     "text": [
      "Create Dataset with 12 features\n",
      "Create Dataset with 12 features\n",
      "Create Dataset with 12 features\n",
      "Create Dataset with 12 features\n"
     ]
    }
   ],
   "source": [
    "primary_water = CreateDataSets(mean_water_facilities, 1)\n",
    "upp_water = CreateDataSets(mean_water_facilities, 2)\n",
    "sec_water = CreateDataSets(mean_water_facilities, 3)\n",
    "higher_water = CreateDataSets(mean_water_facilities, 4)"
   ]
  },
  {
   "cell_type": "code",
   "execution_count": 45,
   "metadata": {},
   "outputs": [],
   "source": [
    "higher_water.drop(columns=[0], inplace=True)"
   ]
  },
  {
   "cell_type": "code",
   "execution_count": 46,
   "metadata": {},
   "outputs": [
    {
     "data": {
      "text/html": [
       "<div>\n",
       "<style scoped>\n",
       "    .dataframe tbody tr th:only-of-type {\n",
       "        vertical-align: middle;\n",
       "    }\n",
       "\n",
       "    .dataframe tbody tr th {\n",
       "        vertical-align: top;\n",
       "    }\n",
       "\n",
       "    .dataframe thead th {\n",
       "        text-align: right;\n",
       "    }\n",
       "</style>\n",
       "<table border=\"1\" class=\"dataframe\">\n",
       "  <thead>\n",
       "    <tr style=\"text-align: right;\">\n",
       "      <th></th>\n",
       "      <th>water_mean_HrSec_Only</th>\n",
       "      <th>water_mean_All Schools</th>\n",
       "    </tr>\n",
       "    <tr>\n",
       "      <th>State_UT</th>\n",
       "      <th></th>\n",
       "      <th></th>\n",
       "    </tr>\n",
       "  </thead>\n",
       "  <tbody>\n",
       "    <tr>\n",
       "      <th>All India</th>\n",
       "      <td>97.685</td>\n",
       "      <td>95.760</td>\n",
       "    </tr>\n",
       "    <tr>\n",
       "      <th>Andaman &amp; Nicobar Islands</th>\n",
       "      <td>0.000</td>\n",
       "      <td>99.105</td>\n",
       "    </tr>\n",
       "  </tbody>\n",
       "</table>\n",
       "</div>"
      ],
      "text/plain": [
       "                           water_mean_HrSec_Only  water_mean_All Schools\n",
       "State_UT                                                                \n",
       "All India                                 97.685                  95.760\n",
       "Andaman & Nicobar Islands                  0.000                  99.105"
      ]
     },
     "execution_count": 46,
     "metadata": {},
     "output_type": "execute_result"
    }
   ],
   "source": [
    "higher_water.head(2)"
   ]
  },
  {
   "cell_type": "code",
   "execution_count": 47,
   "metadata": {},
   "outputs": [
    {
     "name": "stdout",
     "output_type": "stream",
     "text": [
      "Create Dataset with 12 features\n",
      "Create Dataset with 12 features\n",
      "Create Dataset with 12 features\n",
      "Create Dataset with 12 features\n"
     ]
    }
   ],
   "source": [
    "eval_primary_water_fac = CreateDataSets(test_water_fac, 1)\n",
    "eval_upp_water_fac = CreateDataSets(test_water_fac, 2)\n",
    "eval_sec_water_fac = CreateDataSets(test_water_fac, 3)\n",
    "eval_higher_water_fac = CreateDataSets(test_water_fac, 4)"
   ]
  },
  {
   "cell_type": "code",
   "execution_count": 48,
   "metadata": {},
   "outputs": [],
   "source": [
    "eval_higher_water_fac.drop(columns=[0], inplace=True)"
   ]
  },
  {
   "cell_type": "markdown",
   "metadata": {},
   "source": [
    "## Electricity Facilities"
   ]
  },
  {
   "cell_type": "code",
   "execution_count": 49,
   "metadata": {},
   "outputs": [
    {
     "data": {
      "text/html": [
       "<div>\n",
       "<style scoped>\n",
       "    .dataframe tbody tr th:only-of-type {\n",
       "        vertical-align: middle;\n",
       "    }\n",
       "\n",
       "    .dataframe tbody tr th {\n",
       "        vertical-align: top;\n",
       "    }\n",
       "\n",
       "    .dataframe thead th {\n",
       "        text-align: right;\n",
       "    }\n",
       "</style>\n",
       "<table border=\"1\" class=\"dataframe\">\n",
       "  <thead>\n",
       "    <tr style=\"text-align: right;\">\n",
       "      <th></th>\n",
       "      <th>State_UT</th>\n",
       "      <th>year</th>\n",
       "      <th>Primary_Only</th>\n",
       "      <th>Primary_with_U_Primary</th>\n",
       "      <th>Primary_with_U_Primary_Sec_HrSec</th>\n",
       "      <th>U_Primary_Only</th>\n",
       "      <th>U_Primary_With_Sec_HrSec</th>\n",
       "      <th>Primary_with_U_Primary_Sec</th>\n",
       "      <th>U_Primary_With_Sec</th>\n",
       "      <th>Sec_Only</th>\n",
       "      <th>Sec_with_HrSec.</th>\n",
       "      <th>HrSec_Only</th>\n",
       "      <th>All Schools</th>\n",
       "    </tr>\n",
       "  </thead>\n",
       "  <tbody>\n",
       "    <tr>\n",
       "      <th>0</th>\n",
       "      <td>Andaman &amp; Nicobar Islands</td>\n",
       "      <td>2013-14</td>\n",
       "      <td>82.42</td>\n",
       "      <td>96.05</td>\n",
       "      <td>100.0</td>\n",
       "      <td>0.0</td>\n",
       "      <td>100.0</td>\n",
       "      <td>100.0</td>\n",
       "      <td>0.0</td>\n",
       "      <td>0.0</td>\n",
       "      <td>100.0</td>\n",
       "      <td>0.0</td>\n",
       "      <td>88.86</td>\n",
       "    </tr>\n",
       "    <tr>\n",
       "      <th>1</th>\n",
       "      <td>Andaman &amp; Nicobar Islands</td>\n",
       "      <td>2014-15</td>\n",
       "      <td>80.72</td>\n",
       "      <td>96.30</td>\n",
       "      <td>100.0</td>\n",
       "      <td>100.0</td>\n",
       "      <td>100.0</td>\n",
       "      <td>100.0</td>\n",
       "      <td>0.0</td>\n",
       "      <td>0.0</td>\n",
       "      <td>100.0</td>\n",
       "      <td>0.0</td>\n",
       "      <td>88.89</td>\n",
       "    </tr>\n",
       "    <tr>\n",
       "      <th>2</th>\n",
       "      <td>Andaman &amp; Nicobar Islands</td>\n",
       "      <td>2015-16</td>\n",
       "      <td>82.11</td>\n",
       "      <td>97.62</td>\n",
       "      <td>100.0</td>\n",
       "      <td>0.0</td>\n",
       "      <td>100.0</td>\n",
       "      <td>100.0</td>\n",
       "      <td>0.0</td>\n",
       "      <td>0.0</td>\n",
       "      <td>100.0</td>\n",
       "      <td>0.0</td>\n",
       "      <td>90.10</td>\n",
       "    </tr>\n",
       "  </tbody>\n",
       "</table>\n",
       "</div>"
      ],
      "text/plain": [
       "                    State_UT     year  Primary_Only  Primary_with_U_Primary  \\\n",
       "0  Andaman & Nicobar Islands  2013-14         82.42                   96.05   \n",
       "1  Andaman & Nicobar Islands  2014-15         80.72                   96.30   \n",
       "2  Andaman & Nicobar Islands  2015-16         82.11                   97.62   \n",
       "\n",
       "   Primary_with_U_Primary_Sec_HrSec  U_Primary_Only  U_Primary_With_Sec_HrSec  \\\n",
       "0                             100.0             0.0                     100.0   \n",
       "1                             100.0           100.0                     100.0   \n",
       "2                             100.0             0.0                     100.0   \n",
       "\n",
       "   Primary_with_U_Primary_Sec  U_Primary_With_Sec  Sec_Only  Sec_with_HrSec.  \\\n",
       "0                       100.0                 0.0       0.0            100.0   \n",
       "1                       100.0                 0.0       0.0            100.0   \n",
       "2                       100.0                 0.0       0.0            100.0   \n",
       "\n",
       "   HrSec_Only  All Schools  \n",
       "0         0.0        88.86  \n",
       "1         0.0        88.89  \n",
       "2         0.0        90.10  "
      ]
     },
     "execution_count": 49,
     "metadata": {},
     "output_type": "execute_result"
    }
   ],
   "source": [
    "elect.head(3)"
   ]
  },
  {
   "cell_type": "code",
   "execution_count": 50,
   "metadata": {},
   "outputs": [],
   "source": [
    "mean_elect_facilities = PreprocessFiles(elect, elect.columns[2:])"
   ]
  },
  {
   "cell_type": "code",
   "execution_count": 51,
   "metadata": {},
   "outputs": [],
   "source": [
    "test_elect_fac = PreprocessFiles(elect, elect.columns[2:], year_filter=['2015-16'])"
   ]
  },
  {
   "cell_type": "code",
   "execution_count": 52,
   "metadata": {},
   "outputs": [
    {
     "data": {
      "text/html": [
       "<div>\n",
       "<style scoped>\n",
       "    .dataframe tbody tr th:only-of-type {\n",
       "        vertical-align: middle;\n",
       "    }\n",
       "\n",
       "    .dataframe tbody tr th {\n",
       "        vertical-align: top;\n",
       "    }\n",
       "\n",
       "    .dataframe thead th {\n",
       "        text-align: right;\n",
       "    }\n",
       "</style>\n",
       "<table border=\"1\" class=\"dataframe\">\n",
       "  <thead>\n",
       "    <tr style=\"text-align: right;\">\n",
       "      <th></th>\n",
       "      <th>State_UT</th>\n",
       "      <th>elect_mean_Primary_Only</th>\n",
       "      <th>elect_mean_Primary_with_U_Primary</th>\n",
       "      <th>elect_mean_Primary_with_U_Primary_Sec_HrSec</th>\n",
       "      <th>elect_mean_U_Primary_Only</th>\n",
       "      <th>elect_mean_U_Primary_With_Sec_HrSec</th>\n",
       "      <th>elect_mean_Primary_with_U_Primary_Sec</th>\n",
       "      <th>elect_mean_U_Primary_With_Sec</th>\n",
       "      <th>elect_mean_Sec_Only</th>\n",
       "      <th>elect_mean_Sec_with_HrSec.</th>\n",
       "      <th>elect_mean_HrSec_Only</th>\n",
       "      <th>elect_mean_All Schools</th>\n",
       "    </tr>\n",
       "  </thead>\n",
       "  <tbody>\n",
       "    <tr>\n",
       "      <th>0</th>\n",
       "      <td>All India</td>\n",
       "      <td>48.005</td>\n",
       "      <td>71.410</td>\n",
       "      <td>95.095</td>\n",
       "      <td>47.15</td>\n",
       "      <td>94.265</td>\n",
       "      <td>83.575</td>\n",
       "      <td>87.99</td>\n",
       "      <td>76.315</td>\n",
       "      <td>83.365</td>\n",
       "      <td>91.84</td>\n",
       "      <td>58.395</td>\n",
       "    </tr>\n",
       "    <tr>\n",
       "      <th>1</th>\n",
       "      <td>Andaman &amp; Nicobar Islands</td>\n",
       "      <td>81.570</td>\n",
       "      <td>96.175</td>\n",
       "      <td>100.000</td>\n",
       "      <td>50.00</td>\n",
       "      <td>100.000</td>\n",
       "      <td>100.000</td>\n",
       "      <td>0.00</td>\n",
       "      <td>0.000</td>\n",
       "      <td>100.000</td>\n",
       "      <td>0.00</td>\n",
       "      <td>88.875</td>\n",
       "    </tr>\n",
       "    <tr>\n",
       "      <th>2</th>\n",
       "      <td>Andhra Pradesh</td>\n",
       "      <td>89.370</td>\n",
       "      <td>94.135</td>\n",
       "      <td>99.660</td>\n",
       "      <td>100.00</td>\n",
       "      <td>76.795</td>\n",
       "      <td>96.895</td>\n",
       "      <td>96.63</td>\n",
       "      <td>95.525</td>\n",
       "      <td>91.665</td>\n",
       "      <td>92.24</td>\n",
       "      <td>91.550</td>\n",
       "    </tr>\n",
       "  </tbody>\n",
       "</table>\n",
       "</div>"
      ],
      "text/plain": [
       "                    State_UT  elect_mean_Primary_Only  \\\n",
       "0                  All India                   48.005   \n",
       "1  Andaman & Nicobar Islands                   81.570   \n",
       "2             Andhra Pradesh                   89.370   \n",
       "\n",
       "   elect_mean_Primary_with_U_Primary  \\\n",
       "0                             71.410   \n",
       "1                             96.175   \n",
       "2                             94.135   \n",
       "\n",
       "   elect_mean_Primary_with_U_Primary_Sec_HrSec  elect_mean_U_Primary_Only  \\\n",
       "0                                       95.095                      47.15   \n",
       "1                                      100.000                      50.00   \n",
       "2                                       99.660                     100.00   \n",
       "\n",
       "   elect_mean_U_Primary_With_Sec_HrSec  elect_mean_Primary_with_U_Primary_Sec  \\\n",
       "0                               94.265                                 83.575   \n",
       "1                              100.000                                100.000   \n",
       "2                               76.795                                 96.895   \n",
       "\n",
       "   elect_mean_U_Primary_With_Sec  elect_mean_Sec_Only  \\\n",
       "0                          87.99               76.315   \n",
       "1                           0.00                0.000   \n",
       "2                          96.63               95.525   \n",
       "\n",
       "   elect_mean_Sec_with_HrSec.  elect_mean_HrSec_Only  elect_mean_All Schools  \n",
       "0                      83.365                  91.84                  58.395  \n",
       "1                     100.000                   0.00                  88.875  \n",
       "2                      91.665                  92.24                  91.550  "
      ]
     },
     "execution_count": 52,
     "metadata": {},
     "output_type": "execute_result"
    }
   ],
   "source": [
    "mean_elect_facilities.head(3)"
   ]
  },
  {
   "cell_type": "code",
   "execution_count": 53,
   "metadata": {},
   "outputs": [
    {
     "name": "stdout",
     "output_type": "stream",
     "text": [
      "Create Dataset with 12 features\n",
      "Create Dataset with 12 features\n",
      "Create Dataset with 12 features\n",
      "Create Dataset with 12 features\n"
     ]
    }
   ],
   "source": [
    "primary_elect = CreateDataSets(mean_elect_facilities, 1)\n",
    "upp_elect = CreateDataSets(mean_elect_facilities, 2)\n",
    "sec_elect = CreateDataSets(mean_elect_facilities, 3)\n",
    "higher_elect = CreateDataSets(mean_elect_facilities, 4)"
   ]
  },
  {
   "cell_type": "code",
   "execution_count": 54,
   "metadata": {},
   "outputs": [],
   "source": [
    "higher_elect.drop(columns=[0], inplace=True)"
   ]
  },
  {
   "cell_type": "code",
   "execution_count": 55,
   "metadata": {},
   "outputs": [
    {
     "data": {
      "text/html": [
       "<div>\n",
       "<style scoped>\n",
       "    .dataframe tbody tr th:only-of-type {\n",
       "        vertical-align: middle;\n",
       "    }\n",
       "\n",
       "    .dataframe tbody tr th {\n",
       "        vertical-align: top;\n",
       "    }\n",
       "\n",
       "    .dataframe thead th {\n",
       "        text-align: right;\n",
       "    }\n",
       "</style>\n",
       "<table border=\"1\" class=\"dataframe\">\n",
       "  <thead>\n",
       "    <tr style=\"text-align: right;\">\n",
       "      <th></th>\n",
       "      <th>elect_mean_U_Primary_Only</th>\n",
       "      <th>elect_mean_U_Primary_With_Sec_HrSec</th>\n",
       "      <th>elect_mean_Primary_with_U_Primary_Sec</th>\n",
       "    </tr>\n",
       "    <tr>\n",
       "      <th>State_UT</th>\n",
       "      <th></th>\n",
       "      <th></th>\n",
       "      <th></th>\n",
       "    </tr>\n",
       "  </thead>\n",
       "  <tbody>\n",
       "    <tr>\n",
       "      <th>All India</th>\n",
       "      <td>47.15</td>\n",
       "      <td>94.265</td>\n",
       "      <td>83.575</td>\n",
       "    </tr>\n",
       "    <tr>\n",
       "      <th>Andaman &amp; Nicobar Islands</th>\n",
       "      <td>50.00</td>\n",
       "      <td>100.000</td>\n",
       "      <td>100.000</td>\n",
       "    </tr>\n",
       "  </tbody>\n",
       "</table>\n",
       "</div>"
      ],
      "text/plain": [
       "                           elect_mean_U_Primary_Only  \\\n",
       "State_UT                                               \n",
       "All India                                      47.15   \n",
       "Andaman & Nicobar Islands                      50.00   \n",
       "\n",
       "                           elect_mean_U_Primary_With_Sec_HrSec  \\\n",
       "State_UT                                                         \n",
       "All India                                               94.265   \n",
       "Andaman & Nicobar Islands                              100.000   \n",
       "\n",
       "                           elect_mean_Primary_with_U_Primary_Sec  \n",
       "State_UT                                                          \n",
       "All India                                                 83.575  \n",
       "Andaman & Nicobar Islands                                100.000  "
      ]
     },
     "execution_count": 55,
     "metadata": {},
     "output_type": "execute_result"
    }
   ],
   "source": [
    "upp_elect.head(2)"
   ]
  },
  {
   "cell_type": "code",
   "execution_count": 56,
   "metadata": {},
   "outputs": [
    {
     "name": "stdout",
     "output_type": "stream",
     "text": [
      "Create Dataset with 12 features\n",
      "Create Dataset with 12 features\n",
      "Create Dataset with 12 features\n",
      "Create Dataset with 12 features\n"
     ]
    }
   ],
   "source": [
    "eval_primary_elect_fac = CreateDataSets(test_elect_fac, 1)\n",
    "eval_upp_elect_fac = CreateDataSets(test_elect_fac, 2)\n",
    "eval_sec_elect_fac = CreateDataSets(test_elect_fac, 3)\n",
    "eval_higher_elect_fac = CreateDataSets(test_elect_fac, 4)"
   ]
  },
  {
   "cell_type": "code",
   "execution_count": 57,
   "metadata": {},
   "outputs": [],
   "source": [
    "eval_higher_elect_fac.drop(columns=[0], inplace=True)"
   ]
  },
  {
   "cell_type": "markdown",
   "metadata": {},
   "source": [
    "## Computer Facilities"
   ]
  },
  {
   "cell_type": "code",
   "execution_count": 58,
   "metadata": {},
   "outputs": [
    {
     "data": {
      "text/html": [
       "<div>\n",
       "<style scoped>\n",
       "    .dataframe tbody tr th:only-of-type {\n",
       "        vertical-align: middle;\n",
       "    }\n",
       "\n",
       "    .dataframe tbody tr th {\n",
       "        vertical-align: top;\n",
       "    }\n",
       "\n",
       "    .dataframe thead th {\n",
       "        text-align: right;\n",
       "    }\n",
       "</style>\n",
       "<table border=\"1\" class=\"dataframe\">\n",
       "  <thead>\n",
       "    <tr style=\"text-align: right;\">\n",
       "      <th></th>\n",
       "      <th>State_UT</th>\n",
       "      <th>year</th>\n",
       "      <th>Primary_Only</th>\n",
       "      <th>Primary_with_U_Primary</th>\n",
       "      <th>Primary_with_U_Primary_Sec_HrSec</th>\n",
       "      <th>U_Primary_Only</th>\n",
       "      <th>U_Primary_With_Sec_HrSec</th>\n",
       "      <th>Primary_with_U_Primary_Sec</th>\n",
       "      <th>U_Primary_With_Sec</th>\n",
       "      <th>Sec_Only</th>\n",
       "      <th>Sec_with_HrSec.</th>\n",
       "      <th>HrSec_Only</th>\n",
       "      <th>All Schools</th>\n",
       "    </tr>\n",
       "  </thead>\n",
       "  <tbody>\n",
       "    <tr>\n",
       "      <th>0</th>\n",
       "      <td>Andaman &amp; Nicobar Islands</td>\n",
       "      <td>2013-14</td>\n",
       "      <td>30.40</td>\n",
       "      <td>73.68</td>\n",
       "      <td>89.74</td>\n",
       "      <td>0.0</td>\n",
       "      <td>100.00</td>\n",
       "      <td>97.92</td>\n",
       "      <td>0.0</td>\n",
       "      <td>0.0</td>\n",
       "      <td>100.0</td>\n",
       "      <td>0.0</td>\n",
       "      <td>53.06</td>\n",
       "    </tr>\n",
       "    <tr>\n",
       "      <th>1</th>\n",
       "      <td>Andaman &amp; Nicobar Islands</td>\n",
       "      <td>2014-15</td>\n",
       "      <td>30.94</td>\n",
       "      <td>76.54</td>\n",
       "      <td>92.11</td>\n",
       "      <td>100.0</td>\n",
       "      <td>94.74</td>\n",
       "      <td>100.00</td>\n",
       "      <td>0.0</td>\n",
       "      <td>0.0</td>\n",
       "      <td>100.0</td>\n",
       "      <td>0.0</td>\n",
       "      <td>57.25</td>\n",
       "    </tr>\n",
       "    <tr>\n",
       "      <th>2</th>\n",
       "      <td>Andaman &amp; Nicobar Islands</td>\n",
       "      <td>2015-16</td>\n",
       "      <td>28.44</td>\n",
       "      <td>78.57</td>\n",
       "      <td>92.50</td>\n",
       "      <td>0.0</td>\n",
       "      <td>94.74</td>\n",
       "      <td>100.00</td>\n",
       "      <td>0.0</td>\n",
       "      <td>0.0</td>\n",
       "      <td>100.0</td>\n",
       "      <td>0.0</td>\n",
       "      <td>57.00</td>\n",
       "    </tr>\n",
       "  </tbody>\n",
       "</table>\n",
       "</div>"
      ],
      "text/plain": [
       "                    State_UT     year  Primary_Only  Primary_with_U_Primary  \\\n",
       "0  Andaman & Nicobar Islands  2013-14         30.40                   73.68   \n",
       "1  Andaman & Nicobar Islands  2014-15         30.94                   76.54   \n",
       "2  Andaman & Nicobar Islands  2015-16         28.44                   78.57   \n",
       "\n",
       "   Primary_with_U_Primary_Sec_HrSec  U_Primary_Only  U_Primary_With_Sec_HrSec  \\\n",
       "0                             89.74             0.0                    100.00   \n",
       "1                             92.11           100.0                     94.74   \n",
       "2                             92.50             0.0                     94.74   \n",
       "\n",
       "   Primary_with_U_Primary_Sec  U_Primary_With_Sec  Sec_Only  Sec_with_HrSec.  \\\n",
       "0                       97.92                 0.0       0.0            100.0   \n",
       "1                      100.00                 0.0       0.0            100.0   \n",
       "2                      100.00                 0.0       0.0            100.0   \n",
       "\n",
       "   HrSec_Only  All Schools  \n",
       "0         0.0        53.06  \n",
       "1         0.0        57.25  \n",
       "2         0.0        57.00  "
      ]
     },
     "execution_count": 58,
     "metadata": {},
     "output_type": "execute_result"
    }
   ],
   "source": [
    "comp.head(3)"
   ]
  },
  {
   "cell_type": "code",
   "execution_count": 59,
   "metadata": {},
   "outputs": [],
   "source": [
    "mean_comp_facilities = PreprocessFiles(comp, comp.columns[2:])"
   ]
  },
  {
   "cell_type": "code",
   "execution_count": 60,
   "metadata": {},
   "outputs": [],
   "source": [
    "test_comp_fac = PreprocessFiles(comp, comp.columns[2:], year_filter=['2015-16'])"
   ]
  },
  {
   "cell_type": "code",
   "execution_count": 61,
   "metadata": {},
   "outputs": [
    {
     "data": {
      "text/html": [
       "<div>\n",
       "<style scoped>\n",
       "    .dataframe tbody tr th:only-of-type {\n",
       "        vertical-align: middle;\n",
       "    }\n",
       "\n",
       "    .dataframe tbody tr th {\n",
       "        vertical-align: top;\n",
       "    }\n",
       "\n",
       "    .dataframe thead th {\n",
       "        text-align: right;\n",
       "    }\n",
       "</style>\n",
       "<table border=\"1\" class=\"dataframe\">\n",
       "  <thead>\n",
       "    <tr style=\"text-align: right;\">\n",
       "      <th></th>\n",
       "      <th>State_UT</th>\n",
       "      <th>comp_mean_Primary_Only</th>\n",
       "      <th>comp_mean_Primary_with_U_Primary</th>\n",
       "      <th>comp_mean_Primary_with_U_Primary_Sec_HrSec</th>\n",
       "      <th>comp_mean_U_Primary_Only</th>\n",
       "      <th>comp_mean_U_Primary_With_Sec_HrSec</th>\n",
       "      <th>comp_mean_Primary_with_U_Primary_Sec</th>\n",
       "      <th>comp_mean_U_Primary_With_Sec</th>\n",
       "      <th>comp_mean_Sec_Only</th>\n",
       "      <th>comp_mean_Sec_with_HrSec.</th>\n",
       "      <th>comp_mean_HrSec_Only</th>\n",
       "      <th>comp_mean_All Schools</th>\n",
       "    </tr>\n",
       "  </thead>\n",
       "  <tbody>\n",
       "    <tr>\n",
       "      <th>0</th>\n",
       "      <td>All India</td>\n",
       "      <td>9.785</td>\n",
       "      <td>43.265</td>\n",
       "      <td>82.315</td>\n",
       "      <td>18.810</td>\n",
       "      <td>78.180</td>\n",
       "      <td>63.675</td>\n",
       "      <td>63.68</td>\n",
       "      <td>48.035</td>\n",
       "      <td>44.785</td>\n",
       "      <td>37.305</td>\n",
       "      <td>25.250</td>\n",
       "    </tr>\n",
       "    <tr>\n",
       "      <th>1</th>\n",
       "      <td>Andaman &amp; Nicobar Islands</td>\n",
       "      <td>30.670</td>\n",
       "      <td>75.110</td>\n",
       "      <td>90.925</td>\n",
       "      <td>50.000</td>\n",
       "      <td>97.370</td>\n",
       "      <td>98.960</td>\n",
       "      <td>0.00</td>\n",
       "      <td>0.000</td>\n",
       "      <td>100.000</td>\n",
       "      <td>0.000</td>\n",
       "      <td>55.155</td>\n",
       "    </tr>\n",
       "    <tr>\n",
       "      <th>2</th>\n",
       "      <td>Andhra Pradesh</td>\n",
       "      <td>11.510</td>\n",
       "      <td>43.435</td>\n",
       "      <td>87.725</td>\n",
       "      <td>47.725</td>\n",
       "      <td>39.645</td>\n",
       "      <td>68.280</td>\n",
       "      <td>74.91</td>\n",
       "      <td>65.485</td>\n",
       "      <td>50.000</td>\n",
       "      <td>30.460</td>\n",
       "      <td>28.815</td>\n",
       "    </tr>\n",
       "  </tbody>\n",
       "</table>\n",
       "</div>"
      ],
      "text/plain": [
       "                    State_UT  comp_mean_Primary_Only  \\\n",
       "0                  All India                   9.785   \n",
       "1  Andaman & Nicobar Islands                  30.670   \n",
       "2             Andhra Pradesh                  11.510   \n",
       "\n",
       "   comp_mean_Primary_with_U_Primary  \\\n",
       "0                            43.265   \n",
       "1                            75.110   \n",
       "2                            43.435   \n",
       "\n",
       "   comp_mean_Primary_with_U_Primary_Sec_HrSec  comp_mean_U_Primary_Only  \\\n",
       "0                                      82.315                    18.810   \n",
       "1                                      90.925                    50.000   \n",
       "2                                      87.725                    47.725   \n",
       "\n",
       "   comp_mean_U_Primary_With_Sec_HrSec  comp_mean_Primary_with_U_Primary_Sec  \\\n",
       "0                              78.180                                63.675   \n",
       "1                              97.370                                98.960   \n",
       "2                              39.645                                68.280   \n",
       "\n",
       "   comp_mean_U_Primary_With_Sec  comp_mean_Sec_Only  \\\n",
       "0                         63.68              48.035   \n",
       "1                          0.00               0.000   \n",
       "2                         74.91              65.485   \n",
       "\n",
       "   comp_mean_Sec_with_HrSec.  comp_mean_HrSec_Only  comp_mean_All Schools  \n",
       "0                     44.785                37.305                 25.250  \n",
       "1                    100.000                 0.000                 55.155  \n",
       "2                     50.000                30.460                 28.815  "
      ]
     },
     "execution_count": 61,
     "metadata": {},
     "output_type": "execute_result"
    }
   ],
   "source": [
    "mean_comp_facilities.head(3)"
   ]
  },
  {
   "cell_type": "code",
   "execution_count": 62,
   "metadata": {},
   "outputs": [
    {
     "name": "stdout",
     "output_type": "stream",
     "text": [
      "Create Dataset with 12 features\n",
      "Create Dataset with 12 features\n",
      "Create Dataset with 12 features\n",
      "Create Dataset with 12 features\n"
     ]
    }
   ],
   "source": [
    "primary_comp = CreateDataSets(mean_comp_facilities, 1)\n",
    "upp_comp = CreateDataSets(mean_comp_facilities, 2)\n",
    "sec_comp = CreateDataSets(mean_comp_facilities, 3)\n",
    "higher_comp = CreateDataSets(mean_comp_facilities, 4)"
   ]
  },
  {
   "cell_type": "code",
   "execution_count": 63,
   "metadata": {},
   "outputs": [],
   "source": [
    "higher_comp.drop(columns=[0], inplace=True)"
   ]
  },
  {
   "cell_type": "code",
   "execution_count": 64,
   "metadata": {},
   "outputs": [
    {
     "data": {
      "text/html": [
       "<div>\n",
       "<style scoped>\n",
       "    .dataframe tbody tr th:only-of-type {\n",
       "        vertical-align: middle;\n",
       "    }\n",
       "\n",
       "    .dataframe tbody tr th {\n",
       "        vertical-align: top;\n",
       "    }\n",
       "\n",
       "    .dataframe thead th {\n",
       "        text-align: right;\n",
       "    }\n",
       "</style>\n",
       "<table border=\"1\" class=\"dataframe\">\n",
       "  <thead>\n",
       "    <tr style=\"text-align: right;\">\n",
       "      <th></th>\n",
       "      <th>comp_mean_Primary_Only</th>\n",
       "      <th>comp_mean_Primary_with_U_Primary</th>\n",
       "      <th>comp_mean_Primary_with_U_Primary_Sec_HrSec</th>\n",
       "    </tr>\n",
       "    <tr>\n",
       "      <th>State_UT</th>\n",
       "      <th></th>\n",
       "      <th></th>\n",
       "      <th></th>\n",
       "    </tr>\n",
       "  </thead>\n",
       "  <tbody>\n",
       "    <tr>\n",
       "      <th>All India</th>\n",
       "      <td>9.785</td>\n",
       "      <td>43.265</td>\n",
       "      <td>82.315</td>\n",
       "    </tr>\n",
       "    <tr>\n",
       "      <th>Andaman &amp; Nicobar Islands</th>\n",
       "      <td>30.670</td>\n",
       "      <td>75.110</td>\n",
       "      <td>90.925</td>\n",
       "    </tr>\n",
       "  </tbody>\n",
       "</table>\n",
       "</div>"
      ],
      "text/plain": [
       "                           comp_mean_Primary_Only  \\\n",
       "State_UT                                            \n",
       "All India                                   9.785   \n",
       "Andaman & Nicobar Islands                  30.670   \n",
       "\n",
       "                           comp_mean_Primary_with_U_Primary  \\\n",
       "State_UT                                                      \n",
       "All India                                            43.265   \n",
       "Andaman & Nicobar Islands                            75.110   \n",
       "\n",
       "                           comp_mean_Primary_with_U_Primary_Sec_HrSec  \n",
       "State_UT                                                               \n",
       "All India                                                      82.315  \n",
       "Andaman & Nicobar Islands                                      90.925  "
      ]
     },
     "execution_count": 64,
     "metadata": {},
     "output_type": "execute_result"
    }
   ],
   "source": [
    "primary_comp.head(2)"
   ]
  },
  {
   "cell_type": "code",
   "execution_count": 65,
   "metadata": {},
   "outputs": [
    {
     "name": "stdout",
     "output_type": "stream",
     "text": [
      "Create Dataset with 12 features\n",
      "Create Dataset with 12 features\n",
      "Create Dataset with 12 features\n",
      "Create Dataset with 12 features\n"
     ]
    }
   ],
   "source": [
    "eval_primary_comp_fac = CreateDataSets(test_comp_fac, 1)\n",
    "eval_upp_comp_fac = CreateDataSets(test_comp_fac, 2)\n",
    "eval_sec_comp_fac = CreateDataSets(test_comp_fac, 3)\n",
    "eval_higher_comp_fac = CreateDataSets(test_comp_fac, 4)"
   ]
  },
  {
   "cell_type": "code",
   "execution_count": 328,
   "metadata": {},
   "outputs": [],
   "source": [
    "eval_higher_comp_fac.drop(columns=[0], inplace=True)"
   ]
  },
  {
   "cell_type": "code",
   "execution_count": null,
   "metadata": {},
   "outputs": [],
   "source": []
  },
  {
   "cell_type": "code",
   "execution_count": 66,
   "metadata": {},
   "outputs": [],
   "source": [
    "def GenerateTrain(df_list, indexes=[]):\n",
    "    '''\n",
    "    df_list:  a list of similar dataframes to join into one\n",
    "    '''\n",
    "    tmp_train = []\n",
    "    if len(indexes) == 0:\n",
    "        for col,_ in enumerate(df_list):\n",
    "            tmp_train.append(df_list[col])\n",
    "    elif len(indexes)>=0:\n",
    "        for _,col in enumerate(indexes):\n",
    "            tmp_train.append(df_list[col])\n",
    "    \n",
    "    train = pd.concat(tmp_train, axis=1)\n",
    "    return train"
   ]
  },
  {
   "cell_type": "code",
   "execution_count": 67,
   "metadata": {},
   "outputs": [],
   "source": [
    "pry_useful = [primary_comp,primary_elect, primary_drop_out, primary_boys,primary_girls, primary_water]\n",
    "pry_df = GenerateTrain(pry_useful)"
   ]
  },
  {
   "cell_type": "code",
   "execution_count": 68,
   "metadata": {},
   "outputs": [],
   "source": [
    "upp_useful = [upp_comp,upp_elect, upp_drop_out, upp_boys,upp_girls, upp_water]\n",
    "upp_df = GenerateTrain(upp_useful)"
   ]
  },
  {
   "cell_type": "code",
   "execution_count": 69,
   "metadata": {},
   "outputs": [],
   "source": [
    "sec_useful = [sec_comp,sec_elect, sec_drop_out, sec_boys,sec_girls, sec_water]\n",
    "sec_df = GenerateTrain(sec_useful)"
   ]
  },
  {
   "cell_type": "code",
   "execution_count": 70,
   "metadata": {},
   "outputs": [],
   "source": [
    "high_useful = [higher_comp,higher_elect, higher_drop_out, higher_boys,higher_girls, higher_water]\n",
    "high_df = GenerateTrain(high_useful)"
   ]
  },
  {
   "cell_type": "markdown",
   "metadata": {},
   "source": [
    "Test"
   ]
  },
  {
   "cell_type": "code",
   "execution_count": 71,
   "metadata": {},
   "outputs": [],
   "source": [
    "eval_pry_useful = [eval_primary_comp_fac,eval_primary_elect_fac,eval_primary_drop_out, eval_primary_boys, eval_primary_girls,eval_primary_water_fac]\n",
    "eval_pry_df = GenerateTrain(eval_pry_useful)"
   ]
  },
  {
   "cell_type": "code",
   "execution_count": 72,
   "metadata": {},
   "outputs": [],
   "source": [
    "eval_upp_useful = [eval_upp_comp_fac,eval_upp_elect_fac,eval_upp_drop_out, eval_upp_boys, eval_upp_girls,eval_upp_water_fac]\n",
    "eval_upp_df = GenerateTrain(eval_upp_useful)"
   ]
  },
  {
   "cell_type": "code",
   "execution_count": 73,
   "metadata": {},
   "outputs": [],
   "source": [
    "eval_sec_useful = [eval_sec_comp_fac,eval_sec_elect_fac,eval_sec_drop_out, eval_sec_boys, eval_sec_girls,eval_sec_water_fac]\n",
    "eval_sec_df = GenerateTrain(eval_sec_useful)"
   ]
  },
  {
   "cell_type": "code",
   "execution_count": 74,
   "metadata": {},
   "outputs": [],
   "source": [
    "eval_high_useful = [eval_higher_comp_fac,eval_higher_elect_fac,eval_higher_drop_out, eval_higher_boys, eval_higher_girls,eval_higher_water_fac]\n",
    "eval_high_df = GenerateTrain(eval_high_useful)"
   ]
  },
  {
   "cell_type": "code",
   "execution_count": null,
   "metadata": {},
   "outputs": [],
   "source": []
  },
  {
   "cell_type": "markdown",
   "metadata": {},
   "source": [
    "## Gross Enrollment\n",
    "\n",
    "what we're going to predict"
   ]
  },
  {
   "cell_type": "code",
   "execution_count": 77,
   "metadata": {},
   "outputs": [],
   "source": [
    "enrol['State_UT'].replace({\n",
    "    'MADHYA PRADESH':'Madhya Pradesh',\n",
    "    'Pondicherry':'Puducherry',\n",
    "    'Uttaranchal':'Uttar Pradesh'\n",
    "},inplace=True)"
   ]
  },
  {
   "cell_type": "code",
   "execution_count": 78,
   "metadata": {},
   "outputs": [
    {
     "data": {
      "text/html": [
       "<div>\n",
       "<style scoped>\n",
       "    .dataframe tbody tr th:only-of-type {\n",
       "        vertical-align: middle;\n",
       "    }\n",
       "\n",
       "    .dataframe tbody tr th {\n",
       "        vertical-align: top;\n",
       "    }\n",
       "\n",
       "    .dataframe thead th {\n",
       "        text-align: right;\n",
       "    }\n",
       "</style>\n",
       "<table border=\"1\" class=\"dataframe\">\n",
       "  <thead>\n",
       "    <tr style=\"text-align: right;\">\n",
       "      <th></th>\n",
       "      <th>State_UT</th>\n",
       "      <th>Year</th>\n",
       "      <th>Primary_Boys</th>\n",
       "      <th>Primary_Girls</th>\n",
       "      <th>Primary_Total</th>\n",
       "      <th>Upper_Primary_Boys</th>\n",
       "      <th>Upper_Primary_Girls</th>\n",
       "      <th>Upper_Primary_Total</th>\n",
       "      <th>Secondary_Boys</th>\n",
       "      <th>Secondary_Girls</th>\n",
       "      <th>Secondary_Total</th>\n",
       "      <th>Higher_Secondary_Boys</th>\n",
       "      <th>Higher_Secondary_Girls</th>\n",
       "      <th>Higher_Secondary_Total</th>\n",
       "    </tr>\n",
       "  </thead>\n",
       "  <tbody>\n",
       "    <tr>\n",
       "      <th>0</th>\n",
       "      <td>Andaman &amp; Nicobar Islands</td>\n",
       "      <td>2013-14</td>\n",
       "      <td>95.88</td>\n",
       "      <td>91.97</td>\n",
       "      <td>93.93</td>\n",
       "      <td>94.70</td>\n",
       "      <td>88.98</td>\n",
       "      <td>91.83</td>\n",
       "      <td>102.89</td>\n",
       "      <td>97.36</td>\n",
       "      <td>100.16</td>\n",
       "      <td>105.4</td>\n",
       "      <td>96.61</td>\n",
       "      <td>101.28</td>\n",
       "    </tr>\n",
       "    <tr>\n",
       "      <th>1</th>\n",
       "      <td>Andhra Pradesh</td>\n",
       "      <td>2013-14</td>\n",
       "      <td>96.62</td>\n",
       "      <td>96.87</td>\n",
       "      <td>96.74</td>\n",
       "      <td>82.81</td>\n",
       "      <td>84.38</td>\n",
       "      <td>83.57</td>\n",
       "      <td>73.76</td>\n",
       "      <td>76.77</td>\n",
       "      <td>75.20</td>\n",
       "      <td>59.83</td>\n",
       "      <td>60.83</td>\n",
       "      <td>60.3</td>\n",
       "    </tr>\n",
       "    <tr>\n",
       "      <th>2</th>\n",
       "      <td>Arunachal Pradesh</td>\n",
       "      <td>2013-14</td>\n",
       "      <td>129.12</td>\n",
       "      <td>127.77</td>\n",
       "      <td>128.46</td>\n",
       "      <td>112.64</td>\n",
       "      <td>115.27</td>\n",
       "      <td>113.94</td>\n",
       "      <td>88.37</td>\n",
       "      <td>84.89</td>\n",
       "      <td>86.65</td>\n",
       "      <td>65.16</td>\n",
       "      <td>65.38</td>\n",
       "      <td>65.27</td>\n",
       "    </tr>\n",
       "  </tbody>\n",
       "</table>\n",
       "</div>"
      ],
      "text/plain": [
       "                    State_UT     Year  Primary_Boys  Primary_Girls  \\\n",
       "0  Andaman & Nicobar Islands  2013-14         95.88          91.97   \n",
       "1             Andhra Pradesh  2013-14         96.62          96.87   \n",
       "2          Arunachal Pradesh  2013-14        129.12         127.77   \n",
       "\n",
       "   Primary_Total  Upper_Primary_Boys  Upper_Primary_Girls  \\\n",
       "0          93.93               94.70                88.98   \n",
       "1          96.74               82.81                84.38   \n",
       "2         128.46              112.64               115.27   \n",
       "\n",
       "   Upper_Primary_Total  Secondary_Boys  Secondary_Girls  Secondary_Total  \\\n",
       "0                91.83          102.89            97.36           100.16   \n",
       "1                83.57           73.76            76.77            75.20   \n",
       "2               113.94           88.37            84.89            86.65   \n",
       "\n",
       "  Higher_Secondary_Boys Higher_Secondary_Girls Higher_Secondary_Total  \n",
       "0                 105.4                  96.61                 101.28  \n",
       "1                 59.83                  60.83                   60.3  \n",
       "2                 65.16                  65.38                  65.27  "
      ]
     },
     "execution_count": 78,
     "metadata": {},
     "output_type": "execute_result"
    }
   ],
   "source": [
    "enrol.head(3)"
   ]
  },
  {
   "cell_type": "code",
   "execution_count": 79,
   "metadata": {},
   "outputs": [],
   "source": [
    "imputer_2 = SimpleImputer(missing_values = 'NR', strategy='constant', fill_value=0)\n",
    "imputer_3 = SimpleImputer(missing_values = '@', strategy='constant', fill_value=0)"
   ]
  },
  {
   "cell_type": "code",
   "execution_count": 80,
   "metadata": {},
   "outputs": [],
   "source": [
    "enrol_col = enrol.columns.to_list()\n",
    "enrol = imputer_2.fit_transform(enrol)\n",
    "enrol = pd.DataFrame(imputer_3.fit_transform(enrol), columns=enrol_col)"
   ]
  },
  {
   "cell_type": "code",
   "execution_count": 81,
   "metadata": {},
   "outputs": [],
   "source": [
    "mean_enrol_per_state = PreprocessFiles(enrol, enrol_col[2:], year='Year')"
   ]
  },
  {
   "cell_type": "code",
   "execution_count": 82,
   "metadata": {},
   "outputs": [],
   "source": [
    "test_mean_enrol_per_state = PreprocessFiles(enrol, enrol_col[2:], year='Year', year_filter=['2015-16'])"
   ]
  },
  {
   "cell_type": "code",
   "execution_count": 83,
   "metadata": {},
   "outputs": [
    {
     "data": {
      "text/html": [
       "<div>\n",
       "<style scoped>\n",
       "    .dataframe tbody tr th:only-of-type {\n",
       "        vertical-align: middle;\n",
       "    }\n",
       "\n",
       "    .dataframe tbody tr th {\n",
       "        vertical-align: top;\n",
       "    }\n",
       "\n",
       "    .dataframe thead th {\n",
       "        text-align: right;\n",
       "    }\n",
       "</style>\n",
       "<table border=\"1\" class=\"dataframe\">\n",
       "  <thead>\n",
       "    <tr style=\"text-align: right;\">\n",
       "      <th></th>\n",
       "      <th>State_UT</th>\n",
       "      <th>enrol_mean_Primary_Boys</th>\n",
       "      <th>enrol_mean_Primary_Girls</th>\n",
       "      <th>enrol_mean_Primary_Total</th>\n",
       "      <th>enrol_mean_Upper_Primary_Boys</th>\n",
       "      <th>enrol_mean_Upper_Primary_Girls</th>\n",
       "      <th>enrol_mean_Upper_Primary_Total</th>\n",
       "      <th>enrol_mean_Secondary_Boys</th>\n",
       "      <th>enrol_mean_Secondary_Girls</th>\n",
       "      <th>enrol_mean_Secondary_Total</th>\n",
       "      <th>enrol_mean_Higher_Secondary_Boys</th>\n",
       "      <th>enrol_mean_Higher_Secondary_Girls</th>\n",
       "      <th>enrol_mean_Higher_Secondary_Total</th>\n",
       "    </tr>\n",
       "  </thead>\n",
       "  <tbody>\n",
       "    <tr>\n",
       "      <th>0</th>\n",
       "      <td>All India</td>\n",
       "      <td>99.525</td>\n",
       "      <td>102.040</td>\n",
       "      <td>100.720</td>\n",
       "      <td>87.010</td>\n",
       "      <td>94.020</td>\n",
       "      <td>90.285</td>\n",
       "      <td>77.465</td>\n",
       "      <td>77.705</td>\n",
       "      <td>77.575</td>\n",
       "      <td>53.670</td>\n",
       "      <td>52.695</td>\n",
       "      <td>53.210</td>\n",
       "    </tr>\n",
       "    <tr>\n",
       "      <th>1</th>\n",
       "      <td>Andaman &amp; Nicobar Islands</td>\n",
       "      <td>94.395</td>\n",
       "      <td>90.455</td>\n",
       "      <td>92.425</td>\n",
       "      <td>92.635</td>\n",
       "      <td>86.845</td>\n",
       "      <td>89.725</td>\n",
       "      <td>99.240</td>\n",
       "      <td>93.745</td>\n",
       "      <td>96.520</td>\n",
       "      <td>102.025</td>\n",
       "      <td>94.560</td>\n",
       "      <td>98.465</td>\n",
       "    </tr>\n",
       "    <tr>\n",
       "      <th>2</th>\n",
       "      <td>Andhra Pradesh</td>\n",
       "      <td>92.465</td>\n",
       "      <td>92.490</td>\n",
       "      <td>92.475</td>\n",
       "      <td>81.075</td>\n",
       "      <td>81.995</td>\n",
       "      <td>81.520</td>\n",
       "      <td>72.610</td>\n",
       "      <td>75.095</td>\n",
       "      <td>73.800</td>\n",
       "      <td>55.550</td>\n",
       "      <td>56.430</td>\n",
       "      <td>55.965</td>\n",
       "    </tr>\n",
       "  </tbody>\n",
       "</table>\n",
       "</div>"
      ],
      "text/plain": [
       "                    State_UT  enrol_mean_Primary_Boys  \\\n",
       "0                  All India                   99.525   \n",
       "1  Andaman & Nicobar Islands                   94.395   \n",
       "2             Andhra Pradesh                   92.465   \n",
       "\n",
       "   enrol_mean_Primary_Girls  enrol_mean_Primary_Total  \\\n",
       "0                   102.040                   100.720   \n",
       "1                    90.455                    92.425   \n",
       "2                    92.490                    92.475   \n",
       "\n",
       "   enrol_mean_Upper_Primary_Boys  enrol_mean_Upper_Primary_Girls  \\\n",
       "0                         87.010                          94.020   \n",
       "1                         92.635                          86.845   \n",
       "2                         81.075                          81.995   \n",
       "\n",
       "   enrol_mean_Upper_Primary_Total  enrol_mean_Secondary_Boys  \\\n",
       "0                          90.285                     77.465   \n",
       "1                          89.725                     99.240   \n",
       "2                          81.520                     72.610   \n",
       "\n",
       "   enrol_mean_Secondary_Girls  enrol_mean_Secondary_Total  \\\n",
       "0                      77.705                      77.575   \n",
       "1                      93.745                      96.520   \n",
       "2                      75.095                      73.800   \n",
       "\n",
       "   enrol_mean_Higher_Secondary_Boys  enrol_mean_Higher_Secondary_Girls  \\\n",
       "0                            53.670                             52.695   \n",
       "1                           102.025                             94.560   \n",
       "2                            55.550                             56.430   \n",
       "\n",
       "   enrol_mean_Higher_Secondary_Total  \n",
       "0                             53.210  \n",
       "1                             98.465  \n",
       "2                             55.965  "
      ]
     },
     "execution_count": 83,
     "metadata": {},
     "output_type": "execute_result"
    }
   ],
   "source": [
    "mean_enrol_per_state.head(3)"
   ]
  },
  {
   "cell_type": "code",
   "execution_count": 84,
   "metadata": {},
   "outputs": [
    {
     "name": "stdout",
     "output_type": "stream",
     "text": [
      "Create Dataset with 13 features\n",
      "Create Dataset with 13 features\n",
      "Create Dataset with 13 features\n",
      "Create Dataset with 13 features\n"
     ]
    }
   ],
   "source": [
    "enrol_primary = CreateDataSets(mean_enrol_per_state, 1)\n",
    "enrol_upper_primary = CreateDataSets(mean_enrol_per_state, 2)\n",
    "enrol_secondary = CreateDataSets(mean_enrol_per_state, 3)\n",
    "enrol_higher = CreateDataSets(mean_enrol_per_state, 4)"
   ]
  },
  {
   "cell_type": "code",
   "execution_count": 85,
   "metadata": {},
   "outputs": [
    {
     "data": {
      "text/html": [
       "<div>\n",
       "<style scoped>\n",
       "    .dataframe tbody tr th:only-of-type {\n",
       "        vertical-align: middle;\n",
       "    }\n",
       "\n",
       "    .dataframe tbody tr th {\n",
       "        vertical-align: top;\n",
       "    }\n",
       "\n",
       "    .dataframe thead th {\n",
       "        text-align: right;\n",
       "    }\n",
       "</style>\n",
       "<table border=\"1\" class=\"dataframe\">\n",
       "  <thead>\n",
       "    <tr style=\"text-align: right;\">\n",
       "      <th></th>\n",
       "      <th>enrol_mean_Primary_Boys</th>\n",
       "      <th>enrol_mean_Primary_Girls</th>\n",
       "      <th>enrol_mean_Primary_Total</th>\n",
       "    </tr>\n",
       "    <tr>\n",
       "      <th>State_UT</th>\n",
       "      <th></th>\n",
       "      <th></th>\n",
       "      <th></th>\n",
       "    </tr>\n",
       "  </thead>\n",
       "  <tbody>\n",
       "    <tr>\n",
       "      <th>All India</th>\n",
       "      <td>99.525</td>\n",
       "      <td>102.040</td>\n",
       "      <td>100.720</td>\n",
       "    </tr>\n",
       "    <tr>\n",
       "      <th>Andaman &amp; Nicobar Islands</th>\n",
       "      <td>94.395</td>\n",
       "      <td>90.455</td>\n",
       "      <td>92.425</td>\n",
       "    </tr>\n",
       "    <tr>\n",
       "      <th>Andhra Pradesh</th>\n",
       "      <td>92.465</td>\n",
       "      <td>92.490</td>\n",
       "      <td>92.475</td>\n",
       "    </tr>\n",
       "  </tbody>\n",
       "</table>\n",
       "</div>"
      ],
      "text/plain": [
       "                           enrol_mean_Primary_Boys  enrol_mean_Primary_Girls  \\\n",
       "State_UT                                                                       \n",
       "All India                                   99.525                   102.040   \n",
       "Andaman & Nicobar Islands                   94.395                    90.455   \n",
       "Andhra Pradesh                              92.465                    92.490   \n",
       "\n",
       "                           enrol_mean_Primary_Total  \n",
       "State_UT                                             \n",
       "All India                                   100.720  \n",
       "Andaman & Nicobar Islands                    92.425  \n",
       "Andhra Pradesh                               92.475  "
      ]
     },
     "execution_count": 85,
     "metadata": {},
     "output_type": "execute_result"
    }
   ],
   "source": [
    "enrol_primary.head(3)"
   ]
  },
  {
   "cell_type": "code",
   "execution_count": 86,
   "metadata": {},
   "outputs": [
    {
     "name": "stdout",
     "output_type": "stream",
     "text": [
      "Create Dataset with 13 features\n",
      "Create Dataset with 13 features\n",
      "Create Dataset with 13 features\n",
      "Create Dataset with 13 features\n"
     ]
    }
   ],
   "source": [
    "test_enrol_primary = CreateDataSets(test_mean_enrol_per_state, 1)\n",
    "test_enrol_upper_primary = CreateDataSets(test_mean_enrol_per_state, 2)\n",
    "test_enrol_secondary = CreateDataSets(test_mean_enrol_per_state, 3)\n",
    "test_enrol_higher = CreateDataSets(test_mean_enrol_per_state, 4)"
   ]
  },
  {
   "cell_type": "code",
   "execution_count": 320,
   "metadata": {},
   "outputs": [
    {
     "data": {
      "text/html": [
       "<div>\n",
       "<style scoped>\n",
       "    .dataframe tbody tr th:only-of-type {\n",
       "        vertical-align: middle;\n",
       "    }\n",
       "\n",
       "    .dataframe tbody tr th {\n",
       "        vertical-align: top;\n",
       "    }\n",
       "\n",
       "    .dataframe thead th {\n",
       "        text-align: right;\n",
       "    }\n",
       "</style>\n",
       "<table border=\"1\" class=\"dataframe\">\n",
       "  <thead>\n",
       "    <tr style=\"text-align: right;\">\n",
       "      <th></th>\n",
       "      <th>enrol_mean_Higher_Secondary_Boys</th>\n",
       "      <th>enrol_mean_Higher_Secondary_Girls</th>\n",
       "      <th>enrol_mean_Higher_Secondary_Total</th>\n",
       "    </tr>\n",
       "    <tr>\n",
       "      <th>State_UT</th>\n",
       "      <th></th>\n",
       "      <th></th>\n",
       "      <th></th>\n",
       "    </tr>\n",
       "  </thead>\n",
       "  <tbody>\n",
       "    <tr>\n",
       "      <th>All India</th>\n",
       "      <td>55.95</td>\n",
       "      <td>56.41</td>\n",
       "      <td>56.16</td>\n",
       "    </tr>\n",
       "    <tr>\n",
       "      <th>Andaman &amp; Nicobar Islands</th>\n",
       "      <td>72.92</td>\n",
       "      <td>76.40</td>\n",
       "      <td>74.62</td>\n",
       "    </tr>\n",
       "    <tr>\n",
       "      <th>Andhra Pradesh</th>\n",
       "      <td>58.28</td>\n",
       "      <td>62.27</td>\n",
       "      <td>60.16</td>\n",
       "    </tr>\n",
       "    <tr>\n",
       "      <th>Arunachal Pradesh</th>\n",
       "      <td>62.02</td>\n",
       "      <td>61.60</td>\n",
       "      <td>61.81</td>\n",
       "    </tr>\n",
       "    <tr>\n",
       "      <th>Assam</th>\n",
       "      <td>38.22</td>\n",
       "      <td>39.47</td>\n",
       "      <td>38.81</td>\n",
       "    </tr>\n",
       "  </tbody>\n",
       "</table>\n",
       "</div>"
      ],
      "text/plain": [
       "                           enrol_mean_Higher_Secondary_Boys  \\\n",
       "State_UT                                                      \n",
       "All India                                             55.95   \n",
       "Andaman & Nicobar Islands                             72.92   \n",
       "Andhra Pradesh                                        58.28   \n",
       "Arunachal Pradesh                                     62.02   \n",
       "Assam                                                 38.22   \n",
       "\n",
       "                           enrol_mean_Higher_Secondary_Girls  \\\n",
       "State_UT                                                       \n",
       "All India                                              56.41   \n",
       "Andaman & Nicobar Islands                              76.40   \n",
       "Andhra Pradesh                                         62.27   \n",
       "Arunachal Pradesh                                      61.60   \n",
       "Assam                                                  39.47   \n",
       "\n",
       "                           enrol_mean_Higher_Secondary_Total  \n",
       "State_UT                                                      \n",
       "All India                                              56.16  \n",
       "Andaman & Nicobar Islands                              74.62  \n",
       "Andhra Pradesh                                         60.16  \n",
       "Arunachal Pradesh                                      61.81  \n",
       "Assam                                                  38.81  "
      ]
     },
     "execution_count": 320,
     "metadata": {},
     "output_type": "execute_result"
    }
   ],
   "source": [
    "test_enrol_higher.head()"
   ]
  },
  {
   "cell_type": "code",
   "execution_count": 92,
   "metadata": {},
   "outputs": [],
   "source": [
    "def CreateTargetFeature(dataframe, gender=2):\n",
    "    ''' 0 for male, 1 for female, 2 for both male and female.'''\n",
    "    \n",
    "    cols = dataframe.columns.to_list()\n",
    "#     threshold = dataframe.describe().loc['50%'][gender]\n",
    "    \n",
    "    target = dataframe[cols[gender]]\n",
    "#     def thresholder(data):\n",
    "#         if data < threshold:\n",
    "#             return 0 #BAD\n",
    "#         elif data >= threshold:\n",
    "#             return 1 #GOOD\n",
    "#         else:\n",
    "#             pass\n",
    "#     target = target.apply(thresholder)\n",
    "    return target"
   ]
  },
  {
   "cell_type": "code",
   "execution_count": 93,
   "metadata": {},
   "outputs": [],
   "source": [
    "primary_target = CreateTargetFeature(enrol_primary)\n",
    "upper_primary_target = CreateTargetFeature(enrol_upper_primary)\n",
    "secondary_target = CreateTargetFeature(enrol_secondary)\n",
    "higher_target = CreateTargetFeature(enrol_higher)"
   ]
  },
  {
   "cell_type": "code",
   "execution_count": 89,
   "metadata": {},
   "outputs": [],
   "source": [
    "eval_primary_target = CreateTargetFeature(test_enrol_primary)\n",
    "eval_upper_primary_target = CreateTargetFeature(test_enrol_upper_primary)\n",
    "eval_secondary_target = CreateTargetFeature(test_enrol_secondary)\n",
    "eval_higher_target = CreateTargetFeature(test_enrol_higher)"
   ]
  },
  {
   "cell_type": "code",
   "execution_count": 319,
   "metadata": {},
   "outputs": [
    {
     "data": {
      "text/plain": [
       "State_UT\n",
       "All India                    0\n",
       "Andaman & Nicobar Islands    1\n",
       "Andhra Pradesh               1\n",
       "Arunachal Pradesh            1\n",
       "Assam                        0\n",
       "Name: enrol_mean_Higher_Secondary_Total, dtype: int64"
      ]
     },
     "execution_count": 319,
     "metadata": {},
     "output_type": "execute_result"
    }
   ],
   "source": []
  },
  {
   "cell_type": "code",
   "execution_count": 96,
   "metadata": {
    "collapsed": true,
    "jupyter": {
     "outputs_hidden": true
    }
   },
   "outputs": [
    {
     "data": {
      "text/plain": [
       "State_UT\n",
       "All India                    100.7200\n",
       "Andaman & Nicobar Islands     92.4250\n",
       "Andhra Pradesh                92.4750\n",
       "Arunachal Pradesh            128.2950\n",
       "Assam                        114.1950\n",
       "Bihar                         99.5250\n",
       "Chandigarh                    89.4800\n",
       "Chhattisgarh                 103.5350\n",
       "Dadra & Nagar Haveli          83.9800\n",
       "Daman & Diu                   87.0800\n",
       "Delhi                        111.2100\n",
       "Goa                          104.5550\n",
       "Gujarat                       99.9250\n",
       "Haryana                       97.9800\n",
       "Himachal Pradesh              99.9600\n",
       "Jammu And Kashmir             85.4350\n",
       "Jharkhand                    109.3150\n",
       "Karnataka                    101.4100\n",
       "Kerala                        95.2650\n",
       "Lakshadweep                   78.5200\n",
       "Madhya Pradesh               106.3000\n",
       "Maharashtra                   99.3800\n",
       "Manipur                      141.7600\n",
       "Meghalaya                    136.8750\n",
       "Mizoram                      124.3100\n",
       "Nagaland                     109.6750\n",
       "Odisha                       105.6850\n",
       "Puducherry                    90.2250\n",
       "Punjab                       105.3600\n",
       "Rajasthan                    100.0850\n",
       "Sikkim                       118.4950\n",
       "Tamil Nadu                   102.8350\n",
       "Telangana                    103.5700\n",
       "Tripura                      111.6450\n",
       "Uttar Pradesh                 98.1375\n",
       "West Bengal                  103.1650\n",
       "Name: enrol_mean_Primary_Total, dtype: float64"
      ]
     },
     "execution_count": 96,
     "metadata": {},
     "output_type": "execute_result"
    }
   ],
   "source": [
    "primary_target"
   ]
  },
  {
   "cell_type": "code",
   "execution_count": 99,
   "metadata": {},
   "outputs": [],
   "source": [
    "def DropNa(df, target):\n",
    "    '''Drop states that may not be present in both datasets'''\n",
    "    \n",
    "    uncommon = [i for i in df.index if i not in target.index]\n",
    "    df.drop([i for i in uncommon], inplace=True)\n",
    "    df.fillna(method='ffill', inplace=True)\n",
    "    pass"
   ]
  },
  {
   "cell_type": "code",
   "execution_count": 237,
   "metadata": {},
   "outputs": [],
   "source": [
    "def blender(x):\n",
    "    if x<0.5:return 0 \n",
    "    elif x>=0.5: return 1\n",
    "    else: pass"
   ]
  },
  {
   "cell_type": "code",
   "execution_count": 110,
   "metadata": {},
   "outputs": [],
   "source": [
    "def ModelEvaluator(y_true, y_pred):\n",
    "    eval_dict = {}\n",
    "    eval_dict['MAE']=mean_absolute_error(y_true, y_pred)\n",
    "    eval_dict['MSE']=mean_squared_error(y_true, y_pred)\n",
    "    eval_dict['RMSE']=np.sqrt(mean_absolute_error(y_true, y_pred))\n",
    "    eval_dict['R2']=r2_score(y_true, y_pred)\n",
    "#     eval_dict['log_loss'] = log_loss(y_true, y_pred)\n",
    "#     eval_dict['roc_auc_score'] = roc_auc_score(y_true, y_pred,)#multi_class=\"ovr\")\n",
    "#     true_classes = pd.Series(y_pred).apply(blender)\n",
    "#     eval_dict['f1_score'] = f1_score(y_true, true_classes,)#average='macro')\n",
    "#     eval_dict['accuracy_score'] = accuracy_score(y_true, true_classes)\n",
    "    return eval_dict"
   ]
  },
  {
   "cell_type": "markdown",
   "metadata": {},
   "source": [
    "## Using the RandomForrestRegressor"
   ]
  },
  {
   "cell_type": "code",
   "execution_count": 231,
   "metadata": {},
   "outputs": [],
   "source": [
    "def Model(train, target, test, algo=RandomForestRegressor):\n",
    "    errcb1=[]\n",
    "    y_pred_totcb1=[]\n",
    "    fold=KFold(n_splits=9)\n",
    "    i=1\n",
    "    cols = train.columns.to_list()\n",
    "    for train_index, test_index in fold.split(train,target):\n",
    "        print(str(i) + ' iter')\n",
    "        X_train, X_test = train.iloc[train_index], train.iloc[test_index]\n",
    "        y_train, y_test = target.iloc[train_index], target.iloc[test_index]\n",
    "        m1 = algo(random_state=2020)\n",
    "        m1.fit(X_train, y_train)\n",
    "        p1 = m1.predict(test)\n",
    "        y_pred_totcb1.append(p1)\n",
    "        \n",
    "#         preds = m1.predict_proba(X_test)[:,1]\n",
    "#         print('err: ', log_loss(y_test, preds))\n",
    "#         errcb1.append(log_loss(y_test, preds))\n",
    "#         p1 = m1.predict_proba(test)[:,1]\n",
    "#         y_pred_totcb1.append(p1)\n",
    "#         preds = m1.predict(X_test)\n",
    "#         print('err: ', log_loss(y_test, preds))\n",
    "#         errcb1.append(log_loss(y_test, preds))\n",
    "       \n",
    "        \n",
    "        best_feature = cols[np.argmax(m1.feature_importances_)]\n",
    "        worst_feature = cols[np.argmin(m1.feature_importances_)]    \n",
    "        print('Best Feature for the {} iteration is {}, while, the worst feature is {}'.format(i, best_feature, worst_feature))\n",
    "        \n",
    "        i+=1\n",
    "    #np.mean(errcb1)\n",
    "    return np.mean(y_pred_totcb1,axis=0)"
   ]
  },
  {
   "cell_type": "code",
   "execution_count": 241,
   "metadata": {},
   "outputs": [],
   "source": [
    "metric_list_rnd = []                 ### Store the metric results of all Student category types"
   ]
  },
  {
   "cell_type": "markdown",
   "metadata": {},
   "source": [
    "## Primary Student Category\n",
    "### datasets are arranged as comp, elect, drop_out, boys, girls, water\n",
    "### genders in target are arranged as boys, girls, both_gender"
   ]
  },
  {
   "cell_type": "markdown",
   "metadata": {},
   "source": [
    "## Boys "
   ]
  },
  {
   "cell_type": "code",
   "execution_count": 235,
   "metadata": {},
   "outputs": [],
   "source": [
    "boy_pry_df = GenerateTrain(pry_useful,[0,1,2,3,5])\n",
    "boy_eval_pry_df = GenerateTrain(eval_pry_useful,[0,1,2,3,5]) \n",
    "boy_primary_target = CreateTargetFeature(enrol_primary,0)    #0 for boys\n",
    "eval_boy_primary_target = CreateTargetFeature(test_enrol_primary,0) "
   ]
  },
  {
   "cell_type": "code",
   "execution_count": 236,
   "metadata": {},
   "outputs": [],
   "source": [
    "DropNa(boy_pry_df,boy_primary_target)          # Run cell only once\n",
    "DropNa(boy_eval_pry_df,eval_boy_primary_target)"
   ]
  },
  {
   "cell_type": "code",
   "execution_count": 237,
   "metadata": {},
   "outputs": [
    {
     "data": {
      "text/plain": [
       "((36,), (36, 15), (37, 15), (37,))"
      ]
     },
     "execution_count": 237,
     "metadata": {},
     "output_type": "execute_result"
    }
   ],
   "source": [
    "boy_primary_target.shape, boy_pry_df.shape, boy_eval_pry_df.shape, eval_boy_primary_target.shape"
   ]
  },
  {
   "cell_type": "code",
   "execution_count": 238,
   "metadata": {},
   "outputs": [
    {
     "name": "stdout",
     "output_type": "stream",
     "text": [
      "1 iter\n",
      "Best Feature for the 1 iteration is drop_out_mean_Primary_Boys, while, the worst feature is boys_mean_Primary_with_U_Primary_Sec_HrSec\n",
      "2 iter\n",
      "Best Feature for the 2 iteration is drop_out_mean_Primary_Boys, while, the worst feature is boys_mean_Primary_with_U_Primary_Sec_HrSec\n",
      "3 iter\n",
      "Best Feature for the 3 iteration is drop_out_mean_Primary_Boys, while, the worst feature is elect_mean_Primary_with_U_Primary_Sec_HrSec\n",
      "4 iter\n",
      "Best Feature for the 4 iteration is drop_out_mean_Primary_Boys, while, the worst feature is boys_mean_Primary_with_U_Primary_Sec_HrSec\n",
      "5 iter\n",
      "Best Feature for the 5 iteration is drop_out_mean_Primary_Boys, while, the worst feature is elect_mean_Primary_with_U_Primary_Sec_HrSec\n",
      "6 iter\n",
      "Best Feature for the 6 iteration is drop_out_mean_Primary_Boys, while, the worst feature is boys_mean_Primary_with_U_Primary_Sec_HrSec\n",
      "7 iter\n",
      "Best Feature for the 7 iteration is drop_out_mean_Primary_Boys, while, the worst feature is boys_mean_Primary_with_U_Primary_Sec_HrSec\n",
      "8 iter\n",
      "Best Feature for the 8 iteration is drop_out_mean_Primary_Boys, while, the worst feature is boys_mean_Primary_with_U_Primary_Sec_HrSec\n",
      "9 iter\n",
      "Best Feature for the 9 iteration is drop_out_mean_Primary_Boys, while, the worst feature is boys_mean_Primary_with_U_Primary_Sec_HrSec\n"
     ]
    }
   ],
   "source": [
    "boy_pry_preds = Model(boy_pry_df, boy_primary_target, boy_eval_pry_df)"
   ]
  },
  {
   "cell_type": "code",
   "execution_count": 239,
   "metadata": {},
   "outputs": [
    {
     "data": {
      "text/plain": [
       "{'MAE': 7.726432957957962,\n",
       " 'MSE': 97.1636148839109,\n",
       " 'RMSE': 2.779646192945779,\n",
       " 'R2': 0.4833858227624678}"
      ]
     },
     "execution_count": 239,
     "metadata": {},
     "output_type": "execute_result"
    }
   ],
   "source": [
    "ModelEvaluator(eval_boy_primary_target, boy_pry_preds)"
   ]
  },
  {
   "cell_type": "code",
   "execution_count": 242,
   "metadata": {},
   "outputs": [],
   "source": [
    "metric_list_rnd.append(['Primary Student Boys',ModelEvaluator(eval_boy_primary_target, boy_pry_preds)])   # run only once"
   ]
  },
  {
   "cell_type": "markdown",
   "metadata": {},
   "source": [
    "## Girls"
   ]
  },
  {
   "cell_type": "code",
   "execution_count": 244,
   "metadata": {},
   "outputs": [],
   "source": [
    "girl_pry_df = GenerateTrain(pry_useful,[0,1,2,4,5])\n",
    "girl_eval_pry_df = GenerateTrain(eval_pry_useful,[0,1,2,4,5]) \n",
    "girl_primary_target = CreateTargetFeature(enrol_primary,1)    #1 for girls\n",
    "eval_girl_primary_target = CreateTargetFeature(test_enrol_primary, 1)"
   ]
  },
  {
   "cell_type": "code",
   "execution_count": 245,
   "metadata": {},
   "outputs": [],
   "source": [
    "DropNa(girl_pry_df, girl_primary_target)   # Run  only once\n",
    "DropNa(girl_eval_pry_df, eval_girl_primary_target)"
   ]
  },
  {
   "cell_type": "code",
   "execution_count": 246,
   "metadata": {},
   "outputs": [
    {
     "data": {
      "text/plain": [
       "((36,), (36, 15), (37, 15), (37,))"
      ]
     },
     "execution_count": 246,
     "metadata": {},
     "output_type": "execute_result"
    }
   ],
   "source": [
    "girl_primary_target.shape, girl_pry_df.shape, girl_eval_pry_df.shape, eval_girl_primary_target.shape"
   ]
  },
  {
   "cell_type": "code",
   "execution_count": 247,
   "metadata": {},
   "outputs": [
    {
     "name": "stdout",
     "output_type": "stream",
     "text": [
      "1 iter\n",
      "Best Feature for the 1 iteration is drop_out_mean_Primary_Boys, while, the worst feature is elect_mean_Primary_with_U_Primary_Sec_HrSec\n",
      "2 iter\n",
      "Best Feature for the 2 iteration is drop_out_mean_Primary_Boys, while, the worst feature is elect_mean_Primary_with_U_Primary_Sec_HrSec\n",
      "3 iter\n",
      "Best Feature for the 3 iteration is drop_out_mean_Primary_Boys, while, the worst feature is girls_mean_Primary_with_U_Primary_Sec_HrSec\n",
      "4 iter\n",
      "Best Feature for the 4 iteration is water_mean_Primary_with_U_Primary, while, the worst feature is elect_mean_Primary_with_U_Primary_Sec_HrSec\n",
      "5 iter\n",
      "Best Feature for the 5 iteration is drop_out_mean_Primary_Boys, while, the worst feature is elect_mean_Primary_with_U_Primary\n",
      "6 iter\n",
      "Best Feature for the 6 iteration is water_mean_Primary_with_U_Primary, while, the worst feature is elect_mean_Primary_with_U_Primary_Sec_HrSec\n",
      "7 iter\n",
      "Best Feature for the 7 iteration is water_mean_Primary_Only, while, the worst feature is elect_mean_Primary_with_U_Primary_Sec_HrSec\n",
      "8 iter\n",
      "Best Feature for the 8 iteration is water_mean_Primary_with_U_Primary, while, the worst feature is girls_mean_Primary_with_U_Primary_Sec_HrSec\n",
      "9 iter\n",
      "Best Feature for the 9 iteration is drop_out_mean_Primary_Boys, while, the worst feature is girls_mean_Primary_with_U_Primary_Sec_HrSec\n"
     ]
    }
   ],
   "source": [
    "girl_pry_preds = Model(girl_pry_df, girl_primary_target, girl_eval_pry_df)"
   ]
  },
  {
   "cell_type": "code",
   "execution_count": 248,
   "metadata": {},
   "outputs": [
    {
     "data": {
      "text/plain": [
       "{'MAE': 7.767290015015006,\n",
       " 'MSE': 104.39347584101138,\n",
       " 'RMSE': 2.786985829711914,\n",
       " 'R2': 0.46159882393507057}"
      ]
     },
     "execution_count": 248,
     "metadata": {},
     "output_type": "execute_result"
    }
   ],
   "source": [
    "ModelEvaluator(eval_girl_primary_target, girl_pry_preds)"
   ]
  },
  {
   "cell_type": "code",
   "execution_count": 249,
   "metadata": {},
   "outputs": [],
   "source": [
    "metric_list_rnd.append(['Primary Student Girls', ModelEvaluator(eval_girl_primary_target, girl_pry_preds) ])   # run only once"
   ]
  },
  {
   "cell_type": "markdown",
   "metadata": {},
   "source": [
    "##  Total"
   ]
  },
  {
   "cell_type": "code",
   "execution_count": 250,
   "metadata": {},
   "outputs": [],
   "source": [
    "total_pry_df = GenerateTrain(pry_useful,[0,1,2,3,4,5])\n",
    "total_eval_pry_df = GenerateTrain(eval_pry_useful,[0,1,2,3,4,5]) \n",
    "total_primary_target = CreateTargetFeature(enrol_primary)    \n",
    "total_eval_primary_target = CreateTargetFeature(test_enrol_primary) "
   ]
  },
  {
   "cell_type": "code",
   "execution_count": 251,
   "metadata": {},
   "outputs": [],
   "source": [
    "DropNa(total_pry_df,total_primary_target)          # Run cell only once\n",
    "DropNa(total_eval_pry_df,total_eval_primary_target)"
   ]
  },
  {
   "cell_type": "code",
   "execution_count": 252,
   "metadata": {},
   "outputs": [
    {
     "data": {
      "text/plain": [
       "((36,), (36, 18), (37, 18), (37,))"
      ]
     },
     "execution_count": 252,
     "metadata": {},
     "output_type": "execute_result"
    }
   ],
   "source": [
    "total_primary_target.shape, total_pry_df.shape, total_eval_pry_df.shape, total_eval_primary_target.shape"
   ]
  },
  {
   "cell_type": "code",
   "execution_count": 253,
   "metadata": {},
   "outputs": [
    {
     "name": "stdout",
     "output_type": "stream",
     "text": [
      "1 iter\n",
      "Best Feature for the 1 iteration is drop_out_mean_Primary_Boys, while, the worst feature is elect_mean_Primary_with_U_Primary_Sec_HrSec\n",
      "2 iter\n",
      "Best Feature for the 2 iteration is drop_out_mean_Primary_Boys, while, the worst feature is girls_mean_Primary_with_U_Primary_Sec_HrSec\n",
      "3 iter\n",
      "Best Feature for the 3 iteration is drop_out_mean_Primary_Boys, while, the worst feature is girls_mean_Primary_with_U_Primary_Sec_HrSec\n",
      "4 iter\n",
      "Best Feature for the 4 iteration is drop_out_mean_Primary_Boys, while, the worst feature is elect_mean_Primary_with_U_Primary_Sec_HrSec\n",
      "5 iter\n",
      "Best Feature for the 5 iteration is drop_out_mean_Primary_Boys, while, the worst feature is girls_mean_Primary_with_U_Primary_Sec_HrSec\n",
      "6 iter\n",
      "Best Feature for the 6 iteration is drop_out_mean_Primary_Boys, while, the worst feature is elect_mean_Primary_with_U_Primary_Sec_HrSec\n",
      "7 iter\n",
      "Best Feature for the 7 iteration is drop_out_mean_Primary_Boys, while, the worst feature is elect_mean_Primary_with_U_Primary_Sec_HrSec\n",
      "8 iter\n",
      "Best Feature for the 8 iteration is drop_out_mean_Primary_Boys, while, the worst feature is girls_mean_Primary_with_U_Primary_Sec_HrSec\n",
      "9 iter\n",
      "Best Feature for the 9 iteration is drop_out_mean_Primary_Boys, while, the worst feature is elect_mean_Primary_with_U_Primary_Sec_HrSec\n"
     ]
    }
   ],
   "source": [
    "total_pry_preds = Model(total_pry_df, total_primary_target, total_eval_pry_df)"
   ]
  },
  {
   "cell_type": "code",
   "execution_count": 254,
   "metadata": {},
   "outputs": [
    {
     "data": {
      "text/plain": [
       "{'MAE': 7.773833183183188,\n",
       " 'MSE': 98.78246709898653,\n",
       " 'RMSE': 2.7881594615773304,\n",
       " 'R2': 0.4742223206359222}"
      ]
     },
     "execution_count": 254,
     "metadata": {},
     "output_type": "execute_result"
    }
   ],
   "source": [
    "ModelEvaluator(total_eval_primary_target, total_pry_preds)"
   ]
  },
  {
   "cell_type": "code",
   "execution_count": 255,
   "metadata": {},
   "outputs": [],
   "source": [
    "metric_list_rnd.append(['Primary Student Total', ModelEvaluator(total_eval_primary_target, total_pry_preds) ])   # run only once"
   ]
  },
  {
   "cell_type": "markdown",
   "metadata": {},
   "source": [
    "## Upper Primary Student Category\n",
    "### datasets are arranged as comp, elect, drop_out, boys, girls, water\n",
    "### genders in target are arranged as boys, girls, both_gender"
   ]
  },
  {
   "cell_type": "markdown",
   "metadata": {},
   "source": [
    "## Boys"
   ]
  },
  {
   "cell_type": "code",
   "execution_count": 256,
   "metadata": {},
   "outputs": [],
   "source": [
    "boy_upp_df = GenerateTrain(upp_useful,[0,1,2,3,5,])\n",
    "boy_eval_upp_df = GenerateTrain(eval_upp_useful,[0,1,2,3,5]) \n",
    "boy_upp_target = CreateTargetFeature(enrol_upper_primary,0)    #0 for boys\n",
    "eval_boy_upp_target = CreateTargetFeature(test_enrol_upper_primary, 0)"
   ]
  },
  {
   "cell_type": "code",
   "execution_count": 257,
   "metadata": {},
   "outputs": [],
   "source": [
    "DropNa(boy_upp_df, boy_upp_target)   # Run  only once\n",
    "DropNa(boy_eval_upp_df, eval_boy_upp_target)"
   ]
  },
  {
   "cell_type": "code",
   "execution_count": 258,
   "metadata": {},
   "outputs": [
    {
     "data": {
      "text/plain": [
       "((36,), (36, 15), (37, 15), (37,))"
      ]
     },
     "execution_count": 258,
     "metadata": {},
     "output_type": "execute_result"
    }
   ],
   "source": [
    "boy_upp_target.shape, boy_upp_df.shape, boy_eval_upp_df.shape, eval_boy_upp_target.shape"
   ]
  },
  {
   "cell_type": "code",
   "execution_count": 259,
   "metadata": {},
   "outputs": [
    {
     "name": "stdout",
     "output_type": "stream",
     "text": [
      "1 iter\n",
      "Best Feature for the 1 iteration is water_mean_Primary_with_U_Primary_Sec, while, the worst feature is water_mean_U_Primary_Only\n",
      "2 iter\n",
      "Best Feature for the 2 iteration is water_mean_Primary_with_U_Primary_Sec, while, the worst feature is water_mean_U_Primary_Only\n",
      "3 iter\n",
      "Best Feature for the 3 iteration is water_mean_Primary_with_U_Primary_Sec, while, the worst feature is boys_mean_U_Primary_With_Sec_HrSec\n",
      "4 iter\n",
      "Best Feature for the 4 iteration is water_mean_Primary_with_U_Primary_Sec, while, the worst feature is boys_mean_U_Primary_With_Sec_HrSec\n",
      "5 iter\n",
      "Best Feature for the 5 iteration is water_mean_Primary_with_U_Primary_Sec, while, the worst feature is water_mean_U_Primary_Only\n",
      "6 iter\n",
      "Best Feature for the 6 iteration is water_mean_Primary_with_U_Primary_Sec, while, the worst feature is water_mean_U_Primary_Only\n",
      "7 iter\n",
      "Best Feature for the 7 iteration is elect_mean_U_Primary_With_Sec_HrSec, while, the worst feature is boys_mean_U_Primary_With_Sec_HrSec\n",
      "8 iter\n",
      "Best Feature for the 8 iteration is elect_mean_U_Primary_With_Sec_HrSec, while, the worst feature is water_mean_U_Primary_Only\n",
      "9 iter\n",
      "Best Feature for the 9 iteration is drop_out_mean_Upper Primary_Boys, while, the worst feature is boys_mean_Primary_with_U_Primary_Sec\n"
     ]
    }
   ],
   "source": [
    "boy_upp_preds = Model(boy_upp_df, boy_upp_target, boy_eval_upp_df)"
   ]
  },
  {
   "cell_type": "code",
   "execution_count": 260,
   "metadata": {},
   "outputs": [
    {
     "data": {
      "text/plain": [
       "{'MAE': 10.919157882882889,\n",
       " 'MSE': 244.3870750380188,\n",
       " 'RMSE': 3.3044149077987903,\n",
       " 'R2': 0.18072761206769072}"
      ]
     },
     "execution_count": 260,
     "metadata": {},
     "output_type": "execute_result"
    }
   ],
   "source": [
    "ModelEvaluator(eval_boy_upp_target, boy_upp_preds)"
   ]
  },
  {
   "cell_type": "code",
   "execution_count": 261,
   "metadata": {},
   "outputs": [],
   "source": [
    "metric_list_rnd.append(['Upper Primary Boys',ModelEvaluator(eval_boy_upp_target, boy_upp_preds)])   # run only once "
   ]
  },
  {
   "cell_type": "markdown",
   "metadata": {},
   "source": [
    "## Girls"
   ]
  },
  {
   "cell_type": "code",
   "execution_count": 262,
   "metadata": {},
   "outputs": [],
   "source": [
    "girl_upp_df = GenerateTrain(upp_useful,[0,1,2,4,5])\n",
    "girl_eval_upp_df = GenerateTrain(eval_upp_useful,[0,1,2,4,5]) \n",
    "girl_upp_target = CreateTargetFeature(enrol_upper_primary,1)    #1 for girls\n",
    "girl_eval_upp_target = CreateTargetFeature(test_enrol_upper_primary, 1)"
   ]
  },
  {
   "cell_type": "code",
   "execution_count": 263,
   "metadata": {},
   "outputs": [],
   "source": [
    "DropNa(girl_upp_df, girl_upp_target)   # Run  only once\n",
    "DropNa(girl_eval_upp_df, girl_eval_upp_target)"
   ]
  },
  {
   "cell_type": "code",
   "execution_count": 264,
   "metadata": {},
   "outputs": [
    {
     "data": {
      "text/plain": [
       "((36,), (36, 15), (37, 15), (37,))"
      ]
     },
     "execution_count": 264,
     "metadata": {},
     "output_type": "execute_result"
    }
   ],
   "source": [
    "girl_upp_target.shape, girl_upp_df.shape, girl_eval_upp_df.shape, girl_eval_upp_target.shape"
   ]
  },
  {
   "cell_type": "code",
   "execution_count": 265,
   "metadata": {},
   "outputs": [
    {
     "name": "stdout",
     "output_type": "stream",
     "text": [
      "1 iter\n",
      "Best Feature for the 1 iteration is drop_out_mean_Upper Primary_Boys, while, the worst feature is elect_mean_U_Primary_Only\n",
      "2 iter\n",
      "Best Feature for the 2 iteration is drop_out_mean_Upper Primary_Boys, while, the worst feature is elect_mean_U_Primary_Only\n",
      "3 iter\n",
      "Best Feature for the 3 iteration is drop_out_mean_Upper Primary_Boys, while, the worst feature is girls_mean_Primary_with_U_Primary_Sec\n",
      "4 iter\n",
      "Best Feature for the 4 iteration is drop_out_mean_Upper Primary_Boys, while, the worst feature is girls_mean_Primary_with_U_Primary_Sec\n",
      "5 iter\n",
      "Best Feature for the 5 iteration is drop_out_mean_Upper Primary_Boys, while, the worst feature is girls_mean_Primary_with_U_Primary_Sec\n",
      "6 iter\n",
      "Best Feature for the 6 iteration is drop_out_mean_Upper Primary_Boys, while, the worst feature is girls_mean_U_Primary_With_Sec_HrSec\n",
      "7 iter\n",
      "Best Feature for the 7 iteration is drop_out_mean_Upper Primary_Boys, while, the worst feature is girls_mean_Primary_with_U_Primary_Sec\n",
      "8 iter\n",
      "Best Feature for the 8 iteration is drop_out_mean_Upper Primary_Boys, while, the worst feature is comp_mean_Primary_with_U_Primary_Sec\n",
      "9 iter\n",
      "Best Feature for the 9 iteration is drop_out_mean_Upper Primary_Boys, while, the worst feature is girls_mean_U_Primary_With_Sec_HrSec\n"
     ]
    }
   ],
   "source": [
    "girl_upp_preds = Model(girl_upp_df, girl_upp_target, girl_eval_upp_df)"
   ]
  },
  {
   "cell_type": "code",
   "execution_count": 266,
   "metadata": {},
   "outputs": [
    {
     "data": {
      "text/plain": [
       "{'MAE': 12.983060210210217,\n",
       " 'MSE': 326.51365306415846,\n",
       " 'RMSE': 3.6032013835213563,\n",
       " 'R2': 0.1809220826081035}"
      ]
     },
     "execution_count": 266,
     "metadata": {},
     "output_type": "execute_result"
    }
   ],
   "source": [
    "ModelEvaluator(girl_eval_upp_target, girl_upp_preds)"
   ]
  },
  {
   "cell_type": "code",
   "execution_count": 267,
   "metadata": {},
   "outputs": [],
   "source": [
    "metric_list_rnd.append(['Upper Primary Girls', ModelEvaluator(girl_eval_upp_target, girl_upp_preds)])   #run only once"
   ]
  },
  {
   "cell_type": "markdown",
   "metadata": {},
   "source": [
    "## Total"
   ]
  },
  {
   "cell_type": "code",
   "execution_count": 268,
   "metadata": {},
   "outputs": [],
   "source": [
    "total_upp_df = GenerateTrain(upp_useful,[0,1,2,3,4,5])\n",
    "total_eval_upp_df = GenerateTrain(eval_upp_useful,[0,1,2,3,4,5]) \n",
    "total_upper_primary_target = CreateTargetFeature(enrol_upper_primary)   \n",
    "total_eval_upper_primary_target = CreateTargetFeature(test_enrol_upper_primary) "
   ]
  },
  {
   "cell_type": "code",
   "execution_count": 269,
   "metadata": {},
   "outputs": [],
   "source": [
    "DropNa(total_upp_df,total_upper_primary_target)          # Run cell only once\n",
    "DropNa(total_eval_upp_df,total_eval_upper_primary_target)"
   ]
  },
  {
   "cell_type": "code",
   "execution_count": 270,
   "metadata": {},
   "outputs": [
    {
     "data": {
      "text/plain": [
       "((36,), (36, 18), (37, 18), (37,))"
      ]
     },
     "execution_count": 270,
     "metadata": {},
     "output_type": "execute_result"
    }
   ],
   "source": [
    "total_upper_primary_target.shape, total_upp_df.shape, total_eval_upp_df.shape, total_eval_upper_primary_target.shape"
   ]
  },
  {
   "cell_type": "code",
   "execution_count": 276,
   "metadata": {},
   "outputs": [
    {
     "name": "stdout",
     "output_type": "stream",
     "text": [
      "1 iter\n",
      "Best Feature for the 1 iteration is water_mean_Primary_with_U_Primary_Sec, while, the worst feature is girls_mean_U_Primary_With_Sec_HrSec\n",
      "2 iter\n",
      "Best Feature for the 2 iteration is water_mean_Primary_with_U_Primary_Sec, while, the worst feature is water_mean_U_Primary_Only\n",
      "3 iter\n",
      "Best Feature for the 3 iteration is water_mean_Primary_with_U_Primary_Sec, while, the worst feature is girls_mean_Primary_with_U_Primary_Sec\n",
      "4 iter\n",
      "Best Feature for the 4 iteration is water_mean_Primary_with_U_Primary_Sec, while, the worst feature is boys_mean_U_Primary_With_Sec_HrSec\n",
      "5 iter\n",
      "Best Feature for the 5 iteration is water_mean_Primary_with_U_Primary_Sec, while, the worst feature is girls_mean_Primary_with_U_Primary_Sec\n",
      "6 iter\n",
      "Best Feature for the 6 iteration is water_mean_Primary_with_U_Primary_Sec, while, the worst feature is water_mean_U_Primary_Only\n",
      "7 iter\n",
      "Best Feature for the 7 iteration is water_mean_Primary_with_U_Primary_Sec, while, the worst feature is girls_mean_U_Primary_With_Sec_HrSec\n",
      "8 iter\n",
      "Best Feature for the 8 iteration is water_mean_U_Primary_With_Sec_HrSec, while, the worst feature is water_mean_U_Primary_Only\n",
      "9 iter\n",
      "Best Feature for the 9 iteration is drop_out_mean_Upper Primary_Boys, while, the worst feature is girls_mean_Primary_with_U_Primary_Sec\n"
     ]
    }
   ],
   "source": [
    "total_upp_preds = Model(total_upp_df, total_upper_primary_target, total_eval_upp_df)"
   ]
  },
  {
   "cell_type": "code",
   "execution_count": 277,
   "metadata": {},
   "outputs": [
    {
     "data": {
      "text/plain": [
       "{'MAE': 11.817299249249249,\n",
       " 'MSE': 268.4585563927935,\n",
       " 'RMSE': 3.4376298883459295,\n",
       " 'R2': 0.19587583208419912}"
      ]
     },
     "execution_count": 277,
     "metadata": {},
     "output_type": "execute_result"
    }
   ],
   "source": [
    "ModelEvaluator(total_eval_upper_primary_target, total_upp_preds)"
   ]
  },
  {
   "cell_type": "code",
   "execution_count": 278,
   "metadata": {},
   "outputs": [],
   "source": [
    "metric_list_rnd.append(['Upper Primary Total', ModelEvaluator(total_eval_upper_primary_target, total_upp_preds)])   #run only once"
   ]
  },
  {
   "cell_type": "markdown",
   "metadata": {},
   "source": [
    "## Secondary Student Category\n",
    "### datasets are arranged as comp, elect, drop_out, boys, girls, water\n",
    "### genders in target are arranged as boys, girls, both_gender"
   ]
  },
  {
   "cell_type": "markdown",
   "metadata": {},
   "source": [
    "## Boys"
   ]
  },
  {
   "cell_type": "code",
   "execution_count": 279,
   "metadata": {},
   "outputs": [],
   "source": [
    "boy_sec_df = GenerateTrain(sec_useful,[0,1,2,3,5])\n",
    "boy_eval_sec_df = GenerateTrain(eval_sec_useful,[0,1,2,3,5]) \n",
    "boy_sec_target = CreateTargetFeature(enrol_secondary,0)    #0 for boys\n",
    "boy_eval_sec_target = CreateTargetFeature(test_enrol_secondary, 0)"
   ]
  },
  {
   "cell_type": "code",
   "execution_count": 280,
   "metadata": {},
   "outputs": [],
   "source": [
    "DropNa(boy_sec_df, boy_sec_target)   # Run  only once\n",
    "DropNa(boy_eval_sec_df, boy_eval_sec_target)"
   ]
  },
  {
   "cell_type": "code",
   "execution_count": 281,
   "metadata": {},
   "outputs": [
    {
     "data": {
      "text/plain": [
       "((36,), (36, 15), (37, 15), (37,))"
      ]
     },
     "execution_count": 281,
     "metadata": {},
     "output_type": "execute_result"
    }
   ],
   "source": [
    "boy_sec_target.shape, boy_sec_df.shape, boy_eval_sec_df.shape, boy_eval_sec_target.shape"
   ]
  },
  {
   "cell_type": "code",
   "execution_count": 282,
   "metadata": {},
   "outputs": [
    {
     "name": "stdout",
     "output_type": "stream",
     "text": [
      "1 iter\n",
      "Best Feature for the 1 iteration is water_mean_Sec_Only, while, the worst feature is boys_mean_Sec_with_HrSec.\n",
      "2 iter\n",
      "Best Feature for the 2 iteration is water_mean_Sec_Only, while, the worst feature is boys_mean_Sec_with_HrSec.\n",
      "3 iter\n",
      "Best Feature for the 3 iteration is water_mean_Sec_Only, while, the worst feature is boys_mean_Sec_with_HrSec.\n",
      "4 iter\n",
      "Best Feature for the 4 iteration is water_mean_Sec_Only, while, the worst feature is elect_mean_Sec_with_HrSec.\n",
      "5 iter\n",
      "Best Feature for the 5 iteration is elect_mean_Sec_Only, while, the worst feature is comp_mean_Sec_with_HrSec.\n",
      "6 iter\n",
      "Best Feature for the 6 iteration is water_mean_Sec_Only, while, the worst feature is comp_mean_Sec_with_HrSec.\n",
      "7 iter\n",
      "Best Feature for the 7 iteration is water_mean_Sec_Only, while, the worst feature is boys_mean_Sec_with_HrSec.\n",
      "8 iter\n",
      "Best Feature for the 8 iteration is water_mean_Sec_Only, while, the worst feature is boys_mean_Sec_with_HrSec.\n",
      "9 iter\n",
      "Best Feature for the 9 iteration is drop_out_mean_Secondary _Girls, while, the worst feature is elect_mean_Sec_with_HrSec.\n"
     ]
    }
   ],
   "source": [
    "boy_sec_preds = Model(boy_sec_df, boy_sec_target, boy_eval_sec_df)"
   ]
  },
  {
   "cell_type": "code",
   "execution_count": 283,
   "metadata": {},
   "outputs": [
    {
     "data": {
      "text/plain": [
       "{'MAE': 9.023683783783781,\n",
       " 'MSE': 118.9358897877593,\n",
       " 'RMSE': 3.0039447038492204,\n",
       " 'R2': 0.3201848105008258}"
      ]
     },
     "execution_count": 283,
     "metadata": {},
     "output_type": "execute_result"
    }
   ],
   "source": [
    "ModelEvaluator(boy_eval_sec_target, boy_sec_preds)"
   ]
  },
  {
   "cell_type": "code",
   "execution_count": 284,
   "metadata": {},
   "outputs": [],
   "source": [
    "metric_list_rnd.append(['Secondary Student Boys',ModelEvaluator(boy_eval_sec_target, boy_sec_preds)])   # run only once"
   ]
  },
  {
   "cell_type": "markdown",
   "metadata": {},
   "source": [
    "## Girls"
   ]
  },
  {
   "cell_type": "code",
   "execution_count": 285,
   "metadata": {},
   "outputs": [],
   "source": [
    "girl_sec_df = GenerateTrain(sec_useful,[0,1,2,4,5])\n",
    "girl_eval_sec_df = GenerateTrain(eval_sec_useful,[0,1,2,4,5]) \n",
    "girl_sec_target = CreateTargetFeature(enrol_secondary,1)    #1 for girls\n",
    "girl_eval_sec_target = CreateTargetFeature(test_enrol_secondary,1)"
   ]
  },
  {
   "cell_type": "code",
   "execution_count": 286,
   "metadata": {},
   "outputs": [],
   "source": [
    "DropNa(girl_sec_df, girl_sec_target)   # Run  only once\n",
    "DropNa(girl_eval_sec_df, girl_eval_sec_target)"
   ]
  },
  {
   "cell_type": "code",
   "execution_count": 287,
   "metadata": {},
   "outputs": [
    {
     "data": {
      "text/plain": [
       "((36,), (36, 15), (37, 15), (37,))"
      ]
     },
     "execution_count": 287,
     "metadata": {},
     "output_type": "execute_result"
    }
   ],
   "source": [
    "girl_sec_target.shape, girl_sec_df.shape, girl_eval_sec_df.shape, girl_eval_sec_target.shape"
   ]
  },
  {
   "cell_type": "code",
   "execution_count": 288,
   "metadata": {},
   "outputs": [
    {
     "name": "stdout",
     "output_type": "stream",
     "text": [
      "1 iter\n",
      "Best Feature for the 1 iteration is water_mean_Sec_Only, while, the worst feature is water_mean_U_Primary_With_Sec\n",
      "2 iter\n",
      "Best Feature for the 2 iteration is water_mean_Sec_Only, while, the worst feature is girls_mean_Sec_Only\n",
      "3 iter\n",
      "Best Feature for the 3 iteration is water_mean_Sec_Only, while, the worst feature is girls_mean_U_Primary_With_Sec\n",
      "4 iter\n",
      "Best Feature for the 4 iteration is water_mean_Sec_Only, while, the worst feature is comp_mean_Sec_Only\n",
      "5 iter\n",
      "Best Feature for the 5 iteration is water_mean_Sec_Only, while, the worst feature is water_mean_Sec_with_HrSec.\n",
      "6 iter\n",
      "Best Feature for the 6 iteration is water_mean_Sec_Only, while, the worst feature is water_mean_U_Primary_With_Sec\n",
      "7 iter\n",
      "Best Feature for the 7 iteration is water_mean_Sec_Only, while, the worst feature is comp_mean_Sec_Only\n",
      "8 iter\n",
      "Best Feature for the 8 iteration is water_mean_Sec_Only, while, the worst feature is water_mean_U_Primary_With_Sec\n",
      "9 iter\n",
      "Best Feature for the 9 iteration is drop_out_mean_Secondary _Girls, while, the worst feature is elect_mean_Sec_Only\n"
     ]
    }
   ],
   "source": [
    "girl_sec_preds = Model(girl_sec_df, girl_sec_target, girl_eval_sec_df)"
   ]
  },
  {
   "cell_type": "code",
   "execution_count": 289,
   "metadata": {},
   "outputs": [
    {
     "data": {
      "text/plain": [
       "{'MAE': 8.758508708708701,\n",
       " 'MSE': 117.32381527921088,\n",
       " 'RMSE': 2.9594777763498583,\n",
       " 'R2': 0.40146601511941893}"
      ]
     },
     "execution_count": 289,
     "metadata": {},
     "output_type": "execute_result"
    }
   ],
   "source": [
    "ModelEvaluator(girl_eval_sec_target, girl_sec_preds)"
   ]
  },
  {
   "cell_type": "code",
   "execution_count": 290,
   "metadata": {},
   "outputs": [],
   "source": [
    "metric_list_rnd.append(['Secondary Student Girls', ModelEvaluator(girl_eval_sec_target, girl_sec_preds)])   #run only once"
   ]
  },
  {
   "cell_type": "markdown",
   "metadata": {},
   "source": [
    "## Total"
   ]
  },
  {
   "cell_type": "code",
   "execution_count": 291,
   "metadata": {},
   "outputs": [],
   "source": [
    "total_sec_df = GenerateTrain(sec_useful,[0,1,2,3,4,5])\n",
    "total_eval_sec_df = GenerateTrain(eval_sec_useful,[0,1,2,3,4,5]) \n",
    "total_secondary_target = CreateTargetFeature(enrol_secondary)    #0 for boys\n",
    "total_eval_secondary_target = CreateTargetFeature(test_enrol_secondary) "
   ]
  },
  {
   "cell_type": "code",
   "execution_count": 292,
   "metadata": {},
   "outputs": [],
   "source": [
    "DropNa(total_sec_df,total_secondary_target)          # Run cell only once\n",
    "DropNa(total_eval_sec_df,total_eval_secondary_target)"
   ]
  },
  {
   "cell_type": "code",
   "execution_count": 293,
   "metadata": {},
   "outputs": [
    {
     "data": {
      "text/plain": [
       "((36,), (36, 18), (37, 18), (37,))"
      ]
     },
     "execution_count": 293,
     "metadata": {},
     "output_type": "execute_result"
    }
   ],
   "source": [
    "total_secondary_target.shape, total_sec_df.shape, total_eval_sec_df.shape, total_eval_secondary_target.shape"
   ]
  },
  {
   "cell_type": "code",
   "execution_count": 294,
   "metadata": {},
   "outputs": [
    {
     "name": "stdout",
     "output_type": "stream",
     "text": [
      "1 iter\n",
      "Best Feature for the 1 iteration is water_mean_Sec_Only, while, the worst feature is boys_mean_Sec_with_HrSec.\n",
      "2 iter\n",
      "Best Feature for the 2 iteration is water_mean_Sec_Only, while, the worst feature is boys_mean_Sec_with_HrSec.\n",
      "3 iter\n",
      "Best Feature for the 3 iteration is water_mean_Sec_Only, while, the worst feature is girls_mean_Sec_with_HrSec.\n",
      "4 iter\n",
      "Best Feature for the 4 iteration is water_mean_Sec_Only, while, the worst feature is boys_mean_Sec_with_HrSec.\n",
      "5 iter\n",
      "Best Feature for the 5 iteration is drop_out_mean_Secondary _Girls, while, the worst feature is water_mean_Sec_with_HrSec.\n",
      "6 iter\n",
      "Best Feature for the 6 iteration is water_mean_Sec_Only, while, the worst feature is boys_mean_Sec_with_HrSec.\n",
      "7 iter\n",
      "Best Feature for the 7 iteration is water_mean_Sec_Only, while, the worst feature is comp_mean_Sec_Only\n",
      "8 iter\n",
      "Best Feature for the 8 iteration is water_mean_Sec_Only, while, the worst feature is boys_mean_Sec_with_HrSec.\n",
      "9 iter\n",
      "Best Feature for the 9 iteration is drop_out_mean_Secondary _Girls, while, the worst feature is elect_mean_Sec_with_HrSec.\n"
     ]
    }
   ],
   "source": [
    "total_sec_preds = Model(total_sec_df, total_secondary_target, total_eval_sec_df)"
   ]
  },
  {
   "cell_type": "code",
   "execution_count": 295,
   "metadata": {},
   "outputs": [
    {
     "data": {
      "text/plain": [
       "{'MAE': 8.883069369369373,\n",
       " 'MSE': 113.61415384895396,\n",
       " 'RMSE': 2.980447847114486,\n",
       " 'R2': 0.3466987043055004}"
      ]
     },
     "execution_count": 295,
     "metadata": {},
     "output_type": "execute_result"
    }
   ],
   "source": [
    "ModelEvaluator(total_eval_secondary_target, total_sec_preds)"
   ]
  },
  {
   "cell_type": "code",
   "execution_count": 296,
   "metadata": {},
   "outputs": [],
   "source": [
    "metric_list_rnd.append(['Secondary Student Total',ModelEvaluator(total_eval_secondary_target, total_sec_preds)])   #run only once"
   ]
  },
  {
   "cell_type": "markdown",
   "metadata": {},
   "source": [
    "## Higher Secondary Student Category\n",
    "### datasets are arranged as comp, elect, drop_out, boys, girls, water\n",
    "### genders in target are arranged as boys, girls, both_gender"
   ]
  },
  {
   "cell_type": "markdown",
   "metadata": {},
   "source": [
    "## Boys"
   ]
  },
  {
   "cell_type": "code",
   "execution_count": 331,
   "metadata": {},
   "outputs": [],
   "source": [
    "boy_high_df = GenerateTrain(high_useful,[0,1,2,3,5])\n",
    "boy_eval_high_df = GenerateTrain(eval_high_useful,[0,1,2,3,5]) \n",
    "boy_high_target = CreateTargetFeature(enrol_higher,0)    #0 for boys\n",
    "boy_eval_high_target = CreateTargetFeature(test_enrol_higher, 0)"
   ]
  },
  {
   "cell_type": "code",
   "execution_count": 332,
   "metadata": {},
   "outputs": [],
   "source": [
    "DropNa(boy_high_df, boy_high_target)   # Run  only once\n",
    "DropNa(boy_eval_high_df, boy_eval_high_target)"
   ]
  },
  {
   "cell_type": "code",
   "execution_count": 333,
   "metadata": {},
   "outputs": [
    {
     "data": {
      "text/plain": [
       "((36,), (36, 11), (37, 11), (37,))"
      ]
     },
     "execution_count": 333,
     "metadata": {},
     "output_type": "execute_result"
    }
   ],
   "source": [
    "boy_high_target.shape, boy_high_df.shape, boy_eval_high_df.shape, boy_eval_high_target.shape"
   ]
  },
  {
   "cell_type": "code",
   "execution_count": 334,
   "metadata": {},
   "outputs": [
    {
     "name": "stdout",
     "output_type": "stream",
     "text": [
      "1 iter\n",
      "Best Feature for the 1 iteration is comp_mean_All Schools, while, the worst feature is elect_mean_HrSec_Only\n",
      "2 iter\n",
      "Best Feature for the 2 iteration is comp_mean_All Schools, while, the worst feature is drop_out_mean_HrSecondary_Total\n",
      "3 iter\n",
      "Best Feature for the 3 iteration is elect_mean_All Schools, while, the worst feature is drop_out_mean_HrSecondary_Boys\n",
      "4 iter\n",
      "Best Feature for the 4 iteration is comp_mean_All Schools, while, the worst feature is drop_out_mean_HrSecondary_Total\n",
      "5 iter\n",
      "Best Feature for the 5 iteration is elect_mean_All Schools, while, the worst feature is water_mean_HrSec_Only\n",
      "6 iter\n",
      "Best Feature for the 6 iteration is water_mean_All Schools, while, the worst feature is drop_out_mean_HrSecondary_Total\n",
      "7 iter\n",
      "Best Feature for the 7 iteration is comp_mean_All Schools, while, the worst feature is drop_out_mean_HrSecondary_Total\n",
      "8 iter\n",
      "Best Feature for the 8 iteration is comp_mean_All Schools, while, the worst feature is drop_out_mean_HrSecondary_Total\n",
      "9 iter\n",
      "Best Feature for the 9 iteration is comp_mean_All Schools, while, the worst feature is drop_out_mean_HrSecondary_Total\n"
     ]
    }
   ],
   "source": [
    "boy_high_preds = Model(boy_high_df, boy_high_target, boy_eval_high_df)"
   ]
  },
  {
   "cell_type": "code",
   "execution_count": 335,
   "metadata": {},
   "outputs": [
    {
     "data": {
      "text/plain": [
       "{'MAE': 10.296693243243244,\n",
       " 'MSE': 186.6168194059781,\n",
       " 'RMSE': 3.2088460921713344,\n",
       " 'R2': 0.3224545550332686}"
      ]
     },
     "execution_count": 335,
     "metadata": {},
     "output_type": "execute_result"
    }
   ],
   "source": [
    "ModelEvaluator(boy_eval_high_target, boy_high_preds)"
   ]
  },
  {
   "cell_type": "code",
   "execution_count": 336,
   "metadata": {},
   "outputs": [],
   "source": [
    "metric_list_rnd.append(['Higher Secondary Student Boys', ModelEvaluator(boy_eval_high_target, boy_high_preds)])  # run only once"
   ]
  },
  {
   "cell_type": "markdown",
   "metadata": {},
   "source": [
    "## Girls"
   ]
  },
  {
   "cell_type": "code",
   "execution_count": 337,
   "metadata": {},
   "outputs": [],
   "source": [
    "girl_high_df = GenerateTrain(high_useful,[0,1,2,4,5])\n",
    "girl_eval_high_df = GenerateTrain(eval_high_useful,[0,1,2,4,5]) \n",
    "girl_high_target = CreateTargetFeature(enrol_higher,1)    #1 for girls\n",
    "girl_eval_high_target = CreateTargetFeature(test_enrol_higher,1)"
   ]
  },
  {
   "cell_type": "code",
   "execution_count": 339,
   "metadata": {},
   "outputs": [],
   "source": [
    "DropNa(girl_high_df, girl_high_target)   # Run  only once\n",
    "DropNa(girl_eval_high_df, girl_eval_high_target)"
   ]
  },
  {
   "cell_type": "code",
   "execution_count": 340,
   "metadata": {},
   "outputs": [
    {
     "data": {
      "text/plain": [
       "((36,), (36, 11), (37, 11), (37,))"
      ]
     },
     "execution_count": 340,
     "metadata": {},
     "output_type": "execute_result"
    }
   ],
   "source": [
    "girl_high_target.shape, girl_high_df.shape, girl_eval_high_df.shape, girl_eval_high_target.shape"
   ]
  },
  {
   "cell_type": "code",
   "execution_count": 341,
   "metadata": {},
   "outputs": [
    {
     "name": "stdout",
     "output_type": "stream",
     "text": [
      "1 iter\n",
      "Best Feature for the 1 iteration is comp_mean_All Schools, while, the worst feature is girls_mean_HrSec_Only\n",
      "2 iter\n",
      "Best Feature for the 2 iteration is comp_mean_All Schools, while, the worst feature is girls_mean_HrSec_Only\n",
      "3 iter\n",
      "Best Feature for the 3 iteration is elect_mean_All Schools, while, the worst feature is drop_out_mean_HrSecondary_Total\n",
      "4 iter\n",
      "Best Feature for the 4 iteration is comp_mean_All Schools, while, the worst feature is drop_out_mean_HrSecondary_Total\n",
      "5 iter\n",
      "Best Feature for the 5 iteration is elect_mean_All Schools, while, the worst feature is girls_mean_HrSec_Only\n",
      "6 iter\n",
      "Best Feature for the 6 iteration is comp_mean_All Schools, while, the worst feature is girls_mean_HrSec_Only\n",
      "7 iter\n",
      "Best Feature for the 7 iteration is comp_mean_All Schools, while, the worst feature is drop_out_mean_HrSecondary_Boys\n",
      "8 iter\n",
      "Best Feature for the 8 iteration is comp_mean_All Schools, while, the worst feature is drop_out_mean_HrSecondary_Boys\n",
      "9 iter\n",
      "Best Feature for the 9 iteration is comp_mean_All Schools, while, the worst feature is drop_out_mean_HrSecondary_Total\n"
     ]
    }
   ],
   "source": [
    "girl_high_preds = Model(girl_high_df, girl_high_target, girl_eval_high_df)"
   ]
  },
  {
   "cell_type": "code",
   "execution_count": 342,
   "metadata": {},
   "outputs": [
    {
     "data": {
      "text/plain": [
       "{'MAE': 10.719160660660663,\n",
       " 'MSE': 212.54735692288176,\n",
       " 'RMSE': 3.2740129292140345,\n",
       " 'R2': 0.37967507392925115}"
      ]
     },
     "execution_count": 342,
     "metadata": {},
     "output_type": "execute_result"
    }
   ],
   "source": [
    "ModelEvaluator(girl_eval_high_target, girl_high_preds)"
   ]
  },
  {
   "cell_type": "code",
   "execution_count": 343,
   "metadata": {},
   "outputs": [],
   "source": [
    "metric_list_rnd.append(['Higher Secondary Student Girls', ModelEvaluator(girl_eval_high_target, girl_high_preds)])  # run only once"
   ]
  },
  {
   "cell_type": "markdown",
   "metadata": {},
   "source": [
    "## Total"
   ]
  },
  {
   "cell_type": "code",
   "execution_count": 346,
   "metadata": {},
   "outputs": [],
   "source": [
    "total_high_df = GenerateTrain(high_useful,[0,1,2,3,4,5])\n",
    "total_eval_high_df = GenerateTrain(eval_high_useful,[0,1,2,3,4,5]) \n",
    "total_higher_target = CreateTargetFeature(enrol_higher)    \n",
    "total_eval_higher_target = CreateTargetFeature(test_enrol_higher) "
   ]
  },
  {
   "cell_type": "code",
   "execution_count": 347,
   "metadata": {},
   "outputs": [],
   "source": [
    "DropNa(total_high_df,total_higher_target)          # Run cell only once\n",
    "DropNa(total_eval_high_df,total_eval_higher_target)"
   ]
  },
  {
   "cell_type": "code",
   "execution_count": 348,
   "metadata": {},
   "outputs": [
    {
     "data": {
      "text/plain": [
       "((36,), (36, 13), (37, 13), (37,))"
      ]
     },
     "execution_count": 348,
     "metadata": {},
     "output_type": "execute_result"
    }
   ],
   "source": [
    "total_higher_target.shape, total_high_df.shape, total_eval_high_df.shape, total_eval_higher_target.shape"
   ]
  },
  {
   "cell_type": "code",
   "execution_count": 349,
   "metadata": {},
   "outputs": [
    {
     "name": "stdout",
     "output_type": "stream",
     "text": [
      "1 iter\n",
      "Best Feature for the 1 iteration is comp_mean_All Schools, while, the worst feature is girls_mean_HrSec_Only\n",
      "2 iter\n",
      "Best Feature for the 2 iteration is comp_mean_All Schools, while, the worst feature is girls_mean_HrSec_Only\n",
      "3 iter\n",
      "Best Feature for the 3 iteration is elect_mean_All Schools, while, the worst feature is drop_out_mean_HrSecondary_Total\n",
      "4 iter\n",
      "Best Feature for the 4 iteration is comp_mean_All Schools, while, the worst feature is drop_out_mean_HrSecondary_Total\n",
      "5 iter\n",
      "Best Feature for the 5 iteration is elect_mean_All Schools, while, the worst feature is girls_mean_HrSec_Only\n",
      "6 iter\n",
      "Best Feature for the 6 iteration is comp_mean_All Schools, while, the worst feature is girls_mean_HrSec_Only\n",
      "7 iter\n",
      "Best Feature for the 7 iteration is comp_mean_All Schools, while, the worst feature is drop_out_mean_HrSecondary_Boys\n",
      "8 iter\n",
      "Best Feature for the 8 iteration is comp_mean_All Schools, while, the worst feature is girls_mean_HrSec_Only\n",
      "9 iter\n",
      "Best Feature for the 9 iteration is comp_mean_All Schools, while, the worst feature is girls_mean_HrSec_Only\n"
     ]
    }
   ],
   "source": [
    "total_high_preds = Model(total_high_df, total_higher_target, total_eval_high_df)"
   ]
  },
  {
   "cell_type": "code",
   "execution_count": 350,
   "metadata": {},
   "outputs": [
    {
     "data": {
      "text/plain": [
       "{'MAE': 10.066350150150146,\n",
       " 'MSE': 188.79099848872204,\n",
       " 'RMSE': 3.1727511957526935,\n",
       " 'R2': 0.3705266271436667}"
      ]
     },
     "execution_count": 350,
     "metadata": {},
     "output_type": "execute_result"
    }
   ],
   "source": [
    "ModelEvaluator(total_eval_higher_target, total_high_preds)"
   ]
  },
  {
   "cell_type": "code",
   "execution_count": 351,
   "metadata": {},
   "outputs": [],
   "source": [
    "metric_list_rnd.append(['Higher Secondary Student Total', ModelEvaluator(total_eval_higher_target, total_high_preds)])  # run only once"
   ]
  },
  {
   "cell_type": "code",
   "execution_count": 354,
   "metadata": {},
   "outputs": [
    {
     "data": {
      "text/plain": [
       "12"
      ]
     },
     "execution_count": 354,
     "metadata": {},
     "output_type": "execute_result"
    }
   ],
   "source": [
    "len(metric_list_rnd)   # should be 12"
   ]
  },
  {
   "cell_type": "code",
   "execution_count": 360,
   "metadata": {},
   "outputs": [],
   "source": [
    "student_type = pd.Series( [i[0] for i in metric_list_rnd], name='student_type' )\n",
    "MAE_metric = pd.Series( [i[1]['MAE'] for i in metric_list_rnd], name='MAE' )\n",
    "MSE_metric = pd.Series( [i[1]['MSE'] for i in metric_list_rnd], name='MSE' )\n",
    "RMSE_metric = pd.Series( [i[1][\"RMSE\"] for i in metric_list_rnd], name='RMSE' )\n",
    "R2_metric = pd.Series( [i[1]['R2'] for i in metric_list_rnd], name='R2' )\n",
    "metric_df_rnd = pd.DataFrame(pd.concat([student_type, MAE_metric, MSE_metric,RMSE_metric, R2_metric], axis=1)).set_index('student_type')"
   ]
  },
  {
   "cell_type": "code",
   "execution_count": null,
   "metadata": {},
   "outputs": [],
   "source": [
    "metric_df_rnd"
   ]
  },
  {
   "cell_type": "code",
   "execution_count": 361,
   "metadata": {},
   "outputs": [
    {
     "data": {
      "text/plain": [
       "<AxesSubplot:title={'center':'Evaluation metrics'}, xlabel='student_type'>"
      ]
     },
     "execution_count": 361,
     "metadata": {},
     "output_type": "execute_result"
    },
    {
     "data": {
      "image/png": "[encoded data removed]",
      "text/plain": [
       "<Figure size 1944x504 with 1 Axes>"
      ]
     },
     "metadata": {
      "needs_background": "light"
     },
     "output_type": "display_data"
    }
   ],
   "source": [
    "metric_df_rnd.plot(kind='bar', figsize=(27,7), title='Evaluation metrics')"
   ]
  },
  {
   "cell_type": "markdown",
   "metadata": {},
   "source": []
  },
  {
   "cell_type": "markdown",
   "metadata": {},
   "source": [
    "## Using the XGBRegressor"
   ]
  },
  {
   "cell_type": "code",
   "execution_count": 363,
   "metadata": {},
   "outputs": [],
   "source": [
    "def Model(train, target, test, algo=XGBRegressor):\n",
    "    errcb1=[]\n",
    "    y_pred_totcb1=[]\n",
    "    fold=KFold(n_splits=9)\n",
    "    i=1\n",
    "    cols = train.columns.to_list()\n",
    "    for train_index, test_index in fold.split(train,target):\n",
    "        print(str(i) + ' iter')\n",
    "        X_train, X_test = train.iloc[train_index], train.iloc[test_index]\n",
    "        y_train, y_test = target.iloc[train_index], target.iloc[test_index]\n",
    "        m1 = algo(random_state=2020,alpha=0.5)\n",
    "        m1.fit(X_train, y_train)\n",
    "        p1 = m1.predict(test)\n",
    "        y_pred_totcb1.append(p1)\n",
    "        \n",
    "#         preds = m1.predict_proba(X_test)[:,1]\n",
    "#         print('err: ', log_loss(y_test, preds))\n",
    "#         errcb1.append(log_loss(y_test, preds))\n",
    "#         p1 = m1.predict_proba(test)[:,1]\n",
    "#         y_pred_totcb1.append(p1)\n",
    "#         preds = m1.predict(X_test)\n",
    "#         print('err: ', log_loss(y_test, preds))\n",
    "#         errcb1.append(log_loss(y_test, preds))\n",
    "       \n",
    "        \n",
    "        best_feature = cols[np.argmax(m1.feature_importances_)]\n",
    "        worst_feature = cols[np.argmin(m1.feature_importances_)]    \n",
    "        print('Best Feature for the {} iteration is {}, while, the worst feature is {}'.format(i, best_feature, worst_feature))\n",
    "        \n",
    "        i+=1\n",
    "    #np.mean(errcb1)\n",
    "    return np.mean(y_pred_totcb1,axis=0)"
   ]
  },
  {
   "cell_type": "code",
   "execution_count": 364,
   "metadata": {},
   "outputs": [],
   "source": [
    "metric_list_xgb = []                 ### Store the metric results of all Student category types"
   ]
  },
  {
   "cell_type": "markdown",
   "metadata": {},
   "source": [
    "## Primary Student Category\n",
    "### datasets are arranged as comp, elect, drop_out, boys, girls, water\n",
    "### genders in target are arranged as boys, girls, both_gender"
   ]
  },
  {
   "cell_type": "markdown",
   "metadata": {},
   "source": [
    "## Boys "
   ]
  },
  {
   "cell_type": "code",
   "execution_count": 365,
   "metadata": {},
   "outputs": [],
   "source": [
    "boy_pry_df = GenerateTrain(pry_useful,[0,1,2,3,5])\n",
    "boy_eval_pry_df = GenerateTrain(eval_pry_useful,[0,1,2,3,5]) \n",
    "boy_primary_target = CreateTargetFeature(enrol_primary,0)    #0 for boys\n",
    "eval_boy_primary_target = CreateTargetFeature(test_enrol_primary,0) "
   ]
  },
  {
   "cell_type": "code",
   "execution_count": 366,
   "metadata": {},
   "outputs": [],
   "source": [
    "DropNa(boy_pry_df,boy_primary_target)          # Run cell only once\n",
    "DropNa(boy_eval_pry_df,eval_boy_primary_target)"
   ]
  },
  {
   "cell_type": "code",
   "execution_count": 367,
   "metadata": {},
   "outputs": [
    {
     "data": {
      "text/plain": [
       "((36,), (36, 15), (37, 15), (37,))"
      ]
     },
     "execution_count": 367,
     "metadata": {},
     "output_type": "execute_result"
    }
   ],
   "source": [
    "boy_primary_target.shape, boy_pry_df.shape, boy_eval_pry_df.shape, eval_boy_primary_target.shape"
   ]
  },
  {
   "cell_type": "code",
   "execution_count": 368,
   "metadata": {},
   "outputs": [
    {
     "name": "stdout",
     "output_type": "stream",
     "text": [
      "1 iter\n",
      "Best Feature for the 1 iteration is drop_out_mean_Primary_Boys, while, the worst feature is boys_mean_Primary_with_U_Primary_Sec_HrSec\n",
      "2 iter\n",
      "Best Feature for the 2 iteration is drop_out_mean_Primary_Boys, while, the worst feature is boys_mean_Primary_with_U_Primary_Sec_HrSec\n",
      "3 iter\n",
      "Best Feature for the 3 iteration is drop_out_mean_Primary_Boys, while, the worst feature is elect_mean_Primary_Only\n",
      "4 iter\n",
      "Best Feature for the 4 iteration is water_mean_Primary_with_U_Primary, while, the worst feature is drop_out_mean_Primary_Total\n",
      "5 iter\n",
      "Best Feature for the 5 iteration is drop_out_mean_Primary_Boys, while, the worst feature is elect_mean_Primary_Only\n",
      "6 iter\n",
      "Best Feature for the 6 iteration is water_mean_Primary_with_U_Primary, while, the worst feature is drop_out_mean_Primary_Total\n",
      "7 iter\n",
      "Best Feature for the 7 iteration is water_mean_Primary_Only, while, the worst feature is elect_mean_Primary_with_U_Primary_Sec_HrSec\n",
      "8 iter\n",
      "Best Feature for the 8 iteration is drop_out_mean_Primary_Boys, while, the worst feature is drop_out_mean_Primary_Total\n",
      "9 iter\n",
      "Best Feature for the 9 iteration is drop_out_mean_Primary_Boys, while, the worst feature is drop_out_mean_Primary_Total\n"
     ]
    }
   ],
   "source": [
    "boy_pry_preds = Model(boy_pry_df, boy_primary_target, boy_eval_pry_df)"
   ]
  },
  {
   "cell_type": "code",
   "execution_count": 369,
   "metadata": {},
   "outputs": [
    {
     "data": {
      "text/plain": [
       "{'MAE': 7.437372288059544,\n",
       " 'MSE': 97.09556577883353,\n",
       " 'RMSE': 2.7271546138896388,\n",
       " 'R2': 0.483747636518299}"
      ]
     },
     "execution_count": 369,
     "metadata": {},
     "output_type": "execute_result"
    }
   ],
   "source": [
    "ModelEvaluator(eval_boy_primary_target, boy_pry_preds)"
   ]
  },
  {
   "cell_type": "code",
   "execution_count": 370,
   "metadata": {},
   "outputs": [],
   "source": [
    "metric_list_xgb.append(['Primary Student Boys',ModelEvaluator(eval_boy_primary_target, boy_pry_preds)])   # run only once"
   ]
  },
  {
   "cell_type": "markdown",
   "metadata": {},
   "source": [
    "## Girls"
   ]
  },
  {
   "cell_type": "code",
   "execution_count": 371,
   "metadata": {},
   "outputs": [],
   "source": [
    "girl_pry_df = GenerateTrain(pry_useful,[0,1,2,4,5])\n",
    "girl_eval_pry_df = GenerateTrain(eval_pry_useful,[0,1,2,4,5]) \n",
    "girl_primary_target = CreateTargetFeature(enrol_primary,1)    #1 for girls\n",
    "eval_girl_primary_target = CreateTargetFeature(test_enrol_primary, 1)"
   ]
  },
  {
   "cell_type": "code",
   "execution_count": 372,
   "metadata": {},
   "outputs": [],
   "source": [
    "DropNa(girl_pry_df, girl_primary_target)   # Run  only once\n",
    "DropNa(girl_eval_pry_df, eval_girl_primary_target)"
   ]
  },
  {
   "cell_type": "code",
   "execution_count": 373,
   "metadata": {},
   "outputs": [
    {
     "data": {
      "text/plain": [
       "((36,), (36, 15), (37, 15), (37,))"
      ]
     },
     "execution_count": 373,
     "metadata": {},
     "output_type": "execute_result"
    }
   ],
   "source": [
    "girl_primary_target.shape, girl_pry_df.shape, girl_eval_pry_df.shape, eval_girl_primary_target.shape"
   ]
  },
  {
   "cell_type": "code",
   "execution_count": 374,
   "metadata": {},
   "outputs": [
    {
     "name": "stdout",
     "output_type": "stream",
     "text": [
      "1 iter\n",
      "Best Feature for the 1 iteration is drop_out_mean_Primary_Boys, while, the worst feature is elect_mean_Primary_with_U_Primary_Sec_HrSec\n",
      "2 iter\n",
      "Best Feature for the 2 iteration is drop_out_mean_Primary_Boys, while, the worst feature is elect_mean_Primary_with_U_Primary\n",
      "3 iter\n",
      "Best Feature for the 3 iteration is drop_out_mean_Primary_Boys, while, the worst feature is girls_mean_Primary_with_U_Primary_Sec_HrSec\n",
      "4 iter\n",
      "Best Feature for the 4 iteration is water_mean_Primary_with_U_Primary, while, the worst feature is girls_mean_Primary_Only\n",
      "5 iter\n",
      "Best Feature for the 5 iteration is elect_mean_Primary_with_U_Primary, while, the worst feature is drop_out_mean_Primary_Total\n",
      "6 iter\n",
      "Best Feature for the 6 iteration is water_mean_Primary_with_U_Primary, while, the worst feature is drop_out_mean_Primary_Total\n",
      "7 iter\n",
      "Best Feature for the 7 iteration is water_mean_Primary_Only, while, the worst feature is water_mean_Primary_with_U_Primary\n",
      "8 iter\n",
      "Best Feature for the 8 iteration is water_mean_Primary_Only, while, the worst feature is elect_mean_Primary_with_U_Primary\n",
      "9 iter\n",
      "Best Feature for the 9 iteration is drop_out_mean_Primary_Boys, while, the worst feature is drop_out_mean_Primary_Total\n"
     ]
    }
   ],
   "source": [
    "girl_pry_preds = Model(girl_pry_df, girl_primary_target, girl_eval_pry_df)"
   ]
  },
  {
   "cell_type": "code",
   "execution_count": 375,
   "metadata": {},
   "outputs": [
    {
     "data": {
      "text/plain": [
       "{'MAE': 7.786493084881758,\n",
       " 'MSE': 105.98876504889071,\n",
       " 'RMSE': 2.7904288353014413,\n",
       " 'R2': 0.4533712447806605}"
      ]
     },
     "execution_count": 375,
     "metadata": {},
     "output_type": "execute_result"
    }
   ],
   "source": [
    "ModelEvaluator(eval_girl_primary_target, girl_pry_preds)"
   ]
  },
  {
   "cell_type": "code",
   "execution_count": 376,
   "metadata": {},
   "outputs": [],
   "source": [
    "metric_list_xgb.append(['Primary Student Girls', ModelEvaluator(eval_girl_primary_target, girl_pry_preds) ])   # run only once"
   ]
  },
  {
   "cell_type": "markdown",
   "metadata": {},
   "source": [
    "##  Total"
   ]
  },
  {
   "cell_type": "code",
   "execution_count": 377,
   "metadata": {},
   "outputs": [],
   "source": [
    "total_pry_df = GenerateTrain(pry_useful,[0,1,2,3,4,5])\n",
    "total_eval_pry_df = GenerateTrain(eval_pry_useful,[0,1,2,3,4,5]) \n",
    "total_primary_target = CreateTargetFeature(enrol_primary)    \n",
    "total_eval_primary_target = CreateTargetFeature(test_enrol_primary) "
   ]
  },
  {
   "cell_type": "code",
   "execution_count": 378,
   "metadata": {},
   "outputs": [],
   "source": [
    "DropNa(total_pry_df,total_primary_target)          # Run cell only once\n",
    "DropNa(total_eval_pry_df,total_eval_primary_target)"
   ]
  },
  {
   "cell_type": "code",
   "execution_count": 379,
   "metadata": {},
   "outputs": [
    {
     "data": {
      "text/plain": [
       "((36,), (36, 18), (37, 18), (37,))"
      ]
     },
     "execution_count": 379,
     "metadata": {},
     "output_type": "execute_result"
    }
   ],
   "source": [
    "total_primary_target.shape, total_pry_df.shape, total_eval_pry_df.shape, total_eval_primary_target.shape"
   ]
  },
  {
   "cell_type": "code",
   "execution_count": 380,
   "metadata": {},
   "outputs": [
    {
     "name": "stdout",
     "output_type": "stream",
     "text": [
      "1 iter\n",
      "Best Feature for the 1 iteration is drop_out_mean_Primary_Boys, while, the worst feature is water_mean_Primary_with_U_Primary\n",
      "2 iter\n",
      "Best Feature for the 2 iteration is drop_out_mean_Primary_Boys, while, the worst feature is water_mean_Primary_with_U_Primary\n",
      "3 iter\n",
      "Best Feature for the 3 iteration is drop_out_mean_Primary_Boys, while, the worst feature is water_mean_Primary_with_U_Primary\n",
      "4 iter\n",
      "Best Feature for the 4 iteration is water_mean_Primary_with_U_Primary, while, the worst feature is drop_out_mean_Primary_Total\n",
      "5 iter\n",
      "Best Feature for the 5 iteration is drop_out_mean_Primary_Boys, while, the worst feature is drop_out_mean_Primary_Girls\n",
      "6 iter\n",
      "Best Feature for the 6 iteration is water_mean_Primary_with_U_Primary, while, the worst feature is drop_out_mean_Primary_Total\n",
      "7 iter\n",
      "Best Feature for the 7 iteration is drop_out_mean_Primary_Boys, while, the worst feature is elect_mean_Primary_with_U_Primary\n",
      "8 iter\n",
      "Best Feature for the 8 iteration is water_mean_Primary_Only, while, the worst feature is boys_mean_Primary_with_U_Primary\n",
      "9 iter\n",
      "Best Feature for the 9 iteration is drop_out_mean_Primary_Boys, while, the worst feature is drop_out_mean_Primary_Total\n"
     ]
    }
   ],
   "source": [
    "total_pry_preds = Model(total_pry_df, total_primary_target, total_eval_pry_df)"
   ]
  },
  {
   "cell_type": "code",
   "execution_count": 381,
   "metadata": {},
   "outputs": [
    {
     "data": {
      "text/plain": [
       "{'MAE': 7.340211585792335,\n",
       " 'MSE': 100.1539007305671,\n",
       " 'RMSE': 2.7092824854179263,\n",
       " 'R2': 0.4669227540894446}"
      ]
     },
     "execution_count": 381,
     "metadata": {},
     "output_type": "execute_result"
    }
   ],
   "source": [
    "ModelEvaluator(total_eval_primary_target, total_pry_preds)"
   ]
  },
  {
   "cell_type": "code",
   "execution_count": 382,
   "metadata": {},
   "outputs": [],
   "source": [
    "metric_list_xgb.append(['Primary Student Total', ModelEvaluator(total_eval_primary_target, total_pry_preds) ])   # run only once"
   ]
  },
  {
   "cell_type": "markdown",
   "metadata": {},
   "source": [
    "## Upper Primary Student Category\n",
    "### datasets are arranged as comp, elect, drop_out, boys, girls, water\n",
    "### genders in target are arranged as boys, girls, both_gender"
   ]
  },
  {
   "cell_type": "markdown",
   "metadata": {},
   "source": [
    "## Boys"
   ]
  },
  {
   "cell_type": "code",
   "execution_count": 383,
   "metadata": {},
   "outputs": [],
   "source": [
    "boy_upp_df = GenerateTrain(upp_useful,[0,1,2,3,5,])\n",
    "boy_eval_upp_df = GenerateTrain(eval_upp_useful,[0,1,2,3,5]) \n",
    "boy_upp_target = CreateTargetFeature(enrol_upper_primary,0)    #0 for boys\n",
    "eval_boy_upp_target = CreateTargetFeature(test_enrol_upper_primary, 0)"
   ]
  },
  {
   "cell_type": "code",
   "execution_count": 384,
   "metadata": {},
   "outputs": [],
   "source": [
    "DropNa(boy_upp_df, boy_upp_target)   # Run  only once\n",
    "DropNa(boy_eval_upp_df, eval_boy_upp_target)"
   ]
  },
  {
   "cell_type": "code",
   "execution_count": 385,
   "metadata": {},
   "outputs": [
    {
     "data": {
      "text/plain": [
       "((36,), (36, 15), (37, 15), (37,))"
      ]
     },
     "execution_count": 385,
     "metadata": {},
     "output_type": "execute_result"
    }
   ],
   "source": [
    "boy_upp_target.shape, boy_upp_df.shape, boy_eval_upp_df.shape, eval_boy_upp_target.shape"
   ]
  },
  {
   "cell_type": "code",
   "execution_count": 386,
   "metadata": {},
   "outputs": [
    {
     "name": "stdout",
     "output_type": "stream",
     "text": [
      "1 iter\n",
      "Best Feature for the 1 iteration is elect_mean_U_Primary_Only, while, the worst feature is water_mean_U_Primary_Only\n",
      "2 iter\n",
      "Best Feature for the 2 iteration is elect_mean_U_Primary_With_Sec_HrSec, while, the worst feature is drop_out_mean_Upper Primary_Total\n",
      "3 iter\n",
      "Best Feature for the 3 iteration is water_mean_Primary_with_U_Primary_Sec, while, the worst feature is water_mean_U_Primary_Only\n",
      "4 iter\n",
      "Best Feature for the 4 iteration is water_mean_Primary_with_U_Primary_Sec, while, the worst feature is drop_out_mean_Upper Primary_Girls\n",
      "5 iter\n",
      "Best Feature for the 5 iteration is elect_mean_U_Primary_With_Sec_HrSec, while, the worst feature is water_mean_U_Primary_With_Sec_HrSec\n",
      "6 iter\n",
      "Best Feature for the 6 iteration is water_mean_Primary_with_U_Primary_Sec, while, the worst feature is drop_out_mean_Upper Primary_Total\n",
      "7 iter\n",
      "Best Feature for the 7 iteration is elect_mean_Primary_with_U_Primary_Sec, while, the worst feature is drop_out_mean_Upper Primary_Total\n",
      "8 iter\n",
      "Best Feature for the 8 iteration is water_mean_Primary_with_U_Primary_Sec, while, the worst feature is boys_mean_U_Primary_With_Sec_HrSec\n",
      "9 iter\n",
      "Best Feature for the 9 iteration is drop_out_mean_Upper Primary_Boys, while, the worst feature is water_mean_U_Primary_With_Sec_HrSec\n"
     ]
    }
   ],
   "source": [
    "boy_upp_preds = Model(boy_upp_df, boy_upp_target, boy_eval_upp_df)"
   ]
  },
  {
   "cell_type": "code",
   "execution_count": 387,
   "metadata": {},
   "outputs": [
    {
     "data": {
      "text/plain": [
       "{'MAE': 9.95129061312289,\n",
       " 'MSE': 212.7873330143672,\n",
       " 'RMSE': 3.1545666284171094,\n",
       " 'R2': 0.286661185280327}"
      ]
     },
     "execution_count": 387,
     "metadata": {},
     "output_type": "execute_result"
    }
   ],
   "source": [
    "ModelEvaluator(eval_boy_upp_target, boy_upp_preds)"
   ]
  },
  {
   "cell_type": "code",
   "execution_count": 388,
   "metadata": {},
   "outputs": [],
   "source": [
    "metric_list_xgb.append(['Upper Primary Boys',ModelEvaluator(eval_boy_upp_target, boy_upp_preds)])   # run only once "
   ]
  },
  {
   "cell_type": "markdown",
   "metadata": {},
   "source": [
    "## Girls"
   ]
  },
  {
   "cell_type": "code",
   "execution_count": 389,
   "metadata": {},
   "outputs": [],
   "source": [
    "girl_upp_df = GenerateTrain(upp_useful,[0,1,2,4,5])\n",
    "girl_eval_upp_df = GenerateTrain(eval_upp_useful,[0,1,2,4,5]) \n",
    "girl_upp_target = CreateTargetFeature(enrol_upper_primary,1)    #1 for girls\n",
    "girl_eval_upp_target = CreateTargetFeature(test_enrol_upper_primary, 1)"
   ]
  },
  {
   "cell_type": "code",
   "execution_count": 390,
   "metadata": {},
   "outputs": [],
   "source": [
    "DropNa(girl_upp_df, girl_upp_target)   # Run  only once\n",
    "DropNa(girl_eval_upp_df, girl_eval_upp_target)"
   ]
  },
  {
   "cell_type": "code",
   "execution_count": 391,
   "metadata": {},
   "outputs": [
    {
     "data": {
      "text/plain": [
       "((36,), (36, 15), (37, 15), (37,))"
      ]
     },
     "execution_count": 391,
     "metadata": {},
     "output_type": "execute_result"
    }
   ],
   "source": [
    "girl_upp_target.shape, girl_upp_df.shape, girl_eval_upp_df.shape, girl_eval_upp_target.shape"
   ]
  },
  {
   "cell_type": "code",
   "execution_count": 392,
   "metadata": {},
   "outputs": [
    {
     "name": "stdout",
     "output_type": "stream",
     "text": [
      "1 iter\n",
      "Best Feature for the 1 iteration is drop_out_mean_Upper Primary_Total, while, the worst feature is girls_mean_Primary_with_U_Primary_Sec\n",
      "2 iter\n",
      "Best Feature for the 2 iteration is elect_mean_U_Primary_With_Sec_HrSec, while, the worst feature is drop_out_mean_Upper Primary_Total\n",
      "3 iter\n",
      "Best Feature for the 3 iteration is water_mean_Primary_with_U_Primary_Sec, while, the worst feature is water_mean_U_Primary_With_Sec_HrSec\n",
      "4 iter\n",
      "Best Feature for the 4 iteration is drop_out_mean_Upper Primary_Boys, while, the worst feature is water_mean_U_Primary_Only\n",
      "5 iter\n",
      "Best Feature for the 5 iteration is girls_mean_U_Primary_Only, while, the worst feature is water_mean_U_Primary_Only\n",
      "6 iter\n",
      "Best Feature for the 6 iteration is water_mean_Primary_with_U_Primary_Sec, while, the worst feature is drop_out_mean_Upper Primary_Total\n",
      "7 iter\n",
      "Best Feature for the 7 iteration is water_mean_Primary_with_U_Primary_Sec, while, the worst feature is water_mean_U_Primary_With_Sec_HrSec\n",
      "8 iter\n",
      "Best Feature for the 8 iteration is drop_out_mean_Upper Primary_Boys, while, the worst feature is water_mean_U_Primary_Only\n",
      "9 iter\n",
      "Best Feature for the 9 iteration is girls_mean_U_Primary_Only, while, the worst feature is water_mean_U_Primary_Only\n"
     ]
    }
   ],
   "source": [
    "girl_upp_preds = Model(girl_upp_df, girl_upp_target, girl_eval_upp_df)"
   ]
  },
  {
   "cell_type": "code",
   "execution_count": 393,
   "metadata": {},
   "outputs": [
    {
     "data": {
      "text/plain": [
       "{'MAE': 11.312618738122888,\n",
       " 'MSE': 268.7220822233592,\n",
       " 'RMSE': 3.3634236631924455,\n",
       " 'R2': 0.32589549809277485}"
      ]
     },
     "execution_count": 393,
     "metadata": {},
     "output_type": "execute_result"
    }
   ],
   "source": [
    "ModelEvaluator(girl_eval_upp_target, girl_upp_preds)"
   ]
  },
  {
   "cell_type": "code",
   "execution_count": 394,
   "metadata": {},
   "outputs": [],
   "source": [
    "metric_list_xgb.append(['Upper Primary Girls', ModelEvaluator(girl_eval_upp_target, girl_upp_preds)])   #run only once"
   ]
  },
  {
   "cell_type": "markdown",
   "metadata": {},
   "source": [
    "## Total"
   ]
  },
  {
   "cell_type": "code",
   "execution_count": 395,
   "metadata": {},
   "outputs": [],
   "source": [
    "total_upp_df = GenerateTrain(upp_useful,[0,1,2,3,4,5])\n",
    "total_eval_upp_df = GenerateTrain(eval_upp_useful,[0,1,2,3,4,5]) \n",
    "total_upper_primary_target = CreateTargetFeature(enrol_upper_primary)   \n",
    "total_eval_upper_primary_target = CreateTargetFeature(test_enrol_upper_primary) "
   ]
  },
  {
   "cell_type": "code",
   "execution_count": 396,
   "metadata": {},
   "outputs": [],
   "source": [
    "DropNa(total_upp_df,total_upper_primary_target)          # Run cell only once\n",
    "DropNa(total_eval_upp_df,total_eval_upper_primary_target)"
   ]
  },
  {
   "cell_type": "code",
   "execution_count": 397,
   "metadata": {},
   "outputs": [
    {
     "data": {
      "text/plain": [
       "((36,), (36, 18), (37, 18), (37,))"
      ]
     },
     "execution_count": 397,
     "metadata": {},
     "output_type": "execute_result"
    }
   ],
   "source": [
    "total_upper_primary_target.shape, total_upp_df.shape, total_eval_upp_df.shape, total_eval_upper_primary_target.shape"
   ]
  },
  {
   "cell_type": "code",
   "execution_count": 398,
   "metadata": {},
   "outputs": [
    {
     "name": "stdout",
     "output_type": "stream",
     "text": [
      "1 iter\n",
      "Best Feature for the 1 iteration is elect_mean_U_Primary_With_Sec_HrSec, while, the worst feature is drop_out_mean_Upper Primary_Total\n",
      "2 iter\n",
      "Best Feature for the 2 iteration is elect_mean_U_Primary_With_Sec_HrSec, while, the worst feature is girls_mean_Primary_with_U_Primary_Sec\n",
      "3 iter\n",
      "Best Feature for the 3 iteration is water_mean_Primary_with_U_Primary_Sec, while, the worst feature is elect_mean_U_Primary_With_Sec_HrSec\n",
      "4 iter\n",
      "Best Feature for the 4 iteration is girls_mean_U_Primary_Only, while, the worst feature is girls_mean_Primary_with_U_Primary_Sec\n",
      "5 iter\n",
      "Best Feature for the 5 iteration is girls_mean_U_Primary_Only, while, the worst feature is girls_mean_Primary_with_U_Primary_Sec\n",
      "6 iter\n",
      "Best Feature for the 6 iteration is girls_mean_U_Primary_Only, while, the worst feature is girls_mean_Primary_with_U_Primary_Sec\n",
      "7 iter\n",
      "Best Feature for the 7 iteration is elect_mean_Primary_with_U_Primary_Sec, while, the worst feature is girls_mean_Primary_with_U_Primary_Sec\n",
      "8 iter\n",
      "Best Feature for the 8 iteration is water_mean_U_Primary_With_Sec_HrSec, while, the worst feature is water_mean_U_Primary_Only\n",
      "9 iter\n",
      "Best Feature for the 9 iteration is girls_mean_U_Primary_Only, while, the worst feature is water_mean_U_Primary_With_Sec_HrSec\n"
     ]
    }
   ],
   "source": [
    "total_upp_preds = Model(total_upp_df, total_upper_primary_target, total_eval_upp_df)"
   ]
  },
  {
   "cell_type": "code",
   "execution_count": 399,
   "metadata": {},
   "outputs": [
    {
     "data": {
      "text/plain": [
       "{'MAE': 10.723674761797932,\n",
       " 'MSE': 249.23749931407886,\n",
       " 'RMSE': 3.2747022401735904,\n",
       " 'R2': 0.2534493985130859}"
      ]
     },
     "execution_count": 399,
     "metadata": {},
     "output_type": "execute_result"
    }
   ],
   "source": [
    "ModelEvaluator(total_eval_upper_primary_target, total_upp_preds)"
   ]
  },
  {
   "cell_type": "code",
   "execution_count": 400,
   "metadata": {},
   "outputs": [],
   "source": [
    "metric_list_xgb.append(['Upper Primary Total', ModelEvaluator(total_eval_upper_primary_target, total_upp_preds)])   #run only once"
   ]
  },
  {
   "cell_type": "markdown",
   "metadata": {},
   "source": [
    "## Secondary Student Category\n",
    "### datasets are arranged as comp, elect, drop_out, boys, girls, water\n",
    "### genders in target are arranged as boys, girls, both_gender"
   ]
  },
  {
   "cell_type": "markdown",
   "metadata": {},
   "source": [
    "## Boys"
   ]
  },
  {
   "cell_type": "code",
   "execution_count": 401,
   "metadata": {},
   "outputs": [],
   "source": [
    "boy_sec_df = GenerateTrain(sec_useful,[0,1,2,3,5])\n",
    "boy_eval_sec_df = GenerateTrain(eval_sec_useful,[0,1,2,3,5]) \n",
    "boy_sec_target = CreateTargetFeature(enrol_secondary,0)    #0 for boys\n",
    "boy_eval_sec_target = CreateTargetFeature(test_enrol_secondary, 0)"
   ]
  },
  {
   "cell_type": "code",
   "execution_count": 402,
   "metadata": {},
   "outputs": [],
   "source": [
    "DropNa(boy_sec_df, boy_sec_target)   # Run  only once\n",
    "DropNa(boy_eval_sec_df, boy_eval_sec_target)"
   ]
  },
  {
   "cell_type": "code",
   "execution_count": 403,
   "metadata": {},
   "outputs": [
    {
     "data": {
      "text/plain": [
       "((36,), (36, 15), (37, 15), (37,))"
      ]
     },
     "execution_count": 403,
     "metadata": {},
     "output_type": "execute_result"
    }
   ],
   "source": [
    "boy_sec_target.shape, boy_sec_df.shape, boy_eval_sec_df.shape, boy_eval_sec_target.shape"
   ]
  },
  {
   "cell_type": "code",
   "execution_count": 404,
   "metadata": {},
   "outputs": [
    {
     "name": "stdout",
     "output_type": "stream",
     "text": [
      "1 iter\n",
      "Best Feature for the 1 iteration is boys_mean_Sec_Only, while, the worst feature is boys_mean_U_Primary_With_Sec\n",
      "2 iter\n",
      "Best Feature for the 2 iteration is water_mean_Sec_Only, while, the worst feature is boys_mean_Sec_with_HrSec.\n",
      "3 iter\n",
      "Best Feature for the 3 iteration is water_mean_Sec_with_HrSec., while, the worst feature is drop_out_mean_Secondary _Total\n",
      "4 iter\n",
      "Best Feature for the 4 iteration is water_mean_Sec_Only, while, the worst feature is water_mean_U_Primary_With_Sec\n",
      "5 iter\n",
      "Best Feature for the 5 iteration is elect_mean_Sec_Only, while, the worst feature is water_mean_Sec_with_HrSec.\n",
      "6 iter\n",
      "Best Feature for the 6 iteration is water_mean_Sec_Only, while, the worst feature is boys_mean_U_Primary_With_Sec\n",
      "7 iter\n",
      "Best Feature for the 7 iteration is water_mean_Sec_Only, while, the worst feature is boys_mean_Sec_with_HrSec.\n",
      "8 iter\n",
      "Best Feature for the 8 iteration is water_mean_Sec_Only, while, the worst feature is drop_out_mean_Secondary _Total\n",
      "9 iter\n",
      "Best Feature for the 9 iteration is drop_out_mean_Secondary _Total, while, the worst feature is boys_mean_Sec_with_HrSec.\n"
     ]
    }
   ],
   "source": [
    "boy_sec_preds = Model(boy_sec_df, boy_sec_target, boy_eval_sec_df)"
   ]
  },
  {
   "cell_type": "code",
   "execution_count": 405,
   "metadata": {},
   "outputs": [
    {
     "data": {
      "text/plain": [
       "{'MAE': 9.181016697239228,\n",
       " 'MSE': 143.18881849814096,\n",
       " 'RMSE': 3.0300192569089766,\n",
       " 'R2': 0.1815596288455662}"
      ]
     },
     "execution_count": 405,
     "metadata": {},
     "output_type": "execute_result"
    }
   ],
   "source": [
    "ModelEvaluator(boy_eval_sec_target, boy_sec_preds)"
   ]
  },
  {
   "cell_type": "code",
   "execution_count": 406,
   "metadata": {},
   "outputs": [],
   "source": [
    "metric_list_xgb.append(['Secondary Student Boys',ModelEvaluator(boy_eval_sec_target, boy_sec_preds)])   # run only once"
   ]
  },
  {
   "cell_type": "markdown",
   "metadata": {},
   "source": [
    "## Girls"
   ]
  },
  {
   "cell_type": "code",
   "execution_count": 407,
   "metadata": {},
   "outputs": [],
   "source": [
    "girl_sec_df = GenerateTrain(sec_useful,[0,1,2,4,5])\n",
    "girl_eval_sec_df = GenerateTrain(eval_sec_useful,[0,1,2,4,5]) \n",
    "girl_sec_target = CreateTargetFeature(enrol_secondary,1)    #1 for girls\n",
    "girl_eval_sec_target = CreateTargetFeature(test_enrol_secondary,1)"
   ]
  },
  {
   "cell_type": "code",
   "execution_count": 408,
   "metadata": {},
   "outputs": [],
   "source": [
    "DropNa(girl_sec_df, girl_sec_target)   # Run  only once\n",
    "DropNa(girl_eval_sec_df, girl_eval_sec_target)"
   ]
  },
  {
   "cell_type": "code",
   "execution_count": 409,
   "metadata": {},
   "outputs": [
    {
     "data": {
      "text/plain": [
       "((36,), (36, 15), (37, 15), (37,))"
      ]
     },
     "execution_count": 409,
     "metadata": {},
     "output_type": "execute_result"
    }
   ],
   "source": [
    "girl_sec_target.shape, girl_sec_df.shape, girl_eval_sec_df.shape, girl_eval_sec_target.shape"
   ]
  },
  {
   "cell_type": "code",
   "execution_count": 410,
   "metadata": {},
   "outputs": [
    {
     "name": "stdout",
     "output_type": "stream",
     "text": [
      "1 iter\n",
      "Best Feature for the 1 iteration is water_mean_Sec_Only, while, the worst feature is drop_out_mean_Secondary _Total\n",
      "2 iter\n",
      "Best Feature for the 2 iteration is water_mean_Sec_Only, while, the worst feature is drop_out_mean_Secondary _Total\n",
      "3 iter\n",
      "Best Feature for the 3 iteration is water_mean_Sec_Only, while, the worst feature is drop_out_mean_Secondary _Total\n",
      "4 iter\n",
      "Best Feature for the 4 iteration is water_mean_Sec_Only, while, the worst feature is drop_out_mean_Secondary _Total\n",
      "5 iter\n",
      "Best Feature for the 5 iteration is water_mean_Sec_Only, while, the worst feature is drop_out_mean_Secondary _Total\n",
      "6 iter\n",
      "Best Feature for the 6 iteration is water_mean_Sec_Only, while, the worst feature is water_mean_Sec_with_HrSec.\n",
      "7 iter\n",
      "Best Feature for the 7 iteration is water_mean_Sec_Only, while, the worst feature is drop_out_mean_Secondary _Total\n",
      "8 iter\n",
      "Best Feature for the 8 iteration is water_mean_Sec_Only, while, the worst feature is drop_out_mean_Secondary _Total\n",
      "9 iter\n",
      "Best Feature for the 9 iteration is water_mean_Sec_Only, while, the worst feature is drop_out_mean_Secondary _Total\n"
     ]
    }
   ],
   "source": [
    "girl_sec_preds = Model(girl_sec_df, girl_sec_target, girl_eval_sec_df)"
   ]
  },
  {
   "cell_type": "code",
   "execution_count": 411,
   "metadata": {},
   "outputs": [
    {
     "data": {
      "text/plain": [
       "{'MAE': 8.871742438239021,\n",
       " 'MSE': 141.0345867627066,\n",
       " 'RMSE': 2.9785470347535257,\n",
       " 'R2': 0.2805041924337547}"
      ]
     },
     "execution_count": 411,
     "metadata": {},
     "output_type": "execute_result"
    }
   ],
   "source": [
    "ModelEvaluator(girl_eval_sec_target, girl_sec_preds)"
   ]
  },
  {
   "cell_type": "code",
   "execution_count": 412,
   "metadata": {},
   "outputs": [],
   "source": [
    "metric_list_xgb.append(['Secondary Student Girls', ModelEvaluator(girl_eval_sec_target, girl_sec_preds)])   #run only once"
   ]
  },
  {
   "cell_type": "markdown",
   "metadata": {},
   "source": [
    "## Total"
   ]
  },
  {
   "cell_type": "code",
   "execution_count": 413,
   "metadata": {},
   "outputs": [],
   "source": [
    "total_sec_df = GenerateTrain(sec_useful,[0,1,2,3,4,5])\n",
    "total_eval_sec_df = GenerateTrain(eval_sec_useful,[0,1,2,3,4,5]) \n",
    "total_secondary_target = CreateTargetFeature(enrol_secondary)    #0 for boys\n",
    "total_eval_secondary_target = CreateTargetFeature(test_enrol_secondary) "
   ]
  },
  {
   "cell_type": "code",
   "execution_count": 414,
   "metadata": {},
   "outputs": [],
   "source": [
    "DropNa(total_sec_df,total_secondary_target)          # Run cell only once\n",
    "DropNa(total_eval_sec_df,total_eval_secondary_target)"
   ]
  },
  {
   "cell_type": "code",
   "execution_count": 415,
   "metadata": {},
   "outputs": [
    {
     "data": {
      "text/plain": [
       "((36,), (36, 18), (37, 18), (37,))"
      ]
     },
     "execution_count": 415,
     "metadata": {},
     "output_type": "execute_result"
    }
   ],
   "source": [
    "total_secondary_target.shape, total_sec_df.shape, total_eval_sec_df.shape, total_eval_secondary_target.shape"
   ]
  },
  {
   "cell_type": "code",
   "execution_count": 416,
   "metadata": {},
   "outputs": [
    {
     "name": "stdout",
     "output_type": "stream",
     "text": [
      "1 iter\n",
      "Best Feature for the 1 iteration is water_mean_Sec_Only, while, the worst feature is boys_mean_U_Primary_With_Sec\n",
      "2 iter\n",
      "Best Feature for the 2 iteration is girls_mean_Sec_with_HrSec., while, the worst feature is elect_mean_Sec_Only\n",
      "3 iter\n",
      "Best Feature for the 3 iteration is water_mean_Sec_Only, while, the worst feature is drop_out_mean_Secondary _Total\n",
      "4 iter\n",
      "Best Feature for the 4 iteration is water_mean_Sec_Only, while, the worst feature is drop_out_mean_Secondary _Total\n",
      "5 iter\n",
      "Best Feature for the 5 iteration is elect_mean_Sec_Only, while, the worst feature is water_mean_Sec_Only\n",
      "6 iter\n",
      "Best Feature for the 6 iteration is water_mean_Sec_Only, while, the worst feature is drop_out_mean_Secondary _Total\n",
      "7 iter\n",
      "Best Feature for the 7 iteration is girls_mean_Sec_Only, while, the worst feature is elect_mean_U_Primary_With_Sec\n",
      "8 iter\n",
      "Best Feature for the 8 iteration is girls_mean_Sec_Only, while, the worst feature is girls_mean_U_Primary_With_Sec\n",
      "9 iter\n",
      "Best Feature for the 9 iteration is water_mean_Sec_Only, while, the worst feature is girls_mean_U_Primary_With_Sec\n"
     ]
    }
   ],
   "source": [
    "total_sec_preds = Model(total_sec_df, total_secondary_target, total_eval_sec_df)"
   ]
  },
  {
   "cell_type": "code",
   "execution_count": 417,
   "metadata": {},
   "outputs": [
    {
     "data": {
      "text/plain": [
       "{'MAE': 8.65991271972656,\n",
       " 'MSE': 116.84806055038236,\n",
       " 'RMSE': 2.942772964352935,\n",
       " 'R2': 0.3281031740249416}"
      ]
     },
     "execution_count": 417,
     "metadata": {},
     "output_type": "execute_result"
    }
   ],
   "source": [
    "ModelEvaluator(total_eval_secondary_target, total_sec_preds)"
   ]
  },
  {
   "cell_type": "code",
   "execution_count": 418,
   "metadata": {},
   "outputs": [],
   "source": [
    "metric_list_xgb.append(['Secondary Student Total',ModelEvaluator(total_eval_secondary_target, total_sec_preds)])   #run only once"
   ]
  },
  {
   "cell_type": "markdown",
   "metadata": {},
   "source": [
    "## Higher Secondary Student Category\n",
    "### datasets are arranged as comp, elect, drop_out, boys, girls, water\n",
    "### genders in target are arranged as boys, girls, both_gender"
   ]
  },
  {
   "cell_type": "markdown",
   "metadata": {},
   "source": [
    "## Boys"
   ]
  },
  {
   "cell_type": "code",
   "execution_count": 419,
   "metadata": {},
   "outputs": [],
   "source": [
    "boy_high_df = GenerateTrain(high_useful,[0,1,2,3,5])\n",
    "boy_eval_high_df = GenerateTrain(eval_high_useful,[0,1,2,3,5]) \n",
    "boy_high_target = CreateTargetFeature(enrol_higher,0)    #0 for boys\n",
    "boy_eval_high_target = CreateTargetFeature(test_enrol_higher, 0)"
   ]
  },
  {
   "cell_type": "code",
   "execution_count": 420,
   "metadata": {},
   "outputs": [],
   "source": [
    "DropNa(boy_high_df, boy_high_target)   # Run  only once\n",
    "DropNa(boy_eval_high_df, boy_eval_high_target)"
   ]
  },
  {
   "cell_type": "code",
   "execution_count": 421,
   "metadata": {},
   "outputs": [
    {
     "data": {
      "text/plain": [
       "((36,), (36, 11), (37, 11), (37,))"
      ]
     },
     "execution_count": 421,
     "metadata": {},
     "output_type": "execute_result"
    }
   ],
   "source": [
    "boy_high_target.shape, boy_high_df.shape, boy_eval_high_df.shape, boy_eval_high_target.shape"
   ]
  },
  {
   "cell_type": "code",
   "execution_count": 422,
   "metadata": {},
   "outputs": [
    {
     "name": "stdout",
     "output_type": "stream",
     "text": [
      "1 iter\n",
      "Best Feature for the 1 iteration is elect_mean_All Schools, while, the worst feature is water_mean_HrSec_Only\n",
      "2 iter\n",
      "Best Feature for the 2 iteration is drop_out_mean_HrSecondary_Total, while, the worst feature is drop_out_mean_HrSecondary_Boys\n",
      "3 iter\n",
      "Best Feature for the 3 iteration is elect_mean_All Schools, while, the worst feature is water_mean_HrSec_Only\n",
      "4 iter\n",
      "Best Feature for the 4 iteration is elect_mean_All Schools, while, the worst feature is drop_out_mean_HrSecondary_Total\n",
      "5 iter\n",
      "Best Feature for the 5 iteration is elect_mean_All Schools, while, the worst feature is drop_out_mean_HrSecondary_Total\n",
      "6 iter\n",
      "Best Feature for the 6 iteration is elect_mean_All Schools, while, the worst feature is elect_mean_HrSec_Only\n",
      "7 iter\n",
      "Best Feature for the 7 iteration is drop_out_mean_HrSecondary_Total, while, the worst feature is water_mean_HrSec_Only\n",
      "8 iter\n",
      "Best Feature for the 8 iteration is elect_mean_All Schools, while, the worst feature is water_mean_HrSec_Only\n",
      "9 iter\n",
      "Best Feature for the 9 iteration is drop_out_mean_HrSecondary_Total, while, the worst feature is water_mean_HrSec_Only\n"
     ]
    }
   ],
   "source": [
    "boy_high_preds = Model(boy_high_df, boy_high_target, boy_eval_high_df)"
   ]
  },
  {
   "cell_type": "code",
   "execution_count": 423,
   "metadata": {},
   "outputs": [
    {
     "data": {
      "text/plain": [
       "{'MAE': 14.546281208347628,\n",
       " 'MSE': 307.36849918492277,\n",
       " 'RMSE': 3.8139587318621615,\n",
       " 'R2': -0.11595582441018504}"
      ]
     },
     "execution_count": 423,
     "metadata": {},
     "output_type": "execute_result"
    }
   ],
   "source": [
    "ModelEvaluator(boy_eval_high_target, boy_high_preds)"
   ]
  },
  {
   "cell_type": "code",
   "execution_count": 424,
   "metadata": {},
   "outputs": [],
   "source": [
    "metric_list_xgb.append(['Higher Secondary Student Boys', ModelEvaluator(boy_eval_high_target, boy_high_preds)])  # run only once"
   ]
  },
  {
   "cell_type": "markdown",
   "metadata": {},
   "source": [
    "## Girls"
   ]
  },
  {
   "cell_type": "code",
   "execution_count": 425,
   "metadata": {},
   "outputs": [],
   "source": [
    "girl_high_df = GenerateTrain(high_useful,[0,1,2,4,5])\n",
    "girl_eval_high_df = GenerateTrain(eval_high_useful,[0,1,2,4,5]) \n",
    "girl_high_target = CreateTargetFeature(enrol_higher,1)    #1 for girls\n",
    "girl_eval_high_target = CreateTargetFeature(test_enrol_higher,1)"
   ]
  },
  {
   "cell_type": "code",
   "execution_count": 426,
   "metadata": {},
   "outputs": [],
   "source": [
    "DropNa(girl_high_df, girl_high_target)   # Run  only once\n",
    "DropNa(girl_eval_high_df, girl_eval_high_target)"
   ]
  },
  {
   "cell_type": "code",
   "execution_count": 427,
   "metadata": {},
   "outputs": [
    {
     "data": {
      "text/plain": [
       "((36,), (36, 11), (37, 11), (37,))"
      ]
     },
     "execution_count": 427,
     "metadata": {},
     "output_type": "execute_result"
    }
   ],
   "source": [
    "girl_high_target.shape, girl_high_df.shape, girl_eval_high_df.shape, girl_eval_high_target.shape"
   ]
  },
  {
   "cell_type": "code",
   "execution_count": 428,
   "metadata": {},
   "outputs": [
    {
     "name": "stdout",
     "output_type": "stream",
     "text": [
      "1 iter\n",
      "Best Feature for the 1 iteration is elect_mean_All Schools, while, the worst feature is comp_mean_HrSec_Only\n",
      "2 iter\n",
      "Best Feature for the 2 iteration is elect_mean_All Schools, while, the worst feature is water_mean_HrSec_Only\n",
      "3 iter\n",
      "Best Feature for the 3 iteration is elect_mean_All Schools, while, the worst feature is elect_mean_HrSec_Only\n",
      "4 iter\n",
      "Best Feature for the 4 iteration is comp_mean_All Schools, while, the worst feature is water_mean_HrSec_Only\n",
      "5 iter\n",
      "Best Feature for the 5 iteration is drop_out_mean_HrSecondary_Total, while, the worst feature is water_mean_HrSec_Only\n",
      "6 iter\n",
      "Best Feature for the 6 iteration is elect_mean_All Schools, while, the worst feature is elect_mean_HrSec_Only\n",
      "7 iter\n",
      "Best Feature for the 7 iteration is drop_out_mean_HrSecondary_Total, while, the worst feature is water_mean_HrSec_Only\n",
      "8 iter\n",
      "Best Feature for the 8 iteration is elect_mean_All Schools, while, the worst feature is water_mean_HrSec_Only\n",
      "9 iter\n",
      "Best Feature for the 9 iteration is drop_out_mean_HrSecondary_Total, while, the worst feature is water_mean_HrSec_Only\n"
     ]
    }
   ],
   "source": [
    "girl_high_preds = Model(girl_high_df, girl_high_target, girl_eval_high_df)"
   ]
  },
  {
   "cell_type": "code",
   "execution_count": 429,
   "metadata": {},
   "outputs": [
    {
     "data": {
      "text/plain": [
       "{'MAE': 13.70607231964936,\n",
       " 'MSE': 337.0281159103482,\n",
       " 'RMSE': 3.7021712979884334,\n",
       " 'R2': 0.016374778249037436}"
      ]
     },
     "execution_count": 429,
     "metadata": {},
     "output_type": "execute_result"
    }
   ],
   "source": [
    "ModelEvaluator(girl_eval_high_target, girl_high_preds)"
   ]
  },
  {
   "cell_type": "code",
   "execution_count": 430,
   "metadata": {},
   "outputs": [],
   "source": [
    "metric_list_xgb.append(['Higher Secondary Student Girls', ModelEvaluator(girl_eval_high_target, girl_high_preds)])  # run only once"
   ]
  },
  {
   "cell_type": "markdown",
   "metadata": {},
   "source": [
    "## Total"
   ]
  },
  {
   "cell_type": "code",
   "execution_count": 431,
   "metadata": {},
   "outputs": [],
   "source": [
    "total_high_df = GenerateTrain(high_useful,[0,1,2,3,4,5])\n",
    "total_eval_high_df = GenerateTrain(eval_high_useful,[0,1,2,3,4,5]) \n",
    "total_higher_target = CreateTargetFeature(enrol_higher)    \n",
    "total_eval_higher_target = CreateTargetFeature(test_enrol_higher) "
   ]
  },
  {
   "cell_type": "code",
   "execution_count": 432,
   "metadata": {},
   "outputs": [],
   "source": [
    "DropNa(total_high_df,total_higher_target)          # Run cell only once\n",
    "DropNa(total_eval_high_df,total_eval_higher_target)"
   ]
  },
  {
   "cell_type": "code",
   "execution_count": 433,
   "metadata": {},
   "outputs": [
    {
     "data": {
      "text/plain": [
       "((36,), (36, 13), (37, 13), (37,))"
      ]
     },
     "execution_count": 433,
     "metadata": {},
     "output_type": "execute_result"
    }
   ],
   "source": [
    "total_higher_target.shape, total_high_df.shape, total_eval_high_df.shape, total_eval_higher_target.shape"
   ]
  },
  {
   "cell_type": "code",
   "execution_count": 434,
   "metadata": {},
   "outputs": [
    {
     "name": "stdout",
     "output_type": "stream",
     "text": [
      "1 iter\n",
      "Best Feature for the 1 iteration is girls_mean_All Schools, while, the worst feature is water_mean_HrSec_Only\n",
      "2 iter\n",
      "Best Feature for the 2 iteration is elect_mean_All Schools, while, the worst feature is water_mean_HrSec_Only\n",
      "3 iter\n",
      "Best Feature for the 3 iteration is elect_mean_All Schools, while, the worst feature is girls_mean_HrSec_Only\n",
      "4 iter\n",
      "Best Feature for the 4 iteration is elect_mean_All Schools, while, the worst feature is girls_mean_HrSec_Only\n",
      "5 iter\n",
      "Best Feature for the 5 iteration is elect_mean_All Schools, while, the worst feature is drop_out_mean_HrSecondary_Total\n",
      "6 iter\n",
      "Best Feature for the 6 iteration is elect_mean_All Schools, while, the worst feature is drop_out_mean_HrSecondary_Total\n",
      "7 iter\n",
      "Best Feature for the 7 iteration is drop_out_mean_HrSecondary_Total, while, the worst feature is drop_out_mean_HrSecondary_Boys\n",
      "8 iter\n",
      "Best Feature for the 8 iteration is elect_mean_All Schools, while, the worst feature is girls_mean_HrSec_Only\n",
      "9 iter\n",
      "Best Feature for the 9 iteration is elect_mean_All Schools, while, the worst feature is drop_out_mean_HrSecondary_Total\n"
     ]
    }
   ],
   "source": [
    "total_high_preds = Model(total_high_df, total_higher_target, total_eval_high_df)"
   ]
  },
  {
   "cell_type": "code",
   "execution_count": 435,
   "metadata": {},
   "outputs": [
    {
     "data": {
      "text/plain": [
       "{'MAE': 13.269355637833877,\n",
       " 'MSE': 290.29680903446615,\n",
       " 'RMSE': 3.6427126757176276,\n",
       " 'R2': 0.03208249876769187}"
      ]
     },
     "execution_count": 435,
     "metadata": {},
     "output_type": "execute_result"
    }
   ],
   "source": [
    "ModelEvaluator(total_eval_higher_target, total_high_preds)"
   ]
  },
  {
   "cell_type": "code",
   "execution_count": 436,
   "metadata": {},
   "outputs": [],
   "source": [
    "metric_list_xgb.append(['Higher Secondary Student Total', ModelEvaluator(total_eval_higher_target, total_high_preds)])  # run only once"
   ]
  },
  {
   "cell_type": "code",
   "execution_count": 437,
   "metadata": {},
   "outputs": [
    {
     "data": {
      "text/plain": [
       "12"
      ]
     },
     "execution_count": 437,
     "metadata": {},
     "output_type": "execute_result"
    }
   ],
   "source": [
    "len(metric_list_xgb)   # should be 12"
   ]
  },
  {
   "cell_type": "code",
   "execution_count": 438,
   "metadata": {},
   "outputs": [],
   "source": [
    "student_type = pd.Series( [i[0] for i in metric_list_rnd], name='student_type' )\n",
    "MAE_metric = pd.Series( [i[1]['MAE'] for i in metric_list_rnd], name='MAE' )\n",
    "MSE_metric = pd.Series( [i[1]['MSE'] for i in metric_list_rnd], name='MSE' )\n",
    "RMSE_metric = pd.Series( [i[1][\"RMSE\"] for i in metric_list_rnd], name='RMSE' )\n",
    "R2_metric = pd.Series( [i[1]['R2'] for i in metric_list_rnd], name='R2' )\n",
    "metric_df_xgb = pd.DataFrame(pd.concat([student_type, MAE_metric, MSE_metric,RMSE_metric, R2_metric], axis=1)).set_index('student_type')"
   ]
  },
  {
   "cell_type": "code",
   "execution_count": 439,
   "metadata": {},
   "outputs": [
    {
     "data": {
      "text/plain": [
       "<AxesSubplot:title={'center':'Evaluation metrics'}, xlabel='student_type'>"
      ]
     },
     "execution_count": 439,
     "metadata": {},
     "output_type": "execute_result"
    },
    {
     "data": {
      "image/png": "[encoded data removed]",
      "text/plain": [
       "<Figure size 1944x504 with 1 Axes>"
      ]
     },
     "metadata": {
      "needs_background": "light"
     },
     "output_type": "display_data"
    }
   ],
   "source": [
    "metric_df_xgb.plot(kind='bar', figsize=(27,7), title='Evaluation metrics')"
   ]
  },
  {
   "cell_type": "markdown",
   "metadata": {},
   "source": [
    "## Using the ElasticNet "
   ]
  },
  {
   "cell_type": "code",
   "execution_count": 440,
   "metadata": {},
   "outputs": [],
   "source": [
    "def Model(train, target, test, algo=ElasticNet):\n",
    "    errcb1=[]\n",
    "    y_pred_totcb1=[]\n",
    "    fold=KFold(n_splits=9)\n",
    "    i=1\n",
    "    cols = train.columns.to_list()\n",
    "    for train_index, test_index in fold.split(train,target):\n",
    "        print(str(i) + ' iter')\n",
    "        X_train, X_test = train.iloc[train_index], train.iloc[test_index]\n",
    "        y_train, y_test = target.iloc[train_index], target.iloc[test_index]\n",
    "        m1 = algo(random_state=2020)\n",
    "        m1.fit(X_train, y_train)\n",
    "        p1 = m1.predict(test)\n",
    "        y_pred_totcb1.append(p1)\n",
    "        \n",
    "#         preds = m1.predict_proba(X_test)[:,1]\n",
    "#         print('err: ', log_loss(y_test, preds))\n",
    "#         errcb1.append(log_loss(y_test, preds))\n",
    "#         p1 = m1.predict_proba(test)[:,1]\n",
    "#         y_pred_totcb1.append(p1)\n",
    "#         preds = m1.predict(X_test)\n",
    "#         print('err: ', log_loss(y_test, preds))\n",
    "#         errcb1.append(log_loss(y_test, preds))\n",
    "       \n",
    "        \n",
    "#         best_feature = cols[np.argmax(m1.feature_importances_)]\n",
    "#         worst_feature = cols[np.argmin(m1.feature_importances_)]    \n",
    "#         print('Best Feature for the {} iteration is {}, while, the worst feature is {}'.format(i, best_feature, worst_feature))\n",
    "        \n",
    "        i+=1\n",
    "    #np.mean(errcb1)\n",
    "    return np.mean(y_pred_totcb1,axis=0)"
   ]
  },
  {
   "cell_type": "code",
   "execution_count": 441,
   "metadata": {},
   "outputs": [],
   "source": [
    "metric_list_eln = []                 ### Store the metric results of all Student category types"
   ]
  },
  {
   "cell_type": "markdown",
   "metadata": {},
   "source": [
    "## Primary Student Category\n",
    "### datasets are arranged as comp, elect, drop_out, boys, girls, water\n",
    "### genders in target are arranged as boys, girls, both_gender"
   ]
  },
  {
   "cell_type": "markdown",
   "metadata": {},
   "source": [
    "## Boys "
   ]
  },
  {
   "cell_type": "code",
   "execution_count": 442,
   "metadata": {},
   "outputs": [],
   "source": [
    "boy_pry_df = GenerateTrain(pry_useful,[0,1,2,3,5])\n",
    "boy_eval_pry_df = GenerateTrain(eval_pry_useful,[0,1,2,3,5]) \n",
    "boy_primary_target = CreateTargetFeature(enrol_primary,0)    #0 for boys\n",
    "eval_boy_primary_target = CreateTargetFeature(test_enrol_primary,0) "
   ]
  },
  {
   "cell_type": "code",
   "execution_count": 443,
   "metadata": {},
   "outputs": [],
   "source": [
    "DropNa(boy_pry_df,boy_primary_target)          # Run cell only once\n",
    "DropNa(boy_eval_pry_df,eval_boy_primary_target)"
   ]
  },
  {
   "cell_type": "code",
   "execution_count": 444,
   "metadata": {},
   "outputs": [
    {
     "data": {
      "text/plain": [
       "((36,), (36, 15), (37, 15), (37,))"
      ]
     },
     "execution_count": 444,
     "metadata": {},
     "output_type": "execute_result"
    }
   ],
   "source": [
    "boy_primary_target.shape, boy_pry_df.shape, boy_eval_pry_df.shape, eval_boy_primary_target.shape"
   ]
  },
  {
   "cell_type": "code",
   "execution_count": 445,
   "metadata": {},
   "outputs": [
    {
     "name": "stdout",
     "output_type": "stream",
     "text": [
      "1 iter\n",
      "2 iter\n",
      "3 iter\n",
      "4 iter\n",
      "5 iter\n",
      "6 iter\n",
      "7 iter\n",
      "8 iter\n",
      "9 iter\n"
     ]
    }
   ],
   "source": [
    "boy_pry_preds = Model(boy_pry_df, boy_primary_target, boy_eval_pry_df)"
   ]
  },
  {
   "cell_type": "code",
   "execution_count": 446,
   "metadata": {},
   "outputs": [
    {
     "data": {
      "text/plain": [
       "{'MAE': 9.389917353807052,\n",
       " 'MSE': 128.89401804937265,\n",
       " 'RMSE': 3.06429720389636,\n",
       " 'R2': 0.3146768246017314}"
      ]
     },
     "execution_count": 446,
     "metadata": {},
     "output_type": "execute_result"
    }
   ],
   "source": [
    "ModelEvaluator(eval_boy_primary_target, boy_pry_preds)"
   ]
  },
  {
   "cell_type": "code",
   "execution_count": 447,
   "metadata": {},
   "outputs": [],
   "source": [
    "metric_list_eln.append(['Primary Student Boys',ModelEvaluator(eval_boy_primary_target, boy_pry_preds)])   # run only once"
   ]
  },
  {
   "cell_type": "markdown",
   "metadata": {},
   "source": [
    "## Girls"
   ]
  },
  {
   "cell_type": "code",
   "execution_count": 448,
   "metadata": {},
   "outputs": [],
   "source": [
    "girl_pry_df = GenerateTrain(pry_useful,[0,1,2,4,5])\n",
    "girl_eval_pry_df = GenerateTrain(eval_pry_useful,[0,1,2,4,5]) \n",
    "girl_primary_target = CreateTargetFeature(enrol_primary,1)    #1 for girls\n",
    "eval_girl_primary_target = CreateTargetFeature(test_enrol_primary, 1)"
   ]
  },
  {
   "cell_type": "code",
   "execution_count": 449,
   "metadata": {},
   "outputs": [],
   "source": [
    "DropNa(girl_pry_df, girl_primary_target)   # Run  only once\n",
    "DropNa(girl_eval_pry_df, eval_girl_primary_target)"
   ]
  },
  {
   "cell_type": "code",
   "execution_count": 450,
   "metadata": {},
   "outputs": [
    {
     "data": {
      "text/plain": [
       "((36,), (36, 15), (37, 15), (37,))"
      ]
     },
     "execution_count": 450,
     "metadata": {},
     "output_type": "execute_result"
    }
   ],
   "source": [
    "girl_primary_target.shape, girl_pry_df.shape, girl_eval_pry_df.shape, eval_girl_primary_target.shape"
   ]
  },
  {
   "cell_type": "code",
   "execution_count": 451,
   "metadata": {},
   "outputs": [
    {
     "name": "stdout",
     "output_type": "stream",
     "text": [
      "1 iter\n",
      "2 iter\n",
      "3 iter\n",
      "4 iter\n",
      "5 iter\n",
      "6 iter\n",
      "7 iter\n",
      "8 iter\n",
      "9 iter\n"
     ]
    }
   ],
   "source": [
    "girl_pry_preds = Model(girl_pry_df, girl_primary_target, girl_eval_pry_df)"
   ]
  },
  {
   "cell_type": "code",
   "execution_count": 452,
   "metadata": {},
   "outputs": [
    {
     "data": {
      "text/plain": [
       "{'MAE': 9.37483205336475,\n",
       " 'MSE': 144.38767303882005,\n",
       " 'RMSE': 3.061834752785452,\n",
       " 'R2': 0.2553318840367671}"
      ]
     },
     "execution_count": 452,
     "metadata": {},
     "output_type": "execute_result"
    }
   ],
   "source": [
    "ModelEvaluator(eval_girl_primary_target, girl_pry_preds)"
   ]
  },
  {
   "cell_type": "code",
   "execution_count": 453,
   "metadata": {},
   "outputs": [],
   "source": [
    "metric_list_eln.append(['Primary Student Girls', ModelEvaluator(eval_girl_primary_target, girl_pry_preds) ])   # run only once"
   ]
  },
  {
   "cell_type": "markdown",
   "metadata": {},
   "source": [
    "##  Total"
   ]
  },
  {
   "cell_type": "code",
   "execution_count": 454,
   "metadata": {},
   "outputs": [],
   "source": [
    "total_pry_df = GenerateTrain(pry_useful,[0,1,2,3,4,5])\n",
    "total_eval_pry_df = GenerateTrain(eval_pry_useful,[0,1,2,3,4,5]) \n",
    "total_primary_target = CreateTargetFeature(enrol_primary)    \n",
    "total_eval_primary_target = CreateTargetFeature(test_enrol_primary) "
   ]
  },
  {
   "cell_type": "code",
   "execution_count": 455,
   "metadata": {},
   "outputs": [],
   "source": [
    "DropNa(total_pry_df,total_primary_target)          # Run cell only once\n",
    "DropNa(total_eval_pry_df,total_eval_primary_target)"
   ]
  },
  {
   "cell_type": "code",
   "execution_count": 456,
   "metadata": {},
   "outputs": [
    {
     "data": {
      "text/plain": [
       "((36,), (36, 18), (37, 18), (37,))"
      ]
     },
     "execution_count": 456,
     "metadata": {},
     "output_type": "execute_result"
    }
   ],
   "source": [
    "total_primary_target.shape, total_pry_df.shape, total_eval_pry_df.shape, total_eval_primary_target.shape"
   ]
  },
  {
   "cell_type": "code",
   "execution_count": 457,
   "metadata": {},
   "outputs": [
    {
     "name": "stdout",
     "output_type": "stream",
     "text": [
      "1 iter\n",
      "2 iter\n",
      "3 iter\n",
      "4 iter\n",
      "5 iter\n",
      "6 iter\n",
      "7 iter\n",
      "8 iter\n",
      "9 iter\n"
     ]
    }
   ],
   "source": [
    "total_pry_preds = Model(total_pry_df, total_primary_target, total_eval_pry_df)"
   ]
  },
  {
   "cell_type": "code",
   "execution_count": 458,
   "metadata": {},
   "outputs": [
    {
     "data": {
      "text/plain": [
       "{'MAE': 8.785157805455825,\n",
       " 'MSE': 131.89073718198645,\n",
       " 'RMSE': 2.9639766877382527,\n",
       " 'R2': 0.298000872405081}"
      ]
     },
     "execution_count": 458,
     "metadata": {},
     "output_type": "execute_result"
    }
   ],
   "source": [
    "ModelEvaluator(total_eval_primary_target, total_pry_preds)"
   ]
  },
  {
   "cell_type": "code",
   "execution_count": 459,
   "metadata": {},
   "outputs": [],
   "source": [
    "metric_list_eln.append(['Primary Student Total', ModelEvaluator(total_eval_primary_target, total_pry_preds) ])   # run only once"
   ]
  },
  {
   "cell_type": "markdown",
   "metadata": {},
   "source": [
    "## Upper Primary Student Category\n",
    "### datasets are arranged as comp, elect, drop_out, boys, girls, water\n",
    "### genders in target are arranged as boys, girls, both_gender"
   ]
  },
  {
   "cell_type": "markdown",
   "metadata": {},
   "source": [
    "## Boys"
   ]
  },
  {
   "cell_type": "code",
   "execution_count": 460,
   "metadata": {},
   "outputs": [],
   "source": [
    "boy_upp_df = GenerateTrain(upp_useful,[0,1,2,3,5,])\n",
    "boy_eval_upp_df = GenerateTrain(eval_upp_useful,[0,1,2,3,5]) \n",
    "boy_upp_target = CreateTargetFeature(enrol_upper_primary,0)    #0 for boys\n",
    "eval_boy_upp_target = CreateTargetFeature(test_enrol_upper_primary, 0)"
   ]
  },
  {
   "cell_type": "code",
   "execution_count": 461,
   "metadata": {},
   "outputs": [],
   "source": [
    "DropNa(boy_upp_df, boy_upp_target)   # Run  only once\n",
    "DropNa(boy_eval_upp_df, eval_boy_upp_target)"
   ]
  },
  {
   "cell_type": "code",
   "execution_count": 462,
   "metadata": {},
   "outputs": [
    {
     "data": {
      "text/plain": [
       "((36,), (36, 15), (37, 15), (37,))"
      ]
     },
     "execution_count": 462,
     "metadata": {},
     "output_type": "execute_result"
    }
   ],
   "source": [
    "boy_upp_target.shape, boy_upp_df.shape, boy_eval_upp_df.shape, eval_boy_upp_target.shape"
   ]
  },
  {
   "cell_type": "code",
   "execution_count": 463,
   "metadata": {},
   "outputs": [
    {
     "name": "stdout",
     "output_type": "stream",
     "text": [
      "1 iter\n",
      "2 iter\n",
      "3 iter\n",
      "4 iter\n",
      "5 iter\n",
      "6 iter\n",
      "7 iter\n",
      "8 iter\n",
      "9 iter\n"
     ]
    }
   ],
   "source": [
    "boy_upp_preds = Model(boy_upp_df, boy_upp_target, boy_eval_upp_df)"
   ]
  },
  {
   "cell_type": "code",
   "execution_count": 464,
   "metadata": {},
   "outputs": [
    {
     "data": {
      "text/plain": [
       "{'MAE': 10.868323765486252,\n",
       " 'MSE': 208.1070360565348,\n",
       " 'RMSE': 3.2967140860994077,\n",
       " 'R2': 0.302351205156702}"
      ]
     },
     "execution_count": 464,
     "metadata": {},
     "output_type": "execute_result"
    }
   ],
   "source": [
    "ModelEvaluator(eval_boy_upp_target, boy_upp_preds)"
   ]
  },
  {
   "cell_type": "code",
   "execution_count": 465,
   "metadata": {},
   "outputs": [],
   "source": [
    "metric_list_eln.append(['Upper Primary Boys',ModelEvaluator(eval_boy_upp_target, boy_upp_preds)])   # run only once "
   ]
  },
  {
   "cell_type": "markdown",
   "metadata": {},
   "source": [
    "## Girls"
   ]
  },
  {
   "cell_type": "code",
   "execution_count": 466,
   "metadata": {},
   "outputs": [],
   "source": [
    "girl_upp_df = GenerateTrain(upp_useful,[0,1,2,4,5])\n",
    "girl_eval_upp_df = GenerateTrain(eval_upp_useful,[0,1,2,4,5]) \n",
    "girl_upp_target = CreateTargetFeature(enrol_upper_primary,1)    #1 for girls\n",
    "girl_eval_upp_target = CreateTargetFeature(test_enrol_upper_primary, 1)"
   ]
  },
  {
   "cell_type": "code",
   "execution_count": 467,
   "metadata": {},
   "outputs": [],
   "source": [
    "DropNa(girl_upp_df, girl_upp_target)   # Run  only once\n",
    "DropNa(girl_eval_upp_df, girl_eval_upp_target)"
   ]
  },
  {
   "cell_type": "code",
   "execution_count": 468,
   "metadata": {},
   "outputs": [
    {
     "data": {
      "text/plain": [
       "((36,), (36, 15), (37, 15), (37,))"
      ]
     },
     "execution_count": 468,
     "metadata": {},
     "output_type": "execute_result"
    }
   ],
   "source": [
    "girl_upp_target.shape, girl_upp_df.shape, girl_eval_upp_df.shape, girl_eval_upp_target.shape"
   ]
  },
  {
   "cell_type": "code",
   "execution_count": 469,
   "metadata": {},
   "outputs": [
    {
     "name": "stdout",
     "output_type": "stream",
     "text": [
      "1 iter\n",
      "2 iter\n",
      "3 iter\n",
      "4 iter\n",
      "5 iter\n",
      "6 iter\n",
      "7 iter\n",
      "8 iter\n",
      "9 iter\n"
     ]
    }
   ],
   "source": [
    "girl_upp_preds = Model(girl_upp_df, girl_upp_target, girl_eval_upp_df)"
   ]
  },
  {
   "cell_type": "code",
   "execution_count": 470,
   "metadata": {},
   "outputs": [
    {
     "data": {
      "text/plain": [
       "{'MAE': 12.636827353032098,\n",
       " 'MSE': 286.51088691370165,\n",
       " 'RMSE': 3.5548315505846544,\n",
       " 'R2': 0.28127127805811114}"
      ]
     },
     "execution_count": 470,
     "metadata": {},
     "output_type": "execute_result"
    }
   ],
   "source": [
    "ModelEvaluator(girl_eval_upp_target, girl_upp_preds)"
   ]
  },
  {
   "cell_type": "code",
   "execution_count": 471,
   "metadata": {},
   "outputs": [],
   "source": [
    "metric_list_eln.append(['Upper Primary Girls', ModelEvaluator(girl_eval_upp_target, girl_upp_preds)])   #run only once"
   ]
  },
  {
   "cell_type": "markdown",
   "metadata": {},
   "source": [
    "## Total"
   ]
  },
  {
   "cell_type": "code",
   "execution_count": 472,
   "metadata": {},
   "outputs": [],
   "source": [
    "total_upp_df = GenerateTrain(upp_useful,[0,1,2,3,4,5])\n",
    "total_eval_upp_df = GenerateTrain(eval_upp_useful,[0,1,2,3,4,5]) \n",
    "total_upper_primary_target = CreateTargetFeature(enrol_upper_primary)   \n",
    "total_eval_upper_primary_target = CreateTargetFeature(test_enrol_upper_primary) "
   ]
  },
  {
   "cell_type": "code",
   "execution_count": 473,
   "metadata": {},
   "outputs": [],
   "source": [
    "DropNa(total_upp_df,total_upper_primary_target)          # Run cell only once\n",
    "DropNa(total_eval_upp_df,total_eval_upper_primary_target)"
   ]
  },
  {
   "cell_type": "code",
   "execution_count": 474,
   "metadata": {},
   "outputs": [
    {
     "data": {
      "text/plain": [
       "((36,), (36, 18), (37, 18), (37,))"
      ]
     },
     "execution_count": 474,
     "metadata": {},
     "output_type": "execute_result"
    }
   ],
   "source": [
    "total_upper_primary_target.shape, total_upp_df.shape, total_eval_upp_df.shape, total_eval_upper_primary_target.shape"
   ]
  },
  {
   "cell_type": "code",
   "execution_count": 475,
   "metadata": {},
   "outputs": [
    {
     "name": "stdout",
     "output_type": "stream",
     "text": [
      "1 iter\n",
      "2 iter\n",
      "3 iter\n",
      "4 iter\n",
      "5 iter\n",
      "6 iter\n",
      "7 iter\n",
      "8 iter\n",
      "9 iter\n"
     ]
    }
   ],
   "source": [
    "total_upp_preds = Model(total_upp_df, total_upper_primary_target, total_eval_upp_df)"
   ]
  },
  {
   "cell_type": "code",
   "execution_count": 476,
   "metadata": {},
   "outputs": [
    {
     "data": {
      "text/plain": [
       "{'MAE': 12.024720676920795,\n",
       " 'MSE': 235.21722368119308,\n",
       " 'RMSE': 3.4676679017634884,\n",
       " 'R2': 0.2954448656299876}"
      ]
     },
     "execution_count": 476,
     "metadata": {},
     "output_type": "execute_result"
    }
   ],
   "source": [
    "ModelEvaluator(total_eval_upper_primary_target, total_upp_preds)"
   ]
  },
  {
   "cell_type": "code",
   "execution_count": 477,
   "metadata": {},
   "outputs": [],
   "source": [
    "metric_list_eln.append(['Upper Primary Total', ModelEvaluator(total_eval_upper_primary_target, total_upp_preds)])   #run only once"
   ]
  },
  {
   "cell_type": "markdown",
   "metadata": {},
   "source": [
    "## Secondary Student Category\n",
    "### datasets are arranged as comp, elect, drop_out, boys, girls, water\n",
    "### genders in target are arranged as boys, girls, both_gender"
   ]
  },
  {
   "cell_type": "markdown",
   "metadata": {},
   "source": [
    "## Boys"
   ]
  },
  {
   "cell_type": "code",
   "execution_count": 478,
   "metadata": {},
   "outputs": [],
   "source": [
    "boy_sec_df = GenerateTrain(sec_useful,[0,1,2,3,5])\n",
    "boy_eval_sec_df = GenerateTrain(eval_sec_useful,[0,1,2,3,5]) \n",
    "boy_sec_target = CreateTargetFeature(enrol_secondary,0)    #0 for boys\n",
    "boy_eval_sec_target = CreateTargetFeature(test_enrol_secondary, 0)"
   ]
  },
  {
   "cell_type": "code",
   "execution_count": 479,
   "metadata": {},
   "outputs": [],
   "source": [
    "DropNa(boy_sec_df, boy_sec_target)   # Run  only once\n",
    "DropNa(boy_eval_sec_df, boy_eval_sec_target)"
   ]
  },
  {
   "cell_type": "code",
   "execution_count": 480,
   "metadata": {},
   "outputs": [
    {
     "data": {
      "text/plain": [
       "((36,), (36, 15), (37, 15), (37,))"
      ]
     },
     "execution_count": 480,
     "metadata": {},
     "output_type": "execute_result"
    }
   ],
   "source": [
    "boy_sec_target.shape, boy_sec_df.shape, boy_eval_sec_df.shape, boy_eval_sec_target.shape"
   ]
  },
  {
   "cell_type": "code",
   "execution_count": 481,
   "metadata": {},
   "outputs": [
    {
     "name": "stdout",
     "output_type": "stream",
     "text": [
      "1 iter\n",
      "2 iter\n",
      "3 iter\n",
      "4 iter\n",
      "5 iter\n",
      "6 iter\n",
      "7 iter\n",
      "8 iter\n",
      "9 iter\n"
     ]
    }
   ],
   "source": [
    "boy_sec_preds = Model(boy_sec_df, boy_sec_target, boy_eval_sec_df)"
   ]
  },
  {
   "cell_type": "code",
   "execution_count": 482,
   "metadata": {},
   "outputs": [
    {
     "data": {
      "text/plain": [
       "{'MAE': 10.72499572356038,\n",
       " 'MSE': 194.0656224549485,\n",
       " 'RMSE': 3.2749039258519295,\n",
       " 'R2': -0.10924261919520206}"
      ]
     },
     "execution_count": 482,
     "metadata": {},
     "output_type": "execute_result"
    }
   ],
   "source": [
    "ModelEvaluator(boy_eval_sec_target, boy_sec_preds)"
   ]
  },
  {
   "cell_type": "code",
   "execution_count": 483,
   "metadata": {},
   "outputs": [],
   "source": [
    "metric_list_eln.append(['Secondary Student Boys',ModelEvaluator(boy_eval_sec_target, boy_sec_preds)])   # run only once"
   ]
  },
  {
   "cell_type": "markdown",
   "metadata": {},
   "source": [
    "## Girls"
   ]
  },
  {
   "cell_type": "code",
   "execution_count": 484,
   "metadata": {},
   "outputs": [],
   "source": [
    "girl_sec_df = GenerateTrain(sec_useful,[0,1,2,4,5])\n",
    "girl_eval_sec_df = GenerateTrain(eval_sec_useful,[0,1,2,4,5]) \n",
    "girl_sec_target = CreateTargetFeature(enrol_secondary,1)    #1 for girls\n",
    "girl_eval_sec_target = CreateTargetFeature(test_enrol_secondary,1)"
   ]
  },
  {
   "cell_type": "code",
   "execution_count": 485,
   "metadata": {},
   "outputs": [],
   "source": [
    "DropNa(girl_sec_df, girl_sec_target)   # Run  only once\n",
    "DropNa(girl_eval_sec_df, girl_eval_sec_target)"
   ]
  },
  {
   "cell_type": "code",
   "execution_count": 486,
   "metadata": {},
   "outputs": [
    {
     "data": {
      "text/plain": [
       "((36,), (36, 15), (37, 15), (37,))"
      ]
     },
     "execution_count": 486,
     "metadata": {},
     "output_type": "execute_result"
    }
   ],
   "source": [
    "girl_sec_target.shape, girl_sec_df.shape, girl_eval_sec_df.shape, girl_eval_sec_target.shape"
   ]
  },
  {
   "cell_type": "code",
   "execution_count": 487,
   "metadata": {},
   "outputs": [
    {
     "name": "stdout",
     "output_type": "stream",
     "text": [
      "1 iter\n",
      "2 iter\n",
      "3 iter\n",
      "4 iter\n",
      "5 iter\n",
      "6 iter\n",
      "7 iter\n",
      "8 iter\n",
      "9 iter\n"
     ]
    }
   ],
   "source": [
    "girl_sec_preds = Model(girl_sec_df, girl_sec_target, girl_eval_sec_df)"
   ]
  },
  {
   "cell_type": "code",
   "execution_count": 488,
   "metadata": {},
   "outputs": [
    {
     "data": {
      "text/plain": [
       "{'MAE': 9.519093670708566,\n",
       " 'MSE': 150.44646820068348,\n",
       " 'RMSE': 3.0853028491071286,\n",
       " 'R2': 0.2324889545309511}"
      ]
     },
     "execution_count": 488,
     "metadata": {},
     "output_type": "execute_result"
    }
   ],
   "source": [
    "ModelEvaluator(girl_eval_sec_target, girl_sec_preds)"
   ]
  },
  {
   "cell_type": "code",
   "execution_count": 489,
   "metadata": {},
   "outputs": [],
   "source": [
    "metric_list_eln.append(['Secondary Student Girls', ModelEvaluator(girl_eval_sec_target, girl_sec_preds)])   #run only once"
   ]
  },
  {
   "cell_type": "markdown",
   "metadata": {},
   "source": [
    "## Total"
   ]
  },
  {
   "cell_type": "code",
   "execution_count": 490,
   "metadata": {},
   "outputs": [],
   "source": [
    "total_sec_df = GenerateTrain(sec_useful,[0,1,2,3,4,5])\n",
    "total_eval_sec_df = GenerateTrain(eval_sec_useful,[0,1,2,3,4,5]) \n",
    "total_secondary_target = CreateTargetFeature(enrol_secondary)    #0 for boys\n",
    "total_eval_secondary_target = CreateTargetFeature(test_enrol_secondary) "
   ]
  },
  {
   "cell_type": "code",
   "execution_count": 491,
   "metadata": {},
   "outputs": [],
   "source": [
    "DropNa(total_sec_df,total_secondary_target)          # Run cell only once\n",
    "DropNa(total_eval_sec_df,total_eval_secondary_target)"
   ]
  },
  {
   "cell_type": "code",
   "execution_count": 492,
   "metadata": {},
   "outputs": [
    {
     "data": {
      "text/plain": [
       "((36,), (36, 18), (37, 18), (37,))"
      ]
     },
     "execution_count": 492,
     "metadata": {},
     "output_type": "execute_result"
    }
   ],
   "source": [
    "total_secondary_target.shape, total_sec_df.shape, total_eval_sec_df.shape, total_eval_secondary_target.shape"
   ]
  },
  {
   "cell_type": "code",
   "execution_count": 493,
   "metadata": {},
   "outputs": [
    {
     "name": "stdout",
     "output_type": "stream",
     "text": [
      "1 iter\n",
      "2 iter\n",
      "3 iter\n",
      "4 iter\n",
      "5 iter\n",
      "6 iter\n",
      "7 iter\n",
      "8 iter\n",
      "9 iter\n"
     ]
    }
   ],
   "source": [
    "total_sec_preds = Model(total_sec_df, total_secondary_target, total_eval_sec_df)"
   ]
  },
  {
   "cell_type": "code",
   "execution_count": 494,
   "metadata": {},
   "outputs": [
    {
     "data": {
      "text/plain": [
       "{'MAE': 10.068746763289095,\n",
       " 'MSE': 162.88159810386705,\n",
       " 'RMSE': 3.173128860177143,\n",
       " 'R2': 0.06340226564098284}"
      ]
     },
     "execution_count": 494,
     "metadata": {},
     "output_type": "execute_result"
    }
   ],
   "source": [
    "ModelEvaluator(total_eval_secondary_target, total_sec_preds)"
   ]
  },
  {
   "cell_type": "code",
   "execution_count": 495,
   "metadata": {},
   "outputs": [],
   "source": [
    "metric_list_eln.append(['Secondary Student Total',ModelEvaluator(total_eval_secondary_target, total_sec_preds)])   #run only once"
   ]
  },
  {
   "cell_type": "markdown",
   "metadata": {},
   "source": [
    "## Higher Secondary Student Category\n",
    "### datasets are arranged as comp, elect, drop_out, boys, girls, water\n",
    "### genders in target are arranged as boys, girls, both_gender"
   ]
  },
  {
   "cell_type": "markdown",
   "metadata": {},
   "source": [
    "## Boys"
   ]
  },
  {
   "cell_type": "code",
   "execution_count": 496,
   "metadata": {},
   "outputs": [],
   "source": [
    "boy_high_df = GenerateTrain(high_useful,[0,1,2,3,5])\n",
    "boy_eval_high_df = GenerateTrain(eval_high_useful,[0,1,2,3,5]) \n",
    "boy_high_target = CreateTargetFeature(enrol_higher,0)    #0 for boys\n",
    "boy_eval_high_target = CreateTargetFeature(test_enrol_higher, 0)"
   ]
  },
  {
   "cell_type": "code",
   "execution_count": 497,
   "metadata": {},
   "outputs": [],
   "source": [
    "DropNa(boy_high_df, boy_high_target)   # Run  only once\n",
    "DropNa(boy_eval_high_df, boy_eval_high_target)"
   ]
  },
  {
   "cell_type": "code",
   "execution_count": 498,
   "metadata": {},
   "outputs": [
    {
     "data": {
      "text/plain": [
       "((36,), (36, 11), (37, 11), (37,))"
      ]
     },
     "execution_count": 498,
     "metadata": {},
     "output_type": "execute_result"
    }
   ],
   "source": [
    "boy_high_target.shape, boy_high_df.shape, boy_eval_high_df.shape, boy_eval_high_target.shape"
   ]
  },
  {
   "cell_type": "code",
   "execution_count": 499,
   "metadata": {},
   "outputs": [
    {
     "name": "stdout",
     "output_type": "stream",
     "text": [
      "1 iter\n",
      "2 iter\n",
      "3 iter\n",
      "4 iter\n",
      "5 iter\n",
      "6 iter\n",
      "7 iter\n",
      "8 iter\n",
      "9 iter\n"
     ]
    }
   ],
   "source": [
    "boy_high_preds = Model(boy_high_df, boy_high_target, boy_eval_high_df)"
   ]
  },
  {
   "cell_type": "code",
   "execution_count": 500,
   "metadata": {},
   "outputs": [
    {
     "data": {
      "text/plain": [
       "{'MAE': 16.341548440281592,\n",
       " 'MSE': 458.9342911722184,\n",
       " 'RMSE': 4.042468112463176,\n",
       " 'R2': -0.6662423007345029}"
      ]
     },
     "execution_count": 500,
     "metadata": {},
     "output_type": "execute_result"
    }
   ],
   "source": [
    "ModelEvaluator(boy_eval_high_target, boy_high_preds)"
   ]
  },
  {
   "cell_type": "code",
   "execution_count": 501,
   "metadata": {},
   "outputs": [],
   "source": [
    "metric_list_eln.append(['Higher Secondary Student Boys', ModelEvaluator(boy_eval_high_target, boy_high_preds)])  # run only once"
   ]
  },
  {
   "cell_type": "markdown",
   "metadata": {},
   "source": [
    "## Girls"
   ]
  },
  {
   "cell_type": "code",
   "execution_count": 502,
   "metadata": {},
   "outputs": [],
   "source": [
    "girl_high_df = GenerateTrain(high_useful,[0,1,2,4,5])\n",
    "girl_eval_high_df = GenerateTrain(eval_high_useful,[0,1,2,4,5]) \n",
    "girl_high_target = CreateTargetFeature(enrol_higher,1)    #1 for girls\n",
    "girl_eval_high_target = CreateTargetFeature(test_enrol_higher,1)"
   ]
  },
  {
   "cell_type": "code",
   "execution_count": 503,
   "metadata": {},
   "outputs": [],
   "source": [
    "DropNa(girl_high_df, girl_high_target)   # Run  only once\n",
    "DropNa(girl_eval_high_df, girl_eval_high_target)"
   ]
  },
  {
   "cell_type": "code",
   "execution_count": 504,
   "metadata": {},
   "outputs": [
    {
     "data": {
      "text/plain": [
       "((36,), (36, 11), (37, 11), (37,))"
      ]
     },
     "execution_count": 504,
     "metadata": {},
     "output_type": "execute_result"
    }
   ],
   "source": [
    "girl_high_target.shape, girl_high_df.shape, girl_eval_high_df.shape, girl_eval_high_target.shape"
   ]
  },
  {
   "cell_type": "code",
   "execution_count": 505,
   "metadata": {},
   "outputs": [
    {
     "name": "stdout",
     "output_type": "stream",
     "text": [
      "1 iter\n",
      "2 iter\n",
      "3 iter\n",
      "4 iter\n",
      "5 iter\n",
      "6 iter\n",
      "7 iter\n",
      "8 iter\n",
      "9 iter\n"
     ]
    }
   ],
   "source": [
    "girl_high_preds = Model(girl_high_df, girl_high_target, girl_eval_high_df)"
   ]
  },
  {
   "cell_type": "code",
   "execution_count": 506,
   "metadata": {},
   "outputs": [
    {
     "data": {
      "text/plain": [
       "{'MAE': 12.757535121296362,\n",
       " 'MSE': 293.838690596989,\n",
       " 'RMSE': 3.571769186453173,\n",
       " 'R2': 0.14242422648691144}"
      ]
     },
     "execution_count": 506,
     "metadata": {},
     "output_type": "execute_result"
    }
   ],
   "source": [
    "ModelEvaluator(girl_eval_high_target, girl_high_preds)"
   ]
  },
  {
   "cell_type": "code",
   "execution_count": 507,
   "metadata": {},
   "outputs": [],
   "source": [
    "metric_list_eln.append(['Higher Secondary Student Girls', ModelEvaluator(girl_eval_high_target, girl_high_preds)])  # run only once"
   ]
  },
  {
   "cell_type": "markdown",
   "metadata": {},
   "source": [
    "## Total"
   ]
  },
  {
   "cell_type": "code",
   "execution_count": 508,
   "metadata": {},
   "outputs": [],
   "source": [
    "total_high_df = GenerateTrain(high_useful,[0,1,2,3,4,5])\n",
    "total_eval_high_df = GenerateTrain(eval_high_useful,[0,1,2,3,4,5]) \n",
    "total_higher_target = CreateTargetFeature(enrol_higher)    \n",
    "total_eval_higher_target = CreateTargetFeature(test_enrol_higher) "
   ]
  },
  {
   "cell_type": "code",
   "execution_count": 509,
   "metadata": {},
   "outputs": [],
   "source": [
    "DropNa(total_high_df,total_higher_target)          # Run cell only once\n",
    "DropNa(total_eval_high_df,total_eval_higher_target)"
   ]
  },
  {
   "cell_type": "code",
   "execution_count": 510,
   "metadata": {},
   "outputs": [
    {
     "data": {
      "text/plain": [
       "((36,), (36, 13), (37, 13), (37,))"
      ]
     },
     "execution_count": 510,
     "metadata": {},
     "output_type": "execute_result"
    }
   ],
   "source": [
    "total_higher_target.shape, total_high_df.shape, total_eval_high_df.shape, total_eval_higher_target.shape"
   ]
  },
  {
   "cell_type": "code",
   "execution_count": 511,
   "metadata": {},
   "outputs": [
    {
     "name": "stdout",
     "output_type": "stream",
     "text": [
      "1 iter\n",
      "2 iter\n",
      "3 iter\n",
      "4 iter\n",
      "5 iter\n",
      "6 iter\n",
      "7 iter\n",
      "8 iter\n",
      "9 iter\n"
     ]
    }
   ],
   "source": [
    "total_high_preds = Model(total_high_df, total_higher_target, total_eval_high_df)"
   ]
  },
  {
   "cell_type": "code",
   "execution_count": 512,
   "metadata": {},
   "outputs": [
    {
     "data": {
      "text/plain": [
       "{'MAE': 14.12732315514259,\n",
       " 'MSE': 343.10277744726744,\n",
       " 'RMSE': 3.758633149848837,\n",
       " 'R2': -0.14398495841955694}"
      ]
     },
     "execution_count": 512,
     "metadata": {},
     "output_type": "execute_result"
    }
   ],
   "source": [
    "ModelEvaluator(total_eval_higher_target, total_high_preds)"
   ]
  },
  {
   "cell_type": "code",
   "execution_count": 513,
   "metadata": {},
   "outputs": [],
   "source": [
    "metric_list_eln.append(['Higher Secondary Student Total', ModelEvaluator(total_eval_higher_target, total_high_preds)])  # run only once"
   ]
  },
  {
   "cell_type": "code",
   "execution_count": 514,
   "metadata": {},
   "outputs": [
    {
     "data": {
      "text/plain": [
       "12"
      ]
     },
     "execution_count": 514,
     "metadata": {},
     "output_type": "execute_result"
    }
   ],
   "source": [
    "len(metric_list_xgb)   # should be 12"
   ]
  },
  {
   "cell_type": "code",
   "execution_count": 515,
   "metadata": {},
   "outputs": [],
   "source": [
    "student_type = pd.Series( [i[0] for i in metric_list_rnd], name='student_type' )\n",
    "MAE_metric = pd.Series( [i[1]['MAE'] for i in metric_list_rnd], name='MAE' )\n",
    "MSE_metric = pd.Series( [i[1]['MSE'] for i in metric_list_rnd], name='MSE' )\n",
    "RMSE_metric = pd.Series( [i[1][\"RMSE\"] for i in metric_list_rnd], name='RMSE' )\n",
    "R2_metric = pd.Series( [i[1]['R2'] for i in metric_list_rnd], name='R2' )\n",
    "metric_df_eln = pd.DataFrame(pd.concat([student_type, MAE_metric, MSE_metric,RMSE_metric, R2_metric], axis=1)).set_index('student_type')"
   ]
  },
  {
   "cell_type": "code",
   "execution_count": 516,
   "metadata": {},
   "outputs": [
    {
     "data": {
      "text/plain": [
       "<AxesSubplot:title={'center':'Evaluation metrics'}, xlabel='student_type'>"
      ]
     },
     "execution_count": 516,
     "metadata": {},
     "output_type": "execute_result"
    },
    {
     "data": {
      "image/png": "[encoded data removed]",
      "text/plain": [
       "<Figure size 1944x504 with 1 Axes>"
      ]
     },
     "metadata": {
      "needs_background": "light"
     },
     "output_type": "display_data"
    }
   ],
   "source": [
    "metric_df_eln.plot(kind='bar', figsize=(27,7), title='Evaluation metrics')"
   ]
  },
  {
   "cell_type": "markdown",
   "metadata": {},
   "source": [
    "# So based on the  overall performance metrics the XGBoostRegressor so far is the best but based on the r2 score the ElasticNet is the best i also tested the Lasso and Ridge algorithms but they didn't perform as well as the two above."
   ]
  },
  {
   "cell_type": "code",
   "execution_count": null,
   "metadata": {},
   "outputs": [],
   "source": []
  }
 ],
 "metadata": {
  "kernelspec": {
   "display_name": "Python 3",
   "language": "python",
   "name": "python3"
  },
  "language_info": {
   "codemirror_mode": {
    "name": "ipython",
    "version": 3
   },
   "file_extension": ".py",
   "mimetype": "text/x-python",
   "name": "python",
   "nbconvert_exporter": "python",
   "pygments_lexer": "ipython3",
   "version": "3.7.6"
  }
 },
 "nbformat": 4,
 "nbformat_minor": 4
}
