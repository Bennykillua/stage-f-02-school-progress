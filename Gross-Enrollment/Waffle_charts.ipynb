{
 "cells": [
  {
   "cell_type": "markdown",
   "metadata": {},
   "source": [
    "# This is a visualization notebook for Gross Enrollment using Waffle Charts"
   ]
  },
  {
   "cell_type": "markdown",
   "metadata": {},
   "source": [
    "**Here is the waffle chart visualization for Gross Enrollment accross all schooling level in the country. I am considering  looking at level per session (for example primary_school boys had a gross enrollment of ... in 2013/14, ... in 2014/15 and ... in 2015/16)**"
   ]
  },
  {
   "cell_type": "code",
   "execution_count": 1,
   "metadata": {},
   "outputs": [],
   "source": [
    "import pandas as pd\n",
    "import numpy as np\n",
    "import matplotlib as mpl\n",
    "import matplotlib.pyplot as plt\n",
    "import seaborn as sns\n",
    "import folium\n",
    "\n",
    "%matplotlib inline"
   ]
  },
  {
   "cell_type": "code",
   "execution_count": 2,
   "metadata": {},
   "outputs": [
    {
     "data": {
      "text/html": [
       "<div>\n",
       "<style scoped>\n",
       "    .dataframe tbody tr th:only-of-type {\n",
       "        vertical-align: middle;\n",
       "    }\n",
       "\n",
       "    .dataframe tbody tr th {\n",
       "        vertical-align: top;\n",
       "    }\n",
       "\n",
       "    .dataframe thead th {\n",
       "        text-align: right;\n",
       "    }\n",
       "</style>\n",
       "<table border=\"1\" class=\"dataframe\">\n",
       "  <thead>\n",
       "    <tr style=\"text-align: right;\">\n",
       "      <th></th>\n",
       "      <th>State_UT</th>\n",
       "      <th>Year</th>\n",
       "      <th>Primary_Boys</th>\n",
       "      <th>Primary_Girls</th>\n",
       "      <th>Primary_Total</th>\n",
       "      <th>Upper_Primary_Boys</th>\n",
       "      <th>Upper_Primary_Girls</th>\n",
       "      <th>Upper_Primary_Total</th>\n",
       "      <th>Secondary_Boys</th>\n",
       "      <th>Secondary_Girls</th>\n",
       "      <th>Secondary_Total</th>\n",
       "      <th>Higher_Secondary_Boys</th>\n",
       "      <th>Higher_Secondary_Girls</th>\n",
       "      <th>Higher_Secondary_Total</th>\n",
       "    </tr>\n",
       "  </thead>\n",
       "  <tbody>\n",
       "    <tr>\n",
       "      <th>0</th>\n",
       "      <td>Andaman &amp; Nicobar Islands</td>\n",
       "      <td>2013-14</td>\n",
       "      <td>95.88</td>\n",
       "      <td>91.97</td>\n",
       "      <td>93.93</td>\n",
       "      <td>94.70</td>\n",
       "      <td>88.98</td>\n",
       "      <td>91.83</td>\n",
       "      <td>102.89</td>\n",
       "      <td>97.36</td>\n",
       "      <td>100.16</td>\n",
       "      <td>105.4</td>\n",
       "      <td>96.61</td>\n",
       "      <td>101.28</td>\n",
       "    </tr>\n",
       "    <tr>\n",
       "      <th>1</th>\n",
       "      <td>Andhra Pradesh</td>\n",
       "      <td>2013-14</td>\n",
       "      <td>96.62</td>\n",
       "      <td>96.87</td>\n",
       "      <td>96.74</td>\n",
       "      <td>82.81</td>\n",
       "      <td>84.38</td>\n",
       "      <td>83.57</td>\n",
       "      <td>73.76</td>\n",
       "      <td>76.77</td>\n",
       "      <td>75.20</td>\n",
       "      <td>59.83</td>\n",
       "      <td>60.83</td>\n",
       "      <td>60.3</td>\n",
       "    </tr>\n",
       "    <tr>\n",
       "      <th>2</th>\n",
       "      <td>Arunachal Pradesh</td>\n",
       "      <td>2013-14</td>\n",
       "      <td>129.12</td>\n",
       "      <td>127.77</td>\n",
       "      <td>128.46</td>\n",
       "      <td>112.64</td>\n",
       "      <td>115.27</td>\n",
       "      <td>113.94</td>\n",
       "      <td>88.37</td>\n",
       "      <td>84.89</td>\n",
       "      <td>86.65</td>\n",
       "      <td>65.16</td>\n",
       "      <td>65.38</td>\n",
       "      <td>65.27</td>\n",
       "    </tr>\n",
       "    <tr>\n",
       "      <th>3</th>\n",
       "      <td>Assam</td>\n",
       "      <td>2013-14</td>\n",
       "      <td>111.77</td>\n",
       "      <td>115.16</td>\n",
       "      <td>113.43</td>\n",
       "      <td>87.85</td>\n",
       "      <td>98.69</td>\n",
       "      <td>93.13</td>\n",
       "      <td>65.60</td>\n",
       "      <td>77.20</td>\n",
       "      <td>71.21</td>\n",
       "      <td>31.78</td>\n",
       "      <td>34.27</td>\n",
       "      <td>32.94</td>\n",
       "    </tr>\n",
       "    <tr>\n",
       "      <th>4</th>\n",
       "      <td>Bihar</td>\n",
       "      <td>2013-14</td>\n",
       "      <td>95.03</td>\n",
       "      <td>101.15</td>\n",
       "      <td>97.96</td>\n",
       "      <td>80.60</td>\n",
       "      <td>94.92</td>\n",
       "      <td>87.24</td>\n",
       "      <td>57.66</td>\n",
       "      <td>62.96</td>\n",
       "      <td>60.08</td>\n",
       "      <td>23.33</td>\n",
       "      <td>24.17</td>\n",
       "      <td>23.7</td>\n",
       "    </tr>\n",
       "  </tbody>\n",
       "</table>\n",
       "</div>"
      ],
      "text/plain": [
       "                    State_UT     Year  Primary_Boys  Primary_Girls  \\\n",
       "0  Andaman & Nicobar Islands  2013-14         95.88          91.97   \n",
       "1             Andhra Pradesh  2013-14         96.62          96.87   \n",
       "2          Arunachal Pradesh  2013-14        129.12         127.77   \n",
       "3                      Assam  2013-14        111.77         115.16   \n",
       "4                      Bihar  2013-14         95.03         101.15   \n",
       "\n",
       "   Primary_Total  Upper_Primary_Boys  Upper_Primary_Girls  \\\n",
       "0          93.93               94.70                88.98   \n",
       "1          96.74               82.81                84.38   \n",
       "2         128.46              112.64               115.27   \n",
       "3         113.43               87.85                98.69   \n",
       "4          97.96               80.60                94.92   \n",
       "\n",
       "   Upper_Primary_Total  Secondary_Boys  Secondary_Girls  Secondary_Total  \\\n",
       "0                91.83          102.89            97.36           100.16   \n",
       "1                83.57           73.76            76.77            75.20   \n",
       "2               113.94           88.37            84.89            86.65   \n",
       "3                93.13           65.60            77.20            71.21   \n",
       "4                87.24           57.66            62.96            60.08   \n",
       "\n",
       "  Higher_Secondary_Boys Higher_Secondary_Girls Higher_Secondary_Total  \n",
       "0                 105.4                  96.61                 101.28  \n",
       "1                 59.83                  60.83                   60.3  \n",
       "2                 65.16                  65.38                  65.27  \n",
       "3                 31.78                  34.27                  32.94  \n",
       "4                 23.33                  24.17                   23.7  "
      ]
     },
     "execution_count": 2,
     "metadata": {},
     "output_type": "execute_result"
    }
   ],
   "source": [
    "df = pd.read_csv(\"gross-enrollment-ratio-2013-2016.csv\")\n",
    "df.head()"
   ]
  },
  {
   "cell_type": "code",
   "execution_count": 3,
   "metadata": {},
   "outputs": [
    {
     "data": {
      "text/html": [
       "<div>\n",
       "<style scoped>\n",
       "    .dataframe tbody tr th:only-of-type {\n",
       "        vertical-align: middle;\n",
       "    }\n",
       "\n",
       "    .dataframe tbody tr th {\n",
       "        vertical-align: top;\n",
       "    }\n",
       "\n",
       "    .dataframe thead th {\n",
       "        text-align: right;\n",
       "    }\n",
       "</style>\n",
       "<table border=\"1\" class=\"dataframe\">\n",
       "  <thead>\n",
       "    <tr style=\"text-align: right;\">\n",
       "      <th></th>\n",
       "      <th>Primary_Boys</th>\n",
       "      <th>Primary_Girls</th>\n",
       "      <th>Primary_Total</th>\n",
       "      <th>Upper_Primary_Boys</th>\n",
       "      <th>Upper_Primary_Girls</th>\n",
       "      <th>Upper_Primary_Total</th>\n",
       "      <th>Secondary_Boys</th>\n",
       "      <th>Secondary_Girls</th>\n",
       "      <th>Secondary_Total</th>\n",
       "    </tr>\n",
       "  </thead>\n",
       "  <tbody>\n",
       "    <tr>\n",
       "      <th>count</th>\n",
       "      <td>110.000000</td>\n",
       "      <td>110.000000</td>\n",
       "      <td>110.000000</td>\n",
       "      <td>110.000000</td>\n",
       "      <td>110.000000</td>\n",
       "      <td>110.000000</td>\n",
       "      <td>110.000000</td>\n",
       "      <td>110.000000</td>\n",
       "      <td>110.000000</td>\n",
       "    </tr>\n",
       "    <tr>\n",
       "      <th>mean</th>\n",
       "      <td>102.016909</td>\n",
       "      <td>103.116818</td>\n",
       "      <td>102.505182</td>\n",
       "      <td>96.880091</td>\n",
       "      <td>101.444273</td>\n",
       "      <td>99.096091</td>\n",
       "      <td>86.894818</td>\n",
       "      <td>88.476273</td>\n",
       "      <td>87.653091</td>\n",
       "    </tr>\n",
       "    <tr>\n",
       "      <th>std</th>\n",
       "      <td>13.836438</td>\n",
       "      <td>14.136777</td>\n",
       "      <td>13.879054</td>\n",
       "      <td>14.972434</td>\n",
       "      <td>16.676238</td>\n",
       "      <td>15.694185</td>\n",
       "      <td>15.340409</td>\n",
       "      <td>15.597699</td>\n",
       "      <td>15.064506</td>\n",
       "    </tr>\n",
       "    <tr>\n",
       "      <th>min</th>\n",
       "      <td>77.420000</td>\n",
       "      <td>69.900000</td>\n",
       "      <td>73.800000</td>\n",
       "      <td>67.320000</td>\n",
       "      <td>71.850000</td>\n",
       "      <td>70.200000</td>\n",
       "      <td>57.660000</td>\n",
       "      <td>62.960000</td>\n",
       "      <td>60.080000</td>\n",
       "    </tr>\n",
       "    <tr>\n",
       "      <th>25%</th>\n",
       "      <td>95.252500</td>\n",
       "      <td>96.107500</td>\n",
       "      <td>95.187500</td>\n",
       "      <td>88.637500</td>\n",
       "      <td>90.760000</td>\n",
       "      <td>90.350000</td>\n",
       "      <td>74.925000</td>\n",
       "      <td>78.265000</td>\n",
       "      <td>75.647500</td>\n",
       "    </tr>\n",
       "    <tr>\n",
       "      <th>50%</th>\n",
       "      <td>100.260000</td>\n",
       "      <td>101.365000</td>\n",
       "      <td>101.100000</td>\n",
       "      <td>94.555000</td>\n",
       "      <td>98.720000</td>\n",
       "      <td>95.945000</td>\n",
       "      <td>85.685000</td>\n",
       "      <td>85.100000</td>\n",
       "      <td>85.655000</td>\n",
       "    </tr>\n",
       "    <tr>\n",
       "      <th>75%</th>\n",
       "      <td>107.240000</td>\n",
       "      <td>107.935000</td>\n",
       "      <td>107.280000</td>\n",
       "      <td>100.702500</td>\n",
       "      <td>106.587500</td>\n",
       "      <td>102.717500</td>\n",
       "      <td>95.095000</td>\n",
       "      <td>98.830000</td>\n",
       "      <td>97.407500</td>\n",
       "    </tr>\n",
       "    <tr>\n",
       "      <th>max</th>\n",
       "      <td>145.680000</td>\n",
       "      <td>152.810000</td>\n",
       "      <td>149.150000</td>\n",
       "      <td>143.720000</td>\n",
       "      <td>157.850000</td>\n",
       "      <td>150.610000</td>\n",
       "      <td>122.770000</td>\n",
       "      <td>135.390000</td>\n",
       "      <td>127.610000</td>\n",
       "    </tr>\n",
       "  </tbody>\n",
       "</table>\n",
       "</div>"
      ],
      "text/plain": [
       "       Primary_Boys  Primary_Girls  Primary_Total  Upper_Primary_Boys  \\\n",
       "count    110.000000     110.000000     110.000000          110.000000   \n",
       "mean     102.016909     103.116818     102.505182           96.880091   \n",
       "std       13.836438      14.136777      13.879054           14.972434   \n",
       "min       77.420000      69.900000      73.800000           67.320000   \n",
       "25%       95.252500      96.107500      95.187500           88.637500   \n",
       "50%      100.260000     101.365000     101.100000           94.555000   \n",
       "75%      107.240000     107.935000     107.280000          100.702500   \n",
       "max      145.680000     152.810000     149.150000          143.720000   \n",
       "\n",
       "       Upper_Primary_Girls  Upper_Primary_Total  Secondary_Boys  \\\n",
       "count           110.000000           110.000000      110.000000   \n",
       "mean            101.444273            99.096091       86.894818   \n",
       "std              16.676238            15.694185       15.340409   \n",
       "min              71.850000            70.200000       57.660000   \n",
       "25%              90.760000            90.350000       74.925000   \n",
       "50%              98.720000            95.945000       85.685000   \n",
       "75%             106.587500           102.717500       95.095000   \n",
       "max             157.850000           150.610000      122.770000   \n",
       "\n",
       "       Secondary_Girls  Secondary_Total  \n",
       "count       110.000000       110.000000  \n",
       "mean         88.476273        87.653091  \n",
       "std          15.597699        15.064506  \n",
       "min          62.960000        60.080000  \n",
       "25%          78.265000        75.647500  \n",
       "50%          85.100000        85.655000  \n",
       "75%          98.830000        97.407500  \n",
       "max         135.390000       127.610000  "
      ]
     },
     "execution_count": 3,
     "metadata": {},
     "output_type": "execute_result"
    }
   ],
   "source": [
    "df.describe()"
   ]
  },
  {
   "cell_type": "code",
   "execution_count": 4,
   "metadata": {},
   "outputs": [
    {
     "name": "stdout",
     "output_type": "stream",
     "text": [
      "<class 'pandas.core.frame.DataFrame'>\n",
      "RangeIndex: 110 entries, 0 to 109\n",
      "Data columns (total 14 columns):\n",
      " #   Column                  Non-Null Count  Dtype  \n",
      "---  ------                  --------------  -----  \n",
      " 0   State_UT                110 non-null    object \n",
      " 1   Year                    110 non-null    object \n",
      " 2   Primary_Boys            110 non-null    float64\n",
      " 3   Primary_Girls           110 non-null    float64\n",
      " 4   Primary_Total           110 non-null    float64\n",
      " 5   Upper_Primary_Boys      110 non-null    float64\n",
      " 6   Upper_Primary_Girls     110 non-null    float64\n",
      " 7   Upper_Primary_Total     110 non-null    float64\n",
      " 8   Secondary_Boys          110 non-null    float64\n",
      " 9   Secondary_Girls         110 non-null    float64\n",
      " 10  Secondary_Total         110 non-null    float64\n",
      " 11  Higher_Secondary_Boys   110 non-null    object \n",
      " 12  Higher_Secondary_Girls  110 non-null    object \n",
      " 13  Higher_Secondary_Total  110 non-null    object \n",
      "dtypes: float64(9), object(5)\n",
      "memory usage: 12.2+ KB\n"
     ]
    }
   ],
   "source": [
    "df.info()"
   ]
  },
  {
   "cell_type": "code",
   "execution_count": 5,
   "metadata": {},
   "outputs": [
    {
     "data": {
      "text/plain": [
       "State_UT                  0\n",
       "Year                      0\n",
       "Primary_Boys              0\n",
       "Primary_Girls             0\n",
       "Primary_Total             0\n",
       "Upper_Primary_Boys        0\n",
       "Upper_Primary_Girls       0\n",
       "Upper_Primary_Total       0\n",
       "Secondary_Boys            0\n",
       "Secondary_Girls           0\n",
       "Secondary_Total           0\n",
       "Higher_Secondary_Boys     0\n",
       "Higher_Secondary_Girls    0\n",
       "Higher_Secondary_Total    0\n",
       "dtype: int64"
      ]
     },
     "execution_count": 5,
     "metadata": {},
     "output_type": "execute_result"
    }
   ],
   "source": [
    "#some of the data includes Nr and @ so i have to edit it\n",
    "df.replace('NR', np.nan, inplace = True)\n",
    "df.replace('@', np.nan, inplace = True)\n",
    "df.dropna(inplace = True)\n",
    "df.isnull().sum()"
   ]
  },
  {
   "cell_type": "code",
   "execution_count": 6,
   "metadata": {},
   "outputs": [],
   "source": [
    "def convert_to_float(dataframe,given_list,which_type):\n",
    "    \"\"\"To convert a column to desired type. In this case, from object to float.\n",
    "    \n",
    "    Parameters\n",
    "    ----------\n",
    "    dataframe : pandas.DataFrame\n",
    "    \n",
    "    given_list : list\n",
    "                List of column names for which data type should be converted.\n",
    "    \n",
    "    which_type : dtype\n",
    "    \n",
    "    Returns\n",
    "    -------\n",
    "    dataframe : pandas.DataFrame\n",
    "    \"\"\"\n",
    "    for i in given_list:\n",
    "        dataframe[i] = dataframe[i].astype(which_type)\n",
    "    return dataframe\n"
   ]
  },
  {
   "cell_type": "code",
   "execution_count": 7,
   "metadata": {},
   "outputs": [],
   "source": [
    "#making these columns float\n",
    "column_list = ['Higher_Secondary_Boys','Higher_Secondary_Girls','Higher_Secondary_Total']\n",
    "df = convert_to_float(df,column_list,float)"
   ]
  },
  {
   "cell_type": "code",
   "execution_count": 8,
   "metadata": {},
   "outputs": [
    {
     "data": {
      "text/plain": [
       "State_UT                   object\n",
       "Year                       object\n",
       "Primary_Boys              float64\n",
       "Primary_Girls             float64\n",
       "Primary_Total             float64\n",
       "Upper_Primary_Boys        float64\n",
       "Upper_Primary_Girls       float64\n",
       "Upper_Primary_Total       float64\n",
       "Secondary_Boys            float64\n",
       "Secondary_Girls           float64\n",
       "Secondary_Total           float64\n",
       "Higher_Secondary_Boys     float64\n",
       "Higher_Secondary_Girls    float64\n",
       "Higher_Secondary_Total    float64\n",
       "dtype: object"
      ]
     },
     "execution_count": 8,
     "metadata": {},
     "output_type": "execute_result"
    }
   ],
   "source": [
    "df.dtypes"
   ]
  },
  {
   "cell_type": "code",
   "execution_count": 9,
   "metadata": {
    "scrolled": true
   },
   "outputs": [],
   "source": [
    "#trying to create a waffle chart so i want to create a dataframe containing the dataset i need - all india.\n",
    "df_waffle = df.set_index('State_UT')"
   ]
  },
  {
   "cell_type": "code",
   "execution_count": 10,
   "metadata": {},
   "outputs": [
    {
     "data": {
      "text/html": [
       "<div>\n",
       "<style scoped>\n",
       "    .dataframe tbody tr th:only-of-type {\n",
       "        vertical-align: middle;\n",
       "    }\n",
       "\n",
       "    .dataframe tbody tr th {\n",
       "        vertical-align: top;\n",
       "    }\n",
       "\n",
       "    .dataframe thead th {\n",
       "        text-align: right;\n",
       "    }\n",
       "</style>\n",
       "<table border=\"1\" class=\"dataframe\">\n",
       "  <thead>\n",
       "    <tr style=\"text-align: right;\">\n",
       "      <th></th>\n",
       "      <th>Year</th>\n",
       "      <th>Primary_Boys</th>\n",
       "      <th>Primary_Girls</th>\n",
       "      <th>Primary_Total</th>\n",
       "      <th>Upper_Primary_Boys</th>\n",
       "      <th>Upper_Primary_Girls</th>\n",
       "      <th>Upper_Primary_Total</th>\n",
       "      <th>Secondary_Boys</th>\n",
       "      <th>Secondary_Girls</th>\n",
       "      <th>Secondary_Total</th>\n",
       "      <th>Higher_Secondary_Boys</th>\n",
       "      <th>Higher_Secondary_Girls</th>\n",
       "      <th>Higher_Secondary_Total</th>\n",
       "    </tr>\n",
       "    <tr>\n",
       "      <th>State_UT</th>\n",
       "      <th></th>\n",
       "      <th></th>\n",
       "      <th></th>\n",
       "      <th></th>\n",
       "      <th></th>\n",
       "      <th></th>\n",
       "      <th></th>\n",
       "      <th></th>\n",
       "      <th></th>\n",
       "      <th></th>\n",
       "      <th></th>\n",
       "      <th></th>\n",
       "      <th></th>\n",
       "    </tr>\n",
       "  </thead>\n",
       "  <tbody>\n",
       "    <tr>\n",
       "      <th>All India</th>\n",
       "      <td>2013-14</td>\n",
       "      <td>100.20</td>\n",
       "      <td>102.65</td>\n",
       "      <td>101.36</td>\n",
       "      <td>86.31</td>\n",
       "      <td>92.75</td>\n",
       "      <td>89.33</td>\n",
       "      <td>76.80</td>\n",
       "      <td>76.47</td>\n",
       "      <td>76.64</td>\n",
       "      <td>52.77</td>\n",
       "      <td>51.58</td>\n",
       "      <td>52.21</td>\n",
       "    </tr>\n",
       "    <tr>\n",
       "      <th>All India</th>\n",
       "      <td>2014-15</td>\n",
       "      <td>98.85</td>\n",
       "      <td>101.43</td>\n",
       "      <td>100.08</td>\n",
       "      <td>87.71</td>\n",
       "      <td>95.29</td>\n",
       "      <td>91.24</td>\n",
       "      <td>78.13</td>\n",
       "      <td>78.94</td>\n",
       "      <td>78.51</td>\n",
       "      <td>54.57</td>\n",
       "      <td>53.81</td>\n",
       "      <td>54.21</td>\n",
       "    </tr>\n",
       "    <tr>\n",
       "      <th>All India</th>\n",
       "      <td>2015-16</td>\n",
       "      <td>97.87</td>\n",
       "      <td>100.69</td>\n",
       "      <td>99.21</td>\n",
       "      <td>88.72</td>\n",
       "      <td>97.57</td>\n",
       "      <td>92.81</td>\n",
       "      <td>79.16</td>\n",
       "      <td>80.97</td>\n",
       "      <td>80.01</td>\n",
       "      <td>55.95</td>\n",
       "      <td>56.41</td>\n",
       "      <td>56.16</td>\n",
       "    </tr>\n",
       "  </tbody>\n",
       "</table>\n",
       "</div>"
      ],
      "text/plain": [
       "              Year  Primary_Boys  Primary_Girls  Primary_Total  \\\n",
       "State_UT                                                         \n",
       "All India  2013-14        100.20         102.65         101.36   \n",
       "All India  2014-15         98.85         101.43         100.08   \n",
       "All India  2015-16         97.87         100.69          99.21   \n",
       "\n",
       "           Upper_Primary_Boys  Upper_Primary_Girls  Upper_Primary_Total  \\\n",
       "State_UT                                                                  \n",
       "All India               86.31                92.75                89.33   \n",
       "All India               87.71                95.29                91.24   \n",
       "All India               88.72                97.57                92.81   \n",
       "\n",
       "           Secondary_Boys  Secondary_Girls  Secondary_Total  \\\n",
       "State_UT                                                      \n",
       "All India           76.80            76.47            76.64   \n",
       "All India           78.13            78.94            78.51   \n",
       "All India           79.16            80.97            80.01   \n",
       "\n",
       "           Higher_Secondary_Boys  Higher_Secondary_Girls  \\\n",
       "State_UT                                                   \n",
       "All India                  52.77                   51.58   \n",
       "All India                  54.57                   53.81   \n",
       "All India                  55.95                   56.41   \n",
       "\n",
       "           Higher_Secondary_Total  \n",
       "State_UT                           \n",
       "All India                   52.21  \n",
       "All India                   54.21  \n",
       "All India                   56.16  "
      ]
     },
     "execution_count": 10,
     "metadata": {},
     "output_type": "execute_result"
    }
   ],
   "source": [
    "#making the state \n",
    "df_waffle = df_waffle.loc[['All India'], :]\n",
    "df_waffle.sort_values(by = [\"Year\"], inplace = True)\n",
    "df_waffle"
   ]
  },
  {
   "cell_type": "code",
   "execution_count": 11,
   "metadata": {},
   "outputs": [],
   "source": [
    "import matplotlib.patches as mpatches"
   ]
  },
  {
   "cell_type": "code",
   "execution_count": 12,
   "metadata": {},
   "outputs": [],
   "source": [
    "def create_waffle_chart(categories, values, title, colormap, height =10, width= 40, value_sign=''):\n",
    "\n",
    "    # compute the proportion of each category with respect to the total\n",
    "    total_values = sum(values)\n",
    "    category_proportions = [(float(value) / total_values) for value in values]\n",
    "\n",
    "    # compute the total number of tiles\n",
    "    total_num_tiles = width * height # total number of tiles\n",
    "    print ('Total number of tiles is', total_num_tiles)\n",
    "    \n",
    "    # compute the number of tiles for each catagory\n",
    "    tiles_per_category = [round(proportion * total_num_tiles) for proportion in category_proportions]\n",
    "\n",
    "    # print out number of tiles per category\n",
    "    for i, tiles in enumerate(tiles_per_category):\n",
    "        print (categories[i] + ': ' + str(tiles))\n",
    "    \n",
    "    # initialize the waffle chart as an empty matrix\n",
    "    waffle_chart = np.zeros((height, width))\n",
    "\n",
    "    # define indices to loop through waffle chart\n",
    "    category_index = 0\n",
    "    tile_index = 0\n",
    "\n",
    "    # populate the waffle chart\n",
    "    for col in range(width):\n",
    "        for row in range(height):\n",
    "            tile_index += 1\n",
    "\n",
    "            # if the number of tiles populated for the current category \n",
    "            # is equal to its corresponding allocated tiles...\n",
    "            if tile_index > sum(tiles_per_category[0:category_index]):\n",
    "                # ...proceed to the next category\n",
    "                category_index += 1       \n",
    "            \n",
    "            # set the class value to an integer, which increases with class\n",
    "            waffle_chart[row, col] = category_index\n",
    "    \n",
    "    # instantiate a new figure object\n",
    "    fig = plt.figure()\n",
    "\n",
    "    # use matshow to display the waffle chart\n",
    "    plt.matshow(waffle_chart, cmap=colormap)\n",
    "    plt.colorbar()\n",
    "\n",
    "    # get the axis\n",
    "    ax = plt.gca()\n",
    "    ax.set_title(title, fontdict = {'fontsize': 14, 'fontweight' : 6})\n",
    "\n",
    "    # set minor ticks\n",
    "    ax.set_xticks(np.arange(-.5, (width), 1), minor=True)\n",
    "    ax.set_yticks(np.arange(-.5, (height), 1), minor=True)\n",
    "    \n",
    "    # add gridlines based on minor ticks\n",
    "    ax.grid(which='minor', color='w', linestyle='-', linewidth=2)\n",
    "\n",
    "    plt.xticks([])\n",
    "    plt.yticks([])\n",
    "\n",
    "    # compute cumulative sum of individual categories to match color schemes between chart and legend\n",
    "    values_cumsum = np.cumsum(values)\n",
    "    total_values = values_cumsum[len(values_cumsum) - 1]\n",
    "\n",
    "    # create legend\n",
    "    legend_handles = []\n",
    "    for i, category in enumerate(categories):\n",
    "        if value_sign == '%':\n",
    "            label_str = category + ' (' + str(values[i]) + value_sign + ')'\n",
    "        else:\n",
    "            label_str = category + ' (' + value_sign + str(values[i]) + ')'\n",
    "            \n",
    "        color_val = colormap(float(values_cumsum[i])/total_values)\n",
    "        legend_handles.append(mpatches.Patch(color=color_val, label=label_str))\n",
    "\n",
    "    # add legend to chart\n",
    "    plt.legend(\n",
    "        handles=legend_handles,\n",
    "        loc='lower center', \n",
    "        ncol=len(categories),\n",
    "        bbox_to_anchor=(0., -0.2, 0.95, .1)\n",
    "    )"
   ]
  },
  {
   "cell_type": "markdown",
   "metadata": {},
   "source": [
    "## One way to look at it is to look at each level (primary boys , upper primary, etc) across India for each session. why across India and not individual states is so it would not look cumbersome."
   ]
  },
  {
   "cell_type": "code",
   "execution_count": 13,
   "metadata": {
    "scrolled": false
   },
   "outputs": [
    {
     "name": "stdout",
     "output_type": "stream",
     "text": [
      "Total number of tiles is 400\n",
      "2013-14: 135\n",
      "2014-15: 133\n",
      "2015-16: 132\n"
     ]
    },
    {
     "data": {
      "text/plain": [
       "<Figure size 432x288 with 0 Axes>"
      ]
     },
     "metadata": {},
     "output_type": "display_data"
    },
    {
     "data": {
      "image/png": "[encoded data removed]",
      "text/plain": [
       "<Figure size 1152x288 with 2 Axes>"
      ]
     },
     "metadata": {
      "needs_background": "light"
     },
     "output_type": "display_data"
    }
   ],
   "source": [
    "categories = df_waffle.Year # categories\n",
    "values_pb = df_waffle['Primary_Boys'] # correponding values of categories\n",
    "title = \"Gross Enrollment of Boys across all Primary Schools in India from 2013/14 to 2014/2016 Session\"\n",
    "colormap = plt.cm.Blues\n",
    "create_waffle_chart(categories, values_pb, title, colormap)"
   ]
  },
  {
   "cell_type": "code",
   "execution_count": 14,
   "metadata": {
    "scrolled": false
   },
   "outputs": [
    {
     "name": "stdout",
     "output_type": "stream",
     "text": [
      "Total number of tiles is 400\n",
      "2013-14: 135\n",
      "2014-15: 133\n",
      "2015-16: 132\n"
     ]
    },
    {
     "data": {
      "text/plain": [
       "<Figure size 432x288 with 0 Axes>"
      ]
     },
     "metadata": {},
     "output_type": "display_data"
    },
    {
     "data": {
      "image/png": "[encoded data removed]",
      "text/plain": [
       "<Figure size 1152x288 with 2 Axes>"
      ]
     },
     "metadata": {
      "needs_background": "light"
     },
     "output_type": "display_data"
    }
   ],
   "source": [
    "categories = df_waffle.Year # categories\n",
    "values_pg = df_waffle['Primary_Girls'] # correponding values of categories\n",
    "title = \"Gross Enrollment of Girls across all Primary Schools in India from 2013/14 to 2014/2016 Session\"\n",
    "colormap = plt.cm.Blues\n",
    "\n",
    "create_waffle_chart(categories, values_pg, title, colormap)"
   ]
  },
  {
   "cell_type": "code",
   "execution_count": 15,
   "metadata": {
    "scrolled": true
   },
   "outputs": [
    {
     "name": "stdout",
     "output_type": "stream",
     "text": [
      "Total number of tiles is 400\n",
      "2013-14: 131\n",
      "2014-15: 134\n",
      "2015-16: 135\n"
     ]
    },
    {
     "data": {
      "text/plain": [
       "<Figure size 432x288 with 0 Axes>"
      ]
     },
     "metadata": {},
     "output_type": "display_data"
    },
    {
     "data": {
      "image/png": "[encoded data removed]",
      "text/plain": [
       "<Figure size 1152x288 with 2 Axes>"
      ]
     },
     "metadata": {
      "needs_background": "light"
     },
     "output_type": "display_data"
    }
   ],
   "source": [
    "values_upb = df_waffle['Upper_Primary_Boys'] # correponding values of categories\n",
    "title = \"Gross Enrollment of Boys across all Upper Primary schools in India from 2013/14 to 2014/2016 Session\"\n",
    "colormap = plt.cm.summer\n",
    "create_waffle_chart(categories, values_upb, title, colormap)"
   ]
  },
  {
   "cell_type": "code",
   "execution_count": 16,
   "metadata": {
    "scrolled": true
   },
   "outputs": [
    {
     "name": "stdout",
     "output_type": "stream",
     "text": [
      "Total number of tiles is 400\n",
      "2013-14: 130\n",
      "2014-15: 133\n",
      "2015-16: 137\n"
     ]
    },
    {
     "data": {
      "text/plain": [
       "<Figure size 432x288 with 0 Axes>"
      ]
     },
     "metadata": {},
     "output_type": "display_data"
    },
    {
     "data": {
      "image/png": "[encoded data removed]",
      "text/plain": [
       "<Figure size 1152x288 with 2 Axes>"
      ]
     },
     "metadata": {
      "needs_background": "light"
     },
     "output_type": "display_data"
    }
   ],
   "source": [
    "values_upg = df_waffle['Upper_Primary_Girls'] # correponding values of categories\n",
    "title = \"Gross Enrollment of Girls across all Upper Primary schools in India from 2013/14 to 2014/2016 Session\"\n",
    "colormap = plt.cm.summer\n",
    "\n",
    "create_waffle_chart(categories, values_upg, title, colormap)"
   ]
  },
  {
   "cell_type": "code",
   "execution_count": 17,
   "metadata": {},
   "outputs": [
    {
     "name": "stdout",
     "output_type": "stream",
     "text": [
      "Total number of tiles is 400\n",
      "2013-14: 131\n",
      "2014-15: 134\n",
      "2015-16: 135\n"
     ]
    },
    {
     "data": {
      "text/plain": [
       "<Figure size 432x288 with 0 Axes>"
      ]
     },
     "metadata": {},
     "output_type": "display_data"
    },
    {
     "data": {
      "image/png": "[encoded data removed]",
      "text/plain": [
       "<Figure size 1152x288 with 2 Axes>"
      ]
     },
     "metadata": {
      "needs_background": "light"
     },
     "output_type": "display_data"
    }
   ],
   "source": [
    "values_secb = df_waffle['Secondary_Boys'] # correponding values of categories\n",
    "title = \"Gross Enrollment of Boys across all Secondary Schools in India from 2013/14 to 2014/2016 Session\"\n",
    "colormap = plt.cm.winter\n",
    "create_waffle_chart(categories, values_secb, title, colormap)"
   ]
  },
  {
   "cell_type": "code",
   "execution_count": 18,
   "metadata": {
    "scrolled": true
   },
   "outputs": [
    {
     "name": "stdout",
     "output_type": "stream",
     "text": [
      "Total number of tiles is 400\n",
      "2013-14: 129\n",
      "2014-15: 134\n",
      "2015-16: 137\n"
     ]
    },
    {
     "data": {
      "text/plain": [
       "<Figure size 432x288 with 0 Axes>"
      ]
     },
     "metadata": {},
     "output_type": "display_data"
    },
    {
     "data": {
      "image/png": "[encoded data removed]",
      "text/plain": [
       "<Figure size 1152x288 with 2 Axes>"
      ]
     },
     "metadata": {
      "needs_background": "light"
     },
     "output_type": "display_data"
    }
   ],
   "source": [
    "values_secg = df_waffle['Secondary_Girls'] # correponding values of categories\n",
    "title = \"Gross Enrollment of Girls across all Secondary Schools in India from 2013/14 to 2014/2016 Session\"\n",
    "colormap = plt.cm.winter\n",
    "\n",
    "create_waffle_chart(categories, values_secg, title, colormap)"
   ]
  },
  {
   "cell_type": "code",
   "execution_count": 19,
   "metadata": {
    "scrolled": true
   },
   "outputs": [
    {
     "name": "stdout",
     "output_type": "stream",
     "text": [
      "Total number of tiles is 400\n",
      "2013-14: 129\n",
      "2014-15: 134\n",
      "2015-16: 137\n"
     ]
    },
    {
     "data": {
      "text/plain": [
       "<Figure size 432x288 with 0 Axes>"
      ]
     },
     "metadata": {},
     "output_type": "display_data"
    },
    {
     "data": {
      "image/png": "[encoded data removed]",
      "text/plain": [
       "<Figure size 1152x288 with 2 Axes>"
      ]
     },
     "metadata": {
      "needs_background": "light"
     },
     "output_type": "display_data"
    }
   ],
   "source": [
    "values_hsecb = df_waffle['Higher_Secondary_Boys'] # correponding values of categories\n",
    "title = \"Gross Enrollment of Boys across all Higher Secondary Schools in India from 2013/14 to 2014/2016 Session\"\n",
    "colormap = plt.cm.coolwarm\n",
    "create_waffle_chart(categories, values_hsecb, title, colormap)"
   ]
  },
  {
   "cell_type": "code",
   "execution_count": 20,
   "metadata": {
    "scrolled": true
   },
   "outputs": [
    {
     "name": "stdout",
     "output_type": "stream",
     "text": [
      "Total number of tiles is 400\n",
      "2013-14: 128\n",
      "2014-15: 133\n",
      "2015-16: 139\n"
     ]
    },
    {
     "data": {
      "text/plain": [
       "<Figure size 432x288 with 0 Axes>"
      ]
     },
     "metadata": {},
     "output_type": "display_data"
    },
    {
     "data": {
      "image/png": "[encoded data removed]",
      "text/plain": [
       "<Figure size 1152x288 with 2 Axes>"
      ]
     },
     "metadata": {
      "needs_background": "light"
     },
     "output_type": "display_data"
    }
   ],
   "source": [
    "values_hsecg = df_waffle['Higher_Secondary_Girls'] # correponding values of categories\n",
    "title = \"Gross Enrollment of Girls across all Higher Secondary Schools in India from 2013/14 to 2014/2016 Session\"\n",
    "colormap = plt.cm.coolwarm\n",
    "create_waffle_chart(categories, values_hsecg, title, colormap)"
   ]
  }
 ],
 "metadata": {
  "kernelspec": {
   "display_name": "Python 3",
   "language": "python",
   "name": "python3"
  },
  "language_info": {
   "codemirror_mode": {
    "name": "ipython",
    "version": 3
   },
   "file_extension": ".py",
   "mimetype": "text/x-python",
   "name": "python",
   "nbconvert_exporter": "python",
   "pygments_lexer": "ipython3",
   "version": "3.7.6"
  }
 },
 "nbformat": 4,
 "nbformat_minor": 4
}
