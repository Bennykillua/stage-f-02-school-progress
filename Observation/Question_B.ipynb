{
 "cells": [
  {
   "cell_type": "code",
   "execution_count": 1,
   "metadata": {},
   "outputs": [],
   "source": [
    "import warnings\n",
    "warnings.filterwarnings('ignore')\n",
    "\n",
    "# Import Relevant Packages\n",
    "import pandas as pd\n",
    "import numpy as np\n",
    "import matplotlib.pyplot as plt\n",
    "import seaborn as sns "
   ]
  },
  {
   "cell_type": "markdown",
   "metadata": {},
   "source": [
    "# Gross enrolment"
   ]
  },
  {
   "cell_type": "code",
   "execution_count": 33,
   "metadata": {},
   "outputs": [
    {
     "data": {
      "text/html": [
       "<div>\n",
       "<style scoped>\n",
       "    .dataframe tbody tr th:only-of-type {\n",
       "        vertical-align: middle;\n",
       "    }\n",
       "\n",
       "    .dataframe tbody tr th {\n",
       "        vertical-align: top;\n",
       "    }\n",
       "\n",
       "    .dataframe thead th {\n",
       "        text-align: right;\n",
       "    }\n",
       "</style>\n",
       "<table border=\"1\" class=\"dataframe\">\n",
       "  <thead>\n",
       "    <tr style=\"text-align: right;\">\n",
       "      <th></th>\n",
       "      <th>State_UT</th>\n",
       "      <th>Year</th>\n",
       "      <th>Primary_Boys</th>\n",
       "      <th>Primary_Girls</th>\n",
       "      <th>Primary_Total</th>\n",
       "      <th>Upper_Primary_Boys</th>\n",
       "      <th>Upper_Primary_Girls</th>\n",
       "      <th>Upper_Primary_Total</th>\n",
       "      <th>Secondary_Boys</th>\n",
       "      <th>Secondary_Girls</th>\n",
       "      <th>Secondary_Total</th>\n",
       "      <th>Higher_Secondary_Boys</th>\n",
       "      <th>Higher_Secondary_Girls</th>\n",
       "      <th>Higher_Secondary_Total</th>\n",
       "    </tr>\n",
       "  </thead>\n",
       "  <tbody>\n",
       "    <tr>\n",
       "      <th>0</th>\n",
       "      <td>Andaman &amp; Nicobar Islands</td>\n",
       "      <td>2013-14</td>\n",
       "      <td>95.88</td>\n",
       "      <td>91.97</td>\n",
       "      <td>93.93</td>\n",
       "      <td>94.70</td>\n",
       "      <td>88.98</td>\n",
       "      <td>91.83</td>\n",
       "      <td>102.89</td>\n",
       "      <td>97.36</td>\n",
       "      <td>100.16</td>\n",
       "      <td>105.40</td>\n",
       "      <td>96.61</td>\n",
       "      <td>101.28</td>\n",
       "    </tr>\n",
       "    <tr>\n",
       "      <th>1</th>\n",
       "      <td>Andhra Pradesh</td>\n",
       "      <td>2013-14</td>\n",
       "      <td>96.62</td>\n",
       "      <td>96.87</td>\n",
       "      <td>96.74</td>\n",
       "      <td>82.81</td>\n",
       "      <td>84.38</td>\n",
       "      <td>83.57</td>\n",
       "      <td>73.76</td>\n",
       "      <td>76.77</td>\n",
       "      <td>75.20</td>\n",
       "      <td>59.83</td>\n",
       "      <td>60.83</td>\n",
       "      <td>60.30</td>\n",
       "    </tr>\n",
       "    <tr>\n",
       "      <th>2</th>\n",
       "      <td>Arunachal Pradesh</td>\n",
       "      <td>2013-14</td>\n",
       "      <td>129.12</td>\n",
       "      <td>127.77</td>\n",
       "      <td>128.46</td>\n",
       "      <td>112.64</td>\n",
       "      <td>115.27</td>\n",
       "      <td>113.94</td>\n",
       "      <td>88.37</td>\n",
       "      <td>84.89</td>\n",
       "      <td>86.65</td>\n",
       "      <td>65.16</td>\n",
       "      <td>65.38</td>\n",
       "      <td>65.27</td>\n",
       "    </tr>\n",
       "    <tr>\n",
       "      <th>3</th>\n",
       "      <td>Assam</td>\n",
       "      <td>2013-14</td>\n",
       "      <td>111.77</td>\n",
       "      <td>115.16</td>\n",
       "      <td>113.43</td>\n",
       "      <td>87.85</td>\n",
       "      <td>98.69</td>\n",
       "      <td>93.13</td>\n",
       "      <td>65.60</td>\n",
       "      <td>77.20</td>\n",
       "      <td>71.21</td>\n",
       "      <td>31.78</td>\n",
       "      <td>34.27</td>\n",
       "      <td>32.94</td>\n",
       "    </tr>\n",
       "    <tr>\n",
       "      <th>4</th>\n",
       "      <td>Bihar</td>\n",
       "      <td>2013-14</td>\n",
       "      <td>95.03</td>\n",
       "      <td>101.15</td>\n",
       "      <td>97.96</td>\n",
       "      <td>80.60</td>\n",
       "      <td>94.92</td>\n",
       "      <td>87.24</td>\n",
       "      <td>57.66</td>\n",
       "      <td>62.96</td>\n",
       "      <td>60.08</td>\n",
       "      <td>23.33</td>\n",
       "      <td>24.17</td>\n",
       "      <td>23.70</td>\n",
       "    </tr>\n",
       "  </tbody>\n",
       "</table>\n",
       "</div>"
      ],
      "text/plain": [
       "                    State_UT     Year  Primary_Boys  Primary_Girls  \\\n",
       "0  Andaman & Nicobar Islands  2013-14         95.88          91.97   \n",
       "1             Andhra Pradesh  2013-14         96.62          96.87   \n",
       "2          Arunachal Pradesh  2013-14        129.12         127.77   \n",
       "3                      Assam  2013-14        111.77         115.16   \n",
       "4                      Bihar  2013-14         95.03         101.15   \n",
       "\n",
       "   Primary_Total  Upper_Primary_Boys  Upper_Primary_Girls  \\\n",
       "0          93.93               94.70                88.98   \n",
       "1          96.74               82.81                84.38   \n",
       "2         128.46              112.64               115.27   \n",
       "3         113.43               87.85                98.69   \n",
       "4          97.96               80.60                94.92   \n",
       "\n",
       "   Upper_Primary_Total  Secondary_Boys  Secondary_Girls  Secondary_Total  \\\n",
       "0                91.83          102.89            97.36           100.16   \n",
       "1                83.57           73.76            76.77            75.20   \n",
       "2               113.94           88.37            84.89            86.65   \n",
       "3                93.13           65.60            77.20            71.21   \n",
       "4                87.24           57.66            62.96            60.08   \n",
       "\n",
       "   Higher_Secondary_Boys  Higher_Secondary_Girls  Higher_Secondary_Total  \n",
       "0                 105.40                   96.61                  101.28  \n",
       "1                  59.83                   60.83                   60.30  \n",
       "2                  65.16                   65.38                   65.27  \n",
       "3                  31.78                   34.27                   32.94  \n",
       "4                  23.33                   24.17                   23.70  "
      ]
     },
     "execution_count": 33,
     "metadata": {},
     "output_type": "execute_result"
    }
   ],
   "source": [
    "enrol = pd.read_csv('Enrol.csv')\n",
    "enrol.drop(\"Unnamed: 0\", axis = \"columns\", inplace=True)\n",
    "enrol.head()"
   ]
  },
  {
   "cell_type": "code",
   "execution_count": 34,
   "metadata": {},
   "outputs": [],
   "source": [
    "#exploring for just all indian\n",
    "\n",
    "enrol = enrol[enrol[\"State_UT\"]==\"All India\"].reset_index(drop=True)"
   ]
  },
  {
   "cell_type": "markdown",
   "metadata": {},
   "source": [
    "### Boys enrol"
   ]
  },
  {
   "cell_type": "code",
   "execution_count": 35,
   "metadata": {},
   "outputs": [],
   "source": [
    "#dataframe of just the result from boy\n",
    "\n",
    "enrolboy = enrol.drop(columns=[ 'Primary_Girls', 'Primary_Total',\n",
    "       'Upper_Primary_Girls', 'Upper_Primary_Total',\n",
    "       'Secondary_Girls', 'Secondary_Total',\n",
    "       'Higher_Secondary_Girls', 'Higher_Secondary_Total'])"
   ]
  },
  {
   "cell_type": "code",
   "execution_count": 36,
   "metadata": {},
   "outputs": [],
   "source": [
    "#adding the columns\n",
    "\n",
    "enrolboy.columns = enrolboy.columns.map(lambda x : x + \"_enrol\" if x != \"State_UT\" and x != 'year' else x)"
   ]
  },
  {
   "cell_type": "code",
   "execution_count": 37,
   "metadata": {},
   "outputs": [
    {
     "data": {
      "text/html": [
       "<div>\n",
       "<style scoped>\n",
       "    .dataframe tbody tr th:only-of-type {\n",
       "        vertical-align: middle;\n",
       "    }\n",
       "\n",
       "    .dataframe tbody tr th {\n",
       "        vertical-align: top;\n",
       "    }\n",
       "\n",
       "    .dataframe thead th {\n",
       "        text-align: right;\n",
       "    }\n",
       "</style>\n",
       "<table border=\"1\" class=\"dataframe\">\n",
       "  <thead>\n",
       "    <tr style=\"text-align: right;\">\n",
       "      <th></th>\n",
       "      <th>State_UT</th>\n",
       "      <th>Year_enrol</th>\n",
       "      <th>Primary_Boys_enrol</th>\n",
       "      <th>Upper_Primary_Boys_enrol</th>\n",
       "      <th>Secondary_Boys_enrol</th>\n",
       "      <th>Higher_Secondary_Boys_enrol</th>\n",
       "    </tr>\n",
       "  </thead>\n",
       "  <tbody>\n",
       "    <tr>\n",
       "      <th>0</th>\n",
       "      <td>All India</td>\n",
       "      <td>2013-14</td>\n",
       "      <td>100.20</td>\n",
       "      <td>86.31</td>\n",
       "      <td>76.80</td>\n",
       "      <td>52.77</td>\n",
       "    </tr>\n",
       "    <tr>\n",
       "      <th>1</th>\n",
       "      <td>All India</td>\n",
       "      <td>2015-16</td>\n",
       "      <td>97.87</td>\n",
       "      <td>88.72</td>\n",
       "      <td>79.16</td>\n",
       "      <td>55.95</td>\n",
       "    </tr>\n",
       "    <tr>\n",
       "      <th>2</th>\n",
       "      <td>All India</td>\n",
       "      <td>2014-15</td>\n",
       "      <td>98.85</td>\n",
       "      <td>87.71</td>\n",
       "      <td>78.13</td>\n",
       "      <td>54.57</td>\n",
       "    </tr>\n",
       "  </tbody>\n",
       "</table>\n",
       "</div>"
      ],
      "text/plain": [
       "    State_UT Year_enrol  Primary_Boys_enrol  Upper_Primary_Boys_enrol  \\\n",
       "0  All India    2013-14              100.20                     86.31   \n",
       "1  All India    2015-16               97.87                     88.72   \n",
       "2  All India    2014-15               98.85                     87.71   \n",
       "\n",
       "   Secondary_Boys_enrol  Higher_Secondary_Boys_enrol  \n",
       "0                 76.80                        52.77  \n",
       "1                 79.16                        55.95  \n",
       "2                 78.13                        54.57  "
      ]
     },
     "execution_count": 37,
     "metadata": {},
     "output_type": "execute_result"
    }
   ],
   "source": [
    "enrolboy.head()"
   ]
  },
  {
   "cell_type": "markdown",
   "metadata": {},
   "source": [
    "### Girl Dropout"
   ]
  },
  {
   "cell_type": "code",
   "execution_count": 38,
   "metadata": {},
   "outputs": [],
   "source": [
    "#dataframe of just the result from girls\n",
    "\n",
    "enrolgirl = enrol.drop(columns=['Primary_Boys', 'Primary_Total',\n",
    "       'Upper_Primary_Boys','Upper_Primary_Total',\n",
    "       'Secondary_Boys', 'Secondary_Total',\n",
    "       'Higher_Secondary_Boys','Higher_Secondary_Total'])"
   ]
  },
  {
   "cell_type": "code",
   "execution_count": 39,
   "metadata": {},
   "outputs": [],
   "source": [
    "#adding the columns\n",
    "\n",
    "enrolgirl.columns = enrolgirl.columns.map(lambda x : x + \"_enrol\" if x != \"State_UT\" and x != 'year' else x)"
   ]
  },
  {
   "cell_type": "code",
   "execution_count": 40,
   "metadata": {},
   "outputs": [
    {
     "data": {
      "text/html": [
       "<div>\n",
       "<style scoped>\n",
       "    .dataframe tbody tr th:only-of-type {\n",
       "        vertical-align: middle;\n",
       "    }\n",
       "\n",
       "    .dataframe tbody tr th {\n",
       "        vertical-align: top;\n",
       "    }\n",
       "\n",
       "    .dataframe thead th {\n",
       "        text-align: right;\n",
       "    }\n",
       "</style>\n",
       "<table border=\"1\" class=\"dataframe\">\n",
       "  <thead>\n",
       "    <tr style=\"text-align: right;\">\n",
       "      <th></th>\n",
       "      <th>State_UT</th>\n",
       "      <th>Year_enrol</th>\n",
       "      <th>Primary_Girls_enrol</th>\n",
       "      <th>Upper_Primary_Girls_enrol</th>\n",
       "      <th>Secondary_Girls_enrol</th>\n",
       "      <th>Higher_Secondary_Girls_enrol</th>\n",
       "    </tr>\n",
       "  </thead>\n",
       "  <tbody>\n",
       "    <tr>\n",
       "      <th>0</th>\n",
       "      <td>All India</td>\n",
       "      <td>2013-14</td>\n",
       "      <td>102.65</td>\n",
       "      <td>92.75</td>\n",
       "      <td>76.47</td>\n",
       "      <td>51.58</td>\n",
       "    </tr>\n",
       "    <tr>\n",
       "      <th>1</th>\n",
       "      <td>All India</td>\n",
       "      <td>2015-16</td>\n",
       "      <td>100.69</td>\n",
       "      <td>97.57</td>\n",
       "      <td>80.97</td>\n",
       "      <td>56.41</td>\n",
       "    </tr>\n",
       "    <tr>\n",
       "      <th>2</th>\n",
       "      <td>All India</td>\n",
       "      <td>2014-15</td>\n",
       "      <td>101.43</td>\n",
       "      <td>95.29</td>\n",
       "      <td>78.94</td>\n",
       "      <td>53.81</td>\n",
       "    </tr>\n",
       "  </tbody>\n",
       "</table>\n",
       "</div>"
      ],
      "text/plain": [
       "    State_UT Year_enrol  Primary_Girls_enrol  Upper_Primary_Girls_enrol  \\\n",
       "0  All India    2013-14               102.65                      92.75   \n",
       "1  All India    2015-16               100.69                      97.57   \n",
       "2  All India    2014-15               101.43                      95.29   \n",
       "\n",
       "   Secondary_Girls_enrol  Higher_Secondary_Girls_enrol  \n",
       "0                  76.47                         51.58  \n",
       "1                  80.97                         56.41  \n",
       "2                  78.94                         53.81  "
      ]
     },
     "execution_count": 40,
     "metadata": {},
     "output_type": "execute_result"
    }
   ],
   "source": [
    "enrolgirl.head()"
   ]
  },
  {
   "cell_type": "markdown",
   "metadata": {},
   "source": [
    "# Percentage of Schools with Electricity"
   ]
  },
  {
   "cell_type": "code",
   "execution_count": 41,
   "metadata": {},
   "outputs": [],
   "source": [
    "elect = pd.read_csv('percentage-of-schools-with-electricity-2013-2016.csv')\n",
    "\n",
    "#exploring for just all indian\n",
    "elect = elect.loc[elect[\"State_UT\"]==\"All India\"].reset_index(drop=True)"
   ]
  },
  {
   "cell_type": "code",
   "execution_count": 42,
   "metadata": {},
   "outputs": [],
   "source": [
    "#dataframe of just the result from total\n",
    "\n",
    "elect = elect.drop(columns=['Primary_with_U_Primary', 'Primary_with_U_Primary_Sec_HrSec', \n",
    "       'U_Primary_With_Sec_HrSec', 'Primary_with_U_Primary_Sec','U_Primary_With_Sec',  'Sec_with_HrSec.', 'All Schools'])"
   ]
  },
  {
   "cell_type": "code",
   "execution_count": 43,
   "metadata": {},
   "outputs": [
    {
     "data": {
      "text/html": [
       "<div>\n",
       "<style scoped>\n",
       "    .dataframe tbody tr th:only-of-type {\n",
       "        vertical-align: middle;\n",
       "    }\n",
       "\n",
       "    .dataframe tbody tr th {\n",
       "        vertical-align: top;\n",
       "    }\n",
       "\n",
       "    .dataframe thead th {\n",
       "        text-align: right;\n",
       "    }\n",
       "</style>\n",
       "<table border=\"1\" class=\"dataframe\">\n",
       "  <thead>\n",
       "    <tr style=\"text-align: right;\">\n",
       "      <th></th>\n",
       "      <th>State_UT_elect</th>\n",
       "      <th>year_elect</th>\n",
       "      <th>Primary_Only_elect</th>\n",
       "      <th>U_Primary_Only_elect</th>\n",
       "      <th>Sec_Only_elect</th>\n",
       "      <th>HrSec_Only_elect</th>\n",
       "    </tr>\n",
       "  </thead>\n",
       "  <tbody>\n",
       "    <tr>\n",
       "      <th>0</th>\n",
       "      <td>All India</td>\n",
       "      <td>2013-14</td>\n",
       "      <td>46.38</td>\n",
       "      <td>45.97</td>\n",
       "      <td>75.08</td>\n",
       "      <td>91.01</td>\n",
       "    </tr>\n",
       "    <tr>\n",
       "      <th>1</th>\n",
       "      <td>All India</td>\n",
       "      <td>2014-15</td>\n",
       "      <td>49.63</td>\n",
       "      <td>48.33</td>\n",
       "      <td>77.55</td>\n",
       "      <td>92.67</td>\n",
       "    </tr>\n",
       "    <tr>\n",
       "      <th>2</th>\n",
       "      <td>All India</td>\n",
       "      <td>2015-16</td>\n",
       "      <td>52.40</td>\n",
       "      <td>49.86</td>\n",
       "      <td>81.50</td>\n",
       "      <td>92.86</td>\n",
       "    </tr>\n",
       "  </tbody>\n",
       "</table>\n",
       "</div>"
      ],
      "text/plain": [
       "  State_UT_elect year_elect  Primary_Only_elect  U_Primary_Only_elect  \\\n",
       "0      All India    2013-14               46.38                 45.97   \n",
       "1      All India    2014-15               49.63                 48.33   \n",
       "2      All India    2015-16               52.40                 49.86   \n",
       "\n",
       "   Sec_Only_elect  HrSec_Only_elect  \n",
       "0           75.08             91.01  \n",
       "1           77.55             92.67  \n",
       "2           81.50             92.86  "
      ]
     },
     "execution_count": 43,
     "metadata": {},
     "output_type": "execute_result"
    }
   ],
   "source": [
    "elect.columns=[str(col) + \"_elect\" for col in elect.columns]\n",
    "elect.head()"
   ]
  },
  {
   "cell_type": "code",
   "execution_count": 44,
   "metadata": {},
   "outputs": [],
   "source": [
    "#joining it to the entrollment boy df\n",
    "\n",
    "Totalboy = enrolboy.join(elect.iloc[:,-4:])"
   ]
  },
  {
   "cell_type": "code",
   "execution_count": 45,
   "metadata": {},
   "outputs": [],
   "source": [
    "#joining it to the entrollment girl df\n",
    "\n",
    "Totalgirl = enrolgirl.join(elect.iloc[:,-4:]) "
   ]
  },
  {
   "cell_type": "markdown",
   "metadata": {},
   "source": [
    "# Percentage of Schools with Computers"
   ]
  },
  {
   "cell_type": "code",
   "execution_count": 46,
   "metadata": {},
   "outputs": [],
   "source": [
    "comps = pd.read_csv('percentage-of-schools-with-comps-2013-2016.csv', index_col=None)\n",
    "\n",
    "#exploring for just all indian\n",
    "comps = comps.loc[comps[\"State_UT\"]==\"All India\"].reset_index(drop=True)\n",
    "\n",
    "#dataframe of just the result from total\n",
    "comps = comps.drop(columns=['Primary_with_U_Primary', 'Primary_with_U_Primary_Sec_HrSec', \n",
    "       'U_Primary_With_Sec_HrSec', 'Primary_with_U_Primary_Sec','U_Primary_With_Sec',  'Sec_with_HrSec.', 'All Schools'])"
   ]
  },
  {
   "cell_type": "code",
   "execution_count": 47,
   "metadata": {},
   "outputs": [
    {
     "data": {
      "text/html": [
       "<div>\n",
       "<style scoped>\n",
       "    .dataframe tbody tr th:only-of-type {\n",
       "        vertical-align: middle;\n",
       "    }\n",
       "\n",
       "    .dataframe tbody tr th {\n",
       "        vertical-align: top;\n",
       "    }\n",
       "\n",
       "    .dataframe thead th {\n",
       "        text-align: right;\n",
       "    }\n",
       "</style>\n",
       "<table border=\"1\" class=\"dataframe\">\n",
       "  <thead>\n",
       "    <tr style=\"text-align: right;\">\n",
       "      <th></th>\n",
       "      <th>State_UT_comps</th>\n",
       "      <th>year_comps</th>\n",
       "      <th>Primary_Only_comps</th>\n",
       "      <th>U_Primary_Only_comps</th>\n",
       "      <th>Sec_Only_comps</th>\n",
       "      <th>HrSec_Only_comps</th>\n",
       "    </tr>\n",
       "  </thead>\n",
       "  <tbody>\n",
       "    <tr>\n",
       "      <th>0</th>\n",
       "      <td>All India</td>\n",
       "      <td>2013-14</td>\n",
       "      <td>9.25</td>\n",
       "      <td>18.22</td>\n",
       "      <td>44.80</td>\n",
       "      <td>26.65</td>\n",
       "    </tr>\n",
       "    <tr>\n",
       "      <th>1</th>\n",
       "      <td>All India</td>\n",
       "      <td>2014-15</td>\n",
       "      <td>10.32</td>\n",
       "      <td>19.40</td>\n",
       "      <td>51.27</td>\n",
       "      <td>47.96</td>\n",
       "    </tr>\n",
       "    <tr>\n",
       "      <th>2</th>\n",
       "      <td>All India</td>\n",
       "      <td>2015-16</td>\n",
       "      <td>10.36</td>\n",
       "      <td>19.78</td>\n",
       "      <td>53.05</td>\n",
       "      <td>55.72</td>\n",
       "    </tr>\n",
       "  </tbody>\n",
       "</table>\n",
       "</div>"
      ],
      "text/plain": [
       "  State_UT_comps year_comps  Primary_Only_comps  U_Primary_Only_comps  \\\n",
       "0      All India    2013-14                9.25                 18.22   \n",
       "1      All India    2014-15               10.32                 19.40   \n",
       "2      All India    2015-16               10.36                 19.78   \n",
       "\n",
       "   Sec_Only_comps  HrSec_Only_comps  \n",
       "0           44.80             26.65  \n",
       "1           51.27             47.96  \n",
       "2           53.05             55.72  "
      ]
     },
     "execution_count": 47,
     "metadata": {},
     "output_type": "execute_result"
    }
   ],
   "source": [
    "comps.columns=[str(col) + \"_comps\" for col in comps.columns]\n",
    "comps.head()"
   ]
  },
  {
   "cell_type": "code",
   "execution_count": 48,
   "metadata": {},
   "outputs": [],
   "source": [
    "#Adding it to my Total boy and girl df\n",
    "\n",
    "Totalboy = Totalboy.join(comps.iloc[:,-4:])\n",
    "\n",
    "Totalgirl = Totalgirl.join(comps.iloc[:,-4:])"
   ]
  },
  {
   "cell_type": "markdown",
   "metadata": {},
   "source": [
    "# Schools with Toilets\n",
    "\n",
    "### Boy toilet"
   ]
  },
  {
   "cell_type": "code",
   "execution_count": 49,
   "metadata": {},
   "outputs": [],
   "source": [
    "boystoilet = pd.read_csv('schools-with-boys-toilet-2013-2016.csv')\n",
    "\n",
    "#exploring for just all indian\n",
    "boystoilet = boystoilet.loc[boystoilet[\"State_UT\"]==\"All India\"].reset_index(drop=True)\n",
    "\n",
    "#dataframe of just the result from total\n",
    "boystoilet = boystoilet.drop(columns=['Primary_with_U_Primary', 'Primary_with_U_Primary_Sec_HrSec', \n",
    "       'U_Primary_With_Sec_HrSec', 'Primary_with_U_Primary_Sec','U_Primary_With_Sec',  'Sec_with_HrSec.', 'All Schools'])"
   ]
  },
  {
   "cell_type": "code",
   "execution_count": 50,
   "metadata": {},
   "outputs": [
    {
     "data": {
      "text/html": [
       "<div>\n",
       "<style scoped>\n",
       "    .dataframe tbody tr th:only-of-type {\n",
       "        vertical-align: middle;\n",
       "    }\n",
       "\n",
       "    .dataframe tbody tr th {\n",
       "        vertical-align: top;\n",
       "    }\n",
       "\n",
       "    .dataframe thead th {\n",
       "        text-align: right;\n",
       "    }\n",
       "</style>\n",
       "<table border=\"1\" class=\"dataframe\">\n",
       "  <thead>\n",
       "    <tr style=\"text-align: right;\">\n",
       "      <th></th>\n",
       "      <th>State_UT_boystoilet</th>\n",
       "      <th>year_boystoilet</th>\n",
       "      <th>Primary_Only_boystoilet</th>\n",
       "      <th>U_Primary_Only_boystoilet</th>\n",
       "      <th>Sec_Only_boystoilet</th>\n",
       "      <th>HrSec_Only_boystoilet</th>\n",
       "    </tr>\n",
       "  </thead>\n",
       "  <tbody>\n",
       "    <tr>\n",
       "      <th>0</th>\n",
       "      <td>All India</td>\n",
       "      <td>2013-14</td>\n",
       "      <td>84.01</td>\n",
       "      <td>88.14</td>\n",
       "      <td>97.97</td>\n",
       "      <td>74.36</td>\n",
       "    </tr>\n",
       "    <tr>\n",
       "      <th>1</th>\n",
       "      <td>All India</td>\n",
       "      <td>2014-15</td>\n",
       "      <td>85.66</td>\n",
       "      <td>88.12</td>\n",
       "      <td>89.10</td>\n",
       "      <td>88.97</td>\n",
       "    </tr>\n",
       "    <tr>\n",
       "      <th>2</th>\n",
       "      <td>All India</td>\n",
       "      <td>2015-16</td>\n",
       "      <td>96.45</td>\n",
       "      <td>96.00</td>\n",
       "      <td>94.56</td>\n",
       "      <td>95.67</td>\n",
       "    </tr>\n",
       "  </tbody>\n",
       "</table>\n",
       "</div>"
      ],
      "text/plain": [
       "  State_UT_boystoilet year_boystoilet  Primary_Only_boystoilet  \\\n",
       "0           All India         2013-14                    84.01   \n",
       "1           All India         2014-15                    85.66   \n",
       "2           All India         2015-16                    96.45   \n",
       "\n",
       "   U_Primary_Only_boystoilet  Sec_Only_boystoilet  HrSec_Only_boystoilet  \n",
       "0                      88.14                97.97                  74.36  \n",
       "1                      88.12                89.10                  88.97  \n",
       "2                      96.00                94.56                  95.67  "
      ]
     },
     "execution_count": 50,
     "metadata": {},
     "output_type": "execute_result"
    }
   ],
   "source": [
    "boystoilet.columns=[str(col) + \"_boystoilet\" for col in boystoilet.columns]\n",
    "boystoilet.head()"
   ]
  },
  {
   "cell_type": "code",
   "execution_count": 51,
   "metadata": {},
   "outputs": [],
   "source": [
    "#Adding it to my Total df which would have all the dataset in one df \n",
    "\n",
    "Totalboy = Totalboy.join(boystoilet.iloc[:,-4:])"
   ]
  },
  {
   "cell_type": "markdown",
   "metadata": {},
   "source": [
    "### Girl Toilet"
   ]
  },
  {
   "cell_type": "code",
   "execution_count": 52,
   "metadata": {},
   "outputs": [],
   "source": [
    "girlstoilet = pd.read_csv('schools-with-girls-toilet-2013-2016.csv')\n",
    "\n",
    "#exploring for just all indian\n",
    "girlstoilet = girlstoilet.loc[girlstoilet[\"State_UT\"]==\"All India\"].reset_index(drop=True)\n",
    "\n",
    "#dataframe of just the result from total\n",
    "girlstoilet = girlstoilet.drop(columns=['Primary_with_U_Primary', 'Primary_with_U_Primary_Sec_HrSec', \n",
    "       'U_Primary_With_Sec_HrSec', 'Primary_with_U_Primary_Sec','U_Primary_With_Sec',  'Sec_with_HrSec.', 'All Schools'])"
   ]
  },
  {
   "cell_type": "code",
   "execution_count": 53,
   "metadata": {},
   "outputs": [
    {
     "data": {
      "text/html": [
       "<div>\n",
       "<style scoped>\n",
       "    .dataframe tbody tr th:only-of-type {\n",
       "        vertical-align: middle;\n",
       "    }\n",
       "\n",
       "    .dataframe tbody tr th {\n",
       "        vertical-align: top;\n",
       "    }\n",
       "\n",
       "    .dataframe thead th {\n",
       "        text-align: right;\n",
       "    }\n",
       "</style>\n",
       "<table border=\"1\" class=\"dataframe\">\n",
       "  <thead>\n",
       "    <tr style=\"text-align: right;\">\n",
       "      <th></th>\n",
       "      <th>State_UT_girlstoilet</th>\n",
       "      <th>year_girlstoilet</th>\n",
       "      <th>Primary_Only_girlstoilet</th>\n",
       "      <th>U_Primary_Only_girlstoilet</th>\n",
       "      <th>Sec_Only_girlstoilet</th>\n",
       "      <th>HrSec_Only_girlstoilet</th>\n",
       "    </tr>\n",
       "  </thead>\n",
       "  <tbody>\n",
       "    <tr>\n",
       "      <th>0</th>\n",
       "      <td>All India</td>\n",
       "      <td>2013-14</td>\n",
       "      <td>88.68</td>\n",
       "      <td>91.39</td>\n",
       "      <td>99.06</td>\n",
       "      <td>76.14</td>\n",
       "    </tr>\n",
       "    <tr>\n",
       "      <th>1</th>\n",
       "      <td>All India</td>\n",
       "      <td>2014-15</td>\n",
       "      <td>91.21</td>\n",
       "      <td>91.39</td>\n",
       "      <td>90.26</td>\n",
       "      <td>90.94</td>\n",
       "    </tr>\n",
       "    <tr>\n",
       "      <th>2</th>\n",
       "      <td>All India</td>\n",
       "      <td>2015-16</td>\n",
       "      <td>96.95</td>\n",
       "      <td>96.32</td>\n",
       "      <td>95.18</td>\n",
       "      <td>96.22</td>\n",
       "    </tr>\n",
       "  </tbody>\n",
       "</table>\n",
       "</div>"
      ],
      "text/plain": [
       "  State_UT_girlstoilet year_girlstoilet  Primary_Only_girlstoilet  \\\n",
       "0            All India          2013-14                     88.68   \n",
       "1            All India          2014-15                     91.21   \n",
       "2            All India          2015-16                     96.95   \n",
       "\n",
       "   U_Primary_Only_girlstoilet  Sec_Only_girlstoilet  HrSec_Only_girlstoilet  \n",
       "0                       91.39                 99.06                   76.14  \n",
       "1                       91.39                 90.26                   90.94  \n",
       "2                       96.32                 95.18                   96.22  "
      ]
     },
     "execution_count": 53,
     "metadata": {},
     "output_type": "execute_result"
    }
   ],
   "source": [
    "girlstoilet.columns=[str(col) + \"_girlstoilet\" for col in girlstoilet.columns]\n",
    "girlstoilet.head()"
   ]
  },
  {
   "cell_type": "code",
   "execution_count": 54,
   "metadata": {},
   "outputs": [],
   "source": [
    "#Adding it to my Total df which would have all the dataset in one df \n",
    "\n",
    "Totalgirl = Totalgirl.join(girlstoilet.iloc[:,-4:])"
   ]
  },
  {
   "cell_type": "markdown",
   "metadata": {},
   "source": [
    "# Percentage of Schools with Drinking Water Facility"
   ]
  },
  {
   "cell_type": "code",
   "execution_count": 55,
   "metadata": {},
   "outputs": [],
   "source": [
    "water = pd.read_csv('percentage-of-schools-with-water-facility-2013-2016.csv')\n",
    "\n",
    "#exploring for just all indian\n",
    "water = water.loc[water[\"State/UT\"]==\"All India\"].reset_index(drop=True)"
   ]
  },
  {
   "cell_type": "code",
   "execution_count": 56,
   "metadata": {},
   "outputs": [
    {
     "data": {
      "text/html": [
       "<div>\n",
       "<style scoped>\n",
       "    .dataframe tbody tr th:only-of-type {\n",
       "        vertical-align: middle;\n",
       "    }\n",
       "\n",
       "    .dataframe tbody tr th {\n",
       "        vertical-align: top;\n",
       "    }\n",
       "\n",
       "    .dataframe thead th {\n",
       "        text-align: right;\n",
       "    }\n",
       "</style>\n",
       "<table border=\"1\" class=\"dataframe\">\n",
       "  <thead>\n",
       "    <tr style=\"text-align: right;\">\n",
       "      <th></th>\n",
       "      <th>State/UT</th>\n",
       "      <th>Year</th>\n",
       "      <th>Primary_Only</th>\n",
       "      <th>U_Primary_Only</th>\n",
       "      <th>Sec_Only</th>\n",
       "      <th>HrSec_Only</th>\n",
       "    </tr>\n",
       "  </thead>\n",
       "  <tbody>\n",
       "    <tr>\n",
       "      <th>0</th>\n",
       "      <td>All India</td>\n",
       "      <td>2013-14</td>\n",
       "      <td>94.09</td>\n",
       "      <td>93.90</td>\n",
       "      <td>96.52</td>\n",
       "      <td>97.14</td>\n",
       "    </tr>\n",
       "    <tr>\n",
       "      <th>1</th>\n",
       "      <td>All India</td>\n",
       "      <td>2014-15</td>\n",
       "      <td>94.88</td>\n",
       "      <td>94.82</td>\n",
       "      <td>96.32</td>\n",
       "      <td>98.23</td>\n",
       "    </tr>\n",
       "    <tr>\n",
       "      <th>2</th>\n",
       "      <td>All India</td>\n",
       "      <td>2015-16</td>\n",
       "      <td>95.78</td>\n",
       "      <td>95.65</td>\n",
       "      <td>97.05</td>\n",
       "      <td>97.92</td>\n",
       "    </tr>\n",
       "  </tbody>\n",
       "</table>\n",
       "</div>"
      ],
      "text/plain": [
       "    State/UT     Year  Primary_Only  U_Primary_Only  Sec_Only  HrSec_Only\n",
       "0  All India  2013-14         94.09           93.90     96.52       97.14\n",
       "1  All India  2014-15         94.88           94.82     96.32       98.23\n",
       "2  All India  2015-16         95.78           95.65     97.05       97.92"
      ]
     },
     "execution_count": 56,
     "metadata": {},
     "output_type": "execute_result"
    }
   ],
   "source": [
    "#dataframe of just the result from total\n",
    "\n",
    "water = water.drop(columns=['Primary_with_U_Primary',\n",
    "       'Primary_with_U_Primary_Sec_HrSec', \n",
    "       'U_Primary_With_Sec_HrSec', 'Primary_with_U_Primary_Sec',\n",
    "       'U_Primary_With_Sec', 'Sec_with_HrSec.', 'All Schools'])\n",
    "    \n",
    "water.head()"
   ]
  },
  {
   "cell_type": "code",
   "execution_count": 57,
   "metadata": {},
   "outputs": [
    {
     "data": {
      "text/html": [
       "<div>\n",
       "<style scoped>\n",
       "    .dataframe tbody tr th:only-of-type {\n",
       "        vertical-align: middle;\n",
       "    }\n",
       "\n",
       "    .dataframe tbody tr th {\n",
       "        vertical-align: top;\n",
       "    }\n",
       "\n",
       "    .dataframe thead th {\n",
       "        text-align: right;\n",
       "    }\n",
       "</style>\n",
       "<table border=\"1\" class=\"dataframe\">\n",
       "  <thead>\n",
       "    <tr style=\"text-align: right;\">\n",
       "      <th></th>\n",
       "      <th>State/UT_water</th>\n",
       "      <th>Year_water</th>\n",
       "      <th>Primary_Only_water</th>\n",
       "      <th>U_Primary_Only_water</th>\n",
       "      <th>Sec_Only_water</th>\n",
       "      <th>HrSec_Only_water</th>\n",
       "    </tr>\n",
       "  </thead>\n",
       "  <tbody>\n",
       "    <tr>\n",
       "      <th>0</th>\n",
       "      <td>All India</td>\n",
       "      <td>2013-14</td>\n",
       "      <td>94.09</td>\n",
       "      <td>93.90</td>\n",
       "      <td>96.52</td>\n",
       "      <td>97.14</td>\n",
       "    </tr>\n",
       "    <tr>\n",
       "      <th>1</th>\n",
       "      <td>All India</td>\n",
       "      <td>2014-15</td>\n",
       "      <td>94.88</td>\n",
       "      <td>94.82</td>\n",
       "      <td>96.32</td>\n",
       "      <td>98.23</td>\n",
       "    </tr>\n",
       "    <tr>\n",
       "      <th>2</th>\n",
       "      <td>All India</td>\n",
       "      <td>2015-16</td>\n",
       "      <td>95.78</td>\n",
       "      <td>95.65</td>\n",
       "      <td>97.05</td>\n",
       "      <td>97.92</td>\n",
       "    </tr>\n",
       "  </tbody>\n",
       "</table>\n",
       "</div>"
      ],
      "text/plain": [
       "  State/UT_water Year_water  Primary_Only_water  U_Primary_Only_water  \\\n",
       "0      All India    2013-14               94.09                 93.90   \n",
       "1      All India    2014-15               94.88                 94.82   \n",
       "2      All India    2015-16               95.78                 95.65   \n",
       "\n",
       "   Sec_Only_water  HrSec_Only_water  \n",
       "0           96.52             97.14  \n",
       "1           96.32             98.23  \n",
       "2           97.05             97.92  "
      ]
     },
     "execution_count": 57,
     "metadata": {},
     "output_type": "execute_result"
    }
   ],
   "source": [
    "water.columns=[str(col) + \"_water\" for col in water.columns]\n",
    "water.head()"
   ]
  },
  {
   "cell_type": "code",
   "execution_count": 58,
   "metadata": {},
   "outputs": [],
   "source": [
    "#Adding it to my Total df which would have all the dataset in one df \n",
    "\n",
    "Totalboy = Totalboy.join(water.iloc[:,-4:])\n",
    "Totalgirl = Totalgirl.join(water.iloc[:,-4:])"
   ]
  },
  {
   "cell_type": "markdown",
   "metadata": {},
   "source": [
    "# Total: comprises of all the data in one by Gender"
   ]
  },
  {
   "cell_type": "code",
   "execution_count": 78,
   "metadata": {},
   "outputs": [
    {
     "data": {
      "text/plain": [
       "(3, 22)"
      ]
     },
     "execution_count": 78,
     "metadata": {},
     "output_type": "execute_result"
    }
   ],
   "source": [
    "Totalboy.shape"
   ]
  },
  {
   "cell_type": "code",
   "execution_count": 79,
   "metadata": {},
   "outputs": [
    {
     "data": {
      "text/plain": [
       "(3, 22)"
      ]
     },
     "execution_count": 79,
     "metadata": {},
     "output_type": "execute_result"
    }
   ],
   "source": [
    "Totalgirl.shape"
   ]
  },
  {
   "cell_type": "markdown",
   "metadata": {},
   "source": [
    "## is there any way we can increase the enrollment ratio ?"
   ]
  },
  {
   "cell_type": "markdown",
   "metadata": {},
   "source": [
    "### Boys Enrollmemt facts via school level"
   ]
  },
  {
   "cell_type": "code",
   "execution_count": 61,
   "metadata": {},
   "outputs": [
    {
     "data": {
      "text/plain": [
       "['Primary_Boys_enrol',\n",
       " 'Upper_Primary_Boys_enrol',\n",
       " 'Secondary_Boys_enrol',\n",
       " 'Higher_Secondary_Boys_enrol',\n",
       " 'Primary_Only_elect',\n",
       " 'U_Primary_Only_elect',\n",
       " 'Sec_Only_elect',\n",
       " 'HrSec_Only_elect',\n",
       " 'Primary_Only_comps',\n",
       " 'U_Primary_Only_comps',\n",
       " 'Sec_Only_comps',\n",
       " 'HrSec_Only_comps',\n",
       " 'Primary_Only_boystoilet',\n",
       " 'U_Primary_Only_boystoilet',\n",
       " 'Sec_Only_boystoilet',\n",
       " 'HrSec_Only_boystoilet',\n",
       " 'Primary_Only_water',\n",
       " 'U_Primary_Only_water',\n",
       " 'Sec_Only_water',\n",
       " 'HrSec_Only_water']"
      ]
     },
     "execution_count": 61,
     "metadata": {},
     "output_type": "execute_result"
    }
   ],
   "source": [
    "all_cols = Totalboy.columns.to_list()\n",
    "all_cols[2:]"
   ]
  },
  {
   "cell_type": "code",
   "execution_count": 62,
   "metadata": {},
   "outputs": [
    {
     "data": {
      "text/html": [
       "<div>\n",
       "<style scoped>\n",
       "    .dataframe tbody tr th:only-of-type {\n",
       "        vertical-align: middle;\n",
       "    }\n",
       "\n",
       "    .dataframe tbody tr th {\n",
       "        vertical-align: top;\n",
       "    }\n",
       "\n",
       "    .dataframe thead th {\n",
       "        text-align: right;\n",
       "    }\n",
       "</style>\n",
       "<table border=\"1\" class=\"dataframe\">\n",
       "  <thead>\n",
       "    <tr style=\"text-align: right;\">\n",
       "      <th></th>\n",
       "      <th>Correlation</th>\n",
       "    </tr>\n",
       "  </thead>\n",
       "  <tbody>\n",
       "  </tbody>\n",
       "</table>\n",
       "</div>"
      ],
      "text/plain": [
       "Empty DataFrame\n",
       "Columns: [Correlation]\n",
       "Index: []"
      ]
     },
     "execution_count": 62,
     "metadata": {},
     "output_type": "execute_result"
    }
   ],
   "source": [
    "#Primary School Enrollment is affected by\n",
    "\n",
    "Primaryboytotal = Totalboy.drop(columns=['Upper_Primary_Boys_enrol', 'Secondary_Boys_enrol', 'Higher_Secondary_Boys_enrol',\n",
    " 'U_Primary_Only_elect', 'Sec_Only_elect', 'HrSec_Only_elect', 'U_Primary_Only_comps', 'Sec_Only_comps',\n",
    " 'HrSec_Only_comps', 'U_Primary_Only_boystoilet', 'Sec_Only_boystoilet', 'HrSec_Only_boystoilet', 'U_Primary_Only_water',\n",
    " 'Sec_Only_water', 'HrSec_Only_water'])\n",
    "\n",
    "primaryboyenrol = Primaryboytotal.corrwith(Totalboy.Primary_Boys_enrol)\n",
    "\n",
    "primaryboyenrol = pd.DataFrame(primaryboyenrol, columns=['Correlation'])\n",
    "primaryboyenrol.dropna(inplace=True)\n",
    "primaryboyenrol = primaryboyenrol[primaryboyenrol[\"Correlation\"]>0.5].sort_values(\"Correlation\",ascending=False)\n",
    "primaryboyenrol[1:]"
   ]
  },
  {
   "cell_type": "markdown",
   "metadata": {},
   "source": [
    "None of our facilites impacts enrollment in Boys primary school"
   ]
  },
  {
   "cell_type": "code",
   "execution_count": 73,
   "metadata": {},
   "outputs": [
    {
     "data": {
      "text/html": [
       "<div>\n",
       "<style scoped>\n",
       "    .dataframe tbody tr th:only-of-type {\n",
       "        vertical-align: middle;\n",
       "    }\n",
       "\n",
       "    .dataframe tbody tr th {\n",
       "        vertical-align: top;\n",
       "    }\n",
       "\n",
       "    .dataframe thead th {\n",
       "        text-align: right;\n",
       "    }\n",
       "</style>\n",
       "<table border=\"1\" class=\"dataframe\">\n",
       "  <thead>\n",
       "    <tr style=\"text-align: right;\">\n",
       "      <th></th>\n",
       "      <th>Correlation</th>\n",
       "    </tr>\n",
       "  </thead>\n",
       "  <tbody>\n",
       "    <tr>\n",
       "      <th>U_Primary_Only_comps</th>\n",
       "      <td>0.786186</td>\n",
       "    </tr>\n",
       "    <tr>\n",
       "      <th>U_Primary_Only_elect</th>\n",
       "      <td>0.673792</td>\n",
       "    </tr>\n",
       "    <tr>\n",
       "      <th>Primary_Only_water</th>\n",
       "      <td>0.547352</td>\n",
       "    </tr>\n",
       "  </tbody>\n",
       "</table>\n",
       "</div>"
      ],
      "text/plain": [
       "                      Correlation\n",
       "U_Primary_Only_comps     0.786186\n",
       "U_Primary_Only_elect     0.673792\n",
       "Primary_Only_water       0.547352"
      ]
     },
     "execution_count": 73,
     "metadata": {},
     "output_type": "execute_result"
    }
   ],
   "source": [
    "#Upper Primary School Dropout is affected by \n",
    "\n",
    "Uprimaryboytotal = Totalboy.drop(columns=[ 'Primary_Boys_enrol','Secondary_Boys_enrol', 'Higher_Secondary_Boys_enrol',\n",
    " 'Primary_Only_elect', 'Sec_Only_elect', 'HrSec_Only_elect',\n",
    " 'Primary_Only_comps', 'Sec_Only_comps', 'HrSec_Only_comps',\n",
    " 'U_Primary_Only_boystoilet','Sec_Only_boystoilet', 'HrSec_Only_boystoilet',\n",
    " 'U_Primary_Only_water', 'Sec_Only_water', 'HrSec_Only_water'])\n",
    "\n",
    "\n",
    "uprimaryboyenrol = Uprimaryboytotal.corrwith(Totalboy.Upper_Primary_Boys_enrol)\n",
    "\n",
    "uprimaryboyenrol = pd.DataFrame(uprimaryboyenrol, columns=['Correlation'])\n",
    "uprimaryboyenrol.dropna(inplace=True)\n",
    "uprimaryboyenrol = uprimaryboyenrol[uprimaryboyenrol[\"Correlation\"]> 0.5].sort_values(\"Correlation\",ascending=False)\n",
    "uprimaryboyenrol[1:]"
   ]
  },
  {
   "cell_type": "markdown",
   "metadata": {},
   "source": [
    "Increase in computer faclites, electricity and water would have a positive impact on enrollment in Boys Upper primary"
   ]
  },
  {
   "cell_type": "code",
   "execution_count": 74,
   "metadata": {},
   "outputs": [
    {
     "data": {
      "text/html": [
       "<div>\n",
       "<style scoped>\n",
       "    .dataframe tbody tr th:only-of-type {\n",
       "        vertical-align: middle;\n",
       "    }\n",
       "\n",
       "    .dataframe tbody tr th {\n",
       "        vertical-align: top;\n",
       "    }\n",
       "\n",
       "    .dataframe thead th {\n",
       "        text-align: right;\n",
       "    }\n",
       "</style>\n",
       "<table border=\"1\" class=\"dataframe\">\n",
       "  <thead>\n",
       "    <tr style=\"text-align: right;\">\n",
       "      <th></th>\n",
       "      <th>Correlation</th>\n",
       "    </tr>\n",
       "  </thead>\n",
       "  <tbody>\n",
       "    <tr>\n",
       "      <th>Sec_Only_comps</th>\n",
       "      <td>0.79195</td>\n",
       "    </tr>\n",
       "  </tbody>\n",
       "</table>\n",
       "</div>"
      ],
      "text/plain": [
       "                Correlation\n",
       "Sec_Only_comps      0.79195"
      ]
     },
     "execution_count": 74,
     "metadata": {},
     "output_type": "execute_result"
    }
   ],
   "source": [
    "#Secondary School Dropout is affected by \n",
    "\n",
    "Secondaryboytotal = Totalboy.drop(columns=[ 'Primary_Boys_enrol', 'Upper_Primary_Boys_enrol', 'Higher_Secondary_Boys_enrol',\n",
    " 'Primary_Only_elect', 'U_Primary_Only_elect', 'HrSec_Only_elect',\n",
    " 'Primary_Only_comps', 'U_Primary_Only_comps', 'HrSec_Only_comps',\n",
    " 'Primary_Only_boystoilet', 'U_Primary_Only_boystoilet', 'HrSec_Only_boystoilet',\n",
    " 'Primary_Only_water', 'U_Primary_Only_water', 'HrSec_Only_water'])\n",
    "\n",
    "\n",
    "Secondaryboyenrol = Secondaryboytotal.corrwith(Totalboy.Secondary_Boys_enrol)\n",
    "\n",
    "Secondaryboyenrol = pd.DataFrame(Secondaryboyenrol, columns=['Correlation'])\n",
    "Secondaryboyenrol.dropna(inplace=True)\n",
    "Secondaryboyenrol = Secondaryboyenrol[Secondaryboyenrol[\"Correlation\"]>0.5].sort_values(\"Correlation\",ascending=False)\n",
    "Secondaryboyenrol[1:]"
   ]
  },
  {
   "cell_type": "markdown",
   "metadata": {},
   "source": [
    "Computer facilites plays a role in the enrollment of the Boys secondary school"
   ]
  },
  {
   "cell_type": "code",
   "execution_count": 75,
   "metadata": {},
   "outputs": [
    {
     "data": {
      "text/html": [
       "<div>\n",
       "<style scoped>\n",
       "    .dataframe tbody tr th:only-of-type {\n",
       "        vertical-align: middle;\n",
       "    }\n",
       "\n",
       "    .dataframe tbody tr th {\n",
       "        vertical-align: top;\n",
       "    }\n",
       "\n",
       "    .dataframe thead th {\n",
       "        text-align: right;\n",
       "    }\n",
       "</style>\n",
       "<table border=\"1\" class=\"dataframe\">\n",
       "  <thead>\n",
       "    <tr style=\"text-align: right;\">\n",
       "      <th></th>\n",
       "      <th>Correlation</th>\n",
       "    </tr>\n",
       "  </thead>\n",
       "  <tbody>\n",
       "    <tr>\n",
       "      <th>HrSec_Only_water</th>\n",
       "      <td>0.985941</td>\n",
       "    </tr>\n",
       "    <tr>\n",
       "      <th>HrSec_Only_elect</th>\n",
       "      <td>0.857206</td>\n",
       "    </tr>\n",
       "    <tr>\n",
       "      <th>HrSec_Only_comps</th>\n",
       "      <td>0.759530</td>\n",
       "    </tr>\n",
       "    <tr>\n",
       "      <th>HrSec_Only_boystoilet</th>\n",
       "      <td>0.724850</td>\n",
       "    </tr>\n",
       "  </tbody>\n",
       "</table>\n",
       "</div>"
      ],
      "text/plain": [
       "                       Correlation\n",
       "HrSec_Only_water          0.985941\n",
       "HrSec_Only_elect          0.857206\n",
       "HrSec_Only_comps          0.759530\n",
       "HrSec_Only_boystoilet     0.724850"
      ]
     },
     "execution_count": 75,
     "metadata": {},
     "output_type": "execute_result"
    }
   ],
   "source": [
    "# Higher-Secondary School Dropout is affected by \n",
    "\n",
    "Hrsecondaryboytotal = Totalboy.drop(columns=['Primary_Boys_enrol', 'Upper_Primary_Boys_enrol','Secondary_Boys_enrol',\n",
    "  'Primary_Only_elect','U_Primary_Only_elect', 'Sec_Only_elect',\n",
    "  'Primary_Only_comps', 'U_Primary_Only_comps', 'Sec_Only_comps',\n",
    "  'Primary_Only_boystoilet', 'U_Primary_Only_boystoilet', 'Sec_Only_boystoilet',\n",
    "  'Primary_Only_water', 'U_Primary_Only_water', 'Sec_Only_water',])\n",
    "     \n",
    "Hrsecondaryboyenrol = Hrsecondaryboytotal.corrwith(Totalboy.Higher_Secondary_Boys_enrol)\n",
    "\n",
    "Hrsecondaryboyenrol = pd.DataFrame(Hrsecondaryboyenrol, columns=['Correlation'])\n",
    "Hrsecondaryboyenrol.dropna(inplace=True)\n",
    "Hrsecondaryboyenrol = Hrsecondaryboyenrol[Hrsecondaryboyenrol[\"Correlation\"]>0.5].sort_values(\"Correlation\",ascending=False)\n",
    "Hrsecondaryboyenrol[1:]"
   ]
  },
  {
   "cell_type": "markdown",
   "metadata": {},
   "source": [
    "All four features (water, electricity, computer and toilet plays a role with water and electrcity playing the most in Boys Higher Secondary Schools"
   ]
  },
  {
   "cell_type": "markdown",
   "metadata": {},
   "source": [
    "### girls Enrollmemt facts via school level"
   ]
  },
  {
   "cell_type": "code",
   "execution_count": 76,
   "metadata": {},
   "outputs": [
    {
     "data": {
      "text/plain": [
       "['Primary_Girls_enrol',\n",
       " 'Upper_Primary_Girls_enrol',\n",
       " 'Secondary_Girls_enrol',\n",
       " 'Higher_Secondary_Girls_enrol',\n",
       " 'Primary_Only_elect',\n",
       " 'U_Primary_Only_elect',\n",
       " 'Sec_Only_elect',\n",
       " 'HrSec_Only_elect',\n",
       " 'Primary_Only_comps',\n",
       " 'U_Primary_Only_comps',\n",
       " 'Sec_Only_comps',\n",
       " 'HrSec_Only_comps',\n",
       " 'Primary_Only_girlstoilet',\n",
       " 'U_Primary_Only_girlstoilet',\n",
       " 'Sec_Only_girlstoilet',\n",
       " 'HrSec_Only_girlstoilet',\n",
       " 'Primary_Only_water',\n",
       " 'U_Primary_Only_water',\n",
       " 'Sec_Only_water',\n",
       " 'HrSec_Only_water']"
      ]
     },
     "execution_count": 76,
     "metadata": {},
     "output_type": "execute_result"
    }
   ],
   "source": [
    "all_cols = Totalgirl.columns.to_list()\n",
    "all_cols[2:]"
   ]
  },
  {
   "cell_type": "code",
   "execution_count": 81,
   "metadata": {},
   "outputs": [
    {
     "data": {
      "text/html": [
       "<div>\n",
       "<style scoped>\n",
       "    .dataframe tbody tr th:only-of-type {\n",
       "        vertical-align: middle;\n",
       "    }\n",
       "\n",
       "    .dataframe tbody tr th {\n",
       "        vertical-align: top;\n",
       "    }\n",
       "\n",
       "    .dataframe thead th {\n",
       "        text-align: right;\n",
       "    }\n",
       "</style>\n",
       "<table border=\"1\" class=\"dataframe\">\n",
       "  <thead>\n",
       "    <tr style=\"text-align: right;\">\n",
       "      <th></th>\n",
       "      <th>Correlation</th>\n",
       "    </tr>\n",
       "  </thead>\n",
       "  <tbody>\n",
       "  </tbody>\n",
       "</table>\n",
       "</div>"
      ],
      "text/plain": [
       "Empty DataFrame\n",
       "Columns: [Correlation]\n",
       "Index: []"
      ]
     },
     "execution_count": 81,
     "metadata": {},
     "output_type": "execute_result"
    }
   ],
   "source": [
    "#Primary School Enrollment is affected by\n",
    "\n",
    "Primarygirltotal = Totalgirl.drop(columns=['Upper_Primary_Girls_enrol', 'Secondary_Girls_enrol', 'Higher_Secondary_Girls_enrol',\n",
    "  'U_Primary_Only_elect', 'Sec_Only_elect', 'HrSec_Only_elect',\n",
    "  'U_Primary_Only_comps', 'Sec_Only_comps', 'HrSec_Only_comps',\n",
    " 'U_Primary_Only_girlstoilet', 'Sec_Only_girlstoilet', 'HrSec_Only_girlstoilet',\n",
    "  'U_Primary_Only_water', 'Sec_Only_water', 'HrSec_Only_water'])\n",
    "\n",
    "primarygirlenrol = Primarygirltotal.corrwith(Totalgirl.Primary_Girls_enrol)\n",
    "\n",
    "primarygirlenrol = pd.DataFrame(primarygirlenrol, columns=['Correlation'])\n",
    "primarygirlenrol.dropna(inplace=True)\n",
    "primarygirlenrol = primarygirlenrol[primarygirlenrol[\"Correlation\"]>0.5].sort_values(\"Correlation\",ascending=False)\n",
    "primarygirlenrol[1:]"
   ]
  },
  {
   "cell_type": "markdown",
   "metadata": {},
   "source": [
    "None of our facilites impacts enrollment in Girls primary school"
   ]
  },
  {
   "cell_type": "code",
   "execution_count": 83,
   "metadata": {},
   "outputs": [
    {
     "data": {
      "text/html": [
       "<div>\n",
       "<style scoped>\n",
       "    .dataframe tbody tr th:only-of-type {\n",
       "        vertical-align: middle;\n",
       "    }\n",
       "\n",
       "    .dataframe tbody tr th {\n",
       "        vertical-align: top;\n",
       "    }\n",
       "\n",
       "    .dataframe thead th {\n",
       "        text-align: right;\n",
       "    }\n",
       "</style>\n",
       "<table border=\"1\" class=\"dataframe\">\n",
       "  <thead>\n",
       "    <tr style=\"text-align: right;\">\n",
       "      <th></th>\n",
       "      <th>Correlation</th>\n",
       "    </tr>\n",
       "  </thead>\n",
       "  <tbody>\n",
       "    <tr>\n",
       "      <th>U_Primary_Only_comps</th>\n",
       "      <td>0.746367</td>\n",
       "    </tr>\n",
       "    <tr>\n",
       "      <th>U_Primary_Only_elect</th>\n",
       "      <td>0.626693</td>\n",
       "    </tr>\n",
       "    <tr>\n",
       "      <th>U_Primary_Only_water</th>\n",
       "      <td>0.551712</td>\n",
       "    </tr>\n",
       "  </tbody>\n",
       "</table>\n",
       "</div>"
      ],
      "text/plain": [
       "                      Correlation\n",
       "U_Primary_Only_comps     0.746367\n",
       "U_Primary_Only_elect     0.626693\n",
       "U_Primary_Only_water     0.551712"
      ]
     },
     "execution_count": 83,
     "metadata": {},
     "output_type": "execute_result"
    }
   ],
   "source": [
    "#Upper Primary School Dropout is affected by \n",
    "\n",
    "Uprimarygirltotal = Totalgirl.drop(columns=['Primary_Girls_enrol', 'Secondary_Girls_enrol', 'Higher_Secondary_Girls_enrol',\n",
    " 'Primary_Only_elect','Sec_Only_elect', 'HrSec_Only_elect',\n",
    " 'Primary_Only_comps', 'Sec_Only_comps', 'HrSec_Only_comps',\n",
    " 'Primary_Only_girlstoilet', 'Sec_Only_girlstoilet', 'HrSec_Only_girlstoilet',\n",
    " 'Primary_Only_water', 'Sec_Only_water', 'HrSec_Only_water'])\n",
    "\n",
    "\n",
    "uprimarygirlenrol = Uprimarygirltotal.corrwith(Totalgirl.Upper_Primary_Girls_enrol)\n",
    "\n",
    "uprimarygirlenrol = pd.DataFrame(uprimarygirlenrol, columns=['Correlation'])\n",
    "uprimarygirlenrol.dropna(inplace=True)\n",
    "uprimarygirlenrol = uprimarygirlenrol[uprimarygirlenrol[\"Correlation\"]> 0.5].sort_values(\"Correlation\",ascending=False)\n",
    "uprimarygirlenrol[1:]"
   ]
  },
  {
   "cell_type": "markdown",
   "metadata": {},
   "source": [
    "Increase in computer faclites, electricity and water would have a positive impact on enrollment in Girls Upper primary"
   ]
  },
  {
   "cell_type": "code",
   "execution_count": 85,
   "metadata": {},
   "outputs": [
    {
     "data": {
      "text/html": [
       "<div>\n",
       "<style scoped>\n",
       "    .dataframe tbody tr th:only-of-type {\n",
       "        vertical-align: middle;\n",
       "    }\n",
       "\n",
       "    .dataframe tbody tr th {\n",
       "        vertical-align: top;\n",
       "    }\n",
       "\n",
       "    .dataframe thead th {\n",
       "        text-align: right;\n",
       "    }\n",
       "</style>\n",
       "<table border=\"1\" class=\"dataframe\">\n",
       "  <thead>\n",
       "    <tr style=\"text-align: right;\">\n",
       "      <th></th>\n",
       "      <th>Correlation</th>\n",
       "    </tr>\n",
       "  </thead>\n",
       "  <tbody>\n",
       "    <tr>\n",
       "      <th>Sec_Only_comps</th>\n",
       "      <td>0.79195</td>\n",
       "    </tr>\n",
       "  </tbody>\n",
       "</table>\n",
       "</div>"
      ],
      "text/plain": [
       "                Correlation\n",
       "Sec_Only_comps      0.79195"
      ]
     },
     "execution_count": 85,
     "metadata": {},
     "output_type": "execute_result"
    }
   ],
   "source": [
    "#Secondary School Dropout is affected by \n",
    "\n",
    "Secondarygirltotal = Totalgirl.drop(columns=[ 'Primary_Girls_enrol','Upper_Primary_Girls_enrol','Higher_Secondary_Girls_enrol',\n",
    " 'Primary_Only_elect', 'U_Primary_Only_elect', 'HrSec_Only_elect',\n",
    " 'Primary_Only_comps', 'U_Primary_Only_comps', 'HrSec_Only_comps',\n",
    " 'Primary_Only_girlstoilet', 'U_Primary_Only_girlstoilet','HrSec_Only_girlstoilet',\n",
    " 'Primary_Only_water', 'U_Primary_Only_water', 'HrSec_Only_water'])\n",
    "\n",
    "\n",
    "Secondarygirlenrol = Secondarygirltotal.corrwith(Totalgirl.Secondary_Girls_enrol)\n",
    "\n",
    "Secondarygirlenrol = pd.DataFrame(Secondaryboyenrol, columns=['Correlation'])\n",
    "Secondarygirlenrol.dropna(inplace=True)\n",
    "Secondarygirlenrol = Secondarygirlenrol[Secondarygirlenrol[\"Correlation\"]>0.5].sort_values(\"Correlation\",ascending=False)\n",
    "Secondarygirlenrol[1:]"
   ]
  },
  {
   "cell_type": "markdown",
   "metadata": {},
   "source": [
    "Computer facilites plays a role in the enrollment of the Girls secondary school"
   ]
  },
  {
   "cell_type": "code",
   "execution_count": 88,
   "metadata": {},
   "outputs": [
    {
     "data": {
      "text/html": [
       "<div>\n",
       "<style scoped>\n",
       "    .dataframe tbody tr th:only-of-type {\n",
       "        vertical-align: middle;\n",
       "    }\n",
       "\n",
       "    .dataframe tbody tr th {\n",
       "        vertical-align: top;\n",
       "    }\n",
       "\n",
       "    .dataframe thead th {\n",
       "        text-align: right;\n",
       "    }\n",
       "</style>\n",
       "<table border=\"1\" class=\"dataframe\">\n",
       "  <thead>\n",
       "    <tr style=\"text-align: right;\">\n",
       "      <th></th>\n",
       "      <th>Correlation</th>\n",
       "    </tr>\n",
       "  </thead>\n",
       "  <tbody>\n",
       "    <tr>\n",
       "      <th>HrSec_Only_water</th>\n",
       "      <td>0.958760</td>\n",
       "    </tr>\n",
       "    <tr>\n",
       "      <th>HrSec_Only_elect</th>\n",
       "      <td>0.789206</td>\n",
       "    </tr>\n",
       "    <tr>\n",
       "      <th>HrSec_Only_girlstoilet</th>\n",
       "      <td>0.679132</td>\n",
       "    </tr>\n",
       "    <tr>\n",
       "      <th>HrSec_Only_comps</th>\n",
       "      <td>0.675973</td>\n",
       "    </tr>\n",
       "  </tbody>\n",
       "</table>\n",
       "</div>"
      ],
      "text/plain": [
       "                        Correlation\n",
       "HrSec_Only_water           0.958760\n",
       "HrSec_Only_elect           0.789206\n",
       "HrSec_Only_girlstoilet     0.679132\n",
       "HrSec_Only_comps           0.675973"
      ]
     },
     "execution_count": 88,
     "metadata": {},
     "output_type": "execute_result"
    }
   ],
   "source": [
    "# Higher-Secondary School Dropout is affected by \n",
    "\n",
    "Hrsecondarygirltotal = Totalgirl.drop(columns=['Primary_Girls_enrol','Upper_Primary_Girls_enrol', 'Secondary_Girls_enrol',\n",
    " 'Primary_Only_elect','U_Primary_Only_elect', 'Sec_Only_elect',\n",
    " 'Primary_Only_comps', 'U_Primary_Only_comps', 'Sec_Only_comps',\n",
    " 'Primary_Only_girlstoilet', 'U_Primary_Only_girlstoilet', 'Sec_Only_girlstoilet',\n",
    " 'Primary_Only_water','U_Primary_Only_water', 'Sec_Only_water',])\n",
    "     \n",
    "Hrsecondarygirlenrol = Hrsecondarygirltotal.corrwith(Totalgirl.Higher_Secondary_Girls_enrol)\n",
    "\n",
    "Hrsecondarygirlenrol = pd.DataFrame(Hrsecondarygirlenrol, columns=['Correlation'])\n",
    "Hrsecondarygirlenrol.dropna(inplace=True)\n",
    "Hrsecondarygirlenrol = Hrsecondarygirlenrol[Hrsecondarygirlenrol[\"Correlation\"]>0.5].sort_values(\"Correlation\",ascending=False)\n",
    "Hrsecondarygirlenrol[1:]"
   ]
  },
  {
   "cell_type": "markdown",
   "metadata": {},
   "source": [
    "All four features (water, electricity, computer and toilet plays a role with water and electrcity playing the most in Boys Higher Secondary Schools"
   ]
  },
  {
   "cell_type": "markdown",
   "metadata": {},
   "source": [
    "# Summary\n",
    "- There is a gender difference in enrollment in relation to our other features (Computer, water, Toilet and electricity)\n",
    "\n",
    "- None of our facilites influenced enrollment in **primary school**.\n",
    "\n",
    "- Increase in computer faclites, electricity and water would have a positive impact on enrollment in **Girls Upper primary**\n",
    "\n",
    "- Computer facilites plays a role in the enrollment of the **secondary school**.\n",
    "\n",
    "- All four features influcenced enrollment especially with water and electrcity in **Higher Secondary Schools**."
   ]
  },
  {
   "cell_type": "code",
   "execution_count": null,
   "metadata": {},
   "outputs": [],
   "source": []
  }
 ],
 "metadata": {
  "kernelspec": {
   "display_name": "Python 3",
   "language": "python",
   "name": "python3"
  },
  "language_info": {
   "codemirror_mode": {
    "name": "ipython",
    "version": 3
   },
   "file_extension": ".py",
   "mimetype": "text/x-python",
   "name": "python",
   "nbconvert_exporter": "python",
   "pygments_lexer": "ipython3",
   "version": "3.7.6"
  }
 },
 "nbformat": 4,
 "nbformat_minor": 4
}
